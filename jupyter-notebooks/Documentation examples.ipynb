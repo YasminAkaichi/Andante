{
 "cells": [
  {
   "cell_type": "markdown",
   "id": "417d904c",
   "metadata": {},
   "source": [
    "# Code bits used in the documentation for Andante"
   ]
  },
  {
   "cell_type": "markdown",
   "id": "7018babe",
   "metadata": {},
   "source": [
    "## Parser example from section 1.3"
   ]
  },
  {
   "cell_type": "code",
   "execution_count": 1,
   "id": "9d5a6fe5",
   "metadata": {},
   "outputs": [],
   "source": [
    "from andante.program import AndanteProgram \n",
    "apmovies = AndanteProgram.build_from(\"Examples/movies.pl\")\n",
    "H = apmovies.induce(update_knowledge=True, logging=True, verbose=0)"
   ]
  },
  {
   "cell_type": "code",
   "execution_count": 2,
   "id": "7a3be45a",
   "metadata": {},
   "outputs": [
    {
     "data": {
      "text/plain": [
       "Knowledge object (class: TreeShapedKnowledge)\n",
       "Clauses:\n",
       "   recommend(A, B) :- b45to49(A).\n",
       "   recommend(A, B) :- b18to24(A), drama(B).\n",
       "   recommend(A, B) :- crime(B).\n",
       "   recommend(A, B) :- horror(B).\n",
       "   recommend(A, B) :- b25to34(A), f(A).\n",
       "   recommend(A, B) :- adventure(B)."
      ]
     },
     "execution_count": 2,
     "metadata": {},
     "output_type": "execute_result"
    }
   ],
   "source": [
    "H"
   ]
  },
  {
   "cell_type": "code",
   "execution_count": 33,
   "id": "88b1f2a4",
   "metadata": {},
   "outputs": [
    {
     "data": {
      "text/plain": [
       "(True,\n",
       "       0\n",
       " B  m777)"
      ]
     },
     "execution_count": 33,
     "metadata": {},
     "output_type": "execute_result"
    }
   ],
   "source": [
    "text = \"\"\"\n",
    ":- begin_bg.\n",
    "    user(u777).\n",
    "    b18to24(u777).\n",
    "    f(u777).\n",
    "    movie(m777).\n",
    "    drama(m777).\n",
    "    action(m1374).\n",
    "action(m1676).\n",
    "adventure(m1259).\n",
    "adventure(m2987).\n",
    "b18to24(u1433).\n",
    "b18to24(u1778).\n",
    "b18to24(u2777).\n",
    "b18to24(u3418).\n",
    "b18to24(u4103).\n",
    "b18to24(u4411).\n",
    "b18to24(u621).\n",
    "b25to34(u2840).\n",
    "b25to34(u3123).\n",
    "b25to34(u3539).\n",
    "b25to34(u4138).\n",
    "b25to34(u4560).\n",
    "b25to34(u4607).\n",
    "b25to34(u5077).\n",
    "b35to44(u1197).\n",
    "b45to49(u5127).\n",
    "b50to55(u4981).\n",
    "comedy(m19).\n",
    "comedy(m2596).\n",
    "comedy(m2888).\n",
    "comedy(m3909).\n",
    "comedy(m691).\n",
    "crime(m47).\n",
    "drama(m1178).\n",
    "drama(m1619).\n",
    "drama(m17).\n",
    "drama(m1960).\n",
    "drama(m337).\n",
    "drama(m924).\n",
    "f(u1433).\n",
    "f(u3418).\n",
    "f(u3539).\n",
    "horror(m1348).\n",
    "m(u1197).\n",
    "m(u1778).\n",
    "m(u2777).\n",
    "m(u2840).\n",
    "m(u3123).\n",
    "m(u4083).\n",
    "m(u4103).\n",
    "m(u4138).\n",
    "m(u4411).\n",
    "m(u4560).\n",
    "m(u4607).\n",
    "m(u4981).\n",
    "m(u5077).\n",
    "m(u5127).\n",
    "m(u621).\n",
    "plus56(u4083).\n",
    "sci_fi(m1206).\n",
    "    recommend(A, B) :- b45to49(A).\n",
    "    recommend(A, B) :- b18to24(A), drama(B).\n",
    "    recommend(A, B) :- crime(B).\n",
    "    recommend(A, B) :- horror(B).\n",
    "    recommend(A, B) :- b25to34(A), f(A).\n",
    "    recommend(A, B) :- adventure(B).\n",
    ":- end_bg.\n",
    "\"\"\"\n",
    "ap2 = AndanteProgram.build_from(text)\n",
    "ap2.query('recommend(u777, B).')"
   ]
  },
  {
   "cell_type": "code",
   "execution_count": 17,
   "id": "f22c36c2",
   "metadata": {},
   "outputs": [
    {
     "name": "stdout",
     "output_type": "stream",
     "text": [
      "Knowledge object (class: TreeShapedKnowledge)\n",
      "Clauses:\n",
      "   b18to25(u777).\n",
      "   f(u777).\n",
      "   movie(m777).\n",
      "   drama(m777).\n",
      "   recommend(X, Y) :- b18to24(X), drama(Y).\n",
      "   recommend(X, Y) :- b25to34(X), f(X).\n"
     ]
    }
   ],
   "source": [
    "from andante.parser import Parser\n",
    "parser = Parser()\n",
    "userbk = \"\"\"\n",
    ":- begin_bg.\n",
    "    b18to25(u777).\n",
    "    f(u777).\n",
    "    movie(m777).\n",
    "    drama(m777).\n",
    "    recommend(X, Y) :- b18to24(X), drama(Y).\n",
    "    recommend(X, Y) :- b25to34(X), f(X).\n",
    ":- end_bg.\n",
    " \"\"\"\n",
    "bknowledge = parser.parse(userbk, rule='background')\n",
    "print(bknowledge)"
   ]
  },
  {
   "cell_type": "code",
   "execution_count": 18,
   "id": "d5497740",
   "metadata": {},
   "outputs": [
    {
     "name": "stdout",
     "output_type": "stream",
     "text": [
      "The query failed\n",
      "The solutions for the query are:\n"
     ]
    }
   ],
   "source": [
    "from andante.solver import AndanteSolver\n",
    "solver = AndanteSolver()\n",
    "query = parser.parse(\"recommend(A, B).\", rule=\"query\")\n",
    "\n",
    "# Using method succeeds_on\n",
    "success = solver.succeeds_on(query, bknowledge)\n",
    "if success:\n",
    "    print(\"The query succeeded\")\n",
    "else:\n",
    "    print(\"The query failed\")\n",
    "    \n",
    "# Using method query\n",
    "print(\"The solutions for the query are:\")\n",
    "for solution in solver.query(query, bknowledge):\n",
    "    print('\\t', solution)"
   ]
  },
  {
   "cell_type": "code",
   "execution_count": 1,
   "id": "8bac93b9",
   "metadata": {},
   "outputs": [
    {
     "name": "stdout",
     "output_type": "stream",
     "text": [
      "Knowledge object (class: TreeShapedKnowledge)\n",
      "Clauses:\n",
      "   mortal(X) :- man(X).\n",
      "   man(socrates).\n"
     ]
    }
   ],
   "source": [
    "from andante.parser import Parser\n",
    "parser = Parser()\n",
    "text = \"\"\"\n",
    ":- begin_bg.\n",
    "    mortal(X):-man(X).\n",
    "    man(socrates).\n",
    ":- end_bg.\n",
    "\"\"\"\n",
    "knowledge = parser.parse(text, rule='background')\n",
    "print(knowledge)"
   ]
  },
  {
   "cell_type": "markdown",
   "id": "4a6792fe",
   "metadata": {},
   "source": [
    "## Solver example from section 2.2"
   ]
  },
  {
   "cell_type": "code",
   "execution_count": 2,
   "id": "b0ab9351",
   "metadata": {},
   "outputs": [
    {
     "name": "stdout",
     "output_type": "stream",
     "text": [
      "The query succeeded\n",
      "The solutions for the query are:\n",
      "\t {X: socrates}\n"
     ]
    }
   ],
   "source": [
    "from andante.solver import AndanteSolver\n",
    "solver = AndanteSolver()\n",
    "q = parser.parse(\"mortal(X).\", rule=\"query\")\n",
    "\n",
    "# Using method succeeds_on\n",
    "success = solver.succeeds_on(q, knowledge)\n",
    "if success:\n",
    "    print(\"The query succeeded\")\n",
    "else:\n",
    "    print(\"The query failed\")\n",
    "    \n",
    "# Using method query\n",
    "print(\"The solutions for the query are:\")\n",
    "for solution in solver.query(q, knowledge):\n",
    "    print('\\t', solution)"
   ]
  },
  {
   "cell_type": "markdown",
   "id": "3ef594b6",
   "metadata": {},
   "source": [
    "## Learner example from section 3.3"
   ]
  },
  {
   "cell_type": "code",
   "execution_count": 3,
   "id": "ca76f8ee",
   "metadata": {},
   "outputs": [
    {
     "name": "stdout",
     "output_type": "stream",
     "text": [
      "Knowledge learned\n",
      "Knowledge object (class: TreeShapedKnowledge)\n",
      "Clauses:\n",
      "   daughter(A, B) :- female(A).\n"
     ]
    }
   ],
   "source": [
    "text = \"\"\"\n",
    "% Mode declarations\n",
    "modeh(*,daughter(+person,-person)).\n",
    "modeb(*,parent(+person,-person)).\n",
    "modeb(*,parent(-person,+person)).\n",
    "modeb(*,female(+person)).\n",
    "modeb(*,female(-person)).\n",
    "\n",
    "% Determinations\n",
    "determination(daughter/2,parent/2).\n",
    "determination(daughter/2,female/1).\n",
    "\n",
    "% Background knowledge\n",
    ":- begin_bg.\n",
    "person(ann). person(mary). person(tom). person(eve). person(lucy).\n",
    "female(ann). female(mary). female(eve). female(lucy).\n",
    "parent(ann,mary).\n",
    "parent(ann,tom).\n",
    "parent(tom,eve).\n",
    "parent(tom,lucy).\n",
    ":- end_bg.\n",
    "    \n",
    "% Positive examples\n",
    ":- begin_in_pos.\n",
    "daughter(lucy,tom).\n",
    "daughter(mary,ann).\n",
    "daughter(eve,tom).\n",
    ":- end_in_pos.\n",
    "\n",
    "% Negative examples\n",
    ":- begin_in_neg.\n",
    "daughter(tom,ann).\n",
    "daughter(tom,eve).\n",
    ":- end_in_neg.\n",
    "\"\"\"\n",
    "pr = parser.parse(text, rule=\"andantefile\")\n",
    "H = pr.induce()\n",
    "\n",
    "print(\"Knowledge learned\")\n",
    "print(H)"
   ]
  },
  {
   "cell_type": "markdown",
   "id": "c0d49e46",
   "metadata": {},
   "source": [
    "## Interface example from section 4"
   ]
  },
  {
   "cell_type": "code",
   "execution_count": 3,
   "id": "4ee8d8d8",
   "metadata": {
    "scrolled": false
   },
   "outputs": [
    {
     "data": {
      "application/vnd.jupyter.widget-view+json": {
       "model_id": "ce4c46b840414198a1fadc4005606d30",
       "version_major": 2,
       "version_minor": 0
      },
      "text/plain": [
       "Tab(children=(VBox(children=(HBox(children=(Button(description='Save', layout=Layout(height='auto', width='100…"
      ]
     },
     "execution_count": 3,
     "metadata": {},
     "output_type": "execute_result"
    }
   ],
   "source": [
    "from andante.program import AndanteProgram\n",
    "from andante.interface import MainInterface\n",
    "\n",
    "ap = AndanteProgram.build_from(\"Examples/movies.pl\")\n",
    "interface = MainInterface(ap)\n",
    "interface.widget"
   ]
  },
  {
   "cell_type": "code",
   "execution_count": null,
   "id": "ba8957b3",
   "metadata": {},
   "outputs": [],
   "source": []
  }
 ],
 "metadata": {
  "kernelspec": {
   "display_name": "Python 3 (ipykernel)",
   "language": "python",
   "name": "python3"
  },
  "language_info": {
   "codemirror_mode": {
    "name": "ipython",
    "version": 3
   },
   "file_extension": ".py",
   "mimetype": "text/x-python",
   "name": "python",
   "nbconvert_exporter": "python",
   "pygments_lexer": "ipython3",
   "version": "3.10.11"
  }
 },
 "nbformat": 4,
 "nbformat_minor": 5
}
