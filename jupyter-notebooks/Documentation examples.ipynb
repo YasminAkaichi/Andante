{
 "cells": [
  {
   "cell_type": "markdown",
   "id": "417d904c",
   "metadata": {},
   "source": [
    "# Code bits used in the documentation for Andante"
   ]
  },
  {
   "cell_type": "markdown",
   "id": "7018babe",
   "metadata": {},
   "source": [
    "## Parser example from section 1.3"
   ]
  },
  {
   "cell_type": "code",
   "execution_count": 1,
   "id": "8bac93b9",
   "metadata": {},
   "outputs": [
    {
     "name": "stdout",
     "output_type": "stream",
     "text": [
      "Knowledge object (class: TreeShapedKnowledge)\n",
      "Clauses:\n",
      "   mortal(X) :- man(X).\n",
      "   man(socrates).\n"
     ]
    }
   ],
   "source": [
    "from andante.parser import Parser\n",
    "parser = Parser()\n",
    "text = \"\"\"\n",
    ":- begin_bg.\n",
    "    mortal(X):-man(X).\n",
    "    man(socrates).\n",
    ":- end_bg.\n",
    "\"\"\"\n",
    "knowledge = parser.parse(text, rule='background')\n",
    "print(knowledge)"
   ]
  },
  {
   "cell_type": "markdown",
   "id": "4a6792fe",
   "metadata": {},
   "source": [
    "## Solver example from section 2.2"
   ]
  },
  {
   "cell_type": "code",
   "execution_count": 2,
   "id": "b0ab9351",
   "metadata": {},
   "outputs": [
    {
     "name": "stdout",
     "output_type": "stream",
     "text": [
      "The query succeeded\n",
      "The solutions for the query are:\n",
      "\t {X: socrates}\n"
     ]
    }
   ],
   "source": [
    "from andante.solver import AndanteSolver\n",
    "solver = AndanteSolver()\n",
    "q = parser.parse(\"mortal(X).\", rule=\"query\")\n",
    "\n",
    "# Using method succeeds_on\n",
    "success = solver.succeeds_on(q, knowledge)\n",
    "if success:\n",
    "    print(\"The query succeeded\")\n",
    "else:\n",
    "    print(\"The query failed\")\n",
    "    \n",
    "# Using method query\n",
    "print(\"The solutions for the query are:\")\n",
    "for solution in solver.query(q, knowledge):\n",
    "    print('\\t', solution)"
   ]
  },
  {
   "cell_type": "markdown",
   "id": "3ef594b6",
   "metadata": {},
   "source": [
    "## Learner example from section 3.3"
   ]
  },
  {
   "cell_type": "code",
   "execution_count": 3,
   "id": "ca76f8ee",
   "metadata": {},
   "outputs": [
    {
     "name": "stdout",
     "output_type": "stream",
     "text": [
      "Knowledge learned\n",
      "Knowledge object (class: TreeShapedKnowledge)\n",
      "Clauses:\n",
      "   daughter(A, B) :- female(A).\n"
     ]
    }
   ],
   "source": [
    "text = \"\"\"\n",
    "% Mode declarations\n",
    "modeh(*,daughter(+person,-person)).\n",
    "modeb(*,parent(+person,-person)).\n",
    "modeb(*,parent(-person,+person)).\n",
    "modeb(*,female(+person)).\n",
    "modeb(*,female(-person)).\n",
    "\n",
    "% Determinations\n",
    "determination(daughter/2,parent/2).\n",
    "determination(daughter/2,female/1).\n",
    "\n",
    "% Background knowledge\n",
    ":- begin_bg.\n",
    "person(ann). person(mary). person(tom). person(eve). person(lucy).\n",
    "female(ann). female(mary). female(eve). female(lucy).\n",
    "parent(ann,mary).\n",
    "parent(ann,tom).\n",
    "parent(tom,eve).\n",
    "parent(tom,lucy).\n",
    ":- end_bg.\n",
    "    \n",
    "% Positive examples\n",
    ":- begin_in_pos.\n",
    "daughter(lucy,tom).\n",
    "daughter(mary,ann).\n",
    "daughter(eve,tom).\n",
    ":- end_in_pos.\n",
    "\n",
    "% Negative examples\n",
    ":- begin_in_neg.\n",
    "daughter(tom,ann).\n",
    "daughter(tom,eve).\n",
    ":- end_in_neg.\n",
    "\"\"\"\n",
    "pr = parser.parse(text, rule=\"andantefile\")\n",
    "H = pr.induce()\n",
    "\n",
    "print(\"Knowledge learned\")\n",
    "print(H)"
   ]
  },
  {
   "cell_type": "markdown",
   "id": "c0d49e46",
   "metadata": {},
   "source": [
    "## Interface example from section 4"
   ]
  },
  {
   "cell_type": "code",
   "execution_count": 4,
   "id": "4ee8d8d8",
   "metadata": {
    "scrolled": false
   },
   "outputs": [
    {
     "data": {
      "application/vnd.jupyter.widget-view+json": {
       "model_id": "1f06bc1cfa0f4c15bccde87d80e6ff84",
       "version_major": 2,
       "version_minor": 0
      },
      "text/plain": [
       "Tab(children=(VBox(children=(HBox(children=(Button(description='Save', layout=Layout(height='auto', width='100…"
      ]
     },
     "execution_count": 4,
     "metadata": {},
     "output_type": "execute_result"
    }
   ],
   "source": [
    "from andante.program import AndanteProgram\n",
    "from andante.interface import MainInterface\n",
    "\n",
    "ap = AndanteProgram.build_from(\"Examples/family.pl\")\n",
    "interface = MainInterface(ap)\n",
    "interface.widget"
   ]
  }
 ],
 "metadata": {
  "kernelspec": {
   "display_name": "Python 3 (ipykernel)",
   "language": "python",
   "name": "python3"
  },
  "language_info": {
   "codemirror_mode": {
    "name": "ipython",
    "version": 3
   },
   "file_extension": ".py",
   "mimetype": "text/x-python",
   "name": "python",
   "nbconvert_exporter": "python",
   "pygments_lexer": "ipython3",
   "version": "3.10.11"
  }
 },
 "nbformat": 4,
 "nbformat_minor": 5
}
