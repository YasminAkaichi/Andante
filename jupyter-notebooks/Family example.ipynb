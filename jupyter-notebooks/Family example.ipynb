{
 "cells": [
  {
   "cell_type": "markdown",
   "id": "0bff4800",
   "metadata": {},
   "source": [
    "# Family example\n",
    "\n",
    "This jupyter notebook presents some functionalities of the andante package through the family example available at 'andante/Examples/family.pl'"
   ]
  },
  {
   "cell_type": "markdown",
   "id": "515218c4",
   "metadata": {},
   "source": [
    "## Imports\n"
   ]
  },
  {
   "cell_type": "code",
   "execution_count": 1,
   "id": "d47dea11",
   "metadata": {},
   "outputs": [],
   "source": [
    "from andante.program import AndanteProgram"
   ]
  },
  {
   "cell_type": "markdown",
   "id": "b11ec546",
   "metadata": {},
   "source": [
    "## family.pl\n",
    "The following cell outputs the contents of family.pl"
   ]
  },
  {
   "cell_type": "code",
   "execution_count": 2,
   "id": "a6737d8b",
   "metadata": {
    "scrolled": true
   },
   "outputs": [
    {
     "name": "stdout",
     "output_type": "stream",
     "text": [
      "set(verbose,0).\n",
      "\n",
      "modeh(1,parent(+person,-person)).\n",
      "modeh(1,grandfather(+person,-person)).\n",
      "modeh(1,grandparent(+person,-person)).\n",
      "modeb(*,father(+person,-person)).\n",
      "modeb(*,mother(+person,-person)).\n",
      "modeb(*,parent(+person,-person)).\n",
      "determination(grandfather/2,father/2).\n",
      "determination(grandfather/2,mother/2).\n",
      "determination(grandfather/2,parent/2).\n",
      "determination(grandparent/2,father/2).\n",
      "determination(grandparent/2,mother/2).\n",
      "determination(grandparent/2,parent/2).\n",
      "determination(parent/2,father/2).\n",
      "determination(parent/2,mother/2).\n",
      "\n",
      "\n",
      "%%%%%%%%%%%%%%%%%%%%%%\n",
      "% Background knowledge\n",
      "\n",
      ":- begin_bg.\n",
      "\n",
      "person(andrew).  person(bernard).  person(cathleen).  person(daphne).\n",
      "person(edith).  person(fred).  person(george).  person(john).\n",
      "person(louis).  person(oscar).  person(paul).  person(robert).\n",
      "person(stephen).  person(sylvia).  person(william). person(ada).\n",
      "\n",
      "father(william,sylvia).\n",
      "father(oscar,louis).\n",
      "father(oscar,daphne).\n",
      "father(oscar,cathleen).\n",
      "father(oscar,fred).\n",
      "father(oscar,bernard).\n",
      "father(louis,stephen).\n",
      "father(louis,andrew).\n",
      "father(louis,robert).\n",
      "father(louis,john).\n",
      "father(george,oscar).\n",
      "father(paul,edith).\n",
      "\n",
      "mother(sylvia,stephen).\n",
      "mother(sylvia,andrew).\n",
      "mother(sylvia,robert).\n",
      "mother(sylvia,john).\n",
      "mother(edith,louis).\n",
      "mother(edith,daphne).\n",
      "mother(edith,cathleen).\n",
      "mother(edith,fred).\n",
      "mother(edith,bernard).\n",
      "mother(ada,sylvia).\n",
      "\n",
      ":- end_bg.\n",
      "\n",
      "\n",
      "%%%%%%%%%%%%%%%%%%%%%%\n",
      "% Positive examples\n",
      "\n",
      ":- begin_in_pos.\n",
      "\n",
      "parent(ada,sylvia).\n",
      "parent(edith,bernard).\n",
      "parent(edith,cathleen).\n",
      "parent(edith,daphne).\n",
      "parent(edith,fred).\n",
      "parent(edith,louis).\n",
      "parent(george,oscar).\n",
      "parent(louis,andrew).\n",
      "parent(louis,john).\n",
      "parent(louis,robert).\n",
      "parent(louis,stephen).\n",
      "parent(oscar,bernard).\n",
      "parent(oscar,cathleen).\n",
      "parent(oscar,daphne).\n",
      "parent(oscar,fred).\n",
      "parent(oscar,louis).\n",
      "parent(paul,edith).\n",
      "parent(sylvia,andrew).\n",
      "parent(sylvia,john).\n",
      "parent(sylvia,robert).\n",
      "parent(sylvia,stephen).\n",
      "parent(william,sylvia).\n",
      "\n",
      "grandfather(george,bernard).\n",
      "grandfather(george,cathleen).\n",
      "grandfather(george,daphne).\n",
      "grandfather(george,fred).\n",
      "grandfather(george,louis).\n",
      "grandfather(oscar,andrew).\n",
      "grandfather(oscar,john).\n",
      "grandfather(oscar,robert).\n",
      "grandfather(oscar,stephen).\n",
      "grandfather(paul,bernard).\n",
      "grandfather(paul,cathleen).\n",
      "grandfather(paul,daphne).\n",
      "grandfather(paul,fred).\n",
      "grandfather(paul,louis).\n",
      "grandfather(william,andrew).\n",
      "grandfather(william,john).\n",
      "grandfather(william,robert).\n",
      "grandfather(william,stephen).\n",
      "\n",
      "grandparent(ada,andrew).\n",
      "grandparent(ada,john).\n",
      "grandparent(ada,robert).\n",
      "grandparent(ada,stephen).\n",
      "grandparent(edith,andrew).\n",
      "grandparent(edith,john).\n",
      "grandparent(edith,robert).\n",
      "grandparent(edith,stephen).\n",
      "grandparent(george,bernard).\n",
      "grandparent(george,cathleen).\n",
      "grandparent(george,daphne).\n",
      "grandparent(george,fred).\n",
      "grandparent(george,louis).\n",
      "grandparent(oscar,andrew).\n",
      "grandparent(oscar,john).\n",
      "grandparent(oscar,robert).\n",
      "grandparent(oscar,stephen).\n",
      "grandparent(paul,bernard).\n",
      "grandparent(paul,cathleen).\n",
      "grandparent(paul,daphne).\n",
      "grandparent(paul,fred).\n",
      "grandparent(paul,louis).\n",
      "grandparent(william,andrew).\n",
      "grandparent(william,john).\n",
      "grandparent(william,robert).\n",
      "grandparent(william,stephen).\n",
      "\n",
      ":- end_in_pos.\n",
      "\n",
      "\n",
      "\n",
      "%%%%%%%%%%%%%%%%%%%%%%%%%%%\n",
      "% Negative examples\n",
      "\n",
      ":- begin_in_neg.\n",
      "\n",
      "parent(ada,andrew).\n",
      "parent(ada,john).\n",
      "parent(ada,robert).\n",
      "parent(ada,stephen).\n",
      "parent(edith,andrew).\n",
      "parent(edith,john).\n",
      "parent(edith,robert).\n",
      "parent(edith,stephen).\n",
      "parent(george,bernard).\n",
      "parent(george,cathleen).\n",
      "parent(george,daphne).\n",
      "parent(george,fred).\n",
      "parent(george,louis).\n",
      "parent(oscar,andrew).\n",
      "parent(oscar,john).\n",
      "parent(oscar,robert).\n",
      "parent(oscar,stephen).\n",
      "parent(paul,bernard).\n",
      "parent(paul,cathleen).\n",
      "parent(paul,daphne).\n",
      "parent(paul,fred).\n",
      "parent(paul,louis).\n",
      "parent(william,andrew).\n",
      "parent(william,john).\n",
      "parent(william,robert).\n",
      "parent(william,stephen).\n",
      "\n",
      "parent(sylvia,ada).\n",
      "parent(bernard,edith).\n",
      "parent(cathleen,edith).\n",
      "parent(daphne,edith).\n",
      "parent(fred,edith).\n",
      "parent(louis,edith).\n",
      "parent(oscar,george).\n",
      "parent(andrew,louis).\n",
      "parent(john,louis).\n",
      "parent(robert,louis).\n",
      "parent(stephen,louis).\n",
      "parent(bernard,oscar).\n",
      "parent(cathleen,oscar).\n",
      "parent(daphne,oscar).\n",
      "parent(fred,oscar).\n",
      "parent(louis,oscar).\n",
      "parent(edith,paul).\n",
      "parent(andrew,sylvia).\n",
      "parent(john,sylvia).\n",
      "parent(robert,sylvia).\n",
      "parent(stephen,sylvia).\n",
      "parent(sylvia,william).\n",
      "\n",
      "grandparent(ada,sylvia).\n",
      "grandparent(edith,bernard).\n",
      "grandparent(edith,cathleen).\n",
      "grandparent(edith,daphne).\n",
      "grandparent(edith,fred).\n",
      "grandparent(edith,louis).\n",
      "grandparent(george,oscar).\n",
      "grandparent(louis,andrew).\n",
      "grandparent(louis,john).\n",
      "grandparent(louis,robert).\n",
      "grandparent(louis,stephen).\n",
      "grandparent(oscar,bernard).\n",
      "grandparent(oscar,cathleen).\n",
      "grandparent(oscar,daphne).\n",
      "grandparent(oscar,fred).\n",
      "grandparent(oscar,louis).\n",
      "grandparent(paul,edith).\n",
      "grandparent(sylvia,andrew).\n",
      "grandparent(sylvia,john).\n",
      "grandparent(sylvia,robert).\n",
      "grandparent(sylvia,stephen).\n",
      "grandparent(william,sylvia).\n",
      "\n",
      "grandfather(ada,sylvia).\n",
      "grandfather(edith,bernard).\n",
      "grandfather(edith,cathleen).\n",
      "grandfather(edith,daphne).\n",
      "grandfather(edith,fred).\n",
      "grandfather(edith,louis).\n",
      "grandfather(george,oscar).\n",
      "grandfather(louis,andrew).\n",
      "grandfather(louis,john).\n",
      "grandfather(louis,robert).\n",
      "grandfather(louis,stephen).\n",
      "grandfather(oscar,bernard).\n",
      "grandfather(oscar,cathleen).\n",
      "grandfather(oscar,daphne).\n",
      "grandfather(oscar,fred).\n",
      "grandfather(oscar,louis).\n",
      "grandfather(paul,edith).\n",
      "grandfather(sylvia,andrew).\n",
      "grandfather(sylvia,john).\n",
      "grandfather(sylvia,robert).\n",
      "grandfather(sylvia,stephen).\n",
      "grandfather(william,sylvia).\n",
      "\n",
      "grandfather(ada,andrew).\n",
      "grandfather(ada,john).\n",
      "grandfather(ada,robert).\n",
      "grandfather(ada,stephen).\n",
      "grandfather(edith,andrew).\n",
      "grandfather(edith,john).\n",
      "grandfather(edith,robert).\n",
      "grandfather(edith,stephen).\n",
      "\n",
      ":- end_in_neg.\n",
      "\n"
     ]
    }
   ],
   "source": [
    "# Prints the contents of \"Examples/family.pl\"\n",
    "with open(\"Examples/family.pl\") as file:\n",
    "    print(file.read())"
   ]
  },
  {
   "cell_type": "markdown",
   "id": "be87781e",
   "metadata": {},
   "source": [
    "## Parse family.pl"
   ]
  },
  {
   "cell_type": "code",
   "execution_count": 3,
   "id": "99ad7995",
   "metadata": {},
   "outputs": [],
   "source": [
    "ap = AndanteProgram.build_from(\"Examples/family.pl\")"
   ]
  },
  {
   "cell_type": "markdown",
   "id": "14111080",
   "metadata": {},
   "source": [
    "## Family background knowledge in an image\n",
    "<img src=\"andante/Examples/family_image.png\" alt=\"Background knowledge in a picture\" style=\"width: 600px;\"/>"
   ]
  },
  {
   "cell_type": "markdown",
   "id": "eba26f6e",
   "metadata": {},
   "source": [
    "## Querying the background knowledge"
   ]
  },
  {
   "cell_type": "code",
   "execution_count": 4,
   "id": "98ce14fe",
   "metadata": {},
   "outputs": [
    {
     "name": "stdout",
     "output_type": "stream",
     "text": [
      "Knowledge object (class: TreeShapedKnowledge)\n",
      "Clauses:\n",
      "   mortal(X) :- man(X).\n",
      "   man(socrates).\n"
     ]
    }
   ],
   "source": [
    "from andante.parser import Parser\n",
    "parser = Parser()\n",
    "text = \"\"\"\n",
    ":- begin_bg.\n",
    "    mortal(X):-man(X).\n",
    "    man(socrates).\n",
    ":- end_bg.\n",
    "\"\"\"\n",
    "knowledge = parser.parse(text, rule='background')\n",
    "print(knowledge)"
   ]
  },
  {
   "cell_type": "code",
   "execution_count": 5,
   "id": "635aa7e7",
   "metadata": {},
   "outputs": [
    {
     "name": "stdout",
     "output_type": "stream",
     "text": [
      "The query succeeded\n",
      "The solutions for the query are:\n",
      "    {X: socrates}\n"
     ]
    }
   ],
   "source": [
    "from andante.solver import AndanteSolver\n",
    "solver = AndanteSolver()\n",
    "q = parser.parse(\"mortal(X).\", rule=\"query\")\n",
    "\n",
    "# Using method succeeds_on\n",
    "success = solver.succeeds_on(q, knowledge)\n",
    "if success:\n",
    "    print(\"The query succeeded\")\n",
    "else:    \n",
    "    print(\"The query failed\")\n",
    "    \n",
    "# Using method query\n",
    "print(\"The solutions for the query are:\")\n",
    "for solution in solver.query(q, knowledge):\n",
    "    print('   ', solution)"
   ]
  },
  {
   "cell_type": "markdown",
   "id": "2d2b76c8",
   "metadata": {},
   "source": [
    "### The metrics are as follow:\n",
    "- p: the number of positive examples covered by the clause\n",
    "- n: the number of negative examples covered by the clause\n",
    "- c: the number of atom in the body of clause\n",
    "- h: an optimistic guess to the number of atoms still needed in the clause \n",
    "- g: p-c-h\n",
    "- f: g-n = p-(c+h+n)"
   ]
  },
  {
   "cell_type": "code",
   "execution_count": 9,
   "id": "5ae0f07e",
   "metadata": {},
   "outputs": [
    {
     "name": "stdout",
     "output_type": "stream",
     "text": [
      "Examples: 3 positives - 3 negatives\n",
      "Current example: daughter(lucy, tom).\n",
      "Bottom_i: daughter(A, B) :- parent(B, A), female(A), female(C), female(D), female(E), parent(E, B), parent(B, D), parent(E, C).\n",
      "Metrics: [  p,  n,  c,  h,  g,  f]\n",
      "Candidate: [  3,  3,  0,  1,  2, -1] daughter(A, B).\n",
      "Candidate: [  3,  1,  1,  1,  1,  0] daughter(A, B) :- parent(B, A).\n",
      "Candidate: [  3,  1,  1,  1,  1,  0] daughter(A, B) :- parent(B, A).\n",
      "Candidate: [  3,  0,  2,  0,  1,  1] daughter(A, B) :- parent(B, A), female(A).\n",
      "Candidate: [  3,  1,  1,  1,  1,  0] daughter(A, B) :- parent(B, A).\n",
      "Candidate: [  3,  1,  2,  1,  0, -1] daughter(A, B) :- parent(B, A), female(C).\n",
      "Candidate: [  3,  1,  1,  1,  1,  0] daughter(A, B) :- parent(B, A).\n",
      "Candidate: [  3,  1,  2,  1,  0, -1] daughter(A, B) :- parent(B, A), female(D).\n",
      "Candidate: [  3,  1,  1,  1,  1,  0] daughter(A, B) :- parent(B, A).\n",
      "Candidate: [  3,  1,  2,  1,  0, -1] daughter(A, B) :- parent(B, A), female(E).\n",
      "Candidate: [  3,  1,  1,  1,  1,  0] daughter(A, B) :- parent(B, A).\n",
      "Candidate: [  2,  0,  2,  0,  0,  0] daughter(A, B) :- parent(B, A), parent(E, B).\n",
      "Candidate: [  3,  1,  1,  1,  1,  0] daughter(A, B) :- parent(B, A).\n",
      "Candidate: [  3,  1,  1,  1,  1,  0] daughter(A, B) :- parent(B, A).\n",
      "Candidate: [  3,  3,  0,  1,  2, -1] daughter(A, B).\n",
      "Candidate: [  3,  1,  1,  1,  1,  0] daughter(A, B) :- female(A).\n",
      "Candidate: [  3,  1,  1,  1,  1,  0] daughter(A, B) :- female(A).\n",
      "Candidate: [  3,  1,  2,  1,  0, -1] daughter(A, B) :- female(A), female(C).\n",
      "Candidate: [  3,  1,  1,  1,  1,  0] daughter(A, B) :- female(A).\n",
      "Candidate: [  3,  1,  2,  1,  0, -1] daughter(A, B) :- female(A), female(D).\n",
      "Candidate: [  3,  1,  1,  1,  1,  0] daughter(A, B) :- female(A).\n",
      "Candidate: [  3,  1,  2,  1,  0, -1] daughter(A, B) :- female(A), female(E).\n",
      "Candidate: [  3,  1,  1,  1,  1,  0] daughter(A, B) :- female(A).\n",
      "Candidate: [  3,  1,  1,  1,  1,  0] daughter(A, B) :- female(A).\n",
      "Candidate: [  3,  1,  1,  1,  1,  0] daughter(A, B) :- female(A).\n",
      "Candidate: [  3,  3,  0,  1,  2, -1] daughter(A, B).\n",
      "Candidate: [  3,  3,  1,  1,  1, -2] daughter(A, B) :- female(C).\n",
      "Candidate: [  3,  3,  0,  1,  2, -1] daughter(A, B).\n",
      "Candidate: [  3,  3,  1,  1,  1, -2] daughter(A, B) :- female(D).\n",
      "Candidate: [  3,  3,  0,  1,  2, -1] daughter(A, B).\n",
      "Candidate: [  3,  3,  1,  1,  1, -2] daughter(A, B) :- female(E).\n",
      "Candidate: [  3,  3,  0,  1,  2, -1] daughter(A, B).\n",
      "Candidate: [  3,  3,  0,  1,  2, -1] daughter(A, B).\n",
      "Candidate: [  3,  3,  0,  1,  2, -1] daughter(A, B).\n",
      "Clause: daughter(A, B) :- parent(B, A), female(A).\n",
      "\n",
      "Learned knowledge: Knowledge object (class: TreeShapedKnowledge)\n",
      "Clauses:\n",
      "   daughter(A, B) :- parent(B, A), female(A).\n",
      "Knowledge learned\n",
      "Knowledge object (class: TreeShapedKnowledge)\n",
      "Clauses:\n",
      "   daughter(A, B) :- parent(B, A), female(A).\n"
     ]
    }
   ],
   "source": [
    "text = \"\"\"\n",
    "% Mode declarations\n",
    "modeh(*,daughter(+person,-person)).\n",
    "modeb(*,parent(+person,-person)).\n",
    "modeb(*,parent(-person,+person)).\n",
    "modeb(*,female(+person)).\n",
    "modeb(*,female(-person)).\n",
    "\n",
    "% Determinations\n",
    "determination(daughter/2,parent/2).\n",
    "determination(daughter/2,female/1).\n",
    "\n",
    "% Background knowledge\n",
    ":- begin_bg.\n",
    "person(ann). person(mary). person(tom). person(eve). person(lucy).\n",
    "female(ann). female(mary).              female(eve). female(lucy).\n",
    "parent(ann,mary). \n",
    "parent(ann,tom). \n",
    "parent(tom,eve). \n",
    "parent(tom,lucy).\n",
    ":- end_bg.\n",
    "    \n",
    "% Positive examples\n",
    ":- begin_in_pos.\n",
    "daughter(lucy,tom).\n",
    "daughter(mary,ann).\n",
    "daughter(eve,tom).\n",
    ":- end_in_pos.\n",
    "\n",
    "% Negative examples\n",
    ":- begin_in_neg.\n",
    "daughter(tom,ann).\n",
    "daughter(tom,eve).\n",
    "daughter(ann,tom).\n",
    ":- end_in_neg.\n",
    "\"\"\"\n",
    "pr = parser.parse(text, rule=\"andantefile\")\n",
    "H = pr.induce(verbose=1)\n",
    "\n",
    "print(\"Knowledge learned\")\n",
    "print(H)"
   ]
  },
  {
   "cell_type": "code",
   "execution_count": 7,
   "id": "9da7705e",
   "metadata": {},
   "outputs": [],
   "source": [
    "text = \"\"\"\n",
    ":- begin_bg.\n",
    "\n",
    "mortal(X):-man(X).\n",
    "man(socrates).\n",
    "\n",
    ":- end_bg.\n",
    "\"\"\"\n",
    "ap2 = AndanteProgram.build_from(text)"
   ]
  },
  {
   "cell_type": "code",
   "execution_count": 8,
   "id": "788e4eaf",
   "metadata": {},
   "outputs": [
    {
     "data": {
      "text/plain": [
       "(True,\n",
       "           0\n",
       " X  socrates)"
      ]
     },
     "execution_count": 8,
     "metadata": {},
     "output_type": "execute_result"
    }
   ],
   "source": [
    "ap2.query('mortal(X).')"
   ]
  },
  {
   "cell_type": "code",
   "execution_count": 9,
   "id": "809df4bd",
   "metadata": {},
   "outputs": [
    {
     "name": "stdout",
     "output_type": "stream",
     "text": [
      "(True, Empty DataFrame\n",
      "Columns: [0]\n",
      "Index: [])\n",
      "(True,         0     1      2        3         4\n",
      "X  daphne  fred  louis  bernard  cathleen)\n"
     ]
    }
   ],
   "source": [
    "#ap.set('verbose',1) # Uncomment to see the details\n",
    "\n",
    "# Is ada the mother of sylvia ?\n",
    "print(ap.query('mother(ada, sylvia).'))\n",
    "\n",
    "# Of whom is oscar the father ?\n",
    "print(ap.query('father(oscar, X).'))"
   ]
  },
  {
   "cell_type": "markdown",
   "id": "2a5473b6",
   "metadata": {},
   "source": [
    "## Inductive learning of the examples"
   ]
  },
  {
   "cell_type": "code",
   "execution_count": 10,
   "id": "2f02dd2f",
   "metadata": {},
   "outputs": [
    {
     "name": "stdout",
     "output_type": "stream",
     "text": [
      "Examples: 66p/100n\n",
      "Current example: parent(ada, sylvia).\n",
      "Bottom_i: parent(A, B) :- mother(A, B), mother(B, C), mother(B, D), mother(B, E), mother(B, F).\n",
      "parent(A, B).: [  0,  1, 22, 48, 21,-27] parent(A, B).\n",
      "parent(A, B) :- mother(A, B).: [  1,  0, 10,  0,  9,  9] parent(A, B) :- mother(A, B).\n",
      "parent(A, B).: [  0,  1, 22, 48, 21,-27] parent(A, B).\n",
      "parent(A, B).: [  0,  1, 22, 48, 21,-27] parent(A, B).\n",
      "parent(A, B).: [  0,  1, 22, 48, 21,-27] parent(A, B).\n",
      "parent(A, B).: [  0,  1, 22, 48, 21,-27] parent(A, B).\n",
      "Clause: parent(A, B) :- mother(A, B).\n",
      "\n",
      "Examples: 56p/100n\n",
      "Current example: parent(george, oscar).\n",
      "Bottom_i: parent(A, B) :- father(A, B), father(B, C), father(B, D), father(B, E), father(B, F), father(B, G).\n",
      "parent(A, B).: [  0,  1, 12, 48, 11,-37] parent(A, B).\n",
      "parent(A, B) :- father(A, B).: [  1,  0, 12,  0, 11, 11] parent(A, B) :- father(A, B).\n",
      "Clause: parent(A, B) :- father(A, B).\n",
      "\n",
      "Examples: 44p/100n\n",
      "Current example: grandfather(george, bernard).\n",
      "Bottom_i: grandfather(A, B) :- father(A, C), parent(A, C), father(C, D), father(C, E), father(C, B), father(C, F), father(C, G), parent(C, D), parent(C, E), parent(C, B), parent(C, F), parent(C, G).\n",
      "grandfather(A, B).: [  0,  2, 18, 30, 16,-14] grandfather(A, B).\n",
      "grandfather(A, B) :- father(A, C).: [  1,  1, 18, 12, 16,  4] grandfather(A, B) :- father(A, C).\n",
      "grandfather(A, B) :- father(A, C).: [  1,  1, 18, 12, 16,  4] grandfather(A, B) :- father(A, C).\n",
      "grandfather(A, B) :- father(A, C), parent(A, C).: [  2,  1, 18, 12, 15,  3] grandfather(A, B) :- father(A, C), parent(A, C).\n",
      "grandfather(A, B) :- father(A, C).: [  1,  1, 18, 12, 16,  4] grandfather(A, B) :- father(A, C).\n",
      "grandfather(A, B) :- father(A, C), father(C, D).: [  2,  1,  9,  6,  6,  0] grandfather(A, B) :- father(A, C), father(C, D).\n",
      "grandfather(A, B) :- father(A, C).: [  1,  1, 18, 12, 16,  4] grandfather(A, B) :- father(A, C).\n",
      "grandfather(A, B) :- father(A, C), father(C, E).: [  2,  1,  9,  6,  6,  0] grandfather(A, B) :- father(A, C), father(C, E).\n",
      "grandfather(A, B) :- father(A, C).: [  1,  1, 18, 12, 16,  4] grandfather(A, B) :- father(A, C).\n",
      "grandfather(A, B) :- father(A, C), father(C, B).: [  2,  0,  9,  0,  7,  7] grandfather(A, B) :- father(A, C), father(C, B).\n",
      "grandfather(A, B) :- father(A, C).: [  1,  1, 18, 12, 16,  4] grandfather(A, B) :- father(A, C).\n",
      "grandfather(A, B) :- father(A, C), father(C, F).: [  2,  1,  9,  6,  6,  0] grandfather(A, B) :- father(A, C), father(C, F).\n",
      "grandfather(A, B) :- father(A, C).: [  1,  1, 18, 12, 16,  4] grandfather(A, B) :- father(A, C).\n",
      "grandfather(A, B) :- father(A, C), father(C, G).: [  2,  1,  9,  6,  6,  0] grandfather(A, B) :- father(A, C), father(C, G).\n",
      "grandfather(A, B) :- father(A, C).: [  1,  1, 18, 12, 16,  4] grandfather(A, B) :- father(A, C).\n",
      "grandfather(A, B) :- father(A, C), parent(C, D).: [  2,  1, 18,  8, 15,  7] grandfather(A, B) :- father(A, C), parent(C, D).\n",
      "grandfather(A, B) :- father(A, C).: [  1,  1, 18, 12, 16,  4] grandfather(A, B) :- father(A, C).\n",
      "grandfather(A, B) :- father(A, C), parent(C, E).: [  2,  1, 18,  8, 15,  7] grandfather(A, B) :- father(A, C), parent(C, E).\n",
      "grandfather(A, B) :- father(A, C).: [  1,  1, 18, 12, 16,  4] grandfather(A, B) :- father(A, C).\n",
      "grandfather(A, B) :- father(A, C), parent(C, B).: [  2,  0, 18,  0, 16, 16] grandfather(A, B) :- father(A, C), parent(C, B).\n",
      "Clause: grandfather(A, B) :- father(A, C), parent(C, B).\n",
      "\n",
      "Examples: 26p/100n\n",
      "Current example: grandparent(ada, andrew).\n",
      "Bottom_i: grandparent(A, B) :- mother(A, C), parent(A, C), mother(C, B), mother(C, D), mother(C, E), mother(C, F), parent(C, B), parent(C, D), parent(C, E), parent(C, F).\n",
      "grandparent(A, B).: [  0,  2, 26, 22, 24,  2] grandparent(A, B).\n",
      "grandparent(A, B) :- mother(A, C).: [  1,  1,  8, 10,  6, -4] grandparent(A, B) :- mother(A, C).\n",
      "grandparent(A, B).: [  0,  2, 26, 22, 24,  2] grandparent(A, B).\n",
      "grandparent(A, B) :- parent(A, C).: [  1,  1, 26, 22, 24,  2] grandparent(A, B) :- parent(A, C).\n",
      "grandparent(A, B).: [  0,  2, 26, 22, 24,  2] grandparent(A, B).\n",
      "grandparent(A, B) :- parent(A, C).: [  1,  1, 26, 22, 24,  2] grandparent(A, B) :- parent(A, C).\n",
      "grandparent(A, B) :- parent(A, C), mother(C, B).: [  2,  0, 13,  0, 11, 11] grandparent(A, B) :- parent(A, C), mother(C, B).\n",
      "grandparent(A, B).: [  0,  2, 26, 22, 24,  2] grandparent(A, B).\n",
      "grandparent(A, B) :- parent(A, C).: [  1,  1, 26, 22, 24,  2] grandparent(A, B) :- parent(A, C).\n",
      "grandparent(A, B) :- parent(A, C), mother(C, D).: [  2,  1, 13,  3, 10,  7] grandparent(A, B) :- parent(A, C), mother(C, D).\n",
      "grandparent(A, B).: [  0,  2, 26, 22, 24,  2] grandparent(A, B).\n",
      "grandparent(A, B) :- parent(A, C).: [  1,  1, 26, 22, 24,  2] grandparent(A, B) :- parent(A, C).\n",
      "grandparent(A, B) :- parent(A, C), mother(C, E).: [  2,  1, 13,  3, 10,  7] grandparent(A, B) :- parent(A, C), mother(C, E).\n",
      "grandparent(A, B).: [  0,  2, 26, 22, 24,  2] grandparent(A, B).\n",
      "grandparent(A, B) :- parent(A, C).: [  1,  1, 26, 22, 24,  2] grandparent(A, B) :- parent(A, C).\n",
      "grandparent(A, B) :- parent(A, C), mother(C, F).: [  2,  1, 13,  3, 10,  7] grandparent(A, B) :- parent(A, C), mother(C, F).\n",
      "grandparent(A, B).: [  0,  2, 26, 22, 24,  2] grandparent(A, B).\n",
      "grandparent(A, B) :- parent(A, C).: [  1,  1, 26, 22, 24,  2] grandparent(A, B) :- parent(A, C).\n",
      "grandparent(A, B) :- parent(A, C), parent(C, B).: [  2,  0, 26,  0, 24, 24] grandparent(A, B) :- parent(A, C), parent(C, B).\n",
      "Clause: grandparent(A, B) :- parent(A, C), parent(C, B).\n",
      "\n",
      "Learned knowledge: Knowledge object (class: TreeShapedKnowledge)\n",
      "Clauses:\n",
      "   parent(A, B) :- mother(A, B).\n",
      "   parent(A, B) :- father(A, B).\n",
      "   grandfather(A, B) :- father(A, C), parent(C, B).\n",
      "   grandparent(A, B) :- parent(A, C), parent(C, B).\n"
     ]
    },
    {
     "data": {
      "text/plain": [
       "Knowledge object (class: TreeShapedKnowledge)\n",
       "Clauses:\n",
       "   parent(A, B) :- mother(A, B).\n",
       "   parent(A, B) :- father(A, B).\n",
       "   grandfather(A, B) :- father(A, C), parent(C, B).\n",
       "   grandparent(A, B) :- parent(A, C), parent(C, B)."
      ]
     },
     "execution_count": 10,
     "metadata": {},
     "output_type": "execute_result"
    }
   ],
   "source": [
    "ap.induce(update_knowledge=True, logging=True, verbose=1)"
   ]
  },
  {
   "cell_type": "markdown",
   "id": "bbbb93ce",
   "metadata": {},
   "source": [
    "## Verifying if a clause is implicitly present in the theory"
   ]
  },
  {
   "cell_type": "code",
   "execution_count": 11,
   "id": "57e7835a",
   "metadata": {},
   "outputs": [
    {
     "data": {
      "text/plain": [
       "(True,\n",
       " Empty DataFrame\n",
       " Columns: [0]\n",
       " Index: [])"
      ]
     },
     "execution_count": 11,
     "metadata": {},
     "output_type": "execute_result"
    }
   ],
   "source": [
    "ap.verify('grandparent(A,B):-grandfather(A,B).', verbose=0)"
   ]
  },
  {
   "cell_type": "code",
   "execution_count": 12,
   "id": "62a63daa",
   "metadata": {
    "scrolled": false
   },
   "outputs": [
    {
     "data": {
      "text/plain": [
       "(False, [])"
      ]
     },
     "execution_count": 12,
     "metadata": {},
     "output_type": "execute_result"
    }
   ],
   "source": [
    "ap.verify('grandfather(A,B):-grandparent(A,B),mother(A,C).', verbose=0)"
   ]
  }
 ],
 "metadata": {
  "kernelspec": {
   "display_name": "Python 3 (ipykernel)",
   "language": "python",
   "name": "python3"
  },
  "language_info": {
   "codemirror_mode": {
    "name": "ipython",
    "version": 3
   },
   "file_extension": ".py",
   "mimetype": "text/x-python",
   "name": "python",
   "nbconvert_exporter": "python",
   "pygments_lexer": "ipython3",
   "version": "3.9.7"
  }
 },
 "nbformat": 4,
 "nbformat_minor": 5
}
