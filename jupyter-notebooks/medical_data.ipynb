{
 "cells": [
  {
   "cell_type": "code",
   "execution_count": 22,
   "metadata": {},
   "outputs": [],
   "source": [
    "from andante.program import AndanteProgram "
   ]
  },
  {
   "cell_type": "code",
   "execution_count": 61,
   "metadata": {},
   "outputs": [],
   "source": [
    "from andante.program import AndanteProgram \n",
    "ap1 = AndanteProgram.build_from(\"Examples/complications/programs1.pl\")\n",
    "H1 = ap1.induce(update_knowledge=True, logging=True, verbose=0)"
   ]
  },
  {
   "cell_type": "code",
   "execution_count": 62,
   "metadata": {},
   "outputs": [
    {
     "data": {
      "text/plain": [
       "Knowledge object (class: TreeShapedKnowledge)\n",
       "Clauses:\n",
       "   complications(A) :- coronary_artery_disease(A).\n",
       "   complications(A) :- shortneck(A).\n",
       "   complications(A) :- asthma(A).\n",
       "   complications(A) :- largetongue(A)."
      ]
     },
     "execution_count": 62,
     "metadata": {},
     "output_type": "execute_result"
    }
   ],
   "source": [
    "H1"
   ]
  },
  {
   "cell_type": "code",
   "execution_count": 63,
   "metadata": {},
   "outputs": [],
   "source": [
    "from andante.program import AndanteProgram \n",
    "ap2 = AndanteProgram.build_from(\"Examples/complications/programs2.pl\")\n",
    "H2 = ap2.induce(update_knowledge=True, logging=True, verbose=0)"
   ]
  },
  {
   "cell_type": "code",
   "execution_count": 64,
   "metadata": {},
   "outputs": [
    {
     "data": {
      "text/plain": [
       "Knowledge object (class: TreeShapedKnowledge)\n",
       "Clauses:\n",
       "   complications(A) :- hta(A), shortneck(A)."
      ]
     },
     "execution_count": 64,
     "metadata": {},
     "output_type": "execute_result"
    }
   ],
   "source": [
    "H2"
   ]
  },
  {
   "cell_type": "code",
   "execution_count": 65,
   "metadata": {},
   "outputs": [],
   "source": [
    "from andante.program import AndanteProgram \n",
    "ap3= AndanteProgram.build_from(\"Examples/complications/programs3.pl\")\n",
    "H3 = ap3.induce(update_knowledge=True, logging=True, verbose=0)"
   ]
  },
  {
   "cell_type": "code",
   "execution_count": 66,
   "metadata": {},
   "outputs": [
    {
     "data": {
      "text/plain": [
       "Knowledge object (class: TreeShapedKnowledge)\n",
       "Clauses:\n",
       "   complications(A) :- experience(A), largetongue(A).\n",
       "   complications(A) :- secondoperator(A)."
      ]
     },
     "execution_count": 66,
     "metadata": {},
     "output_type": "execute_result"
    }
   ],
   "source": [
    "H3"
   ]
  },
  {
   "cell_type": "code",
   "execution_count": 67,
   "metadata": {},
   "outputs": [],
   "source": [
    "from andante.program import AndanteProgram \n",
    "ap4 = AndanteProgram.build_from(\"Examples/complications/programs4.pl\")\n",
    "H4 = ap4.induce(update_knowledge=True, logging=True, verbose=0)"
   ]
  },
  {
   "cell_type": "code",
   "execution_count": 68,
   "metadata": {},
   "outputs": [
    {
     "data": {
      "text/plain": [
       "Knowledge object (class: TreeShapedKnowledge)\n",
       "Clauses:\n",
       "   complications(A) :- openingmouth(A)."
      ]
     },
     "execution_count": 68,
     "metadata": {},
     "output_type": "execute_result"
    }
   ],
   "source": [
    "H4"
   ]
  },
  {
   "cell_type": "code",
   "execution_count": 105,
   "metadata": {},
   "outputs": [],
   "source": [
    "from andante.program import AndanteProgram \n",
    "ap5 = AndanteProgram.build_from(\"Examples/complications/programs5.pl\")\n",
    "H5 = ap5.induce(update_knowledge=True, logging=True, verbose=0)"
   ]
  },
  {
   "cell_type": "code",
   "execution_count": 106,
   "metadata": {},
   "outputs": [
    {
     "data": {
      "text/plain": [
       "Knowledge object (class: TreeShapedKnowledge)\n",
       "Clauses:"
      ]
     },
     "execution_count": 106,
     "metadata": {},
     "output_type": "execute_result"
    }
   ],
   "source": [
    "H5"
   ]
  },
  {
   "cell_type": "code",
   "execution_count": 75,
   "metadata": {},
   "outputs": [],
   "source": [
    "from andante.program import AndanteProgram \n",
    "ap6 = AndanteProgram.build_from(\"Examples/complications/programs6.pl\")\n",
    "H6 = ap6.induce(update_knowledge=True, logging=True, verbose=0)"
   ]
  },
  {
   "cell_type": "code",
   "execution_count": 76,
   "metadata": {},
   "outputs": [
    {
     "data": {
      "text/plain": [
       "Knowledge object (class: TreeShapedKnowledge)\n",
       "Clauses:\n",
       "   complications(A) :- largetongue(A).\n",
       "   complications(A) :- experience(A), laryngodifficile(A).\n",
       "   complications(A) :- asthma(A).\n",
       "   complications(A) :- coronary_artery_disease(A).\n",
       "   complications(A) :- high_arched_palate(A)."
      ]
     },
     "execution_count": 76,
     "metadata": {},
     "output_type": "execute_result"
    }
   ],
   "source": [
    "H6"
   ]
  },
  {
   "cell_type": "code",
   "execution_count": 60,
   "metadata": {},
   "outputs": [
    {
     "data": {
      "text/plain": [
       "Knowledge object (class: TreeShapedKnowledge)\n",
       "Clauses:\n",
       "   complications(A) :- openingmouth(A)."
      ]
     },
     "execution_count": 60,
     "metadata": {},
     "output_type": "execute_result"
    }
   ],
   "source": [
    "from andante.program import AndanteProgram \n",
    "ap = AndanteProgram.build_from(\"Examples/medical/test.pl\")\n",
    "ap.induce(update_knowledge=True, logging=True, verbose=0)"
   ]
  },
  {
   "cell_type": "code",
   "execution_count": null,
   "metadata": {},
   "outputs": [],
   "source": []
  },
  {
   "cell_type": "code",
   "execution_count": 12,
   "metadata": {},
   "outputs": [
    {
     "data": {
      "text/plain": [
       "Knowledge object (class: TreeShapedKnowledge)\n",
       "Clauses:\n",
       "   complication(A) :- higharchedpalate(A).\n",
       "   complication(x) :- hardlaryngo(x)."
      ]
     },
     "execution_count": 12,
     "metadata": {},
     "output_type": "execute_result"
    }
   ],
   "source": [
    "from andante.program import AndanteProgram \n",
    "ap = AndanteProgram.build_from(\"Examples/medical/data_part3.pl\")\n",
    "ap.induce(update_knowledge=True, logging=True, verbose=0)"
   ]
  },
  {
   "cell_type": "code",
   "execution_count": 14,
   "metadata": {},
   "outputs": [
    {
     "data": {
      "text/plain": [
       "Knowledge object (class: TreeShapedKnowledge)\n",
       "Clauses:"
      ]
     },
     "execution_count": 14,
     "metadata": {},
     "output_type": "execute_result"
    }
   ],
   "source": [
    "from andante.program import AndanteProgram \n",
    "ap = AndanteProgram.build_from(\"Examples/medical/full_data.pl\")\n",
    "ap.induce(update_knowledge=True, logging=True, verbose=0)"
   ]
  },
  {
   "cell_type": "code",
   "execution_count": 91,
   "metadata": {},
   "outputs": [],
   "source": [
    "# Import required classes from your ILP system\n",
    "from andante.logic_concepts import Clause, Goal\n",
    "from andante.knowledge import Knowledge\n",
    "from andante.solver import AndanteSolver\n",
    "\n",
    "def evaluate_clause_coverage(clause, positive_examples, negative_examples, background_knowledge, m=5, p_0=0.5):\n",
    "    \"\"\"\n",
    "    Evaluate the coverage of a clause against positive and negative examples.\n",
    "\n",
    "    Parameters:\n",
    "    - clause (Clause): The clause to evaluate.\n",
    "    - positive_examples (list of Clause): List of positive examples to test.\n",
    "    - negative_examples (list of Clause): List of negative examples to test.\n",
    "    - background_knowledge (Knowledge): Background knowledge to utilize during evaluation.\n",
    "    - m (int): Smoothing parameter for the m-estimate calculation.\n",
    "    - p_0 (float): Prior estimate of the proportion of positive examples.\n",
    "    Returns:\n",
    "    - dict: A dictionary containing the coverage information:\n",
    "      - \"positive_entailed\": Number of positive examples entailed by the clause.\n",
    "      - \"positive_not_entailed\": Number of positive examples not entailed by the clause.\n",
    "      - \"negative_entailed\": Number of negative examples entailed by the clause.\n",
    "      - \"negative_not_entailed\": Number of negative examples not entailed by the clause.\n",
    "      - \"score\": The calculated \\(P - N\\) score.\n",
    "      - \"m_estimate\": The calculated m-estimate.\n",
    "    \"\"\"\n",
    "    assert isinstance(clause, Clause), \"The clause parameter must be an instance of Clause\"\n",
    "    assert isinstance(background_knowledge, Knowledge), \"The background_knowledge parameter must be an instance of Knowledge\"\n",
    "\n",
    "    # Initialize counts for the results\n",
    "    positive_entailed = 0\n",
    "    positive_not_entailed = 0\n",
    "    negative_entailed = 0\n",
    "    negative_not_entailed = 0\n",
    "\n",
    "    # Initialize the solver\n",
    "    solver = AndanteSolver()\n",
    "\n",
    "    # Check positive examples\n",
    "    for example in positive_examples:\n",
    "        goal = Goal([example.head])  # Wrap example head in a Goal\n",
    "        is_entailed = solver.succeeds_on(goal, background_knowledge)\n",
    "        if is_entailed:\n",
    "            positive_entailed += 1\n",
    "        else:\n",
    "            positive_not_entailed += 1\n",
    "\n",
    "    # Check negative examples\n",
    "    for example in negative_examples:\n",
    "        goal = Goal([example.head])  # Wrap example head in a Goal\n",
    "        is_entailed = solver.succeeds_on(goal, background_knowledge)\n",
    "        if is_entailed:\n",
    "            negative_entailed += 1\n",
    "        else:\n",
    "            negative_not_entailed += 1\n",
    "\n",
    "    # Calculate the \\(P - N\\) score\n",
    "    score = positive_entailed - negative_entailed\n",
    "\n",
    "    # Calculate the m-estimate\n",
    "    total_covered = positive_entailed + negative_entailed\n",
    "    m_estimate = (positive_entailed + m * p_0) / (total_covered + m) if total_covered > 0 else 0\n",
    "\n",
    "    \n",
    "\n",
    "    # Display the results\n",
    "    print(f\"Positive examples entailed: {positive_entailed}\")\n",
    "    print(f\"Positive examples not entailed: {positive_not_entailed}\")\n",
    "    print(f\"Negative examples entailed: {negative_entailed}\")\n",
    "    print(f\"Negative examples not entailed: {negative_not_entailed}\")\n",
    "    print(f\"Coverage score (P - N): {score}\")\n",
    "    print(f\"m-estimate: {m_estimate}\")\n",
    "\n",
    "    return {\n",
    "        \"positive_entailed\": positive_entailed,\n",
    "        \"positive_not_entailed\": positive_not_entailed,\n",
    "        \"negative_entailed\": negative_entailed,\n",
    "        \"negative_not_entailed\": negative_not_entailed,\n",
    "        \"score\": score,\n",
    "        \"m_estimate\": m_estimate\n",
    "    }\n"
   ]
  },
  {
   "cell_type": "code",
   "execution_count": 15,
   "metadata": {},
   "outputs": [
    {
     "data": {
      "text/plain": [
       "Knowledge object (class: TreeShapedKnowledge)\n",
       "Clauses:\n",
       "   complications(A) :- asthma(A).\n",
       "   complications(A) :- coronary_artery_disease(A).\n",
       "   complications(A) :- secondoperator(A)."
      ]
     },
     "execution_count": 15,
     "metadata": {},
     "output_type": "execute_result"
    }
   ],
   "source": [
    "H1"
   ]
  },
  {
   "cell_type": "code",
   "execution_count": 16,
   "metadata": {},
   "outputs": [
    {
     "data": {
      "text/plain": [
       "Knowledge object (class: TreeShapedKnowledge)\n",
       "Clauses:\n",
       "   complications(A) :- secondoperator(A).\n",
       "   complications(A) :- betweenhyoidboneandthyroid(A)."
      ]
     },
     "execution_count": 16,
     "metadata": {},
     "output_type": "execute_result"
    }
   ],
   "source": [
    "H2"
   ]
  },
  {
   "cell_type": "code",
   "execution_count": 17,
   "metadata": {},
   "outputs": [
    {
     "data": {
      "text/plain": [
       "Knowledge object (class: TreeShapedKnowledge)\n",
       "Clauses:\n",
       "   complications(A) :- diabetes(A), coronary_artery_disease(A).\n",
       "   complications(A) :- high_arched_palate(A)."
      ]
     },
     "execution_count": 17,
     "metadata": {},
     "output_type": "execute_result"
    }
   ],
   "source": [
    "H3"
   ]
  },
  {
   "cell_type": "code",
   "execution_count": 18,
   "metadata": {},
   "outputs": [
    {
     "data": {
      "text/plain": [
       "Knowledge object (class: TreeShapedKnowledge)\n",
       "Clauses:"
      ]
     },
     "execution_count": 18,
     "metadata": {},
     "output_type": "execute_result"
    }
   ],
   "source": [
    "H4"
   ]
  },
  {
   "cell_type": "code",
   "execution_count": 19,
   "metadata": {},
   "outputs": [
    {
     "data": {
      "text/plain": [
       "Knowledge object (class: TreeShapedKnowledge)\n",
       "Clauses:\n",
       "   complications(A) :- hta(A)."
      ]
     },
     "execution_count": 19,
     "metadata": {},
     "output_type": "execute_result"
    }
   ],
   "source": [
    "H5"
   ]
  },
  {
   "cell_type": "code",
   "execution_count": 94,
   "metadata": {},
   "outputs": [],
   "source": [
    "#parse \n",
    "#ap = AndanteProgram.build_from(\"Examples/complications/programs1.pl\")\n",
    "#ap = AndanteProgram.build_from(\"Examples/family/family.pl\")\n",
    "#H = ap.induce(update_knowledge=True, logging=True, verbose=0)\n",
    "\n",
    "positive_examples =ap1.examples['pos']\n",
    "negative_examples = ap1.examples['neg']\n",
    "background_knowledge = ap1.knowledge \n",
    "induced_clauses1 = H1\n",
    "\n",
    "positive_examples =ap2.examples['pos']\n",
    "negative_examples = ap2.examples['neg']\n",
    "background_knowledge = ap2.knowledge \n",
    "induced_clauses2 = H2\n",
    "\n",
    "positive_examples =ap3.examples['pos']\n",
    "negative_examples = ap3.examples['neg']\n",
    "background_knowledge = ap3.knowledge \n",
    "induced_clauses3 = H3\n",
    "\n",
    "positive_examples =ap4.examples['pos']\n",
    "negative_examples = ap4.examples['neg']\n",
    "background_knowledge = ap4.knowledge \n",
    "induced_clauses4 = H4\n",
    "\n",
    "positive_examples =ap5.examples['pos']\n",
    "negative_examples = ap5.examples['neg']\n",
    "background_knowledge = ap5.knowledge \n",
    "induced_clauses5 = H5\n",
    "\n",
    "positive_examples =ap6.examples['pos']\n",
    "negative_examples = ap6.examples['neg']\n",
    "background_knowledge = ap6.knowledge \n",
    "induced_clauses5 = H6"
   ]
  },
  {
   "cell_type": "code",
   "execution_count": 107,
   "metadata": {},
   "outputs": [],
   "source": [
    "positive_examples =ap5.examples['pos']\n",
    "negative_examples = ap5.examples['neg']\n",
    "background_knowledge = ap5.knowledge \n",
    "induced_clauses5 = H5"
   ]
  },
  {
   "cell_type": "code",
   "execution_count": 109,
   "metadata": {},
   "outputs": [],
   "source": [
    "results = []\n",
    "for clause in induced_clauses5:\n",
    "    coverage_score = evaluate_clause_coverage(clause, positive_examples, negative_examples, background_knowledge)\n",
    "    results.append((clause, coverage_score))\n",
    "        \n",
    "for clause, score in results:\n",
    "    print(f'Clause: {clause}, Coverage: {score}')"
   ]
  },
  {
   "cell_type": "code",
   "execution_count": 30,
   "metadata": {},
   "outputs": [
    {
     "data": {
      "text/plain": [
       "Knowledge object (class: TreeShapedKnowledge)\n",
       "Clauses:"
      ]
     },
     "execution_count": 30,
     "metadata": {},
     "output_type": "execute_result"
    }
   ],
   "source": [
    "from andante.program import AndanteProgram \n",
    "apmovies = AndanteProgram.build_from(\"Examples/movies.pl\")\n",
    "apmovies.induce(update_knowledge=True, logging=True, verbose=0)"
   ]
  },
  {
   "cell_type": "code",
   "execution_count": null,
   "metadata": {},
   "outputs": [],
   "source": []
  }
 ],
 "metadata": {
  "kernelspec": {
   "display_name": "Python 3",
   "language": "python",
   "name": "python3"
  },
  "language_info": {
   "codemirror_mode": {
    "name": "ipython",
    "version": 3
   },
   "file_extension": ".py",
   "mimetype": "text/x-python",
   "name": "python",
   "nbconvert_exporter": "python",
   "pygments_lexer": "ipython3",
   "version": "3.10.11"
  }
 },
 "nbformat": 4,
 "nbformat_minor": 2
}
