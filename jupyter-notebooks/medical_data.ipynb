{
 "cells": [
  {
   "cell_type": "code",
   "execution_count": 22,
   "metadata": {},
   "outputs": [],
   "source": [
    "from andante.program import AndanteProgram "
   ]
  },
  {
   "cell_type": "code",
   "execution_count": 40,
   "metadata": {},
   "outputs": [],
   "source": [
    "from andante.program import AndanteProgram \n",
    "ap1 = AndanteProgram.build_from(\"Examples/complications/programs1.pl\")\n",
    "H1 = ap1.induce(update_knowledge=True, logging=True, verbose=0)"
   ]
  },
  {
   "cell_type": "code",
   "execution_count": 41,
   "metadata": {},
   "outputs": [
    {
     "data": {
      "text/plain": [
       "Knowledge object (class: TreeShapedKnowledge)\n",
       "Clauses:\n",
       "   complications(A) :- coronary_artery_disease(A).\n",
       "   complications(A) :- shortneck(A).\n",
       "   complications(A) :- asthma(A).\n",
       "   complications(A) :- largetongue(A)."
      ]
     },
     "execution_count": 41,
     "metadata": {},
     "output_type": "execute_result"
    }
   ],
   "source": [
    "H1"
   ]
  },
  {
   "cell_type": "code",
   "execution_count": 42,
   "metadata": {},
   "outputs": [],
   "source": [
    "from andante.program import AndanteProgram \n",
    "ap2 = AndanteProgram.build_from(\"Examples/complications/programs2.pl\")\n",
    "H2 = ap2.induce(update_knowledge=True, logging=True, verbose=0)"
   ]
  },
  {
   "cell_type": "code",
   "execution_count": 43,
   "metadata": {},
   "outputs": [
    {
     "data": {
      "text/plain": [
       "Knowledge object (class: TreeShapedKnowledge)\n",
       "Clauses:\n",
       "   complications(A) :- hta(A), shortneck(A)."
      ]
     },
     "execution_count": 43,
     "metadata": {},
     "output_type": "execute_result"
    }
   ],
   "source": [
    "H2"
   ]
  },
  {
   "cell_type": "code",
   "execution_count": 44,
   "metadata": {},
   "outputs": [],
   "source": [
    "from andante.program import AndanteProgram \n",
    "ap3= AndanteProgram.build_from(\"Examples/complications/programs3.pl\")\n",
    "H3 = ap3.induce(update_knowledge=True, logging=True, verbose=0)"
   ]
  },
  {
   "cell_type": "code",
   "execution_count": 45,
   "metadata": {},
   "outputs": [
    {
     "data": {
      "text/plain": [
       "Knowledge object (class: TreeShapedKnowledge)\n",
       "Clauses:\n",
       "   complications(A) :- experience(A), largetongue(A).\n",
       "   complications(A) :- secondoperator(A)."
      ]
     },
     "execution_count": 45,
     "metadata": {},
     "output_type": "execute_result"
    }
   ],
   "source": [
    "H3"
   ]
  },
  {
   "cell_type": "code",
   "execution_count": 46,
   "metadata": {},
   "outputs": [],
   "source": [
    "from andante.program import AndanteProgram \n",
    "ap4 = AndanteProgram.build_from(\"Examples/complications/programs4.pl\")\n",
    "H4 = ap4.induce(update_knowledge=True, logging=True, verbose=0)"
   ]
  },
  {
   "cell_type": "code",
   "execution_count": 47,
   "metadata": {},
   "outputs": [
    {
     "data": {
      "text/plain": [
       "Knowledge object (class: TreeShapedKnowledge)\n",
       "Clauses:"
      ]
     },
     "execution_count": 47,
     "metadata": {},
     "output_type": "execute_result"
    }
   ],
   "source": [
    "H4"
   ]
  },
  {
   "cell_type": "code",
   "execution_count": 48,
   "metadata": {},
   "outputs": [],
   "source": [
    "from andante.program import AndanteProgram \n",
    "ap5 = AndanteProgram.build_from(\"Examples/complications/programs5.pl\")\n",
    "H5 = ap5.induce(update_knowledge=True, logging=True, verbose=0)"
   ]
  },
  {
   "cell_type": "code",
   "execution_count": 49,
   "metadata": {},
   "outputs": [
    {
     "data": {
      "text/plain": [
       "Knowledge object (class: TreeShapedKnowledge)\n",
       "Clauses:\n",
       "   complications(A) :- patientobese(A), indication(A, B), lemonscore(A, B).\n",
       "   complications(A) :- hta(A)."
      ]
     },
     "execution_count": 49,
     "metadata": {},
     "output_type": "execute_result"
    }
   ],
   "source": [
    "H5"
   ]
  },
  {
   "cell_type": "code",
   "execution_count": 50,
   "metadata": {},
   "outputs": [],
   "source": [
    "from andante.program import AndanteProgram \n",
    "ap6 = AndanteProgram.build_from(\"Examples/complications/programs6.pl\")\n",
    "H6 = ap6.induce(update_knowledge=True, logging=True, verbose=0)"
   ]
  },
  {
   "cell_type": "code",
   "execution_count": 51,
   "metadata": {},
   "outputs": [
    {
     "data": {
      "text/plain": [
       "Knowledge object (class: TreeShapedKnowledge)\n",
       "Clauses:\n",
       "   complications(A) :- largetongue(A).\n",
       "   complications(A) :- experience(A), laryngodifficile(A).\n",
       "   complications(A) :- asthma(A).\n",
       "   complications(A) :- coronary_artery_disease(A).\n",
       "   complications(A) :- high_arched_palate(A)."
      ]
     },
     "execution_count": 51,
     "metadata": {},
     "output_type": "execute_result"
    }
   ],
   "source": [
    "H6"
   ]
  },
  {
   "cell_type": "code",
   "execution_count": 52,
   "metadata": {},
   "outputs": [
    {
     "data": {
      "text/plain": [
       "Knowledge object (class: TreeShapedKnowledge)\n",
       "Clauses:"
      ]
     },
     "execution_count": 52,
     "metadata": {},
     "output_type": "execute_result"
    }
   ],
   "source": [
    "from andante.program import AndanteProgram \n",
    "ap = AndanteProgram.build_from(\"Examples/medical/test.pl\")\n",
    "ap.induce(update_knowledge=True, logging=True, verbose=0)"
   ]
  },
  {
   "cell_type": "code",
   "execution_count": null,
   "metadata": {},
   "outputs": [],
   "source": []
  },
  {
   "cell_type": "code",
   "execution_count": 53,
   "metadata": {},
   "outputs": [
    {
     "data": {
      "text/plain": [
       "Knowledge object (class: TreeShapedKnowledge)\n",
       "Clauses:\n",
       "   complication(A) :- higharchedpalate(A)."
      ]
     },
     "execution_count": 53,
     "metadata": {},
     "output_type": "execute_result"
    }
   ],
   "source": [
    "from andante.program import AndanteProgram \n",
    "ap = AndanteProgram.build_from(\"Examples/medical/data_part3.pl\")\n",
    "ap.induce(update_knowledge=True, logging=True, verbose=0)"
   ]
  },
  {
   "cell_type": "code",
   "execution_count": 54,
   "metadata": {},
   "outputs": [
    {
     "data": {
      "text/plain": [
       "Knowledge object (class: TreeShapedKnowledge)\n",
       "Clauses:"
      ]
     },
     "execution_count": 54,
     "metadata": {},
     "output_type": "execute_result"
    }
   ],
   "source": [
    "from andante.program import AndanteProgram \n",
    "ap = AndanteProgram.build_from(\"Examples/medical/full_data.pl\")\n",
    "ap.induce(update_knowledge=True, logging=True, verbose=0)"
   ]
  },
  {
   "cell_type": "code",
   "execution_count": 61,
   "metadata": {},
   "outputs": [
    {
     "name": "stderr",
     "output_type": "stream",
     "text": [
      "<>:7: SyntaxWarning: invalid escape sequence '\\('\n",
      "<>:7: SyntaxWarning: invalid escape sequence '\\('\n",
      "C:\\Users\\yakaichi\\AppData\\Local\\Temp\\ipykernel_4524\\1374541934.py:7: SyntaxWarning: invalid escape sequence '\\('\n",
      "  \"\"\"\n"
     ]
    }
   ],
   "source": [
    "# Import required classes from your ILP system\n",
    "from andante.logic_concepts import Clause, Goal\n",
    "from andante.knowledge import Knowledge\n",
    "from andante.solver import AndanteSolver\n",
    "\n",
    "def evaluate_clause_coverage(clause, positive_examples, negative_examples, background_knowledge, m=5, p_0=0.5):\n",
    "    \"\"\"\n",
    "    Evaluate the coverage of a clause against positive and negative examples.\n",
    "\n",
    "    Parameters:\n",
    "    - clause (Clause): The clause to evaluate.\n",
    "    - positive_examples (list of Clause): List of positive examples to test.\n",
    "    - negative_examples (list of Clause): List of negative examples to test.\n",
    "    - background_knowledge (Knowledge): Background knowledge to utilize during evaluation.\n",
    "    - m (int): Smoothing parameter for the m-estimate calculation.\n",
    "    - p_0 (float): Prior estimate of the proportion of positive examples.\n",
    "    Returns:\n",
    "    - dict: A dictionary containing the coverage information:\n",
    "      - \"positive_entailed\": Number of positive examples entailed by the clause.\n",
    "      - \"positive_not_entailed\": Number of positive examples not entailed by the clause.\n",
    "      - \"negative_entailed\": Number of negative examples entailed by the clause.\n",
    "      - \"negative_not_entailed\": Number of negative examples not entailed by the clause.\n",
    "      - \"score\": The calculated \\(P - N\\) score.\n",
    "      - \"m_estimate\": The calculated m-estimate.\n",
    "    \"\"\"\n",
    "    assert isinstance(clause, Clause), \"The clause parameter must be an instance of Clause\"\n",
    "    assert isinstance(background_knowledge, Knowledge), \"The background_knowledge parameter must be an instance of Knowledge\"\n",
    "\n",
    "    # Initialize counts for the results\n",
    "    positive_entailed = 0\n",
    "    positive_not_entailed = 0\n",
    "    negative_entailed = 0\n",
    "    negative_not_entailed = 0\n",
    "\n",
    "    # Initialize the solver\n",
    "    solver = AndanteSolver()\n",
    "\n",
    "    # Check positive examples\n",
    "    for example in positive_examples:\n",
    "        goal = Goal([example.head])  # Wrap example head in a Goal\n",
    "        is_entailed = solver.succeeds_on(goal, background_knowledge)\n",
    "        if is_entailed:\n",
    "            positive_entailed += 1\n",
    "        else:\n",
    "            positive_not_entailed += 1\n",
    "\n",
    "    # Check negative examples\n",
    "    for example in negative_examples:\n",
    "        goal = Goal([example.head])  # Wrap example head in a Goal\n",
    "        is_entailed = solver.succeeds_on(goal, background_knowledge)\n",
    "        if is_entailed:\n",
    "            negative_entailed += 1\n",
    "        else:\n",
    "            negative_not_entailed += 1\n",
    "\n",
    "    # Calculate the \\(P - N\\) score\n",
    "    score = positive_entailed - negative_entailed\n",
    "\n",
    "    # Calculate the m-estimate\n",
    "    total_covered = positive_entailed + negative_entailed\n",
    "    m_estimate = (positive_entailed + m * p_0) / (total_covered + m) if total_covered > 0 else 0\n",
    "\n",
    "    \n",
    "\n",
    "    # Display the results\n",
    "    print(f\"Positive examples entailed: {positive_entailed}\")\n",
    "    print(f\"Positive examples not entailed: {positive_not_entailed}\")\n",
    "    print(f\"Negative examples entailed: {negative_entailed}\")\n",
    "    print(f\"Negative examples not entailed: {negative_not_entailed}\")\n",
    "    print(f\"Coverage score (P - N): {score}\")\n",
    "    print(f\"m-estimate: {m_estimate}\")\n",
    "\n",
    "    return {\n",
    "        \"positive_entailed\": positive_entailed,\n",
    "        \"positive_not_entailed\": positive_not_entailed,\n",
    "        \"negative_entailed\": negative_entailed,\n",
    "        \"negative_not_entailed\": negative_not_entailed,\n",
    "        \"score\": score,\n",
    "        \"m_estimate\": m_estimate\n",
    "    }\n"
   ]
  },
  {
   "cell_type": "code",
   "execution_count": 56,
   "metadata": {},
   "outputs": [
    {
     "data": {
      "text/plain": [
       "Knowledge object (class: TreeShapedKnowledge)\n",
       "Clauses:\n",
       "   complications(A) :- coronary_artery_disease(A).\n",
       "   complications(A) :- shortneck(A).\n",
       "   complications(A) :- asthma(A).\n",
       "   complications(A) :- largetongue(A)."
      ]
     },
     "execution_count": 56,
     "metadata": {},
     "output_type": "execute_result"
    }
   ],
   "source": [
    "H1"
   ]
  },
  {
   "cell_type": "code",
   "execution_count": 57,
   "metadata": {},
   "outputs": [
    {
     "data": {
      "text/plain": [
       "Knowledge object (class: TreeShapedKnowledge)\n",
       "Clauses:\n",
       "   complications(A) :- hta(A), shortneck(A)."
      ]
     },
     "execution_count": 57,
     "metadata": {},
     "output_type": "execute_result"
    }
   ],
   "source": [
    "H2"
   ]
  },
  {
   "cell_type": "code",
   "execution_count": 17,
   "metadata": {},
   "outputs": [
    {
     "data": {
      "text/plain": [
       "Knowledge object (class: TreeShapedKnowledge)\n",
       "Clauses:\n",
       "   complications(A) :- diabetes(A), coronary_artery_disease(A).\n",
       "   complications(A) :- high_arched_palate(A)."
      ]
     },
     "execution_count": 17,
     "metadata": {},
     "output_type": "execute_result"
    }
   ],
   "source": [
    "H3"
   ]
  },
  {
   "cell_type": "code",
   "execution_count": 18,
   "metadata": {},
   "outputs": [
    {
     "data": {
      "text/plain": [
       "Knowledge object (class: TreeShapedKnowledge)\n",
       "Clauses:"
      ]
     },
     "execution_count": 18,
     "metadata": {},
     "output_type": "execute_result"
    }
   ],
   "source": [
    "H4"
   ]
  },
  {
   "cell_type": "code",
   "execution_count": 19,
   "metadata": {},
   "outputs": [
    {
     "data": {
      "text/plain": [
       "Knowledge object (class: TreeShapedKnowledge)\n",
       "Clauses:\n",
       "   complications(A) :- hta(A)."
      ]
     },
     "execution_count": 19,
     "metadata": {},
     "output_type": "execute_result"
    }
   ],
   "source": [
    "H5"
   ]
  },
  {
   "cell_type": "code",
   "execution_count": 58,
   "metadata": {},
   "outputs": [],
   "source": [
    "#parse \n",
    "#ap = AndanteProgram.build_from(\"Examples/complications/programs1.pl\")\n",
    "#ap = AndanteProgram.build_from(\"Examples/family/family.pl\")\n",
    "#H = ap.induce(update_knowledge=True, logging=True, verbose=0)\n",
    "\n",
    "positive_examples =ap1.examples['pos']\n",
    "negative_examples = ap1.examples['neg']\n",
    "background_knowledge = ap1.knowledge \n",
    "induced_clauses1 = H1\n",
    "\n",
    "positive_examples =ap2.examples['pos']\n",
    "negative_examples = ap2.examples['neg']\n",
    "background_knowledge = ap2.knowledge \n",
    "induced_clauses2 = H2\n",
    "\n",
    "positive_examples =ap3.examples['pos']\n",
    "negative_examples = ap3.examples['neg']\n",
    "background_knowledge = ap3.knowledge \n",
    "induced_clauses3 = H3\n",
    "\n",
    "positive_examples =ap4.examples['pos']\n",
    "negative_examples = ap4.examples['neg']\n",
    "background_knowledge = ap4.knowledge \n",
    "induced_clauses4 = H4\n",
    "\n",
    "positive_examples =ap5.examples['pos']\n",
    "negative_examples = ap5.examples['neg']\n",
    "background_knowledge = ap5.knowledge \n",
    "induced_clauses5 = H5\n",
    "\n",
    "positive_examples =ap6.examples['pos']\n",
    "negative_examples = ap6.examples['neg']\n",
    "background_knowledge = ap6.knowledge \n",
    "induced_clauses5 = H6"
   ]
  },
  {
   "cell_type": "code",
   "execution_count": 59,
   "metadata": {},
   "outputs": [],
   "source": [
    "positive_examples =ap5.examples['pos']\n",
    "negative_examples = ap5.examples['neg']\n",
    "background_knowledge = ap5.knowledge \n",
    "induced_clauses5 = H5"
   ]
  },
  {
   "cell_type": "code",
   "execution_count": 60,
   "metadata": {},
   "outputs": [
    {
     "name": "stderr",
     "output_type": "stream",
     "text": [
      "C:\\Users\\yakaichi\\AppData\\Local\\Temp\\ipykernel_4524\\280223572.py:7: SyntaxWarning: invalid escape sequence '\\('\n",
      "  \"\"\"\n"
     ]
    },
    {
     "ename": "AssertionError",
     "evalue": "",
     "output_type": "error",
     "traceback": [
      "\u001b[1;31m---------------------------------------------------------------------------\u001b[0m",
      "\u001b[1;31mAssertionError\u001b[0m                            Traceback (most recent call last)",
      "Cell \u001b[1;32mIn[60], line 3\u001b[0m\n\u001b[0;32m      1\u001b[0m results \u001b[38;5;241m=\u001b[39m []\n\u001b[0;32m      2\u001b[0m \u001b[38;5;28;01mfor\u001b[39;00m clause \u001b[38;5;129;01min\u001b[39;00m induced_clauses5:\n\u001b[1;32m----> 3\u001b[0m     coverage_score \u001b[38;5;241m=\u001b[39m \u001b[43mevaluate_clause_coverage\u001b[49m\u001b[43m(\u001b[49m\u001b[43mclause\u001b[49m\u001b[43m,\u001b[49m\u001b[43m \u001b[49m\u001b[43mpositive_examples\u001b[49m\u001b[43m,\u001b[49m\u001b[43m \u001b[49m\u001b[43mnegative_examples\u001b[49m\u001b[43m,\u001b[49m\u001b[43m \u001b[49m\u001b[43mbackground_knowledge\u001b[49m\u001b[43m)\u001b[49m\n\u001b[0;32m      4\u001b[0m     results\u001b[38;5;241m.\u001b[39mappend((clause, coverage_score))\n\u001b[0;32m      6\u001b[0m \u001b[38;5;28;01mfor\u001b[39;00m clause, score \u001b[38;5;129;01min\u001b[39;00m results:\n",
      "Cell \u001b[1;32mIn[55], line 42\u001b[0m, in \u001b[0;36mevaluate_clause_coverage\u001b[1;34m(clause, positive_examples, negative_examples, background_knowledge, m, p_0)\u001b[0m\n\u001b[0;32m     40\u001b[0m goal \u001b[38;5;241m=\u001b[39m Goal([example\u001b[38;5;241m.\u001b[39mhead])  \u001b[38;5;66;03m# Wrap example head in a Goal\u001b[39;00m\n\u001b[0;32m     41\u001b[0m \u001b[38;5;66;03m#clause a fix\u001b[39;00m\n\u001b[1;32m---> 42\u001b[0m is_entailed \u001b[38;5;241m=\u001b[39m \u001b[43msolver\u001b[49m\u001b[38;5;241;43m.\u001b[39;49m\u001b[43msucceeds_on\u001b[49m\u001b[43m(\u001b[49m\u001b[43mgoal\u001b[49m\u001b[43m,\u001b[49m\u001b[43m \u001b[49m\u001b[43mclause\u001b[49m\u001b[43m)\u001b[49m\n\u001b[0;32m     43\u001b[0m \u001b[38;5;28;01mif\u001b[39;00m is_entailed:\n\u001b[0;32m     44\u001b[0m     positive_entailed \u001b[38;5;241m+\u001b[39m\u001b[38;5;241m=\u001b[39m \u001b[38;5;241m1\u001b[39m\n",
      "File \u001b[1;32mc:\\Users\\yakaichi\\AppData\\Local\\Programs\\Python\\Python312\\Lib\\site-packages\\andante\\solver.py:202\u001b[0m, in \u001b[0;36mAndanteSolver.succeeds_on\u001b[1;34m(self, q, knowledge, sigma, **temp_options)\u001b[0m\n\u001b[0;32m    200\u001b[0m \u001b[38;5;28;01melse\u001b[39;00m:\n\u001b[0;32m    201\u001b[0m     output_gen \u001b[38;5;241m=\u001b[39m \u001b[38;5;28mself\u001b[39m\u001b[38;5;241m.\u001b[39mquery(q, knowledge, sigma\u001b[38;5;241m=\u001b[39msigma)\n\u001b[1;32m--> 202\u001b[0m     sol_exists \u001b[38;5;241m=\u001b[39m \u001b[38;5;28;43mnext\u001b[39;49m\u001b[43m(\u001b[49m\u001b[43moutput_gen\u001b[49m\u001b[43m,\u001b[49m\u001b[43m \u001b[49m\u001b[38;5;28;43;01mNone\u001b[39;49;00m\u001b[43m)\u001b[49m \u001b[38;5;129;01mis\u001b[39;00m \u001b[38;5;129;01mnot\u001b[39;00m \u001b[38;5;28;01mNone\u001b[39;00m\n\u001b[0;32m    203\u001b[0m     success    \u001b[38;5;241m=\u001b[39m sol_exists\n\u001b[0;32m    205\u001b[0m \u001b[38;5;28;01mif\u001b[39;00m sol_exists: \u001b[38;5;66;03m# generator is not finished, we need to do the following manually\u001b[39;00m\n",
      "File \u001b[1;32mc:\\Users\\yakaichi\\AppData\\Local\\Programs\\Python\\Python312\\Lib\\site-packages\\andante\\solver.py:70\u001b[0m, in \u001b[0;36mAndanteSolver.query\u001b[1;34m(self, q, knowledge, sigma, **temp_options)\u001b[0m\n\u001b[0;32m     69\u001b[0m \u001b[38;5;28;01mdef\u001b[39;00m \u001b[38;5;21mquery\u001b[39m(\u001b[38;5;28mself\u001b[39m, q, knowledge, sigma\u001b[38;5;241m=\u001b[39m\u001b[38;5;28;01mNone\u001b[39;00m, \u001b[38;5;241m*\u001b[39m\u001b[38;5;241m*\u001b[39mtemp_options):\n\u001b[1;32m---> 70\u001b[0m     \u001b[38;5;28;01massert\u001b[39;00m \u001b[38;5;28misinstance\u001b[39m(knowledge, Knowledge)\n\u001b[0;32m     71\u001b[0m     \u001b[38;5;28;01mif\u001b[39;00m \u001b[38;5;28misinstance\u001b[39m(q, (Atom, Negation)):\n\u001b[0;32m     72\u001b[0m         q \u001b[38;5;241m=\u001b[39m Goal([q])\n",
      "\u001b[1;31mAssertionError\u001b[0m: "
     ]
    }
   ],
   "source": [
    "results = []\n",
    "for clause in induced_clauses5:\n",
    "    coverage_score = evaluate_clause_coverage(clause, positive_examples, negative_examples, background_knowledge)\n",
    "    results.append((clause, coverage_score))\n",
    "        \n",
    "for clause, score in results:\n",
    "    print(f'Clause: {clause}, Coverage: {score}')"
   ]
  },
  {
   "cell_type": "code",
   "execution_count": 5,
   "metadata": {},
   "outputs": [
    {
     "data": {
      "text/plain": [
       "Knowledge object (class: TreeShapedKnowledge)\n",
       "Clauses:\n",
       "   recommend(A, B) :- b45to49(A).\n",
       "   recommend(A, B) :- b18to24(A), drama(B).\n",
       "   recommend(A, B) :- crime(B).\n",
       "   recommend(A, B) :- horror(B).\n",
       "   recommend(A, B) :- b25to34(A), f(A).\n",
       "   recommend(A, B) :- adventure(B)."
      ]
     },
     "execution_count": 5,
     "metadata": {},
     "output_type": "execute_result"
    }
   ],
   "source": [
    "from andante.program import AndanteProgram \n",
    "apmovies = AndanteProgram.build_from(\"Examples/movies.pl\")\n",
    "apmovies.induce(update_knowledge=True, logging=True, verbose=0)"
   ]
  },
  {
   "cell_type": "code",
   "execution_count": 6,
   "metadata": {},
   "outputs": [
    {
     "data": {
      "text/plain": [
       "(True,\n",
       "       0     1      2      3     4      5     6      7      8      9   ...  \\\n",
       " A  u3539  u621   u621   u621  u621   u621  u621  u2777  u2777  u2777  ...   \n",
       " B  u3539  m924  m1960  m1619   m17  m1178  m337   m924  m1960  m1619  ...   \n",
       " \n",
       "       38     39     40     41     42     43     44     45     46   47  \n",
       " A  u1778  u1778  u1778  u1778  u1778  m1348  m2987  m1259  u5127  m47  \n",
       " B  m1960  m1619    m17  m1178   m337  m1348  m2987  m1259  u5127  m47  \n",
       " \n",
       " [2 rows x 48 columns])"
      ]
     },
     "execution_count": 6,
     "metadata": {},
     "output_type": "execute_result"
    }
   ],
   "source": [
    "apmovies.query(\"recommend(A,B).\")"
   ]
  },
  {
   "cell_type": "code",
   "execution_count": 10,
   "metadata": {},
   "outputs": [
    {
     "data": {
      "text/plain": [
       "(True,\n",
       " Empty DataFrame\n",
       " Columns: [0]\n",
       " Index: [])"
      ]
     },
     "execution_count": 10,
     "metadata": {},
     "output_type": "execute_result"
    }
   ],
   "source": [
    "apmovies.verify('recommend(A, B) :- crime(B).', verbose=0)"
   ]
  },
  {
   "cell_type": "code",
   "execution_count": 7,
   "metadata": {},
   "outputs": [
    {
     "ename": "AttributeError",
     "evalue": "'AndanteProgram' object has no attribute 'save'",
     "output_type": "error",
     "traceback": [
      "\u001b[1;31m---------------------------------------------------------------------------\u001b[0m",
      "\u001b[1;31mAttributeError\u001b[0m                            Traceback (most recent call last)",
      "Cell \u001b[1;32mIn[7], line 10\u001b[0m\n\u001b[0;32m      7\u001b[0m apmovies\u001b[38;5;241m.\u001b[39mquery(\u001b[38;5;124m\"\u001b[39m\u001b[38;5;124mrecommend(A, B).\u001b[39m\u001b[38;5;124m\"\u001b[39m)\n\u001b[0;32m      9\u001b[0m \u001b[38;5;66;03m# Save the AndanteProgram to a file\u001b[39;00m\n\u001b[1;32m---> 10\u001b[0m \u001b[43mapmovies\u001b[49m\u001b[38;5;241;43m.\u001b[39;49m\u001b[43msave\u001b[49m(\u001b[38;5;124m\"\u001b[39m\u001b[38;5;124msaved_andante_program.pkl\u001b[39m\u001b[38;5;124m\"\u001b[39m)\n\u001b[0;32m     12\u001b[0m \u001b[38;5;66;03m# Later, load the AndanteProgram from the saved file\u001b[39;00m\n\u001b[0;32m     13\u001b[0m loaded_apmovies \u001b[38;5;241m=\u001b[39m AndanteProgram\u001b[38;5;241m.\u001b[39mload(\u001b[38;5;124m\"\u001b[39m\u001b[38;5;124msaved_andante_program.pkl\u001b[39m\u001b[38;5;124m\"\u001b[39m)\n",
      "\u001b[1;31mAttributeError\u001b[0m: 'AndanteProgram' object has no attribute 'save'"
     ]
    }
   ],
   "source": [
    "from andante.program import AndanteProgram \n",
    "# Generate or load an AndanteProgram instance\n",
    "apmovies = AndanteProgram.build_from(\"Examples/movies.pl\")\n",
    "\n",
    "# Perform learning or querying as usual\n",
    "induced_hypotheses = apmovies.induce(update_knowledge=True, logging=True, verbose=0)\n",
    "apmovies.query(\"recommend(A, B).\")\n",
    "\n",
    "# Save the AndanteProgram to a file\n",
    "apmovies.save(\"saved_andante_program.pkl\")\n",
    "\n",
    "# Later, load the AndanteProgram from the saved file\n",
    "loaded_apmovies = AndanteProgram.load(\"saved_andante_program.pkl\")\n",
    "\n",
    "# Now you can continue querying or further using the loaded program without re-inducing\n",
    "loaded_apmovies.query(\"recommend(A, B).\")"
   ]
  },
  {
   "cell_type": "code",
   "execution_count": 18,
   "metadata": {},
   "outputs": [
    {
     "name": "stdout",
     "output_type": "stream",
     "text": [
      "Progol logic program saved as .complication/prolog_partitions_5/prolog_program_partition_1.pl\n",
      "Progol logic program saved as .complication/prolog_partitions_5/prolog_program_partition_2.pl\n",
      "Progol logic program saved as .complication/prolog_partitions_5/prolog_program_partition_3.pl\n",
      "Progol logic program saved as .complication/prolog_partitions_5/prolog_program_partition_4.pl\n",
      "Progol logic program saved as .complication/prolog_partitions_5/prolog_program_partition_5.pl\n"
     ]
    }
   ],
   "source": [
    "import pandas as pd\n",
    "import os\n",
    "\n",
    "def generate_balanced_partitions(file_path, output_dir, num_partitions):\n",
    "    # Load the dataset\n",
    "    data = pd.read_excel(file_path)\n",
    "\n",
    "    # Split the data into positive and negative examples based on the 'complication' target\n",
    "    positive_data = data[data['complications'] == 1].copy()  # Patients with complications\n",
    "    negative_data = data[data['complications'] == 0].copy()  # Patients without complications\n",
    "\n",
    "    # Shuffle the data\n",
    "    positive_data = positive_data.sample(frac=1, random_state=42).reset_index(drop=True)\n",
    "    negative_data = negative_data.sample(frac=1, random_state=42).reset_index(drop=True)\n",
    "\n",
    "    # Determine the size of each partition\n",
    "    pos_partition_size = len(positive_data) // num_partitions\n",
    "    neg_partition_size = len(negative_data) // num_partitions\n",
    "\n",
    "    # Ensure that the partitions are balanced\n",
    "    partitions = []\n",
    "    for i in range(num_partitions):\n",
    "        pos_start = i * pos_partition_size\n",
    "        pos_end = pos_start + pos_partition_size\n",
    "        neg_start = i * neg_partition_size\n",
    "        neg_end = neg_start + neg_partition_size\n",
    "\n",
    "        # Handle remainders by distributing them to the partitions\n",
    "        if i == num_partitions - 1:\n",
    "            pos_end = len(positive_data)\n",
    "            neg_end = len(negative_data)\n",
    "\n",
    "        partition = pd.concat([\n",
    "            positive_data.iloc[pos_start:pos_end],\n",
    "            negative_data.iloc[neg_start:neg_end]\n",
    "        ]).reset_index(drop=True)\n",
    "        \n",
    "        partitions.append(partition)\n",
    "\n",
    "    # Generate Prolog programs for each partition\n",
    "    if not os.path.exists(output_dir):\n",
    "        os.makedirs(output_dir)\n",
    "        \n",
    "    for i, partition in enumerate(partitions):\n",
    "        output_file_name = f\"{output_dir}/prolog_program_partition_{i+1}\"\n",
    "        generate_progol_program_for_partition(partition, output_file_name)\n",
    "\n",
    "def generate_progol_program_for_partition(partition, output_file_name):\n",
    "    # Prepare containers for Prolog facts\n",
    "    positive_examples = []\n",
    "    negative_examples = []\n",
    "    background_knowledge = set()\n",
    "\n",
    "    # Process each row in the partition\n",
    "    for _, row in partition.iterrows():\n",
    "        patient_id = f\"{row['patientID']}\"  # Assuming there is a column 'patient_id'\n",
    "        \n",
    "        # Binary features: Transform features with value == 1 into facts\n",
    "        for column in partition.columns:\n",
    "            if row[column] == 1 and column != 'complication':\n",
    "                background_knowledge.add(f\"{column}({patient_id}).\")\n",
    "\n",
    "        # Handle categorical features (example: 'indication')\n",
    "        if row['indication'] == 'neurological':\n",
    "            background_knowledge.add(f\"neurological({patient_id}).\")\n",
    "        elif row['indication'] == 'cardiological':\n",
    "            background_knowledge.add(f\"cardiological({patient_id}).\")\n",
    "\n",
    "        # Generate positive and negative examples for complication\n",
    "        if row['complications'] == 1:\n",
    "            positive_examples.append(f\"complications({patient_id}).\")\n",
    "        else:\n",
    "            negative_examples.append(f\"not_complication({patient_id}).\")\n",
    "    \n",
    "    # Mode declarations\n",
    "    modeh_declaration = \"modeh(*, complications(+patient)).\"\n",
    "    modeb_declarations = [\n",
    "        f\"modeb(*, {feature}(+patient)).\" for feature in partition.columns if feature != 'complication'\n",
    "    ]\n",
    "    \n",
    "    # Determinations\n",
    "    determinations = [\n",
    "        f\"determination(complications/1, {feature}/1).\" for feature in partition.columns if feature != 'complication'\n",
    "    ]\n",
    "\n",
    "    # Combine all parts into a Progol-compatible logic program\n",
    "    progol_program = \"% Mode Declarations\\n\"\n",
    "    progol_program += modeh_declaration + \"\\n\"\n",
    "    progol_program += \"\\n\".join(modeb_declarations) + \"\\n\\n\"\n",
    "\n",
    "    progol_program += \"% Determinations\\n\"\n",
    "    progol_program += \"\\n\".join(determinations) + \"\\n\\n\"\n",
    "\n",
    "    progol_program += \"% Background Knowledge\\n:- begin_bg.\\n\"\n",
    "    progol_program += \"\\n\".join(sorted(background_knowledge)) + \"\\n:- end_bg.\\n\\n\"\n",
    "\n",
    "    progol_program += \"% Positive Examples\\n:- begin_in_pos.\\n\"\n",
    "    progol_program += \"\\n\".join(positive_examples) + \"\\n:- end_in_pos.\\n\\n\"\n",
    "\n",
    "    progol_program += \"% Negative Examples\\n:- begin_in_neg.\\n\"\n",
    "    progol_program += \"\\n\".join(negative_examples) + \"\\n:- end_in_neg.\\n\"\n",
    "\n",
    "    # Save the Progol logic program to a file\n",
    "    output_file_path = f\"{output_file_name}.pl\"\n",
    "    with open(output_file_path, \"w\") as file:\n",
    "        file.write(progol_program)\n",
    "\n",
    "    print(f\"Progol logic program saved as {output_file_path}\")\n",
    "\n",
    "# Usage example:\n",
    "num_partitions = 5\n",
    "file_path = 'C:/Users/yakaichi/OneDrive - Université de Namur/Bureau/Data/pre_processed_data/aftercorrelationstudies_intubationrecords_dataset.xlsx'  # Replace with your actual file path\n",
    "output_dir = '.complication/prolog_partitions_' + str(num_partitions)  # Directory to save the partitions\n",
    "generate_balanced_partitions(file_path, output_dir, num_partitions)\n"
   ]
  },
  {
   "cell_type": "code",
   "execution_count": 9,
   "metadata": {},
   "outputs": [
    {
     "name": "stdout",
     "output_type": "stream",
     "text": [
      "Collecting git+https://github.com/YasminAkaichi/Andante.git\n",
      "  Cloning https://github.com/YasminAkaichi/Andante.git to c:\\users\\yakaichi\\appdata\\local\\temp\\pip-req-build-dn975sk9\n",
      "  Resolved https://github.com/YasminAkaichi/Andante.git to commit ddece45e38e21d6d636e075a1ae264647421de42\n",
      "  Installing build dependencies: started\n",
      "  Installing build dependencies: finished with status 'done'\n",
      "  Getting requirements to build wheel: started\n",
      "  Getting requirements to build wheel: finished with status 'done'\n",
      "  Preparing metadata (pyproject.toml): started\n",
      "  Preparing metadata (pyproject.toml): finished with status 'done'\n",
      "Requirement already satisfied: parsimonious>=0.8.1 in c:\\users\\yakaichi\\appdata\\local\\programs\\python\\python312\\lib\\site-packages (from andante==1.0) (0.10.0)\n",
      "Requirement already satisfied: dataclasses>=0.6 in c:\\users\\yakaichi\\appdata\\local\\programs\\python\\python312\\lib\\site-packages (from andante==1.0) (0.6)\n",
      "Requirement already satisfied: ipywidgets>=7.6.5 in c:\\users\\yakaichi\\appdata\\local\\programs\\python\\python312\\lib\\site-packages (from andante==1.0) (8.1.5)\n",
      "Requirement already satisfied: comm>=0.1.3 in c:\\users\\yakaichi\\appdata\\roaming\\python\\python312\\site-packages (from ipywidgets>=7.6.5->andante==1.0) (0.2.2)\n",
      "Requirement already satisfied: ipython>=6.1.0 in c:\\users\\yakaichi\\appdata\\roaming\\python\\python312\\site-packages (from ipywidgets>=7.6.5->andante==1.0) (8.26.0)\n",
      "Requirement already satisfied: traitlets>=4.3.1 in c:\\users\\yakaichi\\appdata\\roaming\\python\\python312\\site-packages (from ipywidgets>=7.6.5->andante==1.0) (5.14.3)\n",
      "Requirement already satisfied: widgetsnbextension~=4.0.12 in c:\\users\\yakaichi\\appdata\\local\\programs\\python\\python312\\lib\\site-packages (from ipywidgets>=7.6.5->andante==1.0) (4.0.13)\n",
      "Requirement already satisfied: jupyterlab-widgets~=3.0.12 in c:\\users\\yakaichi\\appdata\\local\\programs\\python\\python312\\lib\\site-packages (from ipywidgets>=7.6.5->andante==1.0) (3.0.13)\n",
      "Requirement already satisfied: regex>=2022.3.15 in c:\\users\\yakaichi\\appdata\\local\\programs\\python\\python312\\lib\\site-packages (from parsimonious>=0.8.1->andante==1.0) (2024.7.24)\n",
      "Requirement already satisfied: decorator in c:\\users\\yakaichi\\appdata\\roaming\\python\\python312\\site-packages (from ipython>=6.1.0->ipywidgets>=7.6.5->andante==1.0) (5.1.1)\n",
      "Requirement already satisfied: jedi>=0.16 in c:\\users\\yakaichi\\appdata\\roaming\\python\\python312\\site-packages (from ipython>=6.1.0->ipywidgets>=7.6.5->andante==1.0) (0.19.1)\n",
      "Requirement already satisfied: matplotlib-inline in c:\\users\\yakaichi\\appdata\\roaming\\python\\python312\\site-packages (from ipython>=6.1.0->ipywidgets>=7.6.5->andante==1.0) (0.1.7)\n",
      "Requirement already satisfied: prompt-toolkit<3.1.0,>=3.0.41 in c:\\users\\yakaichi\\appdata\\roaming\\python\\python312\\site-packages (from ipython>=6.1.0->ipywidgets>=7.6.5->andante==1.0) (3.0.47)\n",
      "Requirement already satisfied: pygments>=2.4.0 in c:\\users\\yakaichi\\appdata\\roaming\\python\\python312\\site-packages (from ipython>=6.1.0->ipywidgets>=7.6.5->andante==1.0) (2.18.0)\n",
      "Requirement already satisfied: stack-data in c:\\users\\yakaichi\\appdata\\roaming\\python\\python312\\site-packages (from ipython>=6.1.0->ipywidgets>=7.6.5->andante==1.0) (0.6.3)\n",
      "Requirement already satisfied: colorama in c:\\users\\yakaichi\\appdata\\local\\programs\\python\\python312\\lib\\site-packages (from ipython>=6.1.0->ipywidgets>=7.6.5->andante==1.0) (0.4.6)\n",
      "Requirement already satisfied: parso<0.9.0,>=0.8.3 in c:\\users\\yakaichi\\appdata\\roaming\\python\\python312\\site-packages (from jedi>=0.16->ipython>=6.1.0->ipywidgets>=7.6.5->andante==1.0) (0.8.4)\n",
      "Requirement already satisfied: wcwidth in c:\\users\\yakaichi\\appdata\\roaming\\python\\python312\\site-packages (from prompt-toolkit<3.1.0,>=3.0.41->ipython>=6.1.0->ipywidgets>=7.6.5->andante==1.0) (0.2.13)\n",
      "Requirement already satisfied: executing>=1.2.0 in c:\\users\\yakaichi\\appdata\\roaming\\python\\python312\\site-packages (from stack-data->ipython>=6.1.0->ipywidgets>=7.6.5->andante==1.0) (2.0.1)\n",
      "Requirement already satisfied: asttokens>=2.1.0 in c:\\users\\yakaichi\\appdata\\roaming\\python\\python312\\site-packages (from stack-data->ipython>=6.1.0->ipywidgets>=7.6.5->andante==1.0) (2.4.1)\n",
      "Requirement already satisfied: pure-eval in c:\\users\\yakaichi\\appdata\\roaming\\python\\python312\\site-packages (from stack-data->ipython>=6.1.0->ipywidgets>=7.6.5->andante==1.0) (0.2.3)\n",
      "Requirement already satisfied: six>=1.12.0 in c:\\users\\yakaichi\\appdata\\local\\programs\\python\\python312\\lib\\site-packages (from asttokens>=2.1.0->stack-data->ipython>=6.1.0->ipywidgets>=7.6.5->andante==1.0) (1.16.0)\n",
      "Building wheels for collected packages: andante\n",
      "  Building wheel for andante (pyproject.toml): started\n",
      "  Building wheel for andante (pyproject.toml): finished with status 'done'\n",
      "  Created wheel for andante: filename=andante-1.0-py3-none-any.whl size=51654 sha256=33a4e9063560e7c6d65345ba435131fa9c85106ecdd7de6775799715888927dd\n",
      "  Stored in directory: C:\\Users\\yakaichi\\AppData\\Local\\Temp\\pip-ephem-wheel-cache-2rqnwc34\\wheels\\0e\\03\\23\\97408bc1ffb88ac635d77f0751a4ebcd4607d281cfbd9dc0b1\n",
      "Successfully built andante\n",
      "Installing collected packages: andante\n",
      "  Attempting uninstall: andante\n",
      "    Found existing installation: andante 1.0\n",
      "    Uninstalling andante-1.0:\n",
      "      Successfully uninstalled andante-1.0\n",
      "Successfully installed andante-1.0\n",
      "Note: you may need to restart the kernel to use updated packages.\n"
     ]
    },
    {
     "name": "stderr",
     "output_type": "stream",
     "text": [
      "  Running command git clone --filter=blob:none --quiet https://github.com/YasminAkaichi/Andante.git 'C:\\Users\\yakaichi\\AppData\\Local\\Temp\\pip-req-build-dn975sk9'\n"
     ]
    }
   ],
   "source": [
    "pip install --upgrade git+https://github.com/YasminAkaichi/Andante.git  "
   ]
  },
  {
   "cell_type": "code",
   "execution_count": 7,
   "metadata": {},
   "outputs": [
    {
     "data": {
      "text/plain": [
       "<module 'andante.program' from 'c:\\\\Users\\\\yakaichi\\\\AppData\\\\Local\\\\Programs\\\\Python\\\\Python312\\\\Lib\\\\site-packages\\\\andante\\\\program.py'>"
      ]
     },
     "execution_count": 7,
     "metadata": {},
     "output_type": "execute_result"
    }
   ],
   "source": [
    "import importlib\n",
    "import andante.program\n",
    "\n",
    "# Reload the module to reflect changes\n",
    "importlib.reload(andante.program)\n"
   ]
  },
  {
   "cell_type": "code",
   "execution_count": 26,
   "metadata": {},
   "outputs": [],
   "source": [
    "\n",
    "from andante.program import AndanteProgram \n",
    "apmovies = AndanteProgram.build_from(\"Examples/movies.pl\")\n",
    "H = apmovies.induce(update_knowledge=True, logging=True, verbose=0)"
   ]
  },
  {
   "cell_type": "code",
   "execution_count": 23,
   "metadata": {},
   "outputs": [],
   "source": [
    "text = \"\"\"\n",
    ":- begin_bg.\n",
    "    user(u777).\n",
    "    b18to25(u777).\n",
    "    f(u777).\n",
    "    movie(m777).\n",
    "    drama(m777).\n",
    ":- end_bg.\n",
    "\"\"\"\n"
   ]
  },
  {
   "cell_type": "code",
   "execution_count": 30,
   "metadata": {},
   "outputs": [
    {
     "name": "stdout",
     "output_type": "stream",
     "text": [
      "The query succeeded\n",
      "The solutions for the query are:\n",
      "\t {A: u1433, B: m1619}\n",
      "\t {A: u1433, B: m337}\n",
      "\t {A: u1433, B: m1960}\n",
      "\t {A: u1433, B: m17}\n",
      "\t {A: u1433, B: m924}\n",
      "\t {A: u1433, B: m1178}\n",
      "\t {A: u4411, B: m1619}\n",
      "\t {A: u4411, B: m337}\n",
      "\t {A: u4411, B: m1960}\n",
      "\t {A: u4411, B: m17}\n",
      "\t {A: u4411, B: m924}\n",
      "\t {A: u4411, B: m1178}\n",
      "\t {A: u3418, B: m1619}\n",
      "\t {A: u3418, B: m337}\n",
      "\t {A: u3418, B: m1960}\n",
      "\t {A: u3418, B: m17}\n",
      "\t {A: u3418, B: m924}\n",
      "\t {A: u3418, B: m1178}\n",
      "\t {A: u2777, B: m1619}\n",
      "\t {A: u2777, B: m337}\n",
      "\t {A: u2777, B: m1960}\n",
      "\t {A: u2777, B: m17}\n",
      "\t {A: u2777, B: m924}\n",
      "\t {A: u2777, B: m1178}\n",
      "\t {A: u621, B: m1619}\n",
      "\t {A: u621, B: m337}\n",
      "\t {A: u621, B: m1960}\n",
      "\t {A: u621, B: m17}\n",
      "\t {A: u621, B: m924}\n",
      "\t {A: u621, B: m1178}\n",
      "\t {A: u4103, B: m1619}\n",
      "\t {A: u4103, B: m337}\n",
      "\t {A: u4103, B: m1960}\n",
      "\t {A: u4103, B: m17}\n",
      "\t {A: u4103, B: m924}\n",
      "\t {A: u4103, B: m1178}\n",
      "\t {A: u1778, B: m1619}\n",
      "\t {A: u1778, B: m337}\n",
      "\t {A: u1778, B: m1960}\n",
      "\t {A: u1778, B: m17}\n",
      "\t {A: u1778, B: m924}\n",
      "\t {A: u1778, B: m1178}\n",
      "\t {B: m47}\n",
      "\t {B: m1348}\n",
      "\t {A: u5127}\n",
      "\t {B: m1259}\n",
      "\t {B: m2987}\n",
      "\t {A: u3539}\n"
     ]
    }
   ],
   "source": [
    "from andante.solver import AndanteSolver\n",
    "from andante.parser import Parser\n",
    "parser = Parser()\n",
    "solver = AndanteSolver()\n",
    "knowledge = parser.parse(text, rule='background')\n",
    "q = parser.parse(\"recommend(A,B).\", \n",
    "                 rule=\"query\")\n",
    "\n",
    "# Using method succeeds_on\n",
    "success = solver.succeeds_on(q, apmovies.knowledge)\n",
    "if success:\n",
    "    print(\"The query succeeded\")\n",
    "else:\n",
    "    print(\"The query failed\")\n",
    "    \n",
    "# Using method query\n",
    "print(\"The solutions for the query are:\")\n",
    "for solution in solver.query(q, apmovies.knowledge):\n",
    "    print('\\t', solution)"
   ]
  },
  {
   "cell_type": "code",
   "execution_count": 35,
   "metadata": {},
   "outputs": [
    {
     "name": "stdout",
     "output_type": "stream",
     "text": [
      "AndanteProgram saved to saved_andante_program.pkl\n",
      "Results from loaded program:\n",
      "Knowledge object (class: TreeShapedKnowledge)\n",
      "Clauses:\n",
      "   recommend(A, B) :- b45to49(A).\n",
      "   recommend(A, B) :- b18to24(A), drama(B).\n",
      "   recommend(A, B) :- crime(B).\n",
      "   recommend(A, B) :- horror(B).\n",
      "   recommend(A, B) :- b25to34(A), f(A).\n",
      "   recommend(A, B) :- adventure(B).\n",
      "Query successful. Substitutions found:\n",
      "          0      1      2      3      4      5      6      7      8      9   \\\n",
      "User   u1433  u1433  u1433  u1433  u1433  u1433  u4411  u4411  u4411  u4411   \n",
      "Movie  m1619   m337  m1960    m17   m924  m1178  m1619   m337  m1960    m17   \n",
      "\n",
      "       ...     38     39     40     41   42     43     44     45     46     47  \n",
      "User   ...  u1778  u1778  u1778  u1778  m47  m1348  u5127  m1259  m2987  u3539  \n",
      "Movie  ...  m1960    m17   m924  m1178  m47  m1348  u5127  m1259  m2987  u3539  \n",
      "\n",
      "[2 rows x 48 columns]\n"
     ]
    }
   ],
   "source": [
    "# 1. Save the AndanteProgram instance\n",
    "apmovies.results = H\n",
    "apmovies.save(\"saved_andante_program.pkl\")\n",
    "\n",
    "# 2. Load the AndanteProgram instance\n",
    "loaded_apmovies = AndanteProgram.load(\"saved_andante_program.pkl\")\n",
    "\n",
    "# 3. Access attributes such as `results`\n",
    "print(\"Results from loaded program:\")\n",
    "print(loaded_apmovies.results)\n",
    "# 4. Use the `query` method on the loaded program\n",
    "success, substitutions = loaded_apmovies.query(\"recommend(User, Movie).\")\n",
    "\n",
    "# 5. Display the query results\n",
    "if success:\n",
    "    print(\"Query successful. Substitutions found:\")\n",
    "    print(substitutions)\n",
    "else:\n",
    "    print(\"Query failed. No substitutions found.\")"
   ]
  },
  {
   "cell_type": "code",
   "execution_count": 6,
   "metadata": {},
   "outputs": [
    {
     "data": {
      "text/plain": [
       "(True,\n",
       "       0      1      2      3      4      5      6      7      8      9   ...  \\\n",
       " B  u1433  u1433  u1433  u1433  u1433  u1433  u4411  u4411  u4411  u4411  ...   \n",
       " A  m1619   m337  m1960    m17   m924  m1178  m1619   m337  m1960    m17  ...   \n",
       " \n",
       "       38     39     40     41   42     43     44     45     46     47  \n",
       " B  u1778  u1778  u1778  u1778  m47  m1348  u5127  m1259  m2987  u3539  \n",
       " A  m1960    m17   m924  m1178  m47  m1348  u5127  m1259  m2987  u3539  \n",
       " \n",
       " [2 rows x 48 columns])"
      ]
     },
     "execution_count": 6,
     "metadata": {},
     "output_type": "execute_result"
    }
   ],
   "source": [
    "apmovies.query(\"recommend(A,B).\")"
   ]
  },
  {
   "cell_type": "code",
   "execution_count": 32,
   "metadata": {},
   "outputs": [
    {
     "data": {
      "text/plain": [
       "(True,\n",
       "      0      1      2      3\n",
       " B  m47  m1259  m2987  m1348)"
      ]
     },
     "execution_count": 32,
     "metadata": {},
     "output_type": "execute_result"
    }
   ],
   "source": [
    "apmovies.query(\"recommend(u777,B).\")"
   ]
  },
  {
   "cell_type": "code",
   "execution_count": 4,
   "metadata": {},
   "outputs": [
    {
     "name": "stdout",
     "output_type": "stream",
     "text": [
      "Recommendations:\n",
      "         0      1      2      3\n",
      "Movie  m47  m1259  m2987  m1348\n",
      "Explanation: Matched rule(s) for result 0: recommend(A, B) :- b45to49(A). with substitutions: Movie=m47, recommend(A, B) :- b18to24(A), drama(B). with substitutions: Movie=m47, recommend(A, B) :- crime(B). with substitutions: Movie=m47, recommend(A, B) :- horror(B). with substitutions: Movie=m47, recommend(A, B) :- b25to34(A), f(A). with substitutions: Movie=m47, recommend(A, B) :- adventure(B). with substitutions: Movie=m47\n",
      "Matched rule(s) for result 1: recommend(A, B) :- b45to49(A). with substitutions: Movie=m1259, recommend(A, B) :- b18to24(A), drama(B). with substitutions: Movie=m1259, recommend(A, B) :- crime(B). with substitutions: Movie=m1259, recommend(A, B) :- horror(B). with substitutions: Movie=m1259, recommend(A, B) :- b25to34(A), f(A). with substitutions: Movie=m1259, recommend(A, B) :- adventure(B). with substitutions: Movie=m1259\n",
      "Matched rule(s) for result 2: recommend(A, B) :- b45to49(A). with substitutions: Movie=m2987, recommend(A, B) :- b18to24(A), drama(B). with substitutions: Movie=m2987, recommend(A, B) :- crime(B). with substitutions: Movie=m2987, recommend(A, B) :- horror(B). with substitutions: Movie=m2987, recommend(A, B) :- b25to34(A), f(A). with substitutions: Movie=m2987, recommend(A, B) :- adventure(B). with substitutions: Movie=m2987\n",
      "Matched rule(s) for result 3: recommend(A, B) :- b45to49(A). with substitutions: Movie=m1348, recommend(A, B) :- b18to24(A), drama(B). with substitutions: Movie=m1348, recommend(A, B) :- crime(B). with substitutions: Movie=m1348, recommend(A, B) :- horror(B). with substitutions: Movie=m1348, recommend(A, B) :- b25to34(A), f(A). with substitutions: Movie=m1348, recommend(A, B) :- adventure(B). with substitutions: Movie=m1348\n"
     ]
    }
   ],
   "source": [
    "success, recommendations, explanation = apmovies.query_explain(f\"recommend(u777, Movie).\")\n",
    "\n",
    "if success:\n",
    "    print(\"Recommendations:\")\n",
    "    print(recommendations)\n",
    "    print(\"Explanation:\", explanation)\n",
    "else:\n",
    "    print(\"No recommendations found.\")"
   ]
  },
  {
   "cell_type": "code",
   "execution_count": 22,
   "metadata": {},
   "outputs": [],
   "source": [
    "def add_user_profile(self, user_profile_text):\n",
    "    \"\"\"Add a user profile to the AndanteProgram.\n",
    "    \n",
    "    Parameters\n",
    "    ----------\n",
    "    user_profile_text : str\n",
    "        User profile in Prolog-style text format to be added to the knowledge base.\n",
    "    \"\"\"\n",
    "    # Parse and add the user profile\n",
    "    try:\n",
    "        new_user_profile = self.parser.parse(user_profile_text, rule='background')\n",
    "        self.knowledge.add(new_user_profile)\n",
    "        print(\"User profile added successfully.\")\n",
    "    except Exception as e:\n",
    "        print(f\"Error parsing user profile: {e}\")"
   ]
  },
  {
   "cell_type": "code",
   "execution_count": 23,
   "metadata": {},
   "outputs": [],
   "source": [
    "# Example user profile in Prolog-style\n",
    "user_profile = \"\"\"\n",
    ":- begin_bg.\n",
    "    user(u777).\n",
    "    b25to34(u777).\n",
    "    m(u777).\n",
    "    movie(m777).\n",
    "    action(m777).\n",
    "    rating(u777, m777, 4).\n",
    ":- end_bg.\n",
    "\"\"\"\n",
    "\n",
    "# Add the user profile to the Andante program\n",
    "#add_user_profile(user_profile)\n"
   ]
  },
  {
   "cell_type": "code",
   "execution_count": 4,
   "metadata": {},
   "outputs": [
    {
     "name": "stdout",
     "output_type": "stream",
     "text": [
      "Background knowledge being added:\n",
      " \n",
      ":- begin_bg.\n",
      "    user(u777).\n",
      "    b25to34(u777).\n",
      "    m(u777).\n",
      "    movie(m777).\n",
      "    action(m777).\n",
      "    rating(4).\n",
      ":- end_bg.\n",
      "\n",
      "Processing iterable element: user(u777).\n",
      "Processing iterable element: b25to34(u777).\n",
      "Processing iterable element: m(u777).\n",
      "Processing iterable element: movie(m777).\n",
      "Processing iterable element: action(m777).\n",
      "Processing iterable element: rating(4).\n",
      "Background knowledge added successfully.\n",
      "Background knowledge being added:\n",
      " user(u777)\n",
      "Error parsing background knowledge: Failed to parse rule <background = ':-' __ 'begin_bg' __ '.' __ (hornclause __)+ __ ':-' __ 'end_bg' __ '.'> (, line 1)\n",
      "Background knowledge being added:\n",
      " b25to34(u777)\n",
      "Error parsing background knowledge: Failed to parse rule <background = ':-' __ 'begin_bg' __ '.' __ (hornclause __)+ __ ':-' __ 'end_bg' __ '.'> (, line 1)\n",
      "Background knowledge being added:\n",
      " f(u777)\n",
      "Error parsing background knowledge: Failed to parse rule <background = ':-' __ 'begin_bg' __ '.' __ (hornclause __)+ __ ':-' __ 'end_bg' __ '.'> (, line 1)\n",
      "Background knowledge being added:\n",
      " movie(m777)\n",
      "Error parsing background knowledge: Failed to parse rule <background = ':-' __ 'begin_bg' __ '.' __ (hornclause __)+ __ ':-' __ 'end_bg' __ '.'> (, line 1)\n",
      "Background knowledge being added:\n",
      " action(m777)\n",
      "Error parsing background knowledge: Failed to parse rule <background = ':-' __ 'begin_bg' __ '.' __ (hornclause __)+ __ ':-' __ 'end_bg' __ '.'> (, line 1)\n",
      "Background knowledge being added:\n",
      " rating(u777, m777, 4)\n",
      "Error parsing background knowledge: Failed to parse rule <background = ':-' __ 'begin_bg' __ '.' __ (hornclause __)+ __ ':-' __ 'end_bg' __ '.'> (, line 1)\n",
      "Recommendation(s) found:\n",
      "         0      1      2      3\n",
      "Movie  m47  m1259  m2987  m1348\n",
      "Explanation: Matched rule(s): recommend(A, B) :- b45to49(A)., recommend(A, B) :- b18to24(A), drama(B)., recommend(A, B) :- crime(B)., recommend(A, B) :- horror(B)., recommend(A, B) :- b25to34(A), f(A)., recommend(A, B) :- adventure(B).\n"
     ]
    }
   ],
   "source": [
    "# Define the Progol-style data (background knowledge) for the user and movie\n",
    "progol_data = \"\"\"\n",
    "user(u777).\n",
    "b25to34(u777).\n",
    "m(u777).\n",
    "movie(m777).\n",
    "action(m777).\n",
    "rating(u777, m777, 4).\n",
    "\"\"\"\n",
    "\n",
    "# Assume you have an existing AndanteProgram instance, `loaded_apmovies`\n",
    "# Add the new facts (Progol-style) to the existing background knowledge\n",
    "apmovies.add_background_knowledge_from_text(user_profile)\n",
    "\n",
    "# Define the query: we want to recommend movies for user \"u777\"\n",
    "query_string = f\"recommend(u777, Movie).\"\n",
    "#f\"recommend({new_user}, X).\" \n",
    "# Optionally, add more facts dynamically, or skip this if `progol_data` already contains everything\n",
    "new_facts = [\n",
    "    \"user(u777)\",\n",
    "    \"b25to34(u777)\",\n",
    "    \"f(u777)\",\n",
    "    \"movie(m777)\",\n",
    "    \"action(m777)\",\n",
    "    \"rating(u777, m777, 4)\"\n",
    "]\n",
    "\n",
    "# Query the system for recommendations using `query_with_explanation`\n",
    "success, substitutions, explanation = loaded_apmovies.query_with_explanation(\n",
    "    query_string,      # The query asking for recommendations\n",
    "    new_facts=new_facts,  # Optional: dynamically add more facts\n",
    "    induce_new_rules=True # Trigger induction of new rules based on the current knowledge\n",
    ")\n",
    "\n",
    "# Output the result\n",
    "if success:\n",
    "    print(\"Recommendation(s) found:\")\n",
    "    print(substitutions)\n",
    "    print(\"Explanation:\", explanation)\n",
    "else:\n",
    "    print(\"No recommendation could be made.\")\n"
   ]
  },
  {
   "cell_type": "code",
   "execution_count": 52,
   "metadata": {},
   "outputs": [
    {
     "data": {
      "text/plain": [
       "Knowledge object (class: TreeShapedKnowledge)\n",
       "Clauses:\n",
       "   recommend(A, B) :- b45to49(A).\n",
       "   recommend(A, B) :- b18to24(A), drama(B).\n",
       "   recommend(A, B) :- crime(B).\n",
       "   recommend(A, B) :- horror(B).\n",
       "   recommend(A, B) :- b25to34(A), f(A).\n",
       "   recommend(A, B) :- adventure(B)."
      ]
     },
     "execution_count": 52,
     "metadata": {},
     "output_type": "execute_result"
    }
   ],
   "source": [
    "loaded_apmovies.results"
   ]
  },
  {
   "cell_type": "code",
   "execution_count": 8,
   "metadata": {},
   "outputs": [
    {
     "name": "stdout",
     "output_type": "stream",
     "text": [
      "Background knowledge being added:\n",
      " \n",
      ":- begin_bg.\n",
      "    user(u777).\n",
      "    b25to34(u777).\n",
      "    f(u777).\n",
      "    movie(m777).\n",
      "    action(m777).\n",
      "    rating(4).\n",
      ":- end_bg.\n",
      "\n",
      "Processing iterable element: user(u777).\n",
      "Processing iterable element: b25to34(u777).\n",
      "Processing iterable element: f(u777).\n",
      "Processing iterable element: movie(m777).\n",
      "Processing iterable element: action(m777).\n",
      "Processing iterable element: rating(4).\n",
      "Background knowledge added successfully.\n",
      "Recommendation(s) found:\n",
      "         0      1      2      3\n",
      "Movie  m47  m1259  m2987  m1348\n",
      "Explanation: Matched rule(s): recommend(A, B) :- b45to49(A)., recommend(A, B) :- b18to24(A), drama(B)., recommend(A, B) :- crime(B)., recommend(A, B) :- horror(B)., recommend(A, B) :- b25to34(A), f(A)., recommend(A, B) :- adventure(B).\n"
     ]
    }
   ],
   "source": [
    "# Define the Progol-style data (background knowledge) for the user and movie\n",
    "user_profile = \"\"\"\n",
    ":- begin_bg.\n",
    "    user(u777).\n",
    "    b25to34(u777).\n",
    "    f(u777).\n",
    "    movie(m777).\n",
    "    action(m777).\n",
    "    rating(4).\n",
    ":- end_bg.\n",
    "\"\"\"\n",
    "\n",
    "# Add the user profile as background knowledge\n",
    "loaded_apmovies.add_background_knowledge_from_text(user_profile)\n",
    "\n",
    "# Define the query: we want to recommend movies for user \"u777\"\n",
    "query_string = \"recommend(u777, Movie).\"\n",
    "\n",
    "# Ensure no new rules are induced, just querying the already induced ones\n",
    "apmovies.query(\"recommend(u777, Movie).\")\n",
    "\n",
    "\n",
    "# Output the result\n",
    "if success:\n",
    "    print(\"Recommendation(s) found:\")\n",
    "    print(substitutions)\n",
    "    print(\"Explanation:\", explanation)\n",
    "else:\n",
    "    print(\"No recommendation could be made.\")\n"
   ]
  },
  {
   "cell_type": "markdown",
   "metadata": {},
   "source": []
  },
  {
   "cell_type": "code",
   "execution_count": null,
   "metadata": {},
   "outputs": [],
   "source": []
  }
 ],
 "metadata": {
  "kernelspec": {
   "display_name": "Python 3",
   "language": "python",
   "name": "python3"
  },
  "language_info": {
   "codemirror_mode": {
    "name": "ipython",
    "version": 3
   },
   "file_extension": ".py",
   "mimetype": "text/x-python",
   "name": "python",
   "nbconvert_exporter": "python",
   "pygments_lexer": "ipython3",
   "version": "3.12.5"
  }
 },
 "nbformat": 4,
 "nbformat_minor": 2
}
