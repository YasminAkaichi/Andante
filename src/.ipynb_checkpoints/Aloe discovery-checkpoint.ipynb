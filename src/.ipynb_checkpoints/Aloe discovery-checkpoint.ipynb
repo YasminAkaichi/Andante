{
 "cells": [
  {
   "cell_type": "markdown",
   "metadata": {},
   "source": [
    "# 0. Imports"
   ]
  },
  {
   "cell_type": "code",
   "execution_count": 4,
   "metadata": {},
   "outputs": [
    {
     "name": "stdout",
     "output_type": "stream",
     "text": [
      "Requirement already satisfied: parsimonious in c:\\users\\simon\\anaconda3\\lib\\site-packages (0.8.1)\n",
      "Requirement already satisfied: six>=1.9.0 in c:\\users\\simon\\anaconda3\\lib\\site-packages (from parsimonious) (1.16.0)\n"
     ]
    }
   ],
   "source": [
    "!pip install parsimonious\n",
    "\n",
    "from aloe.parser  import AloeParser\n",
    "from aloe.program import AloeProgram"
   ]
  },
  {
   "cell_type": "markdown",
   "metadata": {},
   "source": [
    "# 1. Parsing"
   ]
  },
  {
   "cell_type": "code",
   "execution_count": 10,
   "metadata": {},
   "outputs": [
    {
     "name": "stdout",
     "output_type": "stream",
     "text": [
      "set(verbose,0).\n",
      "\n",
      "modeh(1,echec_cours(+personne)).\n",
      "modeb(1,echec_pre(+personne)).\n",
      "\n",
      "determination(echec_cours/1,echec_pre/1).\n",
      "    \n",
      "% BACKGROUND    \n",
      ":- begin_bg.\n",
      "\n",
      "personne(anne).\n",
      "personne(marie).\n",
      "personne(jean).\n",
      "personne(jacques).\n",
      "\n",
      "echec_pre(jean).\n",
      "echec_pre(jacques).\n",
      "\n",
      "    \n",
      ":- end_bg.    \n",
      "\n",
      "    \n",
      "% POSITIVE EXAMPLES\n",
      ":- begin_in_pos.\n",
      "\n",
      "echec_cours(jean).\n",
      "echec_cours(jacques).  \n",
      "\n",
      "   \n",
      ":- end_in_pos.\n",
      "\n",
      "    \n",
      "\n",
      "% NEGATIVE EXAMPLES\n",
      ":- begin_in_neg.\n",
      "\n",
      "echec_cours(anne).\n",
      "echec_cours(marie).\n",
      "    \n",
      ":- end_in_neg.    \n",
      "\n"
     ]
    }
   ],
   "source": [
    "with open(\"aloe/Examples/toparse.pl\", 'r') as file:\n",
    "    print(file.read())"
   ]
  },
  {
   "cell_type": "code",
   "execution_count": 11,
   "metadata": {},
   "outputs": [
    {
     "name": "stdout",
     "output_type": "stream",
     "text": [
      "Background:\n",
      "personne('anne').\n",
      "personne('marie').\n",
      "personne('jean').\n",
      "personne('jacques').\n",
      "echec_pre('jean').\n",
      "echec_pre('jacques').\n",
      "\n",
      "Examples:\n",
      "Positive:\n",
      "echec_cours('jean').\n",
      "echec_cours('jacques').\n",
      "Negative:\n",
      "echec_cours('anne').\n",
      "echec_cours('marie').\n",
      "\n",
      "Modes:\n",
      "modeh: {'echec_cours/1': modeh(1,echec_cours(+personne)).}\n",
      "modeb: {'echec_pre/1': modeb(1,echec_pre(+personne)).}\n",
      "determinations: {'echec_cours/1': {'echec_pre/1'}}\n",
      "\n",
      "options:\n",
      "verbose: 0\n",
      "c: 2\n",
      "h: 30\n",
      "solver: AloeSolver\n"
     ]
    }
   ],
   "source": [
    "parser = AloeParser()\n",
    "P = parser.parse_file(\"aloe/Examples/toparse.pl\")\n",
    "print(P)"
   ]
  },
  {
   "cell_type": "markdown",
   "metadata": {},
   "source": [
    "# 2. Deducing"
   ]
  },
  {
   "cell_type": "markdown",
   "metadata": {},
   "source": [
    "## Echec example"
   ]
  },
  {
   "cell_type": "code",
   "execution_count": 12,
   "metadata": {},
   "outputs": [
    {
     "data": {
      "text/plain": [
       "[(personne(X).,\n",
       "  True,\n",
       "  [{X: 'marie'}, {X: 'anne'}, {X: 'jacques'}, {X: 'jean'}])]"
      ]
     },
     "execution_count": 12,
     "metadata": {},
     "output_type": "execute_result"
    }
   ],
   "source": [
    "# P.set('verbose',1)\n",
    "P.query(\"personne(X).\")"
   ]
  },
  {
   "cell_type": "markdown",
   "metadata": {},
   "source": [
    "## Animal example"
   ]
  },
  {
   "cell_type": "code",
   "execution_count": 13,
   "metadata": {},
   "outputs": [
    {
     "data": {
      "text/plain": [
       "[(mortel(X).,\n",
       "  True,\n",
       "  [{V0: X, V1: X, X: 'truite'},\n",
       "   {V0: X, V1: X, X: 'saumon'},\n",
       "   {V0: X, V1: X, X: 'rhino'},\n",
       "   {V0: X, V1: X, X: 'human'}])]"
      ]
     },
     "execution_count": 13,
     "metadata": {},
     "output_type": "execute_result"
    }
   ],
   "source": [
    "bckg = \"\"\":-begin_bg.\n",
    "\n",
    "animal(X) :- mammal(X).\n",
    "animal(X) :- fish(X).\n",
    "\n",
    "fish(truite).\n",
    "fish(saumon).\n",
    "\n",
    "mammal(rhino).\n",
    "mammal(human).\n",
    "\n",
    "mortel(X) :- animal(X).\n",
    "\n",
    ":-end_bg.\"\"\"\n",
    "\n",
    "ap = AloeProgram.build_from_text(bckg)\n",
    "#ap.set('verbose',1)\n",
    "ap.query('mortel(X).')"
   ]
  },
  {
   "cell_type": "markdown",
   "metadata": {},
   "source": [
    "## Substract example"
   ]
  },
  {
   "cell_type": "code",
   "execution_count": 14,
   "metadata": {},
   "outputs": [
    {
     "name": "stdout",
     "output_type": "stream",
     "text": [
      "0\n",
      "Atom sub(2,1,0)\n",
      "Match {sub(X,Y,Z):-dec(X,A),dec(Y,B),sub(A,B,Z).}\n",
      "Clause sub(V0,V1,V2):-dec(V0,V3),dec(V1,V4),sub(V3,V4,V2).\n",
      "Subst {V0: 2, V1: 1, V2: 0}\n",
      "Atoms [sub(V3,V4,0), dec(1,V4), dec(2,V3)]\n",
      "1\n",
      "Atom dec(2,V3)\n",
      "Match {dec(2,1).}\n",
      "Clause dec(2,1).\n",
      "Subst {V3: 1}\n",
      "Atoms [sub(V3,V4,0), dec(1,V4)]\n",
      "2\n",
      "Atom dec(1,V4)\n",
      "Match {dec(1,0).}\n",
      "Clause dec(1,0).\n",
      "Subst {V4: 0}\n",
      "Atoms [sub(V3,V4,0)]\n",
      "3\n",
      "Atom sub(1,0,0)\n",
      "Match {sub(X,0,X)., sub(X,Y,Z):-dec(X,A),dec(Y,B),sub(A,B,Z).}\n",
      "Clause sub(V5,0,V5).\n",
      "Subst None\n",
      "4\n",
      "Atom sub(1,0,0)\n",
      "Clause sub(V5,V6,V7):-dec(V5,V8),dec(V6,V9),sub(V8,V9,V7).\n",
      "Subst {V5: 1, V6: 0, V7: 0}\n",
      "Atoms [sub(V8,V9,0), dec(0,V9), dec(1,V8)]\n",
      "5\n",
      "Atom dec(1,V8)\n",
      "Match {dec(1,0).}\n",
      "Clause dec(1,0).\n",
      "Subst {V8: 0}\n",
      "Atoms [sub(V8,V9,0), dec(0,V9)]\n",
      "6\n",
      "Atom dec(0,V9)\n"
     ]
    },
    {
     "data": {
      "text/plain": [
       "[(sub(2,1,0)., False, [])]"
      ]
     },
     "execution_count": 14,
     "metadata": {},
     "output_type": "execute_result"
    }
   ],
   "source": [
    "bckg = \"\"\":-begin_bg.\n",
    "\n",
    "dec(2,1).\n",
    "dec(1,0).\n",
    "\n",
    "sub(X,0,X).\n",
    "sub(X,Y,Z):- dec(X,A), dec(Y,B), sub(A,B,Z).\n",
    "\n",
    ":-end_bg.\"\"\"\n",
    "\n",
    "ap = AloeProgram.build_from_text(bckg)\n",
    "ap.set('verbose',1)\n",
    "ap.query('sub(2, 1, 0).')"
   ]
  },
  {
   "cell_type": "code",
   "execution_count": null,
   "metadata": {},
   "outputs": [],
   "source": []
  }
 ],
 "metadata": {
  "kernelspec": {
   "display_name": "Python 3 (ipykernel)",
   "language": "python",
   "name": "python3"
  },
  "language_info": {
   "codemirror_mode": {
    "name": "ipython",
    "version": 3
   },
   "file_extension": ".py",
   "mimetype": "text/x-python",
   "name": "python",
   "nbconvert_exporter": "python",
   "pygments_lexer": "ipython3",
   "version": "3.9.7"
  }
 },
 "nbformat": 4,
 "nbformat_minor": 4
}
