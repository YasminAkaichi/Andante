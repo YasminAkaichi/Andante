{
 "cells": [
  {
   "cell_type": "markdown",
   "id": "c1e61e10",
   "metadata": {},
   "source": [
    "# Requirements for this notebook\n",
    "\n",
    "Note: You may need to restart jupyter notebook after installation of the ipywidgets package"
   ]
  },
  {
   "cell_type": "code",
   "execution_count": 7,
   "id": "444a77ca",
   "metadata": {},
   "outputs": [
    {
     "name": "stdout",
     "output_type": "stream",
     "text": [
      "Requirement already satisfied: parsimonious==0.8.1 in c:\\users\\simon\\anaconda3\\lib\\site-packages (0.8.1)\n",
      "Requirement already satisfied: six>=1.9.0 in c:\\users\\simon\\anaconda3\\lib\\site-packages (from parsimonious==0.8.1) (1.16.0)\n",
      "Requirement already satisfied: dataclasses==0.6 in c:\\users\\simon\\anaconda3\\lib\\site-packages (0.6)\n",
      "Requirement already satisfied: ipywidgets==7.6.5 in c:\\users\\simon\\anaconda3\\lib\\site-packages (7.6.5)\n",
      "Requirement already satisfied: jupyterlab-widgets>=1.0.0 in c:\\users\\simon\\anaconda3\\lib\\site-packages (from ipywidgets==7.6.5) (1.0.0)\n",
      "Requirement already satisfied: ipython>=4.0.0 in c:\\users\\simon\\anaconda3\\lib\\site-packages (from ipywidgets==7.6.5) (7.29.0)\n",
      "Requirement already satisfied: widgetsnbextension~=3.5.0 in c:\\users\\simon\\anaconda3\\lib\\site-packages (from ipywidgets==7.6.5) (3.5.1)\n",
      "Requirement already satisfied: ipykernel>=4.5.1 in c:\\users\\simon\\anaconda3\\lib\\site-packages (from ipywidgets==7.6.5) (6.4.1)\n",
      "Requirement already satisfied: ipython-genutils~=0.2.0 in c:\\users\\simon\\anaconda3\\lib\\site-packages (from ipywidgets==7.6.5) (0.2.0)\n",
      "Requirement already satisfied: traitlets>=4.3.1 in c:\\users\\simon\\anaconda3\\lib\\site-packages (from ipywidgets==7.6.5) (5.1.0)\n",
      "Requirement already satisfied: nbformat>=4.2.0 in c:\\users\\simon\\anaconda3\\lib\\site-packages (from ipywidgets==7.6.5) (5.1.3)\n",
      "Requirement already satisfied: matplotlib-inline<0.2.0,>=0.1.0 in c:\\users\\simon\\anaconda3\\lib\\site-packages (from ipykernel>=4.5.1->ipywidgets==7.6.5) (0.1.2)\n",
      "Requirement already satisfied: jupyter-client<8.0 in c:\\users\\simon\\anaconda3\\lib\\site-packages (from ipykernel>=4.5.1->ipywidgets==7.6.5) (6.1.12)\n",
      "Requirement already satisfied: debugpy<2.0,>=1.0.0 in c:\\users\\simon\\anaconda3\\lib\\site-packages (from ipykernel>=4.5.1->ipywidgets==7.6.5) (1.4.1)\n",
      "Requirement already satisfied: tornado<7.0,>=4.2 in c:\\users\\simon\\anaconda3\\lib\\site-packages (from ipykernel>=4.5.1->ipywidgets==7.6.5) (6.1)\n",
      "Requirement already satisfied: pickleshare in c:\\users\\simon\\anaconda3\\lib\\site-packages (from ipython>=4.0.0->ipywidgets==7.6.5) (0.7.5)\n",
      "Requirement already satisfied: colorama in c:\\users\\simon\\anaconda3\\lib\\site-packages (from ipython>=4.0.0->ipywidgets==7.6.5) (0.4.4)\n",
      "Requirement already satisfied: setuptools>=18.5 in c:\\users\\simon\\anaconda3\\lib\\site-packages (from ipython>=4.0.0->ipywidgets==7.6.5) (58.0.4)\n",
      "Requirement already satisfied: pygments in c:\\users\\simon\\anaconda3\\lib\\site-packages (from ipython>=4.0.0->ipywidgets==7.6.5) (2.10.0)\n",
      "Requirement already satisfied: decorator in c:\\users\\simon\\anaconda3\\lib\\site-packages (from ipython>=4.0.0->ipywidgets==7.6.5) (5.1.0)\n",
      "Requirement already satisfied: jedi>=0.16 in c:\\users\\simon\\anaconda3\\lib\\site-packages (from ipython>=4.0.0->ipywidgets==7.6.5) (0.18.0)\n",
      "Requirement already satisfied: backcall in c:\\users\\simon\\anaconda3\\lib\\site-packages (from ipython>=4.0.0->ipywidgets==7.6.5) (0.2.0)\n",
      "Requirement already satisfied: prompt-toolkit!=3.0.0,!=3.0.1,<3.1.0,>=2.0.0 in c:\\users\\simon\\anaconda3\\lib\\site-packages (from ipython>=4.0.0->ipywidgets==7.6.5) (3.0.20)\n",
      "Requirement already satisfied: parso<0.9.0,>=0.8.0 in c:\\users\\simon\\anaconda3\\lib\\site-packages (from jedi>=0.16->ipython>=4.0.0->ipywidgets==7.6.5) (0.8.2)\n",
      "Requirement already satisfied: pyzmq>=13 in c:\\users\\simon\\anaconda3\\lib\\site-packages (from jupyter-client<8.0->ipykernel>=4.5.1->ipywidgets==7.6.5) (22.2.1)\n",
      "Requirement already satisfied: python-dateutil>=2.1 in c:\\users\\simon\\anaconda3\\lib\\site-packages (from jupyter-client<8.0->ipykernel>=4.5.1->ipywidgets==7.6.5) (2.8.2)\n",
      "Requirement already satisfied: jupyter-core>=4.6.0 in c:\\users\\simon\\anaconda3\\lib\\site-packages (from jupyter-client<8.0->ipykernel>=4.5.1->ipywidgets==7.6.5) (4.8.1)\n",
      "Requirement already satisfied: pywin32>=1.0 in c:\\users\\simon\\anaconda3\\lib\\site-packages (from jupyter-core>=4.6.0->jupyter-client<8.0->ipykernel>=4.5.1->ipywidgets==7.6.5) (228)\n",
      "Requirement already satisfied: jsonschema!=2.5.0,>=2.4 in c:\\users\\simon\\anaconda3\\lib\\site-packages (from nbformat>=4.2.0->ipywidgets==7.6.5) (3.2.0)\n",
      "Requirement already satisfied: six>=1.11.0 in c:\\users\\simon\\anaconda3\\lib\\site-packages (from jsonschema!=2.5.0,>=2.4->nbformat>=4.2.0->ipywidgets==7.6.5) (1.16.0)\n",
      "Requirement already satisfied: attrs>=17.4.0 in c:\\users\\simon\\anaconda3\\lib\\site-packages (from jsonschema!=2.5.0,>=2.4->nbformat>=4.2.0->ipywidgets==7.6.5) (21.2.0)\n",
      "Requirement already satisfied: pyrsistent>=0.14.0 in c:\\users\\simon\\anaconda3\\lib\\site-packages (from jsonschema!=2.5.0,>=2.4->nbformat>=4.2.0->ipywidgets==7.6.5) (0.18.0)\n",
      "Requirement already satisfied: wcwidth in c:\\users\\simon\\anaconda3\\lib\\site-packages (from prompt-toolkit!=3.0.0,!=3.0.1,<3.1.0,>=2.0.0->ipython>=4.0.0->ipywidgets==7.6.5) (0.2.5)\n",
      "Requirement already satisfied: notebook>=4.4.1 in c:\\users\\simon\\anaconda3\\lib\\site-packages (from widgetsnbextension~=3.5.0->ipywidgets==7.6.5) (6.4.5)\n",
      "Requirement already satisfied: prometheus-client in c:\\users\\simon\\anaconda3\\lib\\site-packages (from notebook>=4.4.1->widgetsnbextension~=3.5.0->ipywidgets==7.6.5) (0.11.0)\n",
      "Requirement already satisfied: jinja2 in c:\\users\\simon\\anaconda3\\lib\\site-packages (from notebook>=4.4.1->widgetsnbextension~=3.5.0->ipywidgets==7.6.5) (2.11.3)\n",
      "Requirement already satisfied: argon2-cffi in c:\\users\\simon\\anaconda3\\lib\\site-packages (from notebook>=4.4.1->widgetsnbextension~=3.5.0->ipywidgets==7.6.5) (20.1.0)\n",
      "Requirement already satisfied: terminado>=0.8.3 in c:\\users\\simon\\anaconda3\\lib\\site-packages (from notebook>=4.4.1->widgetsnbextension~=3.5.0->ipywidgets==7.6.5) (0.9.4)\n",
      "Requirement already satisfied: Send2Trash>=1.5.0 in c:\\users\\simon\\anaconda3\\lib\\site-packages (from notebook>=4.4.1->widgetsnbextension~=3.5.0->ipywidgets==7.6.5) (1.8.0)\n",
      "Requirement already satisfied: nbconvert in c:\\users\\simon\\anaconda3\\lib\\site-packages (from notebook>=4.4.1->widgetsnbextension~=3.5.0->ipywidgets==7.6.5) (6.1.0)\n",
      "Requirement already satisfied: pywinpty>=0.5 in c:\\users\\simon\\anaconda3\\lib\\site-packages (from terminado>=0.8.3->notebook>=4.4.1->widgetsnbextension~=3.5.0->ipywidgets==7.6.5) (0.5.7)\n",
      "Requirement already satisfied: cffi>=1.0.0 in c:\\users\\simon\\anaconda3\\lib\\site-packages (from argon2-cffi->notebook>=4.4.1->widgetsnbextension~=3.5.0->ipywidgets==7.6.5) (1.14.6)\n",
      "Requirement already satisfied: pycparser in c:\\users\\simon\\anaconda3\\lib\\site-packages (from cffi>=1.0.0->argon2-cffi->notebook>=4.4.1->widgetsnbextension~=3.5.0->ipywidgets==7.6.5) (2.20)\n",
      "Requirement already satisfied: MarkupSafe>=0.23 in c:\\users\\simon\\anaconda3\\lib\\site-packages (from jinja2->notebook>=4.4.1->widgetsnbextension~=3.5.0->ipywidgets==7.6.5) (1.1.1)\n",
      "Requirement already satisfied: jupyterlab-pygments in c:\\users\\simon\\anaconda3\\lib\\site-packages (from nbconvert->notebook>=4.4.1->widgetsnbextension~=3.5.0->ipywidgets==7.6.5) (0.1.2)\n",
      "Requirement already satisfied: bleach in c:\\users\\simon\\anaconda3\\lib\\site-packages (from nbconvert->notebook>=4.4.1->widgetsnbextension~=3.5.0->ipywidgets==7.6.5) (4.0.0)\n",
      "Requirement already satisfied: testpath in c:\\users\\simon\\anaconda3\\lib\\site-packages (from nbconvert->notebook>=4.4.1->widgetsnbextension~=3.5.0->ipywidgets==7.6.5) (0.5.0)\n",
      "Requirement already satisfied: mistune<2,>=0.8.1 in c:\\users\\simon\\anaconda3\\lib\\site-packages (from nbconvert->notebook>=4.4.1->widgetsnbextension~=3.5.0->ipywidgets==7.6.5) (0.8.4)\n",
      "Requirement already satisfied: defusedxml in c:\\users\\simon\\anaconda3\\lib\\site-packages (from nbconvert->notebook>=4.4.1->widgetsnbextension~=3.5.0->ipywidgets==7.6.5) (0.7.1)\n",
      "Requirement already satisfied: nbclient<0.6.0,>=0.5.0 in c:\\users\\simon\\anaconda3\\lib\\site-packages (from nbconvert->notebook>=4.4.1->widgetsnbextension~=3.5.0->ipywidgets==7.6.5) (0.5.3)\n",
      "Requirement already satisfied: entrypoints>=0.2.2 in c:\\users\\simon\\anaconda3\\lib\\site-packages (from nbconvert->notebook>=4.4.1->widgetsnbextension~=3.5.0->ipywidgets==7.6.5) (0.3)\n",
      "Requirement already satisfied: pandocfilters>=1.4.1 in c:\\users\\simon\\anaconda3\\lib\\site-packages (from nbconvert->notebook>=4.4.1->widgetsnbextension~=3.5.0->ipywidgets==7.6.5) (1.4.3)\n",
      "Requirement already satisfied: nest-asyncio in c:\\users\\simon\\anaconda3\\lib\\site-packages (from nbclient<0.6.0,>=0.5.0->nbconvert->notebook>=4.4.1->widgetsnbextension~=3.5.0->ipywidgets==7.6.5) (1.5.1)\n",
      "Requirement already satisfied: async-generator in c:\\users\\simon\\anaconda3\\lib\\site-packages (from nbclient<0.6.0,>=0.5.0->nbconvert->notebook>=4.4.1->widgetsnbextension~=3.5.0->ipywidgets==7.6.5) (1.10)\n",
      "Requirement already satisfied: webencodings in c:\\users\\simon\\anaconda3\\lib\\site-packages (from bleach->nbconvert->notebook>=4.4.1->widgetsnbextension~=3.5.0->ipywidgets==7.6.5) (0.5.1)\n",
      "Requirement already satisfied: packaging in c:\\users\\simon\\anaconda3\\lib\\site-packages (from bleach->nbconvert->notebook>=4.4.1->widgetsnbextension~=3.5.0->ipywidgets==7.6.5) (21.0)\n",
      "Requirement already satisfied: pyparsing>=2.0.2 in c:\\users\\simon\\anaconda3\\lib\\site-packages (from packaging->bleach->nbconvert->notebook>=4.4.1->widgetsnbextension~=3.5.0->ipywidgets==7.6.5) (3.0.4)\n"
     ]
    }
   ],
   "source": [
    "!pip install parsimonious==0.8.1\n",
    "!pip install dataclasses==0.6\n",
    "!pip install ipywidgets==7.6.5 "
   ]
  },
  {
   "cell_type": "markdown",
   "id": "da94ba35",
   "metadata": {},
   "source": [
    "# ILP visualization"
   ]
  },
  {
   "cell_type": "code",
   "execution_count": 4,
   "id": "c6296ac9",
   "metadata": {
    "scrolled": false
   },
   "outputs": [
    {
     "data": {
      "application/vnd.jupyter.widget-view+json": {
       "model_id": "ec9047941dc146a5b171e4ad73e5d5fb",
       "version_major": 2,
       "version_minor": 0
      },
      "text/plain": [
       "Tab(children=(VBox(children=(HBox(children=(Button(description='Save', layout=Layout(height='auto', width='100…"
      ]
     },
     "metadata": {},
     "output_type": "display_data"
    }
   ],
   "source": [
    "from aloe.program import AloeProgram\n",
    "from aloe.interface.andante_interface import AndateInterface\n",
    "\n",
    "ap = AloeProgram.build_from(\"aloe/Examples/family.pl\")\n",
    "t = \"\"\"\n",
    "modeh(*, old(+person)).\n",
    "determination(old/1, father/2).\n",
    "determination(old/1, mother/2).\n",
    "determination(old/1, parent/2).\n",
    "old(A) :- father(A,B).\n",
    "old(A) :- mother(A,B).\n",
    "\"\"\"\n",
    "E = ap.generate_examples(t)\n",
    "ai = AndateInterface(ap)\n",
    "ai.widget"
   ]
  },
  {
   "cell_type": "code",
   "execution_count": null,
   "id": "13c44f4b",
   "metadata": {},
   "outputs": [],
   "source": []
  }
 ],
 "metadata": {
  "kernelspec": {
   "display_name": "Python 3 (ipykernel)",
   "language": "python",
   "name": "python3"
  },
  "language_info": {
   "codemirror_mode": {
    "name": "ipython",
    "version": 3
   },
   "file_extension": ".py",
   "mimetype": "text/x-python",
   "name": "python",
   "nbconvert_exporter": "python",
   "pygments_lexer": "ipython3",
   "version": "3.9.7"
  }
 },
 "nbformat": 4,
 "nbformat_minor": 5
}
