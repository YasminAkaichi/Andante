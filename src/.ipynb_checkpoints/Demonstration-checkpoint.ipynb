{
 "cells": [
  {
   "cell_type": "markdown",
   "id": "8aca903b",
   "metadata": {},
   "source": [
    "# Introduction\n",
    "qmfqk"
   ]
  },
  {
   "cell_type": "code",
   "execution_count": 1,
   "id": "406ba76f",
   "metadata": {},
   "outputs": [],
   "source": [
    "import aloe"
   ]
  },
  {
   "cell_type": "markdown",
   "id": "19166525",
   "metadata": {},
   "source": [
    "## Background theory\n",
    "\n",
    "description"
   ]
  },
  {
   "cell_type": "code",
   "execution_count": 2,
   "id": "ff1d1d79",
   "metadata": {},
   "outputs": [],
   "source": [
    "bckg_th = '''\n",
    "...\n",
    "'''"
   ]
  },
  {
   "cell_type": "markdown",
   "id": "612f9471",
   "metadata": {},
   "source": [
    "## Positive examples\n",
    "ddqsf"
   ]
  },
  {
   "cell_type": "code",
   "execution_count": 3,
   "id": "7cacc091",
   "metadata": {},
   "outputs": [],
   "source": [
    "pos_ex = '''\n",
    "...\n",
    "'''"
   ]
  },
  {
   "cell_type": "markdown",
   "id": "e30256af",
   "metadata": {},
   "source": [
    "## Negative examples"
   ]
  },
  {
   "cell_type": "code",
   "execution_count": 4,
   "id": "6b76e29b",
   "metadata": {},
   "outputs": [],
   "source": [
    "neg_ex = '''\n",
    "...\n",
    "'''"
   ]
  },
  {
   "cell_type": "markdown",
   "id": "2babe5fc",
   "metadata": {},
   "source": [
    "## Learned theory"
   ]
  },
  {
   "cell_type": "code",
   "execution_count": 9,
   "id": "46c78a39",
   "metadata": {},
   "outputs": [
    {
     "data": {
      "text/plain": [
       "'qmdflkqmf'"
      ]
     },
     "execution_count": 9,
     "metadata": {},
     "output_type": "execute_result"
    }
   ],
   "source": [
    "th = { background = bckg_th, postive = pos_ex, ... }\n",
    "induce(th)\n",
    "q = '''    ... '''\n",
    "deduce(th,q)"
   ]
  },
  {
   "cell_type": "code",
   "execution_count": 5,
   "id": "4c204291",
   "metadata": {},
   "outputs": [
    {
     "data": {
      "text/plain": [
       "<function dir>"
      ]
     },
     "execution_count": 5,
     "metadata": {},
     "output_type": "execute_result"
    }
   ],
   "source": [
    "dir_ = {}"
   ]
  },
  {
   "cell_type": "code",
   "execution_count": 8,
   "id": "91e6c411",
   "metadata": {},
   "outputs": [],
   "source": [
    "def induce():\n",
    "    global x\n",
    "    return 'qmdflkqmf'"
   ]
  },
  {
   "cell_type": "code",
   "execution_count": 11,
   "id": "65cda8c2",
   "metadata": {},
   "outputs": [
    {
     "name": "stdout",
     "output_type": "stream",
     "text": [
      "2 3\n"
     ]
    }
   ],
   "source": [
    "def fun(a=None, b=None):\n",
    "    print(a,b)\n",
    "    \n",
    "fun(b=3, a=2)"
   ]
  },
  {
   "cell_type": "code",
   "execution_count": null,
   "id": "fa06d286",
   "metadata": {},
   "outputs": [],
   "source": []
  }
 ],
 "metadata": {
  "kernelspec": {
   "display_name": "Python 3 (ipykernel)",
   "language": "python",
   "name": "python3"
  },
  "language_info": {
   "codemirror_mode": {
    "name": "ipython",
    "version": 3
   },
   "file_extension": ".py",
   "mimetype": "text/x-python",
   "name": "python",
   "nbconvert_exporter": "python",
   "pygments_lexer": "ipython3",
   "version": "3.9.7"
  }
 },
 "nbformat": 4,
 "nbformat_minor": 5
}
