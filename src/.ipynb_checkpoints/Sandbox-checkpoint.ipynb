{
 "cells": [
  {
   "cell_type": "code",
   "execution_count": 9,
   "id": "8ae36672",
   "metadata": {},
   "outputs": [
    {
     "data": {
      "text/plain": [
       "False"
      ]
     },
     "execution_count": 9,
     "metadata": {},
     "output_type": "execute_result"
    }
   ],
   "source": [
    "1>=2"
   ]
  },
  {
   "cell_type": "code",
   "execution_count": 8,
   "id": "9b428d10",
   "metadata": {},
   "outputs": [
    {
     "ename": "IncompleteParseError",
     "evalue": "Rule 'statement' matched in its entirety, but it didn't consume all the text. The non-matching portion of the text begins with '=10' (line 1, column 3).",
     "output_type": "error",
     "traceback": [
      "\u001b[1;31m---------------------------------------------------------------------------\u001b[0m",
      "\u001b[1;31mIncompleteParseError\u001b[0m                      Traceback (most recent call last)",
      "\u001b[1;32m~\\AppData\\Local\\Temp/ipykernel_1608/1341599620.py\u001b[0m in \u001b[0;36m<module>\u001b[1;34m\u001b[0m\n\u001b[1;32m----> 1\u001b[1;33m \u001b[0map\u001b[0m\u001b[1;33m.\u001b[0m\u001b[0mparser\u001b[0m\u001b[1;33m.\u001b[0m\u001b[0mgrammar\u001b[0m\u001b[1;33m[\u001b[0m\u001b[1;34m'statement'\u001b[0m\u001b[1;33m]\u001b[0m\u001b[1;33m.\u001b[0m\u001b[0mparse\u001b[0m\u001b[1;33m(\u001b[0m\u001b[1;34m'B>=10'\u001b[0m\u001b[1;33m)\u001b[0m\u001b[1;33m\u001b[0m\u001b[1;33m\u001b[0m\u001b[0m\n\u001b[0m",
      "\u001b[1;32m~\\anaconda3\\lib\\site-packages\\parsimonious\\expressions.py\u001b[0m in \u001b[0;36mparse\u001b[1;34m(self, text, pos)\u001b[0m\n\u001b[0;32m    120\u001b[0m         \u001b[0mnode\u001b[0m \u001b[1;33m=\u001b[0m \u001b[0mself\u001b[0m\u001b[1;33m.\u001b[0m\u001b[0mmatch\u001b[0m\u001b[1;33m(\u001b[0m\u001b[0mtext\u001b[0m\u001b[1;33m,\u001b[0m \u001b[0mpos\u001b[0m\u001b[1;33m=\u001b[0m\u001b[0mpos\u001b[0m\u001b[1;33m)\u001b[0m\u001b[1;33m\u001b[0m\u001b[1;33m\u001b[0m\u001b[0m\n\u001b[0;32m    121\u001b[0m         \u001b[1;32mif\u001b[0m \u001b[0mnode\u001b[0m\u001b[1;33m.\u001b[0m\u001b[0mend\u001b[0m \u001b[1;33m<\u001b[0m \u001b[0mlen\u001b[0m\u001b[1;33m(\u001b[0m\u001b[0mtext\u001b[0m\u001b[1;33m)\u001b[0m\u001b[1;33m:\u001b[0m\u001b[1;33m\u001b[0m\u001b[1;33m\u001b[0m\u001b[0m\n\u001b[1;32m--> 122\u001b[1;33m             \u001b[1;32mraise\u001b[0m \u001b[0mIncompleteParseError\u001b[0m\u001b[1;33m(\u001b[0m\u001b[0mtext\u001b[0m\u001b[1;33m,\u001b[0m \u001b[0mnode\u001b[0m\u001b[1;33m.\u001b[0m\u001b[0mend\u001b[0m\u001b[1;33m,\u001b[0m \u001b[0mself\u001b[0m\u001b[1;33m)\u001b[0m\u001b[1;33m\u001b[0m\u001b[1;33m\u001b[0m\u001b[0m\n\u001b[0m\u001b[0;32m    123\u001b[0m         \u001b[1;32mreturn\u001b[0m \u001b[0mnode\u001b[0m\u001b[1;33m\u001b[0m\u001b[1;33m\u001b[0m\u001b[0m\n\u001b[0;32m    124\u001b[0m \u001b[1;33m\u001b[0m\u001b[0m\n",
      "\u001b[1;31mIncompleteParseError\u001b[0m: Rule 'statement' matched in its entirety, but it didn't consume all the text. The non-matching portion of the text begins with '=10' (line 1, column 3)."
     ]
    }
   ],
   "source": [
    "ap.parser.grammar['statement'].parse('B>=10')"
   ]
  },
  {
   "cell_type": "code",
   "execution_count": 1,
   "id": "31a113a4",
   "metadata": {},
   "outputs": [
    {
     "data": {
      "text/plain": [
       "(True,\n",
       " Empty DataFrame\n",
       " Columns: [0]\n",
       " Index: [])"
      ]
     },
     "execution_count": 1,
     "metadata": {},
     "output_type": "execute_result"
    }
   ],
   "source": [
    "from aloe.program import AloeProgram\n",
    "t = \"\"\"\n",
    "person(george). person(diego).\n",
    "points(george, 15). points(diego, 9).\n",
    "success(A) :- person(A), points(A, B), B>=10.\n",
    "\"\"\"\n",
    "ap = AloeProgram.build_from_background(t)\n",
    "ap.query('echec(george).')"
   ]
  },
  {
   "cell_type": "code",
   "execution_count": 7,
   "id": "ef816383",
   "metadata": {},
   "outputs": [
    {
     "data": {
      "text/plain": [
       "['A0', 'B', 'C']"
      ]
     },
     "execution_count": 7,
     "metadata": {},
     "output_type": "execute_result"
    }
   ],
   "source": [
    "import re\n",
    "regex = r'[A-Z]\\w*\\d*'\n",
    "t = 'A0 B C'\n",
    "var_names = re.findall(regex, t)\n"
   ]
  },
  {
   "cell_type": "code",
   "execution_count": null,
   "id": "0faabb6b",
   "metadata": {},
   "outputs": [],
   "source": [
    "re."
   ]
  },
  {
   "cell_type": "code",
   "execution_count": 154,
   "id": "43c71922",
   "metadata": {},
   "outputs": [],
   "source": [
    "from ipywidgets import Button, Dropdown, HBox, VBox, Label, Layout\n",
    "\n",
    "STANDARD_LAYOUT = {'height':'40px', 'width':'150px'}\n",
    "VBOX_LAYOUT = {'width':'160px'}\n",
    "class ExplorableWidget:\n",
    "    def __init__(self, data, parent=None):\n",
    "        self.parent=parent\n",
    "        self.data = data\n",
    "        self.children = []\n",
    "        if   isinstance(self.data, (list, set)):\n",
    "            self.build_widget_list()\n",
    "        elif isinstance(self.data, (dict)):\n",
    "            self.build_widget_dict()\n",
    "        else: # Default_build\n",
    "            self.build_widget_default()\n",
    "        box_layout = Layout(\n",
    "            overflow='scroll hidden',\n",
    "            flex_flow='row',\n",
    "            width='100%',\n",
    "            display='flex')\n",
    "        self.widget = HBox([self.main_widget], layout=box_layout)\n",
    "    \n",
    "    def update_children(self, children=[]):\n",
    "        children = children if children else self.children\n",
    "        self.children = children\n",
    "        if self.parent is None:\n",
    "            self.widget.children = [self.main_widget] + children\n",
    "        else:\n",
    "            self.parent.update_children([self.main_widget] + children)\n",
    "    \n",
    "    def explore(self, x):\n",
    "        ew = ExplorableWidget(x, self)\n",
    "        ew.update_children()\n",
    "    \n",
    "    def build_widget_default(self):\n",
    "        list_widgets = list()\n",
    "        for attr in self.data.__dir__():\n",
    "            if attr[:2]!='__':\n",
    "                widget = Button(\n",
    "                    description = attr,\n",
    "                    tooltip = '[%s] %s' % (getattr(self.data, attr).__class__.__name__, attr),\n",
    "                    layout = STANDARD_LAYOUT,\n",
    "                )\n",
    "                widget.on_click(lambda x: self.explore(getattr(self.data, x.description)))\n",
    "                list_widgets.append(widget)\n",
    "        title = Label(self.data.__class__.__name__, layout=STANDARD_LAYOUT)\n",
    "        self.main_widget = VBox(\n",
    "            [title] + list_widgets,\n",
    "            layout = VBOX_LAYOUT,\n",
    "        )\n",
    "        \n",
    "    def build_widget_list(self):\n",
    "        list_widgets = []\n",
    "        for x in self.data:\n",
    "            list_widgets.append(x)\n",
    "        \n",
    "        dd = Dropdown(options=list_widgets, layout=STANDARD_LAYOUT)\n",
    "        dd.observe(lambda x: self.explore(x['new']) if x['type']=='change' and x['name']=='value' else None)\n",
    "        title = Label('%s [%s]' % (self.data.__class__.__name__, len(self.data)), layout=STANDARD_LAYOUT)\n",
    "        self.main_widget = VBox([title, dd], layout = VBOX_LAYOUT)\n",
    "        if list_widgets: self.explore(list_widgets[0])\n",
    "            \n",
    "    def build_widget_dict(self):\n",
    "        list_widgets = []\n",
    "        for x, y in self.data.items():\n",
    "            list_widgets.append(('%s:%s'%(x,y),(x, y)))\n",
    "\n",
    "        dd = Dropdown(options=list_widgets, layout=STANDARD_LAYOUT)\n",
    "        dd.observe(lambda x: self.explore(x['new'][1]) if x['type']=='change' and x['name']=='value' else None)\n",
    "        title = Label('%s [%s]' % (self.data.__class__.__name__, len(self.data)), layout=STANDARD_LAYOUT)\n",
    "        self.main_widget = VBox([title, dd], layout = VBOX_LAYOUT)\n",
    "        if list_widgets: self.explore(list_widgets[0][1][1])\n",
    "            "
   ]
  },
  {
   "cell_type": "code",
   "execution_count": 5,
   "id": "fe125e3c",
   "metadata": {},
   "outputs": [
    {
     "name": "stdout",
     "output_type": "stream",
     "text": [
      "True\n",
      "{A: 12, B: Bjr}\n"
     ]
    }
   ],
   "source": [
    "from aloe.parser import AloeParser\n",
    "from aloe.clause import Variable, Constant\n",
    "parser = AloeParser()\n",
    "\n",
    "t = \"\"\"\n",
    "B=\"Bjr\"\n",
    "\"\"\"\n",
    "expr = parser.parse(t, 'statement')\n",
    "s = {Variable('A'):Constant(12)}\n",
    "print(expr.evaluate(s))\n",
    "print(s)\n",
    "\n"
   ]
  },
  {
   "cell_type": "code",
   "execution_count": 5,
   "id": "56f96c7a",
   "metadata": {},
   "outputs": [
    {
     "data": {
      "text/plain": [
       "Background:\n",
       "LogicProgram object\n",
       "   person(jacques).\n",
       "   points(jacques,9).\n",
       "   person(ada).\n",
       "   points(ada,15).\n",
       "   echec(A,B):-person(A),points(A,B),<aloe.clause.Comparison object at 0x0000027B31E8E130>.\n",
       "\n",
       "Examples:\n",
       "Positive:\n",
       "\n",
       "Negative:\n",
       "\n",
       "\n",
       "Modes:\n",
       "modeh: {}\n",
       "modeb: {}\n",
       "determinations: {}\n",
       "\n",
       "options:\n",
       "i: 2\n",
       "c: 2\n",
       "h: 1000\n",
       "verbose: 0\n",
       "solver: AloeSolver\n",
       "learner: ProgolLearner\n",
       "hmetric: FnMetric\n",
       "update_knowledge: True\n",
       "logging: False"
      ]
     },
     "execution_count": 5,
     "metadata": {},
     "output_type": "execute_result"
    }
   ],
   "source": [
    "from aloe.program import AloeProgram\n",
    "t = \"\"\"\n",
    "person(jacques).\n",
    "points(jacques, 9).\n",
    "person(ada).\n",
    "points(ada, 15).\n",
    "echec(A,B) :- person(A), points(A,B), B<10.\n",
    "\"\"\"\n",
    "ap = AloeProgram.build_from_background(t)\n",
    "ap"
   ]
  },
  {
   "cell_type": "code",
   "execution_count": 1,
   "id": "4972328f",
   "metadata": {},
   "outputs": [],
   "source": [
    "from aloe.program import AloeProgram\n",
    "from collections import OrderedDict\n",
    "\n",
    "ap = AloeProgram.build_from(\"aloe/Examples/family.pl\")"
   ]
  },
  {
   "cell_type": "code",
   "execution_count": 156,
   "id": "03bf1f94",
   "metadata": {},
   "outputs": [
    {
     "data": {
      "application/vnd.jupyter.widget-view+json": {
       "model_id": "443d956c0acb43e48da4b111f037ce6c",
       "version_major": 2,
       "version_minor": 0
      },
      "text/plain": [
       "HBox(children=(VBox(children=(Label(value='AloeProgram', layout=Layout(height='40px', width='150px')), Button(…"
      ]
     },
     "metadata": {},
     "output_type": "display_data"
    }
   ],
   "source": [
    "ew  = ExplorableWidget(ap)\n",
    "ew.widget"
   ]
  },
  {
   "cell_type": "code",
   "execution_count": 107,
   "id": "b983fe03",
   "metadata": {},
   "outputs": [
    {
     "data": {
      "text/plain": [
       "7"
      ]
     },
     "execution_count": 107,
     "metadata": {},
     "output_type": "execute_result"
    }
   ],
   "source": [
    "len(ew.widget.children)"
   ]
  },
  {
   "cell_type": "code",
   "execution_count": 15,
   "id": "543a21d4",
   "metadata": {},
   "outputs": [
    {
     "name": "stdout",
     "output_type": "stream",
     "text": [
      "options\n",
      "knowledge\n",
      "solver\n",
      "modes\n",
      "examples\n",
      "learner\n",
      "__module__\n",
      "__init__\n",
      "build_from_file\n",
      "build_from_text\n",
      "build_from_background\n",
      "__repr__\n",
      "query\n",
      "verify\n",
      "set\n",
      "induce\n",
      "display_logs\n",
      "__dict__\n",
      "__weakref__\n",
      "__doc__\n",
      "__hash__\n",
      "__str__\n",
      "__getattribute__\n",
      "__setattr__\n",
      "__delattr__\n",
      "__lt__\n",
      "__le__\n",
      "__eq__\n",
      "__ne__\n",
      "__gt__\n",
      "__ge__\n",
      "__new__\n",
      "__reduce_ex__\n",
      "__reduce__\n",
      "__subclasshook__\n",
      "__init_subclass__\n",
      "__format__\n",
      "__sizeof__\n",
      "__dir__\n",
      "__class__\n"
     ]
    }
   ],
   "source": [
    "for attr in ew.data.__dir__():\n",
    "    print(attr)"
   ]
  },
  {
   "cell_type": "code",
   "execution_count": 3,
   "id": "64b01aa4",
   "metadata": {
    "scrolled": false
   },
   "outputs": [
    {
     "data": {
      "application/vnd.jupyter.widget-view+json": {
       "model_id": "026a65a67fe5437a89d728bd71558f89",
       "version_major": 2,
       "version_minor": 0
      },
      "text/plain": [
       "Tab(children=(VBox(children=(Dropdown(description='Example:', options=(parent(ada,sylvia)., parent(george,osca…"
      ]
     },
     "metadata": {},
     "output_type": "display_data"
    }
   ],
   "source": [
    "ap.display_logs()"
   ]
  },
  {
   "cell_type": "code",
   "execution_count": 1,
   "id": "fdf0ba1d",
   "metadata": {
    "scrolled": false
   },
   "outputs": [
    {
     "data": {
      "application/vnd.jupyter.widget-view+json": {
       "model_id": "94e7b1de4e48442a90bf6699951572bd",
       "version_major": 2,
       "version_minor": 0
      },
      "text/plain": [
       "AppLayout(children=(Output(layout=Layout(border='1px solid black', grid_area='footer', height='100%', width='1…"
      ]
     },
     "metadata": {},
     "output_type": "display_data"
    }
   ],
   "source": [
    "from aloe.queryinterface import QueryInterface\n",
    "qi = QueryInterface()\n",
    "qi.interact()"
   ]
  },
  {
   "cell_type": "code",
   "execution_count": 2,
   "id": "ad69fedb",
   "metadata": {},
   "outputs": [
    {
     "data": {
      "application/vnd.jupyter.widget-view+json": {
       "model_id": "b0113e152f7a4d0a8880e664ee8b296e",
       "version_major": 2,
       "version_minor": 0
      },
      "text/plain": [
       "Tab(children=(VBox(children=(HBox(children=(Button(description='Save', layout=Layout(height='auto', width='100…"
      ]
     },
     "metadata": {},
     "output_type": "display_data"
    }
   ],
   "source": [
    "from aloe.program import AloeProgram\n",
    "from collections import OrderedDict\n",
    "\n",
    "ap = AloeProgram.build_from(\"aloe/Examples/family.pl\")\n",
    "from aloe.interface.andante_interface import AndateInterface\n",
    "ai = AndateInterface(ap)\n",
    "ai.widget"
   ]
  },
  {
   "cell_type": "code",
   "execution_count": 2,
   "id": "342c636a",
   "metadata": {},
   "outputs": [
    {
     "ename": "RecursionError",
     "evalue": "maximum recursion depth exceeded while calling a Python object",
     "output_type": "error",
     "traceback": [
      "\u001b[1;31m---------------------------------------------------------------------------\u001b[0m",
      "\u001b[1;31mRecursionError\u001b[0m                            Traceback (most recent call last)",
      "\u001b[1;32m~\\AppData\\Local\\Temp/ipykernel_26316/3126586759.py\u001b[0m in \u001b[0;36m<module>\u001b[1;34m\u001b[0m\n\u001b[0;32m     10\u001b[0m \u001b[1;33m\u001b[0m\u001b[0m\n\u001b[0;32m     11\u001b[0m \u001b[0ma\u001b[0m \u001b[1;33m=\u001b[0m \u001b[0mA\u001b[0m\u001b[1;33m(\u001b[0m\u001b[1;36m3\u001b[0m\u001b[1;33m)\u001b[0m\u001b[1;33m\u001b[0m\u001b[1;33m\u001b[0m\u001b[0m\n\u001b[1;32m---> 12\u001b[1;33m \u001b[0ma\u001b[0m\u001b[1;33m.\u001b[0m\u001b[0mb\u001b[0m\u001b[1;33m\u001b[0m\u001b[1;33m\u001b[0m\u001b[0m\n\u001b[0m",
      "\u001b[1;32m~\\AppData\\Local\\Temp/ipykernel_26316/3126586759.py\u001b[0m in \u001b[0;36mb\u001b[1;34m(self)\u001b[0m\n\u001b[0;32m      5\u001b[0m     \u001b[1;33m@\u001b[0m\u001b[0mproperty\u001b[0m\u001b[1;33m\u001b[0m\u001b[1;33m\u001b[0m\u001b[0m\n\u001b[0;32m      6\u001b[0m     \u001b[1;32mdef\u001b[0m \u001b[0mb\u001b[0m\u001b[1;33m(\u001b[0m\u001b[0mself\u001b[0m\u001b[1;33m)\u001b[0m\u001b[1;33m:\u001b[0m\u001b[1;33m\u001b[0m\u001b[1;33m\u001b[0m\u001b[0m\n\u001b[1;32m----> 7\u001b[1;33m         \u001b[1;32mif\u001b[0m \u001b[1;32mnot\u001b[0m \u001b[0mhasattr\u001b[0m\u001b[1;33m(\u001b[0m\u001b[0mself\u001b[0m\u001b[1;33m,\u001b[0m \u001b[1;34m'b'\u001b[0m\u001b[1;33m)\u001b[0m\u001b[1;33m:\u001b[0m\u001b[1;33m\u001b[0m\u001b[1;33m\u001b[0m\u001b[0m\n\u001b[0m\u001b[0;32m      8\u001b[0m             \u001b[0mself\u001b[0m\u001b[1;33m.\u001b[0m\u001b[0mb\u001b[0m \u001b[1;33m=\u001b[0m \u001b[1;36m1\u001b[0m\u001b[1;33m\u001b[0m\u001b[1;33m\u001b[0m\u001b[0m\n\u001b[0;32m      9\u001b[0m         \u001b[1;32mreturn\u001b[0m \u001b[0mself\u001b[0m\u001b[1;33m.\u001b[0m\u001b[0mb\u001b[0m\u001b[1;33m\u001b[0m\u001b[1;33m\u001b[0m\u001b[0m\n",
      "... last 1 frames repeated, from the frame below ...\n",
      "\u001b[1;32m~\\AppData\\Local\\Temp/ipykernel_26316/3126586759.py\u001b[0m in \u001b[0;36mb\u001b[1;34m(self)\u001b[0m\n\u001b[0;32m      5\u001b[0m     \u001b[1;33m@\u001b[0m\u001b[0mproperty\u001b[0m\u001b[1;33m\u001b[0m\u001b[1;33m\u001b[0m\u001b[0m\n\u001b[0;32m      6\u001b[0m     \u001b[1;32mdef\u001b[0m \u001b[0mb\u001b[0m\u001b[1;33m(\u001b[0m\u001b[0mself\u001b[0m\u001b[1;33m)\u001b[0m\u001b[1;33m:\u001b[0m\u001b[1;33m\u001b[0m\u001b[1;33m\u001b[0m\u001b[0m\n\u001b[1;32m----> 7\u001b[1;33m         \u001b[1;32mif\u001b[0m \u001b[1;32mnot\u001b[0m \u001b[0mhasattr\u001b[0m\u001b[1;33m(\u001b[0m\u001b[0mself\u001b[0m\u001b[1;33m,\u001b[0m \u001b[1;34m'b'\u001b[0m\u001b[1;33m)\u001b[0m\u001b[1;33m:\u001b[0m\u001b[1;33m\u001b[0m\u001b[1;33m\u001b[0m\u001b[0m\n\u001b[0m\u001b[0;32m      8\u001b[0m             \u001b[0mself\u001b[0m\u001b[1;33m.\u001b[0m\u001b[0mb\u001b[0m \u001b[1;33m=\u001b[0m \u001b[1;36m1\u001b[0m\u001b[1;33m\u001b[0m\u001b[1;33m\u001b[0m\u001b[0m\n\u001b[0;32m      9\u001b[0m         \u001b[1;32mreturn\u001b[0m \u001b[0mself\u001b[0m\u001b[1;33m.\u001b[0m\u001b[0mb\u001b[0m\u001b[1;33m\u001b[0m\u001b[1;33m\u001b[0m\u001b[0m\n",
      "\u001b[1;31mRecursionError\u001b[0m: maximum recursion depth exceeded while calling a Python object"
     ]
    }
   ],
   "source": [
    "class A:\n",
    "    def __init__(self, a):\n",
    "        self.a = a\n",
    "        \n",
    "    @property\n",
    "    def b(self):\n",
    "        if not hasattr(self, 'b'):\n",
    "            self.b = 1\n",
    "        return self.b\n",
    "    \n",
    "a = A(3)\n",
    "a.b"
   ]
  },
  {
   "cell_type": "code",
   "execution_count": null,
   "id": "f92778d2",
   "metadata": {},
   "outputs": [],
   "source": [
    "append([],L,L).\n",
    "append([H|T],L,[H|Lrem]) :- append(T,\n",
    "                                   L\n",
    "                                   ,\n",
    "                                   Lrem\n",
    "                                  ),\n",
    "                            not(H=2),\n",
    "    ...."
   ]
  },
  {
   "cell_type": "code",
   "execution_count": 3,
   "id": "8bd7fc28",
   "metadata": {},
   "outputs": [
    {
     "data": {
      "text/plain": [
       "{1: 2, 2: 3, 3: 4}"
      ]
     },
     "execution_count": 3,
     "metadata": {},
     "output_type": "execute_result"
    }
   ],
   "source": [
    "modee echec(person,cours).\n",
    "modeh(2, f(+type, -type)).\n",
    "echec(A,B,C) :- atom.\n",
    "{\n",
    "    'A':'person',\n",
    "    'C':'cours'\n",
    "}\n",
    "person(socrates).\n",
    "person = {socrates, jules, }\n",
    "lion(a,b)"
   ]
  },
  {
   "cell_type": "code",
   "execution_count": 1,
   "id": "61765156",
   "metadata": {},
   "outputs": [
    {
     "data": {
      "application/vnd.jupyter.widget-view+json": {
       "model_id": "ad319814fd2f40ca989445e64c2d9c68",
       "version_major": 2,
       "version_minor": 0
      },
      "text/plain": [
       "Tab(children=(VBox(children=(HBox(children=(Button(description='Save', layout=Layout(height='auto', width='100…"
      ]
     },
     "metadata": {},
     "output_type": "display_data"
    }
   ],
   "source": [
    "from aloe.interface.andante_interface import AndateInterface\n",
    "ai = AndateInterface()\n",
    "ai.widget"
   ]
  },
  {
   "cell_type": "code",
   "execution_count": 2,
   "id": "05f424f8",
   "metadata": {},
   "outputs": [
    {
     "name": "stdout",
     "output_type": "stream",
     "text": [
      "eat(gilles,bananas):-like(gilles,bananas).\n",
      "eat(arthur,bananas):-like(arthur,bananas).\n",
      "eat(gilles,peanuts):-like(gilles,peanuts).\n",
      "eat(arthur,peanuts):-like(arthur,peanuts).\n"
     ]
    },
    {
     "data": {
      "text/plain": [
       "{'pos': [eat(arthur,bananas)., eat(gilles,peanuts)., eat(arthur,peanuts).],\n",
       " 'neg': [eat(gilles,bananas).]}"
      ]
     },
     "execution_count": 2,
     "metadata": {},
     "output_type": "execute_result"
    }
   ],
   "source": [
    "\n",
    "ai.ap.generate_examples_from_clause('eat(A,B):-like(A,B).', {'A':'person', 'B':'food'}, update_examples=False)"
   ]
  },
  {
   "cell_type": "code",
   "execution_count": 4,
   "id": "a3f6e2f1",
   "metadata": {},
   "outputs": [
    {
     "data": {
      "text/plain": [
       "Background:\n",
       "LogicProgram object\n",
       "   person(arthur).\n",
       "   person(gilles).\n",
       "   food(peanuts).\n",
       "   food(bananas).\n",
       "   like(arthur,X).\n",
       "   like(gilles,peanuts).\n",
       "\n",
       "Examples:\n",
       "Positive:\n",
       "\n",
       "Negative:\n",
       "\n",
       "\n",
       "Modes:\n",
       "modeh: {}\n",
       "modeb: {}\n",
       "determinations: {}\n",
       "\n",
       "options:\n",
       "i: 2\n",
       "c: 2\n",
       "h: 1000\n",
       "verbose: 0\n",
       "solver: AloeSolver\n",
       "learner: ProgolLearner\n",
       "hmetric: FnMetric\n",
       "update_knowledge: True\n",
       "logging: False"
      ]
     },
     "execution_count": 4,
     "metadata": {},
     "output_type": "execute_result"
    }
   ],
   "source": [
    "\n",
    "ai.ap"
   ]
  },
  {
   "cell_type": "code",
   "execution_count": 7,
   "id": "fb3d7fc0",
   "metadata": {},
   "outputs": [
    {
     "ename": "NameError",
     "evalue": "name 'lt' is not defined",
     "output_type": "error",
     "traceback": [
      "\u001b[1;31m---------------------------------------------------------------------------\u001b[0m",
      "\u001b[1;31mNameError\u001b[0m                                 Traceback (most recent call last)",
      "\u001b[1;32m~\\AppData\\Local\\Temp/ipykernel_25096/954985657.py\u001b[0m in \u001b[0;36m<module>\u001b[1;34m\u001b[0m\n\u001b[1;32m----> 1\u001b[1;33m \u001b[0mlt\u001b[0m\u001b[1;33m(\u001b[0m\u001b[1;36m1\u001b[0m\u001b[1;33m,\u001b[0m\u001b[1;36m2\u001b[0m\u001b[1;33m)\u001b[0m\u001b[1;33m\u001b[0m\u001b[1;33m\u001b[0m\u001b[0m\n\u001b[0m",
      "\u001b[1;31mNameError\u001b[0m: name 'lt' is not defined"
     ]
    }
   ],
   "source": [
    "lt(1,2)"
   ]
  },
  {
   "cell_type": "code",
   "execution_count": 79,
   "id": "3faf389b",
   "metadata": {},
   "outputs": [],
   "source": [
    "from parsimonious.grammar import Grammar\n",
    "from parsimonious.nodes import NodeVisitor\n",
    "from aloe.clause import Constant, Variable\n",
    "\n",
    "grammar = Grammar(\"\"\"\n",
    "    statement        = not_statement / combi_statement / assignment / comparison \n",
    "    not_statement    = \"not\" ws \"(\" ws statement ws \")\"\n",
    "    combi_statement  = (\"all\" / \"any\") ws \"(\" ws statement ws (\",\" ws statement ws)+ \")\"\n",
    "    comparison       = expression ws comparison_symbol ws expression\n",
    "    comparison_symbol = \"<\" / \">\" / \"=<\" / \"=>\" / \"!=\" / \"==\"\n",
    "    assignment       = variable ws \"=\" ws expression\n",
    "    expression       = ~\"[^<>=!,\\.\\)]*\"\n",
    "    ws = ~\"\\s*\"\n",
    "    word             = ~\"[a-z]\\w*\"\n",
    "    variable         = ~\"[A-Z]\\w*\"\n",
    "    number           = ~\"\\d+\"\n",
    "\"\"\")\n",
    "\n",
    "from abc import ABC, abstractmethod\n",
    "class Statement(ABC):\n",
    "    def __init__(self, args):\n",
    "        self.args = args\n",
    "    \n",
    "    @abstractmethod\n",
    "    def evaluate(self, subst, variable_assignment=True):\n",
    "        pass\n",
    "    \n",
    "class Not(Statement):\n",
    "    def evaluate(self, subst, variable_assignment=True):\n",
    "        arg, = self.args\n",
    "        return not arg.evaluate(subst, variable_assignment=False)\n",
    "        \n",
    "class All(Statement):\n",
    "    def evaluate(self, subst, variable_assignment=True):\n",
    "        return all(arg.evaluate(subst, variable_assignment=variable_assignment) for arg in self.args)\n",
    "        \n",
    "class Any(Statement):\n",
    "    def evaluate(self, subst, variable_assignment=True):\n",
    "        return any(arg.evaluate(subst, variable_assignment=False) for arg in self.args)\n",
    "    \n",
    "class Expression:\n",
    "    def __init__(self, source):\n",
    "        self.source = source\n",
    "        self.code = compile(source, '<string>', 'eval')\n",
    "    \n",
    "    def evaluate(self, subst, variable_assignment=True):\n",
    "        subst = {str(var):(val.value if isinstance(val, Constant) else str(val)) for var, val in subst.items()}\n",
    "        return eval(self.code, subst)\n",
    "    \n",
    "class Comparison(Expression, Statement):\n",
    "    pass\n",
    "    \n",
    "class Assignment(Comparison):\n",
    "    def __init__(self, var, expression):\n",
    "        self.var = var\n",
    "        self.expression = expression\n",
    "        \n",
    "    def evaluate(self, subst, variable_assignment=True):\n",
    "        if var in subst:\n",
    "            return str(subst[var]) == str(self.expression.evaluate(subst, variable_assignment=variable_assignment))\n",
    "        else:\n",
    "            if not variable_assignment:\n",
    "                raise Exception('Cannot assign value to variable %s' % str(var))\n",
    "            else:\n",
    "                subst[var] = Constant(self.expression.evaluate(subst, variable_assignment=variable_assignment))\n",
    "    \n",
    "\n",
    "class myVisitor(NodeVisitor):\n",
    "    # 0. In general\n",
    "    def generic_visit(self, node, visited_children):\n",
    "        \"\"\" The default visit method. \"\"\"\n",
    "        return visited_children\n",
    "    \n",
    "    # 1. For clauses\n",
    "    def visit_statement(self, node, visited_children):\n",
    "        choice, = visited_children\n",
    "        return choice\n",
    "    \n",
    "    def visit_not_statement(self, node, visited_children):\n",
    "        _, _, _, _, eq, _, _ = visited_children\n",
    "        return Not(eq)\n",
    "        \n",
    "    def visit_combi_statement(self, node, visited_children):\n",
    "        _, _, _, _, arg1, _, l_arg, _ = visited_children\n",
    "        args = [arg1] + [arg for _, _, arg, _ in l_arg]\n",
    "        combi = node.children[0].text\n",
    "        if combi=='all':\n",
    "            return All(args)\n",
    "        else: # combi=='any'\n",
    "            return Any(args)\n",
    "    \n",
    "    def visit_comparison(self, node, visited_children):\n",
    "        return Comparison(node.text)\n",
    "    \n",
    "    def visit_assignment(self, node, visited_children):\n",
    "        var, _, _, _, expression = visited_children\n",
    "        return Assignment(var, expression)\n",
    "    \n",
    "    def visit_expression(self, node, visited_children):\n",
    "        return Expression(node.text)\n",
    "\n",
    "    def visit_constant(self, node, visited_children):\n",
    "        return Constant(visited_children[0])\n",
    "    \n",
    "    def visit_variable(self, node, visited_children):\n",
    "        return Variable(node.text)\n",
    "    \n",
    "    def visit_value(self, node, visited_children):\n",
    "        return visited_children[0]\n",
    "    \n",
    "    def visit_word(self, node, visited_children):\n",
    "        return node.text\n",
    "\n",
    "    def visit_number(self, node, visited_children):\n",
    "        return int(node.text)\n",
    "        "
   ]
  },
  {
   "cell_type": "code",
   "execution_count": 81,
   "id": "353de472",
   "metadata": {},
   "outputs": [
    {
     "data": {
      "text/plain": [
       "True"
      ]
     },
     "execution_count": 81,
     "metadata": {},
     "output_type": "execute_result"
    }
   ],
   "source": [
    "def goparse(string, rule='statement'):\n",
    "    visitor = myVisitor()\n",
    "    string = string.strip()\n",
    "    tree   = grammar[rule].parse(string)\n",
    "    output = visitor.visit(tree)\n",
    "    return output\n",
    "t = \"\"\"\n",
    "all(A<3, B<6)\n",
    "\"\"\"\n",
    "f = goparse(t)\n",
    "f.evaluate({Variable('A'):Constant(2), Variable('B'):Constant(5)})"
   ]
  },
  {
   "cell_type": "code",
   "execution_count": null,
   "id": "1642e132",
   "metadata": {},
   "outputs": [],
   "source": []
  },
  {
   "cell_type": "code",
   "execution_count": 8,
   "id": "7ce57ef6",
   "metadata": {},
   "outputs": [
    {
     "ename": "TypeError",
     "evalue": "eval() arg 1 must be a string, bytes or code object",
     "output_type": "error",
     "traceback": [
      "\u001b[1;31m---------------------------------------------------------------------------\u001b[0m",
      "\u001b[1;31mTypeError\u001b[0m                                 Traceback (most recent call last)",
      "\u001b[1;32m~\\AppData\\Local\\Temp/ipykernel_19852/3118502980.py\u001b[0m in \u001b[0;36m<module>\u001b[1;34m\u001b[0m\n\u001b[0;32m      8\u001b[0m \u001b[1;33m\u001b[0m\u001b[0m\n\u001b[0;32m      9\u001b[0m \u001b[0ma\u001b[0m \u001b[1;33m=\u001b[0m \u001b[0mA\u001b[0m\u001b[1;33m(\u001b[0m\u001b[1;36m5\u001b[0m\u001b[1;33m)\u001b[0m\u001b[1;33m\u001b[0m\u001b[1;33m\u001b[0m\u001b[0m\n\u001b[1;32m---> 10\u001b[1;33m \u001b[0meval\u001b[0m\u001b[1;33m(\u001b[0m\u001b[0ma\u001b[0m\u001b[1;33m,\u001b[0m \u001b[0mglobals\u001b[0m\u001b[1;33m(\u001b[0m\u001b[1;33m)\u001b[0m\u001b[1;33m)\u001b[0m\u001b[1;33m\u001b[0m\u001b[1;33m\u001b[0m\u001b[0m\n\u001b[0m",
      "\u001b[1;31mTypeError\u001b[0m: eval() arg 1 must be a string, bytes or code object"
     ]
    }
   ],
   "source": [
    "class A:\n",
    "    def __init__(self, a):\n",
    "        self.a = a\n",
    "        \n",
    "    def __eval__(self, *args): \n",
    "        print(args)\n",
    "        return self.a\n",
    "    \n",
    "a = A(5)\n",
    "eval(a, globals())"
   ]
  },
  {
   "cell_type": "code",
   "execution_count": 64,
   "id": "29a5174b",
   "metadata": {},
   "outputs": [
    {
     "data": {
      "text/plain": [
       "<re.Match object; span=(0, 1), match='A'>"
      ]
     },
     "execution_count": 64,
     "metadata": {},
     "output_type": "execute_result"
    }
   ],
   "source": [
    "import re\n",
    "regex = r\".+?(?=(,|\\.|\\)|$))\"\n",
    "regex2 = r\".+?(?=[,\\.\\)$])\"\n",
    "regex3 = r\"[^<>=!,\\.\\)]+\"\n",
    "re.search(regex3, \"A>=B)\")"
   ]
  },
  {
   "cell_type": "code",
   "execution_count": null,
   "id": "f48c1506",
   "metadata": {},
   "outputs": [],
   "source": []
  }
 ],
 "metadata": {
  "kernelspec": {
   "display_name": "Python 3 (ipykernel)",
   "language": "python",
   "name": "python3"
  },
  "language_info": {
   "codemirror_mode": {
    "name": "ipython",
    "version": 3
   },
   "file_extension": ".py",
   "mimetype": "text/x-python",
   "name": "python",
   "nbconvert_exporter": "python",
   "pygments_lexer": "ipython3",
   "version": "3.9.7"
  }
 },
 "nbformat": 4,
 "nbformat_minor": 5
}
