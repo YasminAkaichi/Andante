{
 "cells": [
  {
   "cell_type": "code",
   "execution_count": 1,
   "id": "4972328f",
   "metadata": {},
   "outputs": [
    {
     "data": {
      "text/plain": [
       "LogicProgram object\n",
       "   parent(A,B):-mother(A,B).\n",
       "   parent(A,B):-father(A,B).\n",
       "   grandfather(A,B):-father(A,C),parent(C,B).\n",
       "   grandparent(A,B):-parent(A,C),parent(C,B)."
      ]
     },
     "execution_count": 1,
     "metadata": {},
     "output_type": "execute_result"
    }
   ],
   "source": [
    "from aloe.program import AloeProgram\n",
    "from collections import OrderedDict\n",
    "\n",
    "ap = AloeProgram.build_from_file(\"aloe/Examples/family.pl\")\n",
    "ap.induce(update_knowledge=False, logging=True, verbose=0)"
   ]
  },
  {
   "cell_type": "code",
   "execution_count": null,
   "id": "9f8864fd",
   "metadata": {},
   "outputs": [],
   "source": []
  },
  {
   "cell_type": "code",
   "execution_count": 2,
   "id": "d44e5749",
   "metadata": {},
   "outputs": [
    {
     "data": {
      "application/vnd.jupyter.widget-view+json": {
       "model_id": "7a4204025e9a4772bad4c8e885d1bbd6",
       "version_major": 2,
       "version_minor": 0
      },
      "text/plain": [
       "Tab(children=(VBox(children=(Dropdown(description='Example:', options=(parent(ada,sylvia)., parent(george,osca…"
      ]
     },
     "metadata": {},
     "output_type": "display_data"
    }
   ],
   "source": [
    "ap.learner.logs[0].interact()"
   ]
  },
  {
   "cell_type": "code",
   "execution_count": 3,
   "id": "6b03289d",
   "metadata": {},
   "outputs": [
    {
     "data": {
      "text/plain": [
       "odict_keys(['Knowledge', 'Modes', 'Options', 'Iterations'])"
      ]
     },
     "execution_count": 3,
     "metadata": {},
     "output_type": "execute_result"
    }
   ],
   "source": [
    "log = ap.learner.logs[0]\n",
    "log.data.keys()"
   ]
  },
  {
   "cell_type": "code",
   "execution_count": 4,
   "id": "3a95e60d",
   "metadata": {},
   "outputs": [
    {
     "data": {
      "text/plain": [
       "parent(A,B):-mother(A,B),mother(B,C),mother(B,D),mother(B,E),mother(B,F)."
      ]
     },
     "execution_count": 4,
     "metadata": {},
     "output_type": "execute_result"
    }
   ],
   "source": [
    "log.data['Iterations'].data['parent(ada,sylvia).'].data['Bottom_i']"
   ]
  },
  {
   "cell_type": "code",
   "execution_count": 39,
   "id": "b5f0f50a",
   "metadata": {},
   "outputs": [
    {
     "name": "stdout",
     "output_type": "stream",
     "text": [
      "Examples\n",
      "Current example\n",
      "Bottom_i\n",
      "States\n",
      "Clause\n"
     ]
    }
   ],
   "source": [
    "all_states = log.data['Iterations'].data['grandparent(ada,andrew).']\n",
    "for key, value in all_states.data.items():\n",
    "    print(key)"
   ]
  },
  {
   "cell_type": "code",
   "execution_count": 41,
   "id": "7f2b7c23",
   "metadata": {},
   "outputs": [
    {
     "data": {
      "text/plain": [
       "LiveLog\n",
       "   grandparent(A,B).: <aloe.hypothesis_metrics.FnMetric._State object at 0x000002A26F9A0FD0>\n",
       "   grandparent(A,B):-mother(C,B).: <aloe.hypothesis_metrics.FnMetric._State object at 0x000002A26F9CA370>\n",
       "   grandparent(A,B):-mother(C,B),parent(C,F).: <aloe.hypothesis_metrics.FnMetric._State object at 0x000002A26F9CE6D0>\n",
       "   grandparent(A,B):-mother(C,B),parent(C,B).: <aloe.hypothesis_metrics.FnMetric._State object at 0x000002A26F9CE130>\n",
       "   grandparent(A,B):-mother(C,B),parent(C,D).: <aloe.hypothesis_metrics.FnMetric._State object at 0x000002A26F9CA1F0>\n",
       "   grandparent(A,B):-mother(C,B),parent(C,E).: <aloe.hypothesis_metrics.FnMetric._State object at 0x000002A26F9CE100>\n",
       "   grandparent(A,B):-parent(C,B).: <aloe.hypothesis_metrics.FnMetric._State object at 0x000002A26F9CA940>\n",
       "   grandparent(A,B):-parent(C,D).: <aloe.hypothesis_metrics.FnMetric._State object at 0x000002A26F9CA9A0>\n",
       "   grandparent(A,B):-mother(C,F).: <aloe.hypothesis_metrics.FnMetric._State object at 0x000002A26F9CA7F0>\n",
       "   grandparent(A,B):-mother(C,F),parent(C,B).: <aloe.hypothesis_metrics.FnMetric._State object at 0x000002A26F9BB100>\n",
       "   grandparent(A,B):-mother(C,F),mother(C,B).: <aloe.hypothesis_metrics.FnMetric._State object at 0x000002A26F9CE070>\n",
       "   grandparent(A,B):-mother(C,E).: <aloe.hypothesis_metrics.FnMetric._State object at 0x000002A26F9CA3D0>\n",
       "   grandparent(A,B):-mother(C,E),mother(C,B).: <aloe.hypothesis_metrics.FnMetric._State object at 0x000002A26F9D9C70>\n",
       "   grandparent(A,B):-mother(C,E),parent(C,B).: <aloe.hypothesis_metrics.FnMetric._State object at 0x000002A26F9D9520>\n",
       "   grandparent(A,B):-parent(C,D),parent(C,B).: <aloe.hypothesis_metrics.FnMetric._State object at 0x000002A26F9CE970>\n",
       "   grandparent(A,B):-parent(C,F).: <aloe.hypothesis_metrics.FnMetric._State object at 0x000002A26F9CA460>\n",
       "   grandparent(A,B):-parent(C,E).: <aloe.hypothesis_metrics.FnMetric._State object at 0x000002A26F9CABE0>\n",
       "   grandparent(A,B):-parent(A,C).: <aloe.hypothesis_metrics.FnMetric._State object at 0x000002A26F9BB190>\n",
       "   grandparent(A,B):-parent(A,C),parent(C,B).: <aloe.hypothesis_metrics.FnMetric._State object at 0x000002A26FB4D0D0>"
      ]
     },
     "execution_count": 41,
     "metadata": {},
     "output_type": "execute_result"
    }
   ],
   "source": [
    "log.data['Iterations'].data['grandparent(ada,andrew).'].data['States']"
   ]
  },
  {
   "cell_type": "code",
   "execution_count": 23,
   "id": "336a7ee5",
   "metadata": {},
   "outputs": [
    {
     "data": {
      "text/plain": [
       "False"
      ]
     },
     "execution_count": 23,
     "metadata": {},
     "output_type": "execute_result"
    }
   ],
   "source": [
    "from aloe.clause import Constant\n",
    "x = Constant('aa')\n"
   ]
  },
  {
   "cell_type": "code",
   "execution_count": 2,
   "id": "96cd02a1",
   "metadata": {},
   "outputs": [
    {
     "data": {
      "application/vnd.jupyter.widget-view+json": {
       "model_id": "e8d20e57c1fe49f9a3ac7c17b62ea958",
       "version_major": 2,
       "version_minor": 0
      },
      "text/plain": [
       "interactive(children=(Dropdown(description='Example:', options=(parent(ada,sylvia)., parent(george,oscar)., gr…"
      ]
     },
     "metadata": {},
     "output_type": "display_data"
    }
   ],
   "source": [
    "ap.display_logs()"
   ]
  },
  {
   "cell_type": "code",
   "execution_count": 1,
   "id": "6a33b1cb",
   "metadata": {},
   "outputs": [
    {
     "name": "stdout",
     "output_type": "stream",
     "text": [
      "<class 'aloe.clause.Predicate'> female(mary)\n",
      "<class 'aloe.clause.Constant'> mary\n"
     ]
    }
   ],
   "source": [
    "from aloe.clause import Clause, Predicate, Function, Constant, Variable, Operator\n",
    "def print_class_in_depth(element):\n",
    "    print(element.__class__, element)\n",
    "    if isinstance(element, Operator):\n",
    "        for t in element:\n",
    "            print_class_in_depth(t)\n",
    "\n",
    "atom = Predicate('female', [Constant('mary')])\n",
    "print_class_in_depth(atom)            "
   ]
  },
  {
   "cell_type": "code",
   "execution_count": 78,
   "id": "c685430e",
   "metadata": {},
   "outputs": [],
   "source": []
  },
  {
   "cell_type": "code",
   "execution_count": 1,
   "id": "0238ca23",
   "metadata": {},
   "outputs": [
    {
     "ename": "ModuleNotFoundError",
     "evalue": "No module named 'query_interface'",
     "output_type": "error",
     "traceback": [
      "\u001b[1;31m---------------------------------------------------------------------------\u001b[0m",
      "\u001b[1;31mModuleNotFoundError\u001b[0m                       Traceback (most recent call last)",
      "\u001b[1;32m~\\AppData\\Local\\Temp/ipykernel_20792/10047375.py\u001b[0m in \u001b[0;36m<module>\u001b[1;34m\u001b[0m\n\u001b[1;32m----> 1\u001b[1;33m \u001b[1;32mfrom\u001b[0m \u001b[0mquery_interface\u001b[0m \u001b[1;32mimport\u001b[0m \u001b[0mQueryInterface\u001b[0m\u001b[1;33m\u001b[0m\u001b[1;33m\u001b[0m\u001b[0m\n\u001b[0m\u001b[0;32m      2\u001b[0m \u001b[0mqi\u001b[0m \u001b[1;33m=\u001b[0m \u001b[0mQueryInterface\u001b[0m\u001b[1;33m(\u001b[0m\u001b[1;33m)\u001b[0m\u001b[1;33m\u001b[0m\u001b[1;33m\u001b[0m\u001b[0m\n\u001b[0;32m      3\u001b[0m \u001b[0mqi\u001b[0m\u001b[1;33m.\u001b[0m\u001b[0minteract\u001b[0m\u001b[1;33m(\u001b[0m\u001b[1;33m)\u001b[0m\u001b[1;33m\u001b[0m\u001b[1;33m\u001b[0m\u001b[0m\n",
      "\u001b[1;31mModuleNotFoundError\u001b[0m: No module named 'query_interface'"
     ]
    }
   ],
   "source": [
    "from aloe.query_interface import QueryInterface\n",
    "qi = QueryInterface()\n",
    "qi.interact()"
   ]
  },
  {
   "cell_type": "code",
   "execution_count": null,
   "id": "acbfaef4",
   "metadata": {},
   "outputs": [],
   "source": []
  }
 ],
 "metadata": {
  "kernelspec": {
   "display_name": "Python 3 (ipykernel)",
   "language": "python",
   "name": "python3"
  },
  "language_info": {
   "codemirror_mode": {
    "name": "ipython",
    "version": 3
   },
   "file_extension": ".py",
   "mimetype": "text/x-python",
   "name": "python",
   "nbconvert_exporter": "python",
   "pygments_lexer": "ipython3",
   "version": "3.9.7"
  }
 },
 "nbformat": 4,
 "nbformat_minor": 5
}
