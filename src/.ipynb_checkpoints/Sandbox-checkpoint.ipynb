{
 "cells": [
  {
   "cell_type": "code",
   "execution_count": 154,
   "id": "43c71922",
   "metadata": {},
   "outputs": [],
   "source": [
    "from ipywidgets import Button, Dropdown, HBox, VBox, Label, Layout\n",
    "\n",
    "STANDARD_LAYOUT = {'height':'40px', 'width':'150px'}\n",
    "VBOX_LAYOUT = {'width':'160px'}\n",
    "class ExplorableWidget:\n",
    "    def __init__(self, data, parent=None):\n",
    "        self.parent=parent\n",
    "        self.data = data\n",
    "        self.children = []\n",
    "        if   isinstance(self.data, (list, set)):\n",
    "            self.build_widget_list()\n",
    "        elif isinstance(self.data, (dict)):\n",
    "            self.build_widget_dict()\n",
    "        else: # Default_build\n",
    "            self.build_widget_default()\n",
    "        box_layout = Layout(\n",
    "            overflow='scroll hidden',\n",
    "            flex_flow='row',\n",
    "            width='100%',\n",
    "            display='flex')\n",
    "        self.widget = HBox([self.main_widget], layout=box_layout)\n",
    "    \n",
    "    def update_children(self, children=[]):\n",
    "        children = children if children else self.children\n",
    "        self.children = children\n",
    "        if self.parent is None:\n",
    "            self.widget.children = [self.main_widget] + children\n",
    "        else:\n",
    "            self.parent.update_children([self.main_widget] + children)\n",
    "    \n",
    "    def explore(self, x):\n",
    "        ew = ExplorableWidget(x, self)\n",
    "        ew.update_children()\n",
    "    \n",
    "    def build_widget_default(self):\n",
    "        list_widgets = list()\n",
    "        for attr in self.data.__dir__():\n",
    "            if attr[:2]!='__':\n",
    "                widget = Button(\n",
    "                    description = attr,\n",
    "                    tooltip = '[%s] %s' % (getattr(self.data, attr).__class__.__name__, attr),\n",
    "                    layout = STANDARD_LAYOUT,\n",
    "                )\n",
    "                widget.on_click(lambda x: self.explore(getattr(self.data, x.description)))\n",
    "                list_widgets.append(widget)\n",
    "        title = Label(self.data.__class__.__name__, layout=STANDARD_LAYOUT)\n",
    "        self.main_widget = VBox(\n",
    "            [title] + list_widgets,\n",
    "            layout = VBOX_LAYOUT,\n",
    "        )\n",
    "        \n",
    "    def build_widget_list(self):\n",
    "        list_widgets = []\n",
    "        for x in self.data:\n",
    "            list_widgets.append(x)\n",
    "        \n",
    "        dd = Dropdown(options=list_widgets, layout=STANDARD_LAYOUT)\n",
    "        dd.observe(lambda x: self.explore(x['new']) if x['type']=='change' and x['name']=='value' else None)\n",
    "        title = Label('%s [%s]' % (self.data.__class__.__name__, len(self.data)), layout=STANDARD_LAYOUT)\n",
    "        self.main_widget = VBox([title, dd], layout = VBOX_LAYOUT)\n",
    "        if list_widgets: self.explore(list_widgets[0])\n",
    "            \n",
    "    def build_widget_dict(self):\n",
    "        list_widgets = []\n",
    "        for x, y in self.data.items():\n",
    "            list_widgets.append(('%s:%s'%(x,y),(x, y)))\n",
    "\n",
    "        dd = Dropdown(options=list_widgets, layout=STANDARD_LAYOUT)\n",
    "        dd.observe(lambda x: self.explore(x['new'][1]) if x['type']=='change' and x['name']=='value' else None)\n",
    "        title = Label('%s [%s]' % (self.data.__class__.__name__, len(self.data)), layout=STANDARD_LAYOUT)\n",
    "        self.main_widget = VBox([title, dd], layout = VBOX_LAYOUT)\n",
    "        if list_widgets: self.explore(list_widgets[0][1][1])\n",
    "            "
   ]
  },
  {
   "cell_type": "code",
   "execution_count": 2,
   "id": "4972328f",
   "metadata": {},
   "outputs": [],
   "source": [
    "from aloe.program import AloeProgram\n",
    "from collections import OrderedDict\n",
    "\n",
    "ap = AloeProgram.build_from(\"aloe/Examples/family.pl\")"
   ]
  },
  {
   "cell_type": "code",
   "execution_count": 156,
   "id": "03bf1f94",
   "metadata": {},
   "outputs": [
    {
     "data": {
      "application/vnd.jupyter.widget-view+json": {
       "model_id": "443d956c0acb43e48da4b111f037ce6c",
       "version_major": 2,
       "version_minor": 0
      },
      "text/plain": [
       "HBox(children=(VBox(children=(Label(value='AloeProgram', layout=Layout(height='40px', width='150px')), Button(…"
      ]
     },
     "metadata": {},
     "output_type": "display_data"
    }
   ],
   "source": [
    "ew  = ExplorableWidget(ap)\n",
    "ew.widget"
   ]
  },
  {
   "cell_type": "code",
   "execution_count": 107,
   "id": "b983fe03",
   "metadata": {},
   "outputs": [
    {
     "data": {
      "text/plain": [
       "7"
      ]
     },
     "execution_count": 107,
     "metadata": {},
     "output_type": "execute_result"
    }
   ],
   "source": [
    "len(ew.widget.children)"
   ]
  },
  {
   "cell_type": "code",
   "execution_count": 15,
   "id": "543a21d4",
   "metadata": {},
   "outputs": [
    {
     "name": "stdout",
     "output_type": "stream",
     "text": [
      "options\n",
      "knowledge\n",
      "solver\n",
      "modes\n",
      "examples\n",
      "learner\n",
      "__module__\n",
      "__init__\n",
      "build_from_file\n",
      "build_from_text\n",
      "build_from_background\n",
      "__repr__\n",
      "query\n",
      "verify\n",
      "set\n",
      "induce\n",
      "display_logs\n",
      "__dict__\n",
      "__weakref__\n",
      "__doc__\n",
      "__hash__\n",
      "__str__\n",
      "__getattribute__\n",
      "__setattr__\n",
      "__delattr__\n",
      "__lt__\n",
      "__le__\n",
      "__eq__\n",
      "__ne__\n",
      "__gt__\n",
      "__ge__\n",
      "__new__\n",
      "__reduce_ex__\n",
      "__reduce__\n",
      "__subclasshook__\n",
      "__init_subclass__\n",
      "__format__\n",
      "__sizeof__\n",
      "__dir__\n",
      "__class__\n"
     ]
    }
   ],
   "source": [
    "for attr in ew.data.__dir__():\n",
    "    print(attr)"
   ]
  },
  {
   "cell_type": "code",
   "execution_count": 3,
   "id": "64b01aa4",
   "metadata": {
    "scrolled": false
   },
   "outputs": [
    {
     "data": {
      "application/vnd.jupyter.widget-view+json": {
       "model_id": "026a65a67fe5437a89d728bd71558f89",
       "version_major": 2,
       "version_minor": 0
      },
      "text/plain": [
       "Tab(children=(VBox(children=(Dropdown(description='Example:', options=(parent(ada,sylvia)., parent(george,osca…"
      ]
     },
     "metadata": {},
     "output_type": "display_data"
    }
   ],
   "source": [
    "ap.display_logs()"
   ]
  },
  {
   "cell_type": "code",
   "execution_count": 1,
   "id": "fdf0ba1d",
   "metadata": {
    "scrolled": false
   },
   "outputs": [
    {
     "data": {
      "application/vnd.jupyter.widget-view+json": {
       "model_id": "94e7b1de4e48442a90bf6699951572bd",
       "version_major": 2,
       "version_minor": 0
      },
      "text/plain": [
       "AppLayout(children=(Output(layout=Layout(border='1px solid black', grid_area='footer', height='100%', width='1…"
      ]
     },
     "metadata": {},
     "output_type": "display_data"
    }
   ],
   "source": [
    "from aloe.queryinterface import QueryInterface\n",
    "qi = QueryInterface()\n",
    "qi.interact()"
   ]
  },
  {
   "cell_type": "code",
   "execution_count": 2,
   "id": "ad69fedb",
   "metadata": {},
   "outputs": [
    {
     "data": {
      "application/vnd.jupyter.widget-view+json": {
       "model_id": "b0113e152f7a4d0a8880e664ee8b296e",
       "version_major": 2,
       "version_minor": 0
      },
      "text/plain": [
       "Tab(children=(VBox(children=(HBox(children=(Button(description='Save', layout=Layout(height='auto', width='100…"
      ]
     },
     "metadata": {},
     "output_type": "display_data"
    }
   ],
   "source": [
    "from aloe.program import AloeProgram\n",
    "from collections import OrderedDict\n",
    "\n",
    "ap = AloeProgram.build_from(\"aloe/Examples/family.pl\")\n",
    "from aloe.interface.andante_interface import AndateInterface\n",
    "ai = AndateInterface(ap)\n",
    "ai.widget"
   ]
  },
  {
   "cell_type": "code",
   "execution_count": 2,
   "id": "bad1d6a5",
   "metadata": {},
   "outputs": [
    {
     "ename": "RecursionError",
     "evalue": "maximum recursion depth exceeded while calling a Python object",
     "output_type": "error",
     "traceback": [
      "\u001b[1;31m---------------------------------------------------------------------------\u001b[0m",
      "\u001b[1;31mRecursionError\u001b[0m                            Traceback (most recent call last)",
      "\u001b[1;32m~\\AppData\\Local\\Temp/ipykernel_26316/3126586759.py\u001b[0m in \u001b[0;36m<module>\u001b[1;34m\u001b[0m\n\u001b[0;32m     10\u001b[0m \u001b[1;33m\u001b[0m\u001b[0m\n\u001b[0;32m     11\u001b[0m \u001b[0ma\u001b[0m \u001b[1;33m=\u001b[0m \u001b[0mA\u001b[0m\u001b[1;33m(\u001b[0m\u001b[1;36m3\u001b[0m\u001b[1;33m)\u001b[0m\u001b[1;33m\u001b[0m\u001b[1;33m\u001b[0m\u001b[0m\n\u001b[1;32m---> 12\u001b[1;33m \u001b[0ma\u001b[0m\u001b[1;33m.\u001b[0m\u001b[0mb\u001b[0m\u001b[1;33m\u001b[0m\u001b[1;33m\u001b[0m\u001b[0m\n\u001b[0m",
      "\u001b[1;32m~\\AppData\\Local\\Temp/ipykernel_26316/3126586759.py\u001b[0m in \u001b[0;36mb\u001b[1;34m(self)\u001b[0m\n\u001b[0;32m      5\u001b[0m     \u001b[1;33m@\u001b[0m\u001b[0mproperty\u001b[0m\u001b[1;33m\u001b[0m\u001b[1;33m\u001b[0m\u001b[0m\n\u001b[0;32m      6\u001b[0m     \u001b[1;32mdef\u001b[0m \u001b[0mb\u001b[0m\u001b[1;33m(\u001b[0m\u001b[0mself\u001b[0m\u001b[1;33m)\u001b[0m\u001b[1;33m:\u001b[0m\u001b[1;33m\u001b[0m\u001b[1;33m\u001b[0m\u001b[0m\n\u001b[1;32m----> 7\u001b[1;33m         \u001b[1;32mif\u001b[0m \u001b[1;32mnot\u001b[0m \u001b[0mhasattr\u001b[0m\u001b[1;33m(\u001b[0m\u001b[0mself\u001b[0m\u001b[1;33m,\u001b[0m \u001b[1;34m'b'\u001b[0m\u001b[1;33m)\u001b[0m\u001b[1;33m:\u001b[0m\u001b[1;33m\u001b[0m\u001b[1;33m\u001b[0m\u001b[0m\n\u001b[0m\u001b[0;32m      8\u001b[0m             \u001b[0mself\u001b[0m\u001b[1;33m.\u001b[0m\u001b[0mb\u001b[0m \u001b[1;33m=\u001b[0m \u001b[1;36m1\u001b[0m\u001b[1;33m\u001b[0m\u001b[1;33m\u001b[0m\u001b[0m\n\u001b[0;32m      9\u001b[0m         \u001b[1;32mreturn\u001b[0m \u001b[0mself\u001b[0m\u001b[1;33m.\u001b[0m\u001b[0mb\u001b[0m\u001b[1;33m\u001b[0m\u001b[1;33m\u001b[0m\u001b[0m\n",
      "... last 1 frames repeated, from the frame below ...\n",
      "\u001b[1;32m~\\AppData\\Local\\Temp/ipykernel_26316/3126586759.py\u001b[0m in \u001b[0;36mb\u001b[1;34m(self)\u001b[0m\n\u001b[0;32m      5\u001b[0m     \u001b[1;33m@\u001b[0m\u001b[0mproperty\u001b[0m\u001b[1;33m\u001b[0m\u001b[1;33m\u001b[0m\u001b[0m\n\u001b[0;32m      6\u001b[0m     \u001b[1;32mdef\u001b[0m \u001b[0mb\u001b[0m\u001b[1;33m(\u001b[0m\u001b[0mself\u001b[0m\u001b[1;33m)\u001b[0m\u001b[1;33m:\u001b[0m\u001b[1;33m\u001b[0m\u001b[1;33m\u001b[0m\u001b[0m\n\u001b[1;32m----> 7\u001b[1;33m         \u001b[1;32mif\u001b[0m \u001b[1;32mnot\u001b[0m \u001b[0mhasattr\u001b[0m\u001b[1;33m(\u001b[0m\u001b[0mself\u001b[0m\u001b[1;33m,\u001b[0m \u001b[1;34m'b'\u001b[0m\u001b[1;33m)\u001b[0m\u001b[1;33m:\u001b[0m\u001b[1;33m\u001b[0m\u001b[1;33m\u001b[0m\u001b[0m\n\u001b[0m\u001b[0;32m      8\u001b[0m             \u001b[0mself\u001b[0m\u001b[1;33m.\u001b[0m\u001b[0mb\u001b[0m \u001b[1;33m=\u001b[0m \u001b[1;36m1\u001b[0m\u001b[1;33m\u001b[0m\u001b[1;33m\u001b[0m\u001b[0m\n\u001b[0;32m      9\u001b[0m         \u001b[1;32mreturn\u001b[0m \u001b[0mself\u001b[0m\u001b[1;33m.\u001b[0m\u001b[0mb\u001b[0m\u001b[1;33m\u001b[0m\u001b[1;33m\u001b[0m\u001b[0m\n",
      "\u001b[1;31mRecursionError\u001b[0m: maximum recursion depth exceeded while calling a Python object"
     ]
    }
   ],
   "source": [
    "class A:\n",
    "    def __init__(self, a):\n",
    "        self.a = a\n",
    "        \n",
    "    @property\n",
    "    def b(self):\n",
    "        if not hasattr(self, 'b'):\n",
    "            self.b = 1\n",
    "        return self.b\n",
    "    \n",
    "a = A(3)\n",
    "a.b"
   ]
  },
  {
   "cell_type": "code",
   "execution_count": null,
   "id": "e9a16c5f",
   "metadata": {},
   "outputs": [],
   "source": [
    "append([],L,L).\n",
    "append([H|T],L,[H|Lrem]) :- append(T,\n",
    "                                   L\n",
    "                                   ,\n",
    "                                   Lrem\n",
    "                                  ),\n",
    "                            not(H=2),\n",
    "    ...."
   ]
  },
  {
   "cell_type": "code",
   "execution_count": 3,
   "id": "56a6d900",
   "metadata": {},
   "outputs": [
    {
     "data": {
      "text/plain": [
       "{1: 2, 2: 3, 3: 4}"
      ]
     },
     "execution_count": 3,
     "metadata": {},
     "output_type": "execute_result"
    }
   ],
   "source": [
    "mode echec(person,cours).\n",
    "modeh(2, f(+type, -type)).\n",
    "echec(A,B,C) :- atom.\n",
    "{\n",
    "    'A':'person',\n",
    "    'C':'cours'\n",
    "}\n",
    "person(socrates).\n",
    "person = {socrates, jules, }\n",
    "lion(a,b)"
   ]
  },
  {
   "cell_type": "code",
   "execution_count": 1,
   "id": "95c27ead",
   "metadata": {},
   "outputs": [
    {
     "data": {
      "application/vnd.jupyter.widget-view+json": {
       "model_id": "ad319814fd2f40ca989445e64c2d9c68",
       "version_major": 2,
       "version_minor": 0
      },
      "text/plain": [
       "Tab(children=(VBox(children=(HBox(children=(Button(description='Save', layout=Layout(height='auto', width='100…"
      ]
     },
     "metadata": {},
     "output_type": "display_data"
    }
   ],
   "source": [
    "from aloe.interface.andante_interface import AndateInterface\n",
    "ai = AndateInterface()\n",
    "ai.widget"
   ]
  },
  {
   "cell_type": "code",
   "execution_count": 2,
   "id": "67f1573c",
   "metadata": {},
   "outputs": [
    {
     "name": "stdout",
     "output_type": "stream",
     "text": [
      "eat(gilles,bananas):-like(gilles,bananas).\n",
      "eat(arthur,bananas):-like(arthur,bananas).\n",
      "eat(gilles,peanuts):-like(gilles,peanuts).\n",
      "eat(arthur,peanuts):-like(arthur,peanuts).\n"
     ]
    },
    {
     "data": {
      "text/plain": [
       "{'pos': [eat(arthur,bananas)., eat(gilles,peanuts)., eat(arthur,peanuts).],\n",
       " 'neg': [eat(gilles,bananas).]}"
      ]
     },
     "execution_count": 2,
     "metadata": {},
     "output_type": "execute_result"
    }
   ],
   "source": [
    "\n",
    "ai.ap.generate_examples_from_clause('eat(A,B):-like(A,B).', {'A':'person', 'B':'food'}, update_examples=False)"
   ]
  },
  {
   "cell_type": "code",
   "execution_count": 4,
   "id": "d87e4139",
   "metadata": {},
   "outputs": [
    {
     "data": {
      "text/plain": [
       "Background:\n",
       "LogicProgram object\n",
       "   person(arthur).\n",
       "   person(gilles).\n",
       "   food(peanuts).\n",
       "   food(bananas).\n",
       "   like(arthur,X).\n",
       "   like(gilles,peanuts).\n",
       "\n",
       "Examples:\n",
       "Positive:\n",
       "\n",
       "Negative:\n",
       "\n",
       "\n",
       "Modes:\n",
       "modeh: {}\n",
       "modeb: {}\n",
       "determinations: {}\n",
       "\n",
       "options:\n",
       "i: 2\n",
       "c: 2\n",
       "h: 1000\n",
       "verbose: 0\n",
       "solver: AloeSolver\n",
       "learner: ProgolLearner\n",
       "hmetric: FnMetric\n",
       "update_knowledge: True\n",
       "logging: False"
      ]
     },
     "execution_count": 4,
     "metadata": {},
     "output_type": "execute_result"
    }
   ],
   "source": [
    "\n",
    "ai.ap"
   ]
  },
  {
   "cell_type": "code",
   "execution_count": 3,
   "id": "7168ca5a",
   "metadata": {},
   "outputs": [],
   "source": [
    "from parsimonious.grammar import Grammar\n",
    "from parsimonious.nodes import NodeVisitor\n",
    "\n",
    "grammar = Grammar(\"\"\"\n",
    "    equation       = not_equation / combi_equation / operation\n",
    "    not_equation   = \"not\" ws \"(\" ws equation ws \")\"\n",
    "    combi_equation = (\"and\" / \"or\" / \"xor\") ws \"(\" ws equation ws \",\" ws equation ws \")\"\n",
    "    operation      = (variable / number) ws (\"<\" / \"=\" / \">\" / \"=<\" / \"=>\") ws (variable / number)\n",
    "    ws = ~\"\\s*\"\n",
    "    word             = ~\"[a-z]\\w*\"\n",
    "    variable         = ~\"[A-Z]\\w*\"\n",
    "    number           = ~\"\\d+\"\n",
    "\"\"\")\n",
    "\n",
    "from abc import ABC, abstractmethod\n",
    "class Equation(ABC):\n",
    "    @abstractmethod\n",
    "    def eval(self, subst):\n",
    "        pass\n",
    "    \n",
    "class \n",
    "    \n",
    "\n",
    "class myVisitor(NodeVisitor):\n",
    "    # 0. In general\n",
    "    def generic_visit(self, node, visited_children):\n",
    "        \"\"\" The default visit method. \"\"\"\n",
    "        return visited_children\n",
    "    \n",
    "    # 1. For clauses\n",
    "    def visit_equation(self, node, visited_children):\n",
    "        choice, = visited_children\n",
    "        return choice\n",
    "    \n",
    "    def visit_not_equation(self, node, visited_children):\n",
    "        _, _, _, _, eq, _, _ = visited_children\n",
    "\n",
    "        "
   ]
  },
  {
   "cell_type": "code",
   "execution_count": 4,
   "id": "cfb6ac02",
   "metadata": {},
   "outputs": [],
   "source": [
    "a, = [1,]"
   ]
  },
  {
   "cell_type": "code",
   "execution_count": 8,
   "id": "057b4541",
   "metadata": {},
   "outputs": [
    {
     "ename": "TypeError",
     "evalue": "eval() arg 1 must be a string, bytes or code object",
     "output_type": "error",
     "traceback": [
      "\u001b[1;31m---------------------------------------------------------------------------\u001b[0m",
      "\u001b[1;31mTypeError\u001b[0m                                 Traceback (most recent call last)",
      "\u001b[1;32m~\\AppData\\Local\\Temp/ipykernel_19852/3118502980.py\u001b[0m in \u001b[0;36m<module>\u001b[1;34m\u001b[0m\n\u001b[0;32m      8\u001b[0m \u001b[1;33m\u001b[0m\u001b[0m\n\u001b[0;32m      9\u001b[0m \u001b[0ma\u001b[0m \u001b[1;33m=\u001b[0m \u001b[0mA\u001b[0m\u001b[1;33m(\u001b[0m\u001b[1;36m5\u001b[0m\u001b[1;33m)\u001b[0m\u001b[1;33m\u001b[0m\u001b[1;33m\u001b[0m\u001b[0m\n\u001b[1;32m---> 10\u001b[1;33m \u001b[0meval\u001b[0m\u001b[1;33m(\u001b[0m\u001b[0ma\u001b[0m\u001b[1;33m,\u001b[0m \u001b[0mglobals\u001b[0m\u001b[1;33m(\u001b[0m\u001b[1;33m)\u001b[0m\u001b[1;33m)\u001b[0m\u001b[1;33m\u001b[0m\u001b[1;33m\u001b[0m\u001b[0m\n\u001b[0m",
      "\u001b[1;31mTypeError\u001b[0m: eval() arg 1 must be a string, bytes or code object"
     ]
    }
   ],
   "source": [
    "class A:\n",
    "    def __init__(self, a):\n",
    "        self.a = a\n",
    "        \n",
    "    def __eval__(self, *args): \n",
    "        print(args)\n",
    "        return self.a\n",
    "    \n",
    "a = A(5)\n",
    "eval(a, globals())"
   ]
  },
  {
   "cell_type": "code",
   "execution_count": 7,
   "id": "8af75e30",
   "metadata": {},
   "outputs": [
    {
     "data": {
      "text/plain": [
       "<function eval(source, globals=None, locals=None, /)>"
      ]
     },
     "execution_count": 7,
     "metadata": {},
     "output_type": "execute_result"
    }
   ],
   "source": [
    "eval"
   ]
  },
  {
   "cell_type": "code",
   "execution_count": null,
   "id": "6daab64b",
   "metadata": {},
   "outputs": [],
   "source": []
  }
 ],
 "metadata": {
  "kernelspec": {
   "display_name": "Python 3 (ipykernel)",
   "language": "python",
   "name": "python3"
  },
  "language_info": {
   "codemirror_mode": {
    "name": "ipython",
    "version": 3
   },
   "file_extension": ".py",
   "mimetype": "text/x-python",
   "name": "python",
   "nbconvert_exporter": "python",
   "pygments_lexer": "ipython3",
   "version": "3.9.7"
  }
 },
 "nbformat": 4,
 "nbformat_minor": 5
}
