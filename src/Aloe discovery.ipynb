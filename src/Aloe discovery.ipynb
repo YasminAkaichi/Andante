{
 "cells": [
  {
   "cell_type": "markdown",
   "metadata": {},
   "source": [
    "# 1. Parser"
   ]
  },
  {
   "cell_type": "code",
   "execution_count": 2,
   "metadata": {},
   "outputs": [
    {
     "name": "stdout",
     "output_type": "stream",
     "text": [
      "Collecting parsimonious\n",
      "  Downloading parsimonious-0.8.1.tar.gz (45 kB)\n",
      "Requirement already satisfied: six>=1.9.0 in c:\\users\\simon\\anaconda3\\lib\\site-packages (from parsimonious) (1.16.0)\n",
      "Building wheels for collected packages: parsimonious\n",
      "  Building wheel for parsimonious (setup.py): started\n",
      "  Building wheel for parsimonious (setup.py): finished with status 'done'\n",
      "  Created wheel for parsimonious: filename=parsimonious-0.8.1-py3-none-any.whl size=42724 sha256=906b421b6b5643019c8cdc4bbd14a59647ec1e6cac86fb397e2391891907edea\n",
      "  Stored in directory: c:\\users\\simon\\appdata\\local\\pip\\cache\\wheels\\ae\\3f\\87\\24298980f6c0436680b8b64caac154f542e138487ed0f90f2a\n",
      "Successfully built parsimonious\n",
      "Installing collected packages: parsimonious\n",
      "Successfully installed parsimonious-0.8.1\n"
     ]
    }
   ],
   "source": [
    "!pip install parsimonious"
   ]
  },
  {
   "cell_type": "code",
   "execution_count": 3,
   "metadata": {},
   "outputs": [],
   "source": [
    "from aloe.parser import AloeParser\n",
    "from aloe.clause import *\n",
    "parser = AloeParser()"
   ]
  },
  {
   "cell_type": "code",
   "execution_count": 4,
   "metadata": {},
   "outputs": [],
   "source": [
    "try:\n",
    "    P = parser.parse_file(\"aloe/Examples/toparse.pl\")\n",
    "except Exception as e:\n",
    "    t = e\n",
    "    raise(e)"
   ]
  },
  {
   "cell_type": "code",
   "execution_count": 5,
   "metadata": {},
   "outputs": [
    {
     "name": "stdout",
     "output_type": "stream",
     "text": [
      "Background:\n",
      "personne(anne).\n",
      "personne(marie).\n",
      "personne(jean).\n",
      "personne(jacques).\n",
      "echec_pre(jean).\n",
      "echec_pre(jacques).\n",
      "\n",
      "Examples:\n",
      "{'pos': [echec_cours(jean)., echec_cours(jacques).], 'neg': [echec_cours(anne)., echec_cours(marie).]}\n",
      "\n",
      "Modes:\n",
      "<aloe.mode.ModeHandler object at 0x00000290ECD10400>\n",
      "\n",
      "options:\n",
      "c: 2\n",
      "h: 30\n",
      "verbose: 1\n"
     ]
    }
   ],
   "source": [
    "print(P)"
   ]
  },
  {
   "cell_type": "markdown",
   "metadata": {},
   "source": [
    "# 2. Aloe engine\n",
    "## 2.1 Matching atoms together"
   ]
  },
  {
   "cell_type": "markdown",
   "metadata": {},
   "source": [
    "205-208 handout"
   ]
  },
  {
   "cell_type": "markdown",
   "metadata": {},
   "source": [
    "mortel(X) :- man(X).\n",
    "man(socrates).\n",
    "\n",
    "mortel(socrates)?\n",
    "mortel(X)?"
   ]
  },
  {
   "cell_type": "code",
   "execution_count": 14,
   "metadata": {},
   "outputs": [],
   "source": [
    "# When initializing background\n",
    "\n",
    "from aloe.clause import *\n",
    "class FunctionCollection:\n",
    "    def __init__(self, functions, clauses):\n",
    "        self.clauses = set(clauses)\n",
    "        self.collec = dict()\n",
    "        for func, clause in zip(functions, clauses):\n",
    "            self.add(func, clause)\n",
    "            \n",
    "    def add(self, func, clause):\n",
    "        self.clauses.add(clause)\n",
    "        fname = func.longname\n",
    "        if fname not in self.collec:\n",
    "            self.collec[fname] = [{'Vars':set()} for _ in range(func.arity)]\n",
    "        for term, term_dict in zip(func, self.collec[fname]):\n",
    "            if isinstance(term, Constant):\n",
    "                if not term.name in term_dict:\n",
    "                    term_dict[term.name] = set()\n",
    "                term_dict[term.name].add(clause)    \n",
    "            elif isinstance(term, Variable):\n",
    "                term_dict['Vars'].add(clause)                        \n",
    "            elif isinstance(term, Function):\n",
    "                if 'Funcs' not in term_dict:\n",
    "                    term_dict['Funcs'] = FunctionCollection([],[])                       \n",
    "                term_dict['Funcs'].add(term,clause)\n",
    "            \n",
    "    def match(self, expr):\n",
    "        name = expr.longname\n",
    "        if name not in self.collec:\n",
    "            return set()\n",
    "        sets = []\n",
    "        for term, term_dict in zip(expr, self.collec[name]):\n",
    "            if isinstance(term, Constant):\n",
    "                if term.name in term_dict:\n",
    "                    sets.append(term_dict[term.name] | term_dict['Vars'])\n",
    "                else:\n",
    "                    sets.append(term_dict['Vars'])\n",
    "            elif isinstance(term, Variable):\n",
    "                sets.append(self.clauses)\n",
    "            elif isinstance(term, Function):\n",
    "                sets.append(term_dict['Funcs'].match(term))\n",
    "        return set.intersection(*sets)\n",
    "            \n",
    "    def __repr__(self):\n",
    "        return repr(self.collec)"
   ]
  },
  {
   "cell_type": "code",
   "execution_count": 15,
   "metadata": {},
   "outputs": [
    {
     "data": {
      "text/plain": [
       "{p(t('F')), p(t(a))}"
      ]
     },
     "execution_count": 15,
     "metadata": {},
     "output_type": "execute_result"
    }
   ],
   "source": [
    "atoms = [parser.parse_rule('p(t(%s))'%s,'atom') for s in ['a','b','c','d','F']]\n",
    "col = FunctionCollection(atoms, atoms)\n",
    "query = parser.parse_rule('p(t(a))','atom')\n",
    "col.match(query)"
   ]
  },
  {
   "cell_type": "code",
   "execution_count": 16,
   "metadata": {},
   "outputs": [],
   "source": [
    "class VariableBank:\n",
    "    def __init__(self):\n",
    "        self.variables = set()\n",
    "        self.count = 0\n",
    "                    \n",
    "    def newVariable(self):\n",
    "        var = Variable(self.count)\n",
    "        self.variables.add(var)\n",
    "        self.count += 1\n",
    "        return var\n",
    "    \n",
    "    @staticmethod\n",
    "    def build_from_atom(atom):\n",
    "        def update_variables(func):\n",
    "            for term in func:\n",
    "                if isinstance(term, Variable):\n",
    "                    vb.variables.add(term)\n",
    "                elif isinstance(term, Constant):\n",
    "                    continue\n",
    "                elif isinstance(term, Function):\n",
    "                    update_variables(term)\n",
    "        vb = VariableBank()\n",
    "        update_variables(atom)\n",
    "        return vb\n",
    "\n",
    "    def transform_clause(self, clause, subst=None):\n",
    "        if subst is None: subst = dict()\n",
    "        head = self.transform_atom(clause.head, subst)\n",
    "        body = [self.transform_atom(b, subst) for b in self.body]\n",
    "        return Clause(head, body)\n",
    "    \n",
    "    def transform_atom(self, atom, subst=None):\n",
    "        if subst is None: subst = dict()\n",
    "        p_name = atom.name\n",
    "        p_args = [self.transform_term(t, subst) for t in term]\n",
    "        return Predicate(p_name, p_args)\n",
    "    \n",
    "    def transform_term(self, term, subst=None):\n",
    "        if subst is None: subst = dict()\n",
    "        if isinstance(term, Variable):\n",
    "            if term in subst:\n",
    "                return subst[term]\n",
    "            else:\n",
    "                var = newVariable()\n",
    "                subst[term] = var\n",
    "                return var\n",
    "        elif isinstance(term, Constant):\n",
    "            return Constant\n",
    "        elif isinstance(term, Function):\n",
    "            f_name = term.name\n",
    "            f_args = [self.transform_term(t, subst) for t in term]\n",
    "            return Function(f_name, f_args)\n",
    "    "
   ]
  },
  {
   "cell_type": "code",
   "execution_count": 38,
   "metadata": {},
   "outputs": [],
   "source": [
    "# aloe.query\n",
    "# Matching 2 atoms\n",
    "CST, VAR, FUN = Constant.__name__, Variable.__name__, Function.__name__\n",
    "def match(atom1, atom2):    \n",
    "    \"\"\"\n",
    "    Tries to match two atoms together and returns the corresponding substitution.\n",
    "    If not possible, returns None.\n",
    "    \"\"\"\n",
    "    classes = atom1.__class__, atom2.__class__\n",
    "    if   classes == (CST, CST):\n",
    "        if atom1 == atom2:\n",
    "            return {}\n",
    "        else:\n",
    "            return None\n",
    "    elif classes in [(FUN, CST), (CST, FUN)]:\n",
    "        return None\n",
    "    elif classes == (FUN, FUN):\n",
    "        if atom1.name != atom2.name or atom1.arity != atom2.arity:\n",
    "            return None\n",
    "        else:\n",
    "            subst = dict()\n",
    "            terms1, terms2 = atom1.terms.copy(), atoms2.terms.copy()\n",
    "            for term1, term2 in zip(terms1, terms2):\n",
    "                s = match(term1, term2)\n",
    "                if s is None:\n",
    "                    return None\n",
    "                for var, term in s:\n",
    "                    if var in subst:\n",
    "                        term1.append(term)\n",
    "                        term2.append(subst[var])\n",
    "                    else:\n",
    "                        subst[var] = term\n",
    "            return subst\n",
    "    elif classes in [(VAR, CST), (VAR, FUN)]:\n",
    "        return {atom1:atom2}\n",
    "    elif classes in [(CST, VAR), (VAR, VAR), (FUN, VAR)]:\n",
    "        return {atom2:atom1}\n",
    "\n",
    "def apply_subst(term, subst):\n",
    "    \"\"\" \n",
    "    Applies variable substitution 'subst' to term 'term'.\n",
    "    Variables that are not in 'subst' are returned as they are.\n",
    "    \"\"\"\n",
    "    term_class = term.__class__\n",
    "    if   term_class == CST:\n",
    "        return term\n",
    "    elif term_class == VAR:\n",
    "        if term in subst:\n",
    "            return subst[term]\n",
    "        else:\n",
    "            return term\n",
    "    elif term_class == FUN:\n",
    "        f_name = term.name\n",
    "        f_args = [apply_subst(t, subst) for t in f_args]\n",
    "        return Function(f_name, f_args)\n",
    "        \n",
    "def var_in_term(var, term):\n",
    "    \"\"\" Checks whether variable 'var' can be found in term 'term' \"\"\"\n",
    "    term_class = term.__class__\n",
    "    if   term_class == CST:\n",
    "        return False\n",
    "    elif term_class == VAR:\n",
    "        return term==var\n",
    "    elif term_class == FUN:\n",
    "        return any([var_in_term(var,t) for t in term])\n",
    "    \n",
    "def unify(subst):\n",
    "    \"\"\" \n",
    "    Procedes to the unification of substitution. \n",
    "    In the case that such a substitution is not valid, None is returned. \n",
    "    \"\"\"\n",
    "    new_subst = dict()\n",
    "    for var, term in subst:\n",
    "        n_term = apply_subst(term, new_subst)\n",
    "        if var_in_term(var, n_term): # Fail to unify\n",
    "            return None\n",
    "        new_subst[var] = n_term\n",
    "    return new_subst\n"
   ]
  },
  {
   "cell_type": "code",
   "execution_count": 19,
   "metadata": {},
   "outputs": [
    {
     "data": {
      "text/plain": [
       "'Constant'"
      ]
     },
     "execution_count": 19,
     "metadata": {},
     "output_type": "execute_result"
    }
   ],
   "source": [
    "Constant.__name__"
   ]
  },
  {
   "cell_type": "code",
   "execution_count": 24,
   "metadata": {},
   "outputs": [],
   "source": [
    "t = \"b(cO,c,c(d),b(x)).\"\n",
    "clause = parser.parse_rule(t ,\"hornclause\")\n",
    "atom = clause.head"
   ]
  },
  {
   "cell_type": "code",
   "execution_count": 25,
   "metadata": {},
   "outputs": [
    {
     "data": {
      "text/plain": [
       "vocabulary.Constant"
      ]
     },
     "execution_count": 25,
     "metadata": {},
     "output_type": "execute_result"
    }
   ],
   "source": [
    "t = parser.parse_rule(\"a\",'constant')\n",
    "type(t)"
   ]
  },
  {
   "cell_type": "code",
   "execution_count": 8,
   "metadata": {},
   "outputs": [
    {
     "data": {
      "text/plain": [
       "cO"
      ]
     },
     "execution_count": 8,
     "metadata": {},
     "output_type": "execute_result"
    }
   ],
   "source": [
    "clause.head.terms[0]"
   ]
  },
  {
   "cell_type": "code",
   "execution_count": 9,
   "metadata": {},
   "outputs": [
    {
     "name": "stdout",
     "output_type": "stream",
     "text": [
      "<class 'vocabulary.Constant'>\n",
      "<class 'vocabulary.Constant'>\n",
      "<class 'vocabulary.Function'>\n",
      "<class 'vocabulary.Constant'>\n",
      "<class 'vocabulary.Function'>\n",
      "<class 'vocabulary.Constant'>\n"
     ]
    }
   ],
   "source": [
    "f = FunctionCollection([atom],[clause])"
   ]
  },
  {
   "cell_type": "code",
   "execution_count": 10,
   "metadata": {},
   "outputs": [
    {
     "data": {
      "text/plain": [
       "{'b/4': [{'Vars': set(), 'cO': {b(cO,c,c(d),b(x)).}},\n",
       "  {'Vars': set(), 'c': {b(cO,c,c(d),b(x)).}},\n",
       "  {'Vars': set(), 'Funcs': <__main__.FunctionCollection at 0x7f24984f5160>},\n",
       "  {'Vars': set(), 'Funcs': <__main__.FunctionCollection at 0x7f2498478640>}]}"
      ]
     },
     "execution_count": 10,
     "metadata": {},
     "output_type": "execute_result"
    }
   ],
   "source": [
    "f.collec"
   ]
  },
  {
   "cell_type": "code",
   "execution_count": null,
   "metadata": {},
   "outputs": [],
   "source": [
    "class LogicProgram:\n",
    "    def __init__(self, clauses=None):\n",
    "        self.clauses = clauses if clauses else list()\n",
    "        self.unit_pos = dict()\n",
    "        self.unit_neg = dict()"
   ]
  },
  {
   "cell_type": "code",
   "execution_count": null,
   "metadata": {},
   "outputs": [],
   "source": [
    "subst = {num:{Var:val}}"
   ]
  },
  {
   "cell_type": "code",
   "execution_count": null,
   "metadata": {},
   "outputs": [],
   "source": [
    "atom\n",
    "candidates = clauses[pred.name]\n",
    "for \n",
    "\n"
   ]
  },
  {
   "cell_type": "code",
   "execution_count": 3,
   "metadata": {},
   "outputs": [
    {
     "data": {
      "text/plain": [
       "True"
      ]
     },
     "execution_count": 3,
     "metadata": {},
     "output_type": "execute_result"
    }
   ],
   "source": [
    "def add_subst(term1, term2, subst1, subst2):\n",
    "    if isinstance(term2, Variable):\n",
    "        if term2 in subst2:\n",
    "            old_subst = subst[term2]\n",
    "            if old_subst == term1:\n",
    "                return term1\n",
    "            elif \n",
    "            if \n",
    "        subst[term2] = term1\n",
    "        return term1"
   ]
  },
  {
   "cell_type": "code",
   "execution_count": 20,
   "metadata": {},
   "outputs": [
    {
     "data": {
      "text/plain": [
       "False"
      ]
     },
     "execution_count": 20,
     "metadata": {},
     "output_type": "execute_result"
    }
   ],
   "source": [
    "a = (1,2)\n",
    "a == (_,2)"
   ]
  },
  {
   "cell_type": "code",
   "execution_count": 28,
   "metadata": {},
   "outputs": [
    {
     "ename": "SyntaxError",
     "evalue": "invalid syntax (<ipython-input-28-8a8245909101>, line 8)",
     "output_type": "error",
     "traceback": [
      "\u001b[0;36m  File \u001b[0;32m\"<ipython-input-28-8a8245909101>\"\u001b[0;36m, line \u001b[0;32m8\u001b[0m\n\u001b[0;31m    help(in)\u001b[0m\n\u001b[0m         ^\u001b[0m\n\u001b[0;31mSyntaxError\u001b[0m\u001b[0;31m:\u001b[0m invalid syntax\n"
     ]
    }
   ],
   "source": [
    "class A:\n",
    "    def __init__(self):\n",
    "        self.a = [2,3,4]\n",
    "     \n",
    "    def __iter__(self):\n",
    "        return iter(self.a)\n",
    "\n",
    "help(in)"
   ]
  },
  {
   "cell_type": "code",
   "execution_count": 13,
   "metadata": {},
   "outputs": [
    {
     "name": "stdout",
     "output_type": "stream",
     "text": [
      "1 3\n",
      "2 4\n"
     ]
    }
   ],
   "source": [
    "a = {1:3, 2:4}\n",
    "for i,j in a.items():\n",
    "    print(i,j)"
   ]
  },
  {
   "cell_type": "markdown",
   "metadata": {},
   "source": [
    "|\n",
    "a - b - c (list of atoms), (var bank), ()"
   ]
  },
  {
   "cell_type": "code",
   "execution_count": 15,
   "metadata": {},
   "outputs": [
    {
     "data": {
      "text/plain": [
       "True"
      ]
     },
     "execution_count": 15,
     "metadata": {},
     "output_type": "execute_result"
    }
   ],
   "source": [
    "isinstance(a, (list, dict))"
   ]
  },
  {
   "cell_type": "code",
   "execution_count": 18,
   "metadata": {},
   "outputs": [
    {
     "data": {
      "text/plain": [
       "(1, 2)"
      ]
     },
     "execution_count": 18,
     "metadata": {},
     "output_type": "execute_result"
    }
   ],
   "source": [
    "tuple(a)"
   ]
  },
  {
   "cell_type": "code",
   "execution_count": 89,
   "metadata": {},
   "outputs": [],
   "source": [
    "@dataclass        \n",
    "class Options(object):\n",
    "    def __init__(self, options=[]):\n",
    "        # Default values for options\n",
    "        self.c = 2\n",
    "        self.h = 30\n",
    "        self.verbose = 0\n",
    "        \n",
    "        # Here we introduce the user's options\n",
    "        if isinstance(options, dict): \n",
    "            options = options.items()\n",
    "        for attr, value in options:\n",
    "            setattr(self, attr, value)\n",
    "            \n",
    "    def __repr__(self):\n",
    "        return '\\n'.join(['%s: %s' % (attr, str(getattr(self, attr))) for attr in self.__slots__])\n"
   ]
  },
  {
   "cell_type": "code",
   "execution_count": null,
   "metadata": {},
   "outputs": [],
   "source": [
    "\n"
   ]
  },
  {
   "cell_type": "code",
   "execution_count": 90,
   "metadata": {},
   "outputs": [
    {
     "name": "stdout",
     "output_type": "stream",
     "text": [
      "Help on function dataclass in module dataclasses:\n",
      "\n",
      "dataclass(cls=None, /, *, init=True, repr=True, eq=True, order=False, unsafe_hash=False, frozen=False)\n",
      "    Returns the same class as was passed in, with dunder methods\n",
      "    added based on the fields defined in the class.\n",
      "    \n",
      "    Examines PEP 526 __annotations__ to determine fields.\n",
      "    \n",
      "    If init is true, an __init__() method is added to the class. If\n",
      "    repr is true, a __repr__() method is added. If order is true, rich\n",
      "    comparison dunder methods are added. If unsafe_hash is true, a\n",
      "    __hash__() method function is added. If frozen is true, fields may\n",
      "    not be assigned to after instance creation.\n",
      "\n"
     ]
    }
   ],
   "source": [
    "help(dataclass)"
   ]
  },
  {
   "cell_type": "code",
   "execution_count": 91,
   "metadata": {},
   "outputs": [],
   "source": [
    "o = Options([('c',3)])"
   ]
  },
  {
   "cell_type": "code",
   "execution_count": 93,
   "metadata": {},
   "outputs": [],
   "source": [
    "i=o.__class__()"
   ]
  },
  {
   "cell_type": "code",
   "execution_count": 80,
   "metadata": {},
   "outputs": [
    {
     "ename": "AttributeError",
     "evalue": "aloe.options.Options object has no 'f' attribute",
     "output_type": "error",
     "traceback": [
      "\u001b[1;31m---------------------------------------------------------------------------\u001b[0m",
      "\u001b[1;31mAttributeError\u001b[0m                            Traceback (most recent call last)",
      "\u001b[1;32m~\\AppData\\Local\\Temp/ipykernel_9472/2381319116.py\u001b[0m in \u001b[0;36m<module>\u001b[1;34m\u001b[0m\n\u001b[1;32m----> 1\u001b[1;33m \u001b[0mo\u001b[0m\u001b[1;33m.\u001b[0m\u001b[0mf\u001b[0m \u001b[1;33m=\u001b[0m \u001b[1;36m3\u001b[0m\u001b[1;33m\u001b[0m\u001b[1;33m\u001b[0m\u001b[0m\n\u001b[0m\u001b[0;32m      2\u001b[0m \u001b[0mo\u001b[0m\u001b[1;33m.\u001b[0m\u001b[0mf\u001b[0m\u001b[1;33m\u001b[0m\u001b[1;33m\u001b[0m\u001b[0m\n",
      "\u001b[1;32m~\\AppData\\Local\\Temp/ipykernel_9472/2150890989.py\u001b[0m in \u001b[0;36m__setattr__\u001b[1;34m(self, attr, value)\u001b[0m\n\u001b[0;32m     19\u001b[0m         \u001b[1;32melse\u001b[0m\u001b[1;33m:\u001b[0m\u001b[1;33m\u001b[0m\u001b[1;33m\u001b[0m\u001b[0m\n\u001b[0;32m     20\u001b[0m             \u001b[0mmessage\u001b[0m \u001b[1;33m=\u001b[0m \u001b[1;34m\"aloe.options.Options object has no '%s' attribute\"\u001b[0m \u001b[1;33m%\u001b[0m \u001b[1;33m(\u001b[0m\u001b[0mattr\u001b[0m\u001b[1;33m)\u001b[0m\u001b[1;33m\u001b[0m\u001b[1;33m\u001b[0m\u001b[0m\n\u001b[1;32m---> 21\u001b[1;33m             \u001b[1;32mraise\u001b[0m \u001b[0mAttributeError\u001b[0m\u001b[1;33m(\u001b[0m\u001b[0mmessage\u001b[0m\u001b[1;33m)\u001b[0m\u001b[1;33m\u001b[0m\u001b[1;33m\u001b[0m\u001b[0m\n\u001b[0m\u001b[0;32m     22\u001b[0m \u001b[1;33m\u001b[0m\u001b[0m\n\u001b[0;32m     23\u001b[0m     \u001b[1;32mdef\u001b[0m \u001b[0m__repr__\u001b[0m\u001b[1;33m(\u001b[0m\u001b[0mself\u001b[0m\u001b[1;33m)\u001b[0m\u001b[1;33m:\u001b[0m\u001b[1;33m\u001b[0m\u001b[1;33m\u001b[0m\u001b[0m\n",
      "\u001b[1;31mAttributeError\u001b[0m: aloe.options.Options object has no 'f' attribute"
     ]
    }
   ],
   "source": [
    "o.f = 3\n",
    "o.f"
   ]
  },
  {
   "cell_type": "code",
   "execution_count": 85,
   "metadata": {},
   "outputs": [
    {
     "ename": "TypeError",
     "evalue": "'type' object is not iterable",
     "output_type": "error",
     "traceback": [
      "\u001b[1;31m---------------------------------------------------------------------------\u001b[0m",
      "\u001b[1;31mTypeError\u001b[0m                                 Traceback (most recent call last)",
      "\u001b[1;32m~\\AppData\\Local\\Temp/ipykernel_9472/2972603471.py\u001b[0m in \u001b[0;36m<module>\u001b[1;34m\u001b[0m\n\u001b[1;32m----> 1\u001b[1;33m \u001b[0misinstance\u001b[0m\u001b[1;33m(\u001b[0m\u001b[1;33m[\u001b[0m\u001b[1;36m1\u001b[0m\u001b[1;33m]\u001b[0m\u001b[1;33m,\u001b[0m\u001b[0mlist\u001b[0m\u001b[1;33m(\u001b[0m\u001b[0mint\u001b[0m\u001b[1;33m)\u001b[0m\u001b[1;33m)\u001b[0m\u001b[1;33m\u001b[0m\u001b[1;33m\u001b[0m\u001b[0m\n\u001b[0m",
      "\u001b[1;31mTypeError\u001b[0m: 'type' object is not iterable"
     ]
    }
   ],
   "source": [
    "isinstance([1],list(int))"
   ]
  },
  {
   "cell_type": "code",
   "execution_count": null,
   "metadata": {},
   "outputs": [],
   "source": []
  }
 ],
 "metadata": {
  "kernelspec": {
   "display_name": "Python 3 (ipykernel)",
   "language": "python",
   "name": "python3"
  },
  "language_info": {
   "codemirror_mode": {
    "name": "ipython",
    "version": 3
   },
   "file_extension": ".py",
   "mimetype": "text/x-python",
   "name": "python",
   "nbconvert_exporter": "python",
   "pygments_lexer": "ipython3",
   "version": "3.9.7"
  }
 },
 "nbformat": 4,
 "nbformat_minor": 4
}
