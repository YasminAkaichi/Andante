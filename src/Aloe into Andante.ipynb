{
 "cells": [
  {
   "cell_type": "code",
   "execution_count": 2,
   "id": "3523d97f",
   "metadata": {},
   "outputs": [
    {
     "name": "stdout",
     "output_type": "stream",
     "text": [
      "Aloe discovery.ipynb\n",
      "Andante.ipynb\n",
      "Demonstration.ipynb\n",
      "Family example.ipynb\n",
      "README\n",
      "requirements.txt\n",
      "Sandbox.ipynb\n",
      ".ipynb_checkpoints/Aloe discovery-checkpoint.ipynb\n",
      ".ipynb_checkpoints/Aloe into Andante-checkpoint.ipynb\n",
      ".ipynb_checkpoints/Andante-checkpoint.ipynb\n",
      ".ipynb_checkpoints/Demonstration-checkpoint.ipynb\n",
      ".ipynb_checkpoints/Family example-checkpoint.ipynb\n",
      ".ipynb_checkpoints/Sandbox-checkpoint.ipynb\n",
      "aloe/clause.py\n",
      "aloe/clausecollection.py\n",
      "aloe/collections.py\n",
      "aloe/hypothesis_metrics.py\n",
      "aloe/knowledge.py\n",
      "aloe/learner.py\n",
      "aloe/livelog.py\n",
      "aloe/mode.py\n",
      "aloe/options.py\n",
      "aloe/parser.py\n",
      "aloe/program.py\n",
      "aloe/solver.py\n",
      "aloe/substitution.py\n",
      "aloe/userapi.py\n",
      "aloe/utils.py\n",
      "aloe/__init__.py\n",
      "Images/BatchNormalization1.png\n",
      "Images/BatchNormalization2.png\n",
      "Images/codeoverview.png\n",
      "Pdfs/InvEnt.pdf\n",
      "Pdfs/tutorial4.4.pdf\n",
      "aloe/.ipynb_checkpoints/Aloe discovery-checkpoint.ipynb\n",
      "aloe/Examples/family.pl\n",
      "aloe/Examples/family_image.png\n",
      "aloe/Examples/reussite.pl\n",
      "aloe/Examples/reussite2.pl\n",
      "aloe/Examples/short_family.pl\n",
      "aloe/Examples/toparse.pl\n",
      "aloe/interface/andante_interface.py\n"
     ]
    }
   ],
   "source": [
    "from aloe.utils import multiple_replace\n",
    "import os\n",
    "\n",
    "replacement = {'Aloe':'Andante', 'aloe':'andante'}\n",
    "\n",
    "END_PATH = {'Aloe into Andante.ipynb', 'Andante'}\n",
    "\n",
    "andante_path = 'Andante'\n",
    "def new_path(name):\n",
    "    return '%s/%s' % (andante_path, name)\n",
    "def change_text(text):\n",
    "    return multiple_replace(replacement, text)\n",
    "def create_dir(path):\n",
    "    if not os.path.exists(path):\n",
    "        os.mkdir(path)\n",
    "\n",
    "create_dir(andante_path)\n",
    "\n",
    "l = os.listdir()\n",
    "for name in l:\n",
    "    if name in END_PATH or '__pycache__'==name[-11:]:\n",
    "        continue\n",
    "        \n",
    "    new_name = new_path(change_text(name))\n",
    "    if os.path.isfile(name):\n",
    "        print(name)\n",
    "        if '.ipynb' in name or '.py' in name or '.pl' in name:\n",
    "            with open(name, 'r') as f_in, open(new_name, 'w') as f_out:\n",
    "                t_in  = f_in.read()\n",
    "                t_out = change_text(t_in)\n",
    "                f_out.write(t_out)\n",
    "        else:\n",
    "            os.system('cat %s > %s' % (name, new_name))\n",
    "        \n",
    "    else:\n",
    "        create_dir(new_name)\n",
    "        l_ = ['%s/%s' % (name, e) for e in os.listdir(name)]\n",
    "        l.extend(l_)\n"
   ]
  },
  {
   "cell_type": "code",
   "execution_count": null,
   "id": "2da7e5b2",
   "metadata": {},
   "outputs": [],
   "source": []
  }
 ],
 "metadata": {
  "kernelspec": {
   "display_name": "Python 3 (ipykernel)",
   "language": "python",
   "name": "python3"
  },
  "language_info": {
   "codemirror_mode": {
    "name": "ipython",
    "version": 3
   },
   "file_extension": ".py",
   "mimetype": "text/x-python",
   "name": "python",
   "nbconvert_exporter": "python",
   "pygments_lexer": "ipython3",
   "version": "3.9.7"
  }
 },
 "nbformat": 4,
 "nbformat_minor": 5
}
