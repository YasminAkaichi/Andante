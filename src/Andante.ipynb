{
 "cells": [
  {
   "cell_type": "code",
   "execution_count": 2,
   "id": "c6296ac9",
   "metadata": {
    "scrolled": false
   },
   "outputs": [
    {
     "data": {
      "application/vnd.jupyter.widget-view+json": {
       "model_id": "5d4fb2e92e5b499d9d0bf787b175cb54",
       "version_major": 2,
       "version_minor": 0
      },
      "text/plain": [
       "Tab(children=(VBox(children=(HBox(children=(Button(description='Save', layout=Layout(height='auto', width='100…"
      ]
     },
     "metadata": {},
     "output_type": "display_data"
    }
   ],
   "source": [
    "from aloe.program import AloeProgram\n",
    "from aloe.interface.andante_interface import AndateInterface\n",
    "\n",
    "ap = AloeProgram.build_from(\"aloe/Examples/family.pl\")\n",
    "\n",
    "t = \"\"\"\n",
    "mode old(person).\n",
    "old(A):-father(A,B).\n",
    "old(A):-mother(A,B).\n",
    "\"\"\"\n",
    "E = ap.generate_examples(t)\n",
    "\n",
    "ai = AndateInterface(ap)\n",
    "ai.widget"
   ]
  },
  {
   "cell_type": "code",
   "execution_count": null,
   "id": "4f469dd4",
   "metadata": {},
   "outputs": [],
   "source": []
  }
 ],
 "metadata": {
  "kernelspec": {
   "display_name": "Python 3 (ipykernel)",
   "language": "python",
   "name": "python3"
  },
  "language_info": {
   "codemirror_mode": {
    "name": "ipython",
    "version": 3
   },
   "file_extension": ".py",
   "mimetype": "text/x-python",
   "name": "python",
   "nbconvert_exporter": "python",
   "pygments_lexer": "ipython3",
   "version": "3.9.7"
  }
 },
 "nbformat": 4,
 "nbformat_minor": 5
}
