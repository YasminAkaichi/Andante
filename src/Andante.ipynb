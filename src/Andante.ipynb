{
 "cells": [
  {
   "cell_type": "code",
   "execution_count": 1,
   "id": "c6296ac9",
   "metadata": {
    "scrolled": false
   },
   "outputs": [
    {
     "data": {
      "application/vnd.jupyter.widget-view+json": {
       "model_id": "c943eb12be4e4ab2b41a26e7c3cc4243",
       "version_major": 2,
       "version_minor": 0
      },
      "text/plain": [
       "Tab(children=(VBox(children=(HBox(children=(Button(description='Save', layout=Layout(height='auto', width='100…"
      ]
     },
     "metadata": {},
     "output_type": "display_data"
    }
   ],
   "source": [
    "from aloe.program import AloeProgram\n",
    "from aloe.andante_interface import AndateInterface\n",
    "\n",
    "ap = AloeProgram.build_from_file(\"aloe/Examples/family.pl\")\n",
    "ai = AndateInterface(ap)\n",
    "ai.widget"
   ]
  },
  {
   "cell_type": "code",
   "execution_count": 4,
   "id": "07642082",
   "metadata": {},
   "outputs": [
    {
     "data": {
      "text/plain": [
       "{'all': {'father(george,oscar).',\n",
       "  'father(louis,andrew).',\n",
       "  'father(louis,john).',\n",
       "  'father(louis,robert).',\n",
       "  'father(louis,stephen).',\n",
       "  'father(oscar,bernard).',\n",
       "  'father(oscar,cathleen).',\n",
       "  'father(oscar,daphne).',\n",
       "  'father(oscar,fred).',\n",
       "  'father(oscar,louis).',\n",
       "  'father(paul,edith).',\n",
       "  'father(william,sylvia).',\n",
       "  'mother(ada,sylvia).',\n",
       "  'mother(edith,bernard).',\n",
       "  'mother(edith,cathleen).',\n",
       "  'mother(edith,daphne).',\n",
       "  'mother(edith,fred).',\n",
       "  'mother(edith,louis).',\n",
       "  'mother(sylvia,andrew).',\n",
       "  'mother(sylvia,john).',\n",
       "  'mother(sylvia,robert).',\n",
       "  'mother(sylvia,stephen).',\n",
       "  'person(ada).',\n",
       "  'person(andrew).',\n",
       "  'person(bernard).',\n",
       "  'person(cathleen).',\n",
       "  'person(daphne).',\n",
       "  'person(edith).',\n",
       "  'person(fred).',\n",
       "  'person(george).',\n",
       "  'person(john).',\n",
       "  'person(louis).',\n",
       "  'person(oscar).',\n",
       "  'person(paul).',\n",
       "  'person(robert).',\n",
       "  'person(stephen).',\n",
       "  'person(sylvia).',\n",
       "  'person(william).'},\n",
       " 'facts': {'father(george,oscar).',\n",
       "  'father(louis,andrew).',\n",
       "  'father(louis,john).',\n",
       "  'father(louis,robert).',\n",
       "  'father(louis,stephen).',\n",
       "  'father(oscar,bernard).',\n",
       "  'father(oscar,cathleen).',\n",
       "  'father(oscar,daphne).',\n",
       "  'father(oscar,fred).',\n",
       "  'father(oscar,louis).',\n",
       "  'father(paul,edith).',\n",
       "  'father(william,sylvia).',\n",
       "  'mother(ada,sylvia).',\n",
       "  'mother(edith,bernard).',\n",
       "  'mother(edith,cathleen).',\n",
       "  'mother(edith,daphne).',\n",
       "  'mother(edith,fred).',\n",
       "  'mother(edith,louis).',\n",
       "  'mother(sylvia,andrew).',\n",
       "  'mother(sylvia,john).',\n",
       "  'mother(sylvia,robert).',\n",
       "  'mother(sylvia,stephen).',\n",
       "  'person(ada).',\n",
       "  'person(andrew).',\n",
       "  'person(bernard).',\n",
       "  'person(cathleen).',\n",
       "  'person(daphne).',\n",
       "  'person(edith).',\n",
       "  'person(fred).',\n",
       "  'person(george).',\n",
       "  'person(john).',\n",
       "  'person(louis).',\n",
       "  'person(oscar).',\n",
       "  'person(paul).',\n",
       "  'person(robert).',\n",
       "  'person(stephen).',\n",
       "  'person(sylvia).',\n",
       "  'person(william).'},\n",
       " 'rules': set()}"
      ]
     },
     "execution_count": 4,
     "metadata": {},
     "output_type": "execute_result"
    }
   ],
   "source": [
    "ai.qi._clauses"
   ]
  },
  {
   "cell_type": "code",
   "execution_count": null,
   "id": "12687333",
   "metadata": {},
   "outputs": [],
   "source": []
  }
 ],
 "metadata": {
  "kernelspec": {
   "display_name": "Python 3 (ipykernel)",
   "language": "python",
   "name": "python3"
  },
  "language_info": {
   "codemirror_mode": {
    "name": "ipython",
    "version": 3
   },
   "file_extension": ".py",
   "mimetype": "text/x-python",
   "name": "python",
   "nbconvert_exporter": "python",
   "pygments_lexer": "ipython3",
   "version": "3.9.7"
  }
 },
 "nbformat": 4,
 "nbformat_minor": 5
}
