{
 "cells": [
  {
   "cell_type": "code",
   "execution_count": 4,
   "id": "c6296ac9",
   "metadata": {
    "scrolled": false
   },
   "outputs": [
    {
     "data": {
      "application/vnd.jupyter.widget-view+json": {
       "model_id": "ec9047941dc146a5b171e4ad73e5d5fb",
       "version_major": 2,
       "version_minor": 0
      },
      "text/plain": [
       "Tab(children=(VBox(children=(HBox(children=(Button(description='Save', layout=Layout(height='auto', width='100…"
      ]
     },
     "metadata": {},
     "output_type": "display_data"
    }
   ],
   "source": [
    "from aloe.program import AloeProgram\n",
    "from aloe.interface.andante_interface import AndateInterface\n",
    "\n",
    "ap = AloeProgram.build_from(\"aloe/Examples/family.pl\")\n",
    "t = \"\"\"\n",
    "modeh(*, old(+person)).\n",
    "determination(old/1, father/2).\n",
    "determination(old/1, mother/2).\n",
    "determination(old/1, parent/2).\n",
    "old(A) :- father(A,B).\n",
    "old(A) :- mother(A,B).\n",
    "\"\"\"\n",
    "E = ap.generate_examples(t)\n",
    "ai = AndateInterface(ap)\n",
    "ai.widget"
   ]
  },
  {
   "cell_type": "code",
   "execution_count": null,
   "id": "13c44f4b",
   "metadata": {},
   "outputs": [],
   "source": []
  }
 ],
 "metadata": {
  "kernelspec": {
   "display_name": "Python 3 (ipykernel)",
   "language": "python",
   "name": "python3"
  },
  "language_info": {
   "codemirror_mode": {
    "name": "ipython",
    "version": 3
   },
   "file_extension": ".py",
   "mimetype": "text/x-python",
   "name": "python",
   "nbconvert_exporter": "python",
   "pygments_lexer": "ipython3",
   "version": "3.9.7"
  }
 },
 "nbformat": 4,
 "nbformat_minor": 5
}
