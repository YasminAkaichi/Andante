{
 "cells": [
  {
   "cell_type": "markdown",
   "id": "8aca903b",
   "metadata": {},
   "source": [
    "# Introduction\n",
    "This is a python notebook on inductive logic programming using the andante package showcases.  \n",
    "To make this work, we first need to import the relevant functions from the andante package to then be able to use them."
   ]
  },
  {
   "cell_type": "code",
   "execution_count": 8,
   "id": "406ba76f",
   "metadata": {},
   "outputs": [],
   "source": [
    "from andante.userapi import deduce, induce"
   ]
  },
  {
   "cell_type": "markdown",
   "id": "19166525",
   "metadata": {},
   "source": [
    "## Background theory\n",
    "\n",
    "We define here a pre-existing knowledge that we name background theory.  \n",
    "In particular, each bit of knowledge is separated by a dot.\n",
    "'parent(ann,mary).' is a bit of knowledge.\n",
    "- we note here that ann and mary are noted in lowercases, uppercases are reserved to variables.\n",
    "- the bit of knowledge tells us that ann is the parent of mary. "
   ]
  },
  {
   "cell_type": "code",
   "execution_count": 2,
   "id": "ff1d1d79",
   "metadata": {},
   "outputs": [],
   "source": [
    "bckg_th = '''\n",
    "person(ann).\n",
    "person(mary).\n",
    "person(tom).\n",
    "person(eve).\n",
    "\n",
    "parent(ann,mary).\n",
    "parent(ann,tom).\n",
    "parent(tom,eve).\n",
    "\n",
    "female(ann).\n",
    "female(mary).\n",
    "female(eve).\n",
    "'''"
   ]
  },
  {
   "cell_type": "markdown",
   "id": "612f9471",
   "metadata": {},
   "source": [
    "## Positive examples\n",
    "In this section, we define positive examples. That is facts that we know are true concerning the relation of interest. In our case, we are interested in knowing the 'daughter'. As such our positive examples will be of the form 'daughter(X,Y).'"
   ]
  },
  {
   "cell_type": "code",
   "execution_count": 3,
   "id": "7cacc091",
   "metadata": {},
   "outputs": [],
   "source": [
    "pos_ex = '''\n",
    "daughter(mary,ann).\n",
    "daughter(eve,tom).\n",
    "'''"
   ]
  },
  {
   "cell_type": "markdown",
   "id": "e30256af",
   "metadata": {},
   "source": [
    "## Negative examples\n",
    "Negative examples are examples that are false."
   ]
  },
  {
   "cell_type": "code",
   "execution_count": 4,
   "id": "6b76e29b",
   "metadata": {},
   "outputs": [],
   "source": [
    "neg_ex = '''\n",
    "daughter(tom,ann).\n",
    "daughter(tom,eve).\n",
    "'''"
   ]
  },
  {
   "cell_type": "markdown",
   "id": "25bd770c",
   "metadata": {},
   "source": [
    "## Additional information for learning\n",
    "In addition, we need to tell the learner on which relations it can rely to construct the 'daughter' relation."
   ]
  },
  {
   "cell_type": "code",
   "execution_count": 5,
   "id": "142a1277",
   "metadata": {},
   "outputs": [],
   "source": [
    "modes = '''\n",
    "modeh(10,daughter(+person,-person)).\n",
    "modeb(10,parent(+person,-person)).\n",
    "modeb(10,parent(-person,+person)).\n",
    "modeb(10,female(+person)).\n",
    "modeb(10,female(-person)).\n",
    "'''"
   ]
  },
  {
   "cell_type": "markdown",
   "id": "2babe5fc",
   "metadata": {},
   "source": [
    "## Learn theory\n",
    "We can now learn the theory "
   ]
  },
  {
   "cell_type": "code",
   "execution_count": 10,
   "id": "46c78a39",
   "metadata": {},
   "outputs": [
    {
     "data": {
      "text/plain": [
       "'daughter(V0,V1):-parent(V1,V0),female(V0).'"
      ]
     },
     "execution_count": 10,
     "metadata": {},
     "output_type": "execute_result"
    }
   ],
   "source": [
    "th = {'background':bckg_th, \n",
    "      'positive_examples':pos_ex, \n",
    "      'negative_examples':neg_ex,\n",
    "      'modes':modes}\n",
    "induce(th)\n"
   ]
  },
  {
   "cell_type": "markdown",
   "id": "94108a7b",
   "metadata": {},
   "source": [
    "We can also query the theory"
   ]
  },
  {
   "cell_type": "code",
   "execution_count": 7,
   "id": "4c204291",
   "metadata": {},
   "outputs": [
    {
     "data": {
      "text/plain": [
       "'{X:ann}'"
      ]
     },
     "execution_count": 7,
     "metadata": {},
     "output_type": "execute_result"
    }
   ],
   "source": [
    "q = 'daughter(X,mary).' # Who is the daughter of mary\n",
    "deduce(th,q)"
   ]
  },
  {
   "cell_type": "code",
   "execution_count": null,
   "id": "fa06d286",
   "metadata": {},
   "outputs": [],
   "source": []
  }
 ],
 "metadata": {
  "kernelspec": {
   "display_name": "Python 3 (ipykernel)",
   "language": "python",
   "name": "python3"
  },
  "language_info": {
   "codemirror_mode": {
    "name": "ipython",
    "version": 3
   },
   "file_extension": ".py",
   "mimetype": "text/x-python",
   "name": "python",
   "nbconvert_exporter": "python",
   "pygments_lexer": "ipython3",
   "version": "3.9.7"
  }
 },
 "nbformat": 4,
 "nbformat_minor": 5
}
