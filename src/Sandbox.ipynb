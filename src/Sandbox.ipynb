{
 "cells": [
  {
   "cell_type": "code",
   "execution_count": 6,
   "id": "61c7827c",
   "metadata": {},
   "outputs": [
    {
     "data": {
      "text/plain": [
       "{1, 2, 3}"
      ]
     },
     "execution_count": 6,
     "metadata": {},
     "output_type": "execute_result"
    }
   ],
   "source": [
    "a = {1, 2}\n",
    "b = {2, 3}\n",
    "c = {3, 4}\n",
    "\n",
    "set.union(a,b)"
   ]
  },
  {
   "cell_type": "code",
   "execution_count": 8,
   "id": "7064a8e0",
   "metadata": {},
   "outputs": [
    {
     "name": "stdout",
     "output_type": "stream",
     "text": [
      "(0, 0, 0)\n"
     ]
    }
   ],
   "source": [
    "def fun():\n",
    "    for i in range(3):\n",
    "        yield i\n",
    "from itertools import product\n",
    "for terms in product(*[fun() for _ in range(3)]):\n",
    "    print(terms)\n",
    "    break"
   ]
  },
  {
   "cell_type": "code",
   "execution_count": 13,
   "id": "8cb8abec",
   "metadata": {},
   "outputs": [
    {
     "name": "stdout",
     "output_type": "stream",
     "text": [
      "[1, 2, 3, 4]\n"
     ]
    }
   ],
   "source": [
    "import itertools\n",
    "print(list(itertools.islice([1, 2, 3, 4],7)))"
   ]
  },
  {
   "cell_type": "code",
   "execution_count": 1,
   "id": "03d30658",
   "metadata": {},
   "outputs": [],
   "source": []
  },
  {
   "cell_type": "code",
   "execution_count": 1,
   "id": "d1d39bcf",
   "metadata": {},
   "outputs": [
    {
     "name": "stdout",
     "output_type": "stream",
     "text": [
      "Candidate: parent(V0,mary).\n",
      "0\n",
      "Atom parent(V0,mary) parent/2\n",
      "parent/2 {'person/1': [{'Vars': set(), 'ann': {person(ann).}, 'mary': {person(mary).}, 'tom': {person(tom).}, 'eve': {person(eve).}}], 'parent/2': [{'Vars': set(), 'ann': {parent(ann,mary)., parent(ann,tom).}, 'tom': {parent(tom,eve).}}, {'Vars': set(), 'mary': {parent(ann,mary).}, 'tom': {parent(ann,tom).}, 'eve': {parent(tom,eve).}}], 'female/1': [{'Vars': set(), 'ann': {female(ann).}, 'mary': {female(mary).}, 'eve': {female(eve).}}]}\n",
      "Term V0\n",
      "Term mary\n",
      "Sets [{parent(tom,eve)., parent(ann,mary)., parent(ann,tom).}, set()]\n",
      "parent/2 {'daughter/2': [{'Vars': set(), 'mary': {daughter(mary,ann).}}, {'Vars': set(), 'ann': {daughter(mary,ann).}}]}\n",
      "Candidates set()\n",
      "R []\n",
      "False []\n",
      "\n",
      "Candidate: female(mary).\n",
      "0\n",
      "Atom female(mary) female/1\n",
      "female/1 {'person/1': [{'Vars': set(), 'ann': {person(ann).}, 'mary': {person(mary).}, 'tom': {person(tom).}, 'eve': {person(eve).}}], 'parent/2': [{'Vars': set(), 'ann': {parent(ann,mary)., parent(ann,tom).}, 'tom': {parent(tom,eve).}}, {'Vars': set(), 'mary': {parent(ann,mary).}, 'tom': {parent(ann,tom).}, 'eve': {parent(tom,eve).}}], 'female/1': [{'Vars': set(), 'ann': {female(ann).}, 'mary': {female(mary).}, 'eve': {female(eve).}}]}\n",
      "Term mary\n",
      "Sets [set()]\n",
      "female/1 {'daughter/2': [{'Vars': set(), 'mary': {daughter(mary,ann).}}, {'Vars': set(), 'ann': {daughter(mary,ann).}}]}\n",
      "Candidates set()\n",
      "R []\n",
      "False []\n",
      "\n",
      "daughter(mary,ann).\n",
      "daughter(V0,V1).\n"
     ]
    }
   ],
   "source": [
    "from aloe.program import AloeProgram\n",
    "text = \"\"\"\n",
    "modeh(10,daughter(+person,-person)).\n",
    "%modeb(10,parent(+person,-person)).\n",
    "modeb(10,parent(-person,+person)).\n",
    "modeb(1,female(+person)).\n",
    "%modeb(1,female(-person)).\n",
    "%\n",
    "determination(daughter/2,parent/2).\n",
    "determination(daughter/2,female/1).\n",
    "%    \n",
    "set(verbose,1).\n",
    "\n",
    ":- begin_bg.\n",
    "person(ann).\n",
    "person(mary).\n",
    "person(tom).\n",
    "person(eve).\n",
    "\n",
    "parent(ann,mary).\n",
    "parent(ann,tom).\n",
    "parent(tom,eve).\n",
    "\n",
    "female(ann).\n",
    "female(mary).\n",
    "female(eve).\n",
    ":- end_bg.\n",
    "    \n",
    "\n",
    ":- begin_in_pos.\n",
    "daughter(mary,ann).\n",
    "daughter(eve,tom).\n",
    ":- end_in_pos.\n",
    "\n",
    ":- begin_in_neg.\n",
    "daughter(tom,ann).\n",
    "daughter(tom,eve).\n",
    ":- end_in_neg.\n",
    "\"\"\"\n",
    "ap = AloeProgram.build_from_text(text)\n",
    "ap.induce()"
   ]
  },
  {
   "cell_type": "code",
   "execution_count": 2,
   "id": "bc4f75fa",
   "metadata": {},
   "outputs": [
    {
     "data": {
      "text/plain": [
       "<generator object fun at 0x000001FB9A2B5580>"
      ]
     },
     "execution_count": 2,
     "metadata": {},
     "output_type": "execute_result"
    }
   ],
   "source": [
    "def fun():\n",
    "    yield 1\n",
    "fun()"
   ]
  },
  {
   "cell_type": "code",
   "execution_count": 5,
   "id": "de66aa42",
   "metadata": {},
   "outputs": [
    {
     "name": "stdout",
     "output_type": "stream",
     "text": [
      "0\n",
      "Atom female(mary)\n",
      "Candidates {female(mary).}\n",
      "Match {female(mary).}\n",
      "Clause female(mary).\n",
      "Subst {}\n",
      "Atoms []\n",
      "1\n",
      "R [{}]\n",
      "[(True, [{}])]\n"
     ]
    }
   ],
   "source": [
    "from aloe.knowledge import MultipleKnowledge, LogicProgram\n",
    "ap = AloeProgram.build_from_text(text)\n",
    "ap.knowledge = MultipleKnowledge(LogicProgram(options=ap.options), ap.knowledge, options=ap.options)\n",
    "print(ap.query('female(mary).'))\n"
   ]
  },
  {
   "cell_type": "code",
   "execution_count": 2,
   "id": "074433ee",
   "metadata": {},
   "outputs": [
    {
     "ename": "TypeError",
     "evalue": "object of type 'NoneType' has no len()",
     "output_type": "error",
     "traceback": [
      "\u001b[1;31m---------------------------------------------------------------------------\u001b[0m",
      "\u001b[1;31mTypeError\u001b[0m                                 Traceback (most recent call last)",
      "\u001b[1;32m~\\AppData\\Local\\Temp/ipykernel_5452/597994717.py\u001b[0m in \u001b[0;36m<module>\u001b[1;34m\u001b[0m\n\u001b[1;32m----> 1\u001b[1;33m \u001b[0mlen\u001b[0m\u001b[1;33m(\u001b[0m\u001b[1;32mNone\u001b[0m\u001b[1;33m)\u001b[0m\u001b[1;33m\u001b[0m\u001b[1;33m\u001b[0m\u001b[0m\n\u001b[0m",
      "\u001b[1;31mTypeError\u001b[0m: object of type 'NoneType' has no len()"
     ]
    }
   ],
   "source": [
    "len(None)"
   ]
  },
  {
   "cell_type": "code",
   "execution_count": 1,
   "id": "029185fa",
   "metadata": {},
   "outputs": [
    {
     "name": "stdout",
     "output_type": "stream",
     "text": [
      "<class 'aloe.clause.Predicate'> female(mary)\n",
      "<class 'aloe.clause.Constant'> mary\n"
     ]
    }
   ],
   "source": [
    "from aloe.clause import Clause, Predicate, Function, Constant, Variable, Operator\n",
    "def print_class_in_depth(element):\n",
    "    print(element.__class__, element)\n",
    "    if isinstance(element, Operator):\n",
    "        for t in element:\n",
    "            print_class_in_depth(t)\n",
    "\n",
    "atom = Predicate('female', [Constant('mary')])\n",
    "print_class_in_depth(atom)            "
   ]
  },
  {
   "cell_type": "code",
   "execution_count": null,
   "id": "40a6698f",
   "metadata": {},
   "outputs": [],
   "source": []
  }
 ],
 "metadata": {
  "kernelspec": {
   "display_name": "Python 3 (ipykernel)",
   "language": "python",
   "name": "python3"
  },
  "language_info": {
   "codemirror_mode": {
    "name": "ipython",
    "version": 3
   },
   "file_extension": ".py",
   "mimetype": "text/x-python",
   "name": "python",
   "nbconvert_exporter": "python",
   "pygments_lexer": "ipython3",
   "version": "3.9.7"
  }
 },
 "nbformat": 4,
 "nbformat_minor": 5
}
