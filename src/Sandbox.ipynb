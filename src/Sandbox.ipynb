{
 "cells": [
  {
   "cell_type": "code",
   "execution_count": 1,
   "id": "d1d39bcf",
   "metadata": {},
   "outputs": [
    {
     "name": "stdout",
     "output_type": "stream",
     "text": [
      "Examples: 3p/2n\n",
      "Current example: daughter(lucy,tom).\n",
      "Bottom_i: daughter(A,B):-female(A),female(C),female(D),female(E),parent(B,A),female(A),female(C),female(D),female(E),parent(C,E),parent(C,B),parent(B,D),parent(B,A).\n",
      "State: [  0,  1,  3,  2,  2,  0] daughter(A,B).\n",
      "State: [  1,  1,  3,  0,  1,  1] daughter(A,B):-female(A).\n",
      "State: [  1,  0,  3,  1,  2,  1] daughter(A,B):-parent(B,D).\n",
      "State: [  1,  0,  3,  1,  2,  1] daughter(A,B):-parent(B,A).\n",
      "State: [  2,  0,  3,  0,  1,  1] daughter(A,B):-parent(B,A),female(A).\n",
      "Clause: daughter(A,B):-female(A).\n"
     ]
    },
    {
     "data": {
      "text/plain": [
       "LogicProgram object\n",
       "   daughter(A,B):-female(A)."
      ]
     },
     "execution_count": 1,
     "metadata": {},
     "output_type": "execute_result"
    }
   ],
   "source": [
    "from aloe.program import AloeProgram\n",
    "text = \"\"\"\n",
    "modeh(*,daughter(+person,-person)).\n",
    "modeb(*,parent(+person,-person)).\n",
    "modeb(*,parent(-person,+person)).\n",
    "modeb(*,female(+person)).\n",
    "modeb(*,female(-person)).\n",
    "%\n",
    "determination(daughter/2,parent/2).\n",
    "determination(daughter/2,female/1).\n",
    "%    \n",
    "set(verbose,1).\n",
    "\n",
    ":- begin_bg.\n",
    "person(ann).\n",
    "person(mary).\n",
    "person(tom).\n",
    "person(eve).\n",
    "person(lucy).\n",
    "\n",
    "parent(ann,mary).\n",
    "parent(ann,tom).\n",
    "parent(tom,eve).\n",
    "parent(tom,lucy).\n",
    "\n",
    "female(ann).\n",
    "female(mary).\n",
    "female(eve).\n",
    "female(lucy).\n",
    ":- end_bg.\n",
    "    \n",
    "\n",
    ":- begin_in_pos.\n",
    "daughter(lucy,tom).\n",
    "daughter(mary,ann).\n",
    "daughter(eve,tom).\n",
    ":- end_in_pos.\n",
    "\n",
    ":- begin_in_neg.\n",
    "daughter(tom,ann).\n",
    "daughter(tom,eve).\n",
    ":- end_in_neg.\n",
    "\"\"\"\n",
    "ap = AloeProgram.build_from_text(text)\n",
    "ap.induce(update_B=False, keep_logs=True)\n",
    "#ap.query('female(X),parent(ann,X),person(Y).')\n"
   ]
  },
  {
   "cell_type": "code",
   "execution_count": 2,
   "id": "15357847",
   "metadata": {},
   "outputs": [
    {
     "data": {
      "text/plain": [
       "<aloe.livelogs.LiveLog at 0x1e10852d5e0>"
      ]
     },
     "execution_count": 2,
     "metadata": {},
     "output_type": "execute_result"
    }
   ],
   "source": [
    "l = ap.learner.logs[0]\n",
    "l"
   ]
  },
  {
   "cell_type": "code",
   "execution_count": 3,
   "id": "26565379",
   "metadata": {},
   "outputs": [],
   "source": [
    "l.regroup_eventlogs()"
   ]
  },
  {
   "cell_type": "code",
   "execution_count": 4,
   "id": "087e6991",
   "metadata": {},
   "outputs": [
    {
     "data": {
      "text/plain": [
       "[{'Examples': [{'pos': [daughter(lucy,tom).,\n",
       "     daughter(mary,ann).,\n",
       "     daughter(eve,tom).],\n",
       "    'neg': [daughter(tom,ann)., daughter(tom,eve).]}],\n",
       "  'Current example': [daughter(lucy,tom).],\n",
       "  'Bottom_i': [daughter(A,B):-female(A),female(C),female(D),female(E),parent(B,A),female(A),female(C),female(D),female(E),parent(C,E),parent(C,B),parent(B,D),parent(B,A).],\n",
       "  'State': [<aloe.hypothesis_metrics.FnMetric._State at 0x1e1086c9790>,\n",
       "   <aloe.hypothesis_metrics.FnMetric._State at 0x1e1086c9c10>,\n",
       "   <aloe.hypothesis_metrics.FnMetric._State at 0x1e108629070>,\n",
       "   <aloe.hypothesis_metrics.FnMetric._State at 0x1e1085f8070>,\n",
       "   <aloe.hypothesis_metrics.FnMetric._State at 0x1e1086c97f0>],\n",
       "  'Clause': [daughter(A,B):-female(A).]}]"
      ]
     },
     "execution_count": 4,
     "metadata": {},
     "output_type": "execute_result"
    }
   ],
   "source": [
    "l.groups"
   ]
  },
  {
   "cell_type": "code",
   "execution_count": 2,
   "id": "49cb05ca",
   "metadata": {},
   "outputs": [
    {
     "data": {
      "text/plain": [
       "(True, [{}])"
      ]
     },
     "execution_count": 2,
     "metadata": {},
     "output_type": "execute_result"
    }
   ],
   "source": [
    "ap.query('not(parent(X,ann)).')"
   ]
  },
  {
   "cell_type": "code",
   "execution_count": null,
   "id": "2ab46255",
   "metadata": {},
   "outputs": [],
   "source": [
    "def uses_temporary_options(func, fun_options=None):\n",
    "    def wrapper(self, *args, **kwargs):\n",
    "        fun_opt = {key:kwargs[key] for key in fun_options if key in kwargs}\n",
    "        temp_options = {key:value for key,value in kwargs.items() if key not in fun_opt}\n",
    "        self.add_temporary_options(**temp_options)\n",
    "        out = func(*args, **fun_opt)\n",
    "        self.rem_temporary_options()\n",
    "        return out\n",
    "    return wrapper\n"
   ]
  },
  {
   "cell_type": "code",
   "execution_count": 38,
   "id": "e1530254",
   "metadata": {},
   "outputs": [
    {
     "name": "stdout",
     "output_type": "stream",
     "text": [
      "FullArgSpec(args=['x', 'c'], varargs='t', varkw=None, defaults=(1,), kwonlyargs=['a', 'b'], kwonlydefaults={'a': 1, 'b': 3}, annotations={})\n"
     ]
    },
    {
     "data": {
      "text/plain": [
       "['c']"
      ]
     },
     "execution_count": 38,
     "metadata": {},
     "output_type": "execute_result"
    }
   ],
   "source": [
    "import inspect\n",
    "def fun(x, c=1, *t, a=1, b=3):\n",
    "    pass\n",
    "\n",
    "def decorum(fun):\n",
    "    i = inspect.getfullargspec(fun)\n",
    "    def wrap(*args, **kwargs):\n",
    "        fun_args = i.args[len(args):] + i.kwonlyargs\n",
    "        fun_options = {key:kwargs[key] for key in fun_args if key in kwargs}\n",
    "        temp_options = {key:value for key,value in kwargs.items() if key not in fun_options}\n",
    "        \n",
    "        out = fun(*args, **fun_options)\n",
    "        \n",
    "        return out\n",
    "    \n",
    "i = inspect.getfullargspec(fun)\n",
    "print(i)\n",
    "i.args[-len(i.defaults):] + kwonlyargs"
   ]
  },
  {
   "cell_type": "code",
   "execution_count": 42,
   "id": "7b333e08",
   "metadata": {},
   "outputs": [],
   "source": [
    "def fun(x, c=1, *t, a=1, b=3):\n",
    "    pass\n",
    "fun(1,c=4)"
   ]
  },
  {
   "cell_type": "code",
   "execution_count": 14,
   "id": "ffdfc228",
   "metadata": {},
   "outputs": [
    {
     "name": "stdout",
     "output_type": "stream",
     "text": [
      "{'kwarg1': 'FOO', 'kwarg2': 'BAR', 'kwarg3': 'BAZ'}\n"
     ]
    }
   ],
   "source": [
    "def foo(arg1, arg2, arg3, *args, kwarg1=\"FOO\", kwarg2=\"BAR\", kwarg3=\"BAZ\"):\n",
    "    pass\n",
    "\n",
    "print(foo.__kwdefaults__)"
   ]
  },
  {
   "cell_type": "code",
   "execution_count": 3,
   "id": "882b6ced",
   "metadata": {},
   "outputs": [
    {
     "data": {
      "text/plain": [
       "not(parent(X,tom))"
      ]
     },
     "execution_count": 3,
     "metadata": {},
     "output_type": "execute_result"
    }
   ],
   "source": [
    "from aloe.parser import AloeParser\n",
    "parser = AloeParser()\n",
    "parser.parse_query('not(parent(X,tom)).')"
   ]
  },
  {
   "cell_type": "code",
   "execution_count": 3,
   "id": "73159fc8",
   "metadata": {},
   "outputs": [],
   "source": [
    "\"\"\" Display of results for ProgolLearner with the FnMetric \"\"\"\n",
    "from aloe.program import AloeProgram\n",
    "from collections import OrderedDict\n",
    "\n",
    "ap = AloeProgram.build_from_file(\"aloe/Examples/family.pl\")\n",
    "ap.induce(update_B=False, keep_logs=True, verbose=0)\n",
    "\n",
    "log = ap.learner.logs[0]\n",
    "log.regroup_eventlogs()"
   ]
  },
  {
   "cell_type": "code",
   "execution_count": 4,
   "id": "62a16716",
   "metadata": {},
   "outputs": [],
   "source": [
    "groups = OrderedDict((group['Current example'][0],i) for i, group in enumerate(log.groups))"
   ]
  },
  {
   "cell_type": "code",
   "execution_count": 6,
   "id": "73492aac",
   "metadata": {
    "scrolled": false
   },
   "outputs": [
    {
     "data": {
      "application/vnd.jupyter.widget-view+json": {
       "model_id": "6f8fe188eb2c452e99538a814b0fbe71",
       "version_major": 2,
       "version_minor": 0
      },
      "text/plain": [
       "interactive(children=(Dropdown(description='Example:', options=(parent_of(ada,sylvia)., parent_of(george,oscar…"
      ]
     },
     "metadata": {},
     "output_type": "display_data"
    },
    {
     "data": {
      "text/plain": [
       "<function __main__.fun(e)>"
      ]
     },
     "execution_count": 6,
     "metadata": {},
     "output_type": "execute_result"
    }
   ],
   "source": [
    "\"Examples, Background, Modes\"\n",
    "\n",
    "import ipywidgets as widgets\n",
    "\n",
    "attribute_description = {\n",
    "    'p':'Number of positive examples covered',\n",
    "    'n':'Number of negative examples covered',\n",
    "    'f':'Fitness value\\nf=p-(n+c+h)',\n",
    "    'g':'Upper bound on fitness value\\ng=p-(c+h)',\n",
    "    'h':'Optimistic estimate of atoms needed',\n",
    "    'c':'Number of atoms in the body',\n",
    "}\n",
    "\n",
    "E = widgets.Dropdown(\n",
    "    options=list(groups),\n",
    "    description='Example:',\n",
    "    disabled=False,\n",
    ")\n",
    "\n",
    "# Create table for all states\n",
    "#----------------------------\n",
    "\n",
    "def explain_p(attr, s, grid):\n",
    "    examples = s.E_cov\n",
    "    w = widgets.Dropdown(\n",
    "        options=s.E_cov['pos'],\n",
    "        description='Positive examples:',\n",
    "    )        \n",
    "    def explanation_button(button):\n",
    "        grid[0, :5] = w\n",
    "        grid[0,5] = widgets.Label('p=%d/%d' % (len(s.E_cov['pos']), len(s.hm.E['pos'])),\n",
    "                                   placeholder='start, stop[, pack] [last, pack]')\n",
    "    return explanation_button\n",
    "\n",
    "def explain_n(attr, s, grid):\n",
    "    examples = s.E_cov\n",
    "    def explanation_button(button):\n",
    "        w = widgets.Dropdown(\n",
    "            options=s.E_cov['neg'],\n",
    "            description='Negative examples:',\n",
    "        )        \n",
    "        grid[0, :5] = w\n",
    "        grid[0,5] = widgets.Label('n=%d/%d' % (len(s.E_cov['neg']), len(s.hm.E['neg'])))\n",
    "    return explanation_button\n",
    "\n",
    "\n",
    "def button(grid, attr, s=None):        \n",
    "    if s is None:\n",
    "        descr = attr\n",
    "        b_style = 'success'\n",
    "    else:\n",
    "        descr = str(getattr(s, attr))\n",
    "        b_style = 'warning'\n",
    "\n",
    "    if attr=='clause':\n",
    "        layout = widgets.Layout(display=\"flex\", justify_content=\"flex-start\", height='auto', width='auto')\n",
    "    else:\n",
    "        layout = widgets.Layout(height='auto', width='auto')\n",
    "\n",
    "    button = widgets.Button(description=descr, button_style=b_style, layout=layout)\n",
    "    \n",
    "    if attr=='p' and s is not None:\n",
    "        button.on_click(explain_p(attr, s, grid))\n",
    "    return button\n",
    "\n",
    "def details_all_states(e):\n",
    "    \"\"\" Input: e, a clause learned \"\"\"\n",
    "    \n",
    "    log_e = log.groups[groups[e]]\n",
    "    \n",
    "    states = log_e['State']\n",
    "    n_states = len(states)\n",
    "    \n",
    "    # Fn measure part    \n",
    "    state_attributes = ['f', 'g', 'p', 'n', 'c', 'h']\n",
    "    n_attributes = len(state_attributes)\n",
    "    \n",
    "    grid = widgets.GridspecLayout(n_states+2, n_attributes)\n",
    "    \n",
    "    for j, attr in enumerate(state_attributes):\n",
    "        b = button(grid, attr)\n",
    "        if attr in attribute_description:\n",
    "            b.tooltip = attribute_description[attr]\n",
    "        grid[1, j] = b \n",
    "    for i, s in enumerate(states):\n",
    "        for j, attr in enumerate(state_attributes):\n",
    "            grid[i+2, j] = button(grid, attr, s)\n",
    "            \n",
    "    # Clause part\n",
    "    attr = 'clause'\n",
    "    clause_widget = widgets.GridspecLayout(n_states+2, 1)\n",
    "    clause_widget[1, 0] = button(grid, attr)\n",
    "    for i, s in enumerate(states):\n",
    "        clause_widget[i+2, 0] = button(grid, attr, s)\n",
    "          \n",
    "    # States_widget\n",
    "    states_widget = widgets.AppLayout(left_sidebar=clause_widget, center=grid, pane_widths=(.6,.4,0))\n",
    "            \n",
    "    return states_widget    \n",
    "\n",
    "tables = {e:details_all_states(e) for e in list(groups)}\n",
    "\n",
    "def fun(e):\n",
    "    return tables[e]\n",
    "\n",
    "widgets.interact(fun, e=E)"
   ]
  },
  {
   "cell_type": "code",
   "execution_count": 7,
   "id": "0a7a4323",
   "metadata": {},
   "outputs": [
    {
     "data": {
      "text/plain": [
       "OrderedDict([(parent_of(ada,sylvia)., 0),\n",
       "             (parent_of(george,oscar)., 1),\n",
       "             (grandfather_of(george,bernard)., 2),\n",
       "             (grandparent_of(ada,andrew)., 3)])"
      ]
     },
     "execution_count": 7,
     "metadata": {},
     "output_type": "execute_result"
    }
   ],
   "source": [
    "groups"
   ]
  },
  {
   "cell_type": "code",
   "execution_count": 18,
   "id": "0aaddf8c",
   "metadata": {},
   "outputs": [],
   "source": [
    "grid = tables['parent_of(ada,sylvia).'].center\n",
    "grid[:3,0] = button('clause')\n"
   ]
  },
  {
   "cell_type": "code",
   "execution_count": 17,
   "id": "b20188bf",
   "metadata": {},
   "outputs": [
    {
     "name": "stdout",
     "output_type": "stream",
     "text": [
      "Help on Unicode in module traitlets.traitlets:\n",
      "\n",
      "\n"
     ]
    }
   ],
   "source": [
    "help(widgets.Button.tooltip)"
   ]
  },
  {
   "cell_type": "code",
   "execution_count": 26,
   "id": "13778fc6",
   "metadata": {},
   "outputs": [
    {
     "data": {
      "application/vnd.jupyter.widget-view+json": {
       "model_id": "9c3b8f7d422d4d35b7a3001cdfba7d1c",
       "version_major": 2,
       "version_minor": 0
      },
      "text/plain": [
       "Label(value='p=1/2', description_tooltip='start, stop[, pack] [last, pack]')"
      ]
     },
     "metadata": {},
     "output_type": "display_data"
    }
   ],
   "source": [
    "l = widgets.Label('p=%d/%d' % (1, 2), \n",
    "                  description_tooltip='start, stop[, pack] [last, pack]')\n",
    "l.tooltip = \"dfqnlmk\"\n",
    "l"
   ]
  },
  {
   "cell_type": "code",
   "execution_count": 33,
   "id": "652085fb",
   "metadata": {},
   "outputs": [
    {
     "data": {
      "application/vnd.jupyter.widget-view+json": {
       "model_id": "a58144264ac64bb8aca07e0c940b5b08",
       "version_major": 2,
       "version_minor": 0
      },
      "text/plain": [
       "Button(button_style='warning', description='qdlpfjqi', style=ButtonStyle(), tooltip='qmf')"
      ]
     },
     "metadata": {},
     "output_type": "display_data"
    }
   ],
   "source": [
    "b = widgets.Button(description='qdlpfjqi', button_style='warning')\n",
    "b.tooltip = 'qmf'\n",
    "b"
   ]
  },
  {
   "cell_type": "code",
   "execution_count": 19,
   "id": "fe0c6899",
   "metadata": {},
   "outputs": [
    {
     "name": "stdout",
     "output_type": "stream",
     "text": [
      "Help on GridspecLayout in module ipywidgets.widgets.widget_templates object:\n",
      "\n",
      "class GridspecLayout(ipywidgets.widgets.widget_box.GridBox, LayoutProperties)\n",
      " |  GridspecLayout(n_rows=None, n_columns=None, **kwargs)\n",
      " |  \n",
      " |  Define a N by M grid layout\n",
      " |  \n",
      " |  Parameters\n",
      " |  ----------\n",
      " |  \n",
      " |  n_rows : int\n",
      " |      number of rows in the grid\n",
      " |  \n",
      " |  n_columns : int\n",
      " |      number of columns in the grid\n",
      " |  \n",
      " |  grid_gap : str\n",
      " |      CSS attribute used to set the gap between the grid cells\n",
      " |  \n",
      " |  justify_content : str, in ['flex-start', 'flex-end', 'center', 'space-between', 'space-around']\n",
      " |      CSS attribute used to align widgets vertically\n",
      " |  \n",
      " |  align_items : str, in ['top', 'bottom', 'center', 'flex-start', 'flex-end', 'baseline', 'stretch']\n",
      " |      CSS attribute used to align widgets horizontally\n",
      " |  \n",
      " |  width : str\n",
      " |  height : str\n",
      " |      width and height\n",
      " |  \n",
      " |  Examples\n",
      " |  --------\n",
      " |  \n",
      " |  >>> from ipywidgets import GridspecLayout, Button, Layout\n",
      " |  >>> layout = GridspecLayout(n_rows=4, n_columns=2, height='200px')\n",
      " |  >>> layout[:3, 0] = Button(layout=Layout(height='auto', width='auto'))\n",
      " |  >>> layout[1:, 1] = Button(layout=Layout(height='auto', width='auto'))\n",
      " |  >>> layout[-1, 0] = Button(layout=Layout(height='auto', width='auto'))\n",
      " |  >>> layout[0, 1] = Button(layout=Layout(height='auto', width='auto'))\n",
      " |  >>> layout\n",
      " |  \n",
      " |  Method resolution order:\n",
      " |      GridspecLayout\n",
      " |      ipywidgets.widgets.widget_box.GridBox\n",
      " |      ipywidgets.widgets.widget_box.Box\n",
      " |      ipywidgets.widgets.domwidget.DOMWidget\n",
      " |      ipywidgets.widgets.widget_core.CoreWidget\n",
      " |      ipywidgets.widgets.widget.Widget\n",
      " |      ipywidgets.widgets.widget.LoggingHasTraits\n",
      " |      LayoutProperties\n",
      " |      traitlets.traitlets.HasTraits\n",
      " |      traitlets.traitlets.HasDescriptors\n",
      " |      builtins.object\n",
      " |  \n",
      " |  Methods defined here:\n",
      " |  \n",
      " |  __getitem__(self, key)\n",
      " |  \n",
      " |  __init__(self, n_rows=None, n_columns=None, **kwargs)\n",
      " |      Public constructor\n",
      " |  \n",
      " |  __setitem__(self, key, value)\n",
      " |  \n",
      " |  ----------------------------------------------------------------------\n",
      " |  Data descriptors defined here:\n",
      " |  \n",
      " |  n_columns\n",
      " |  \n",
      " |  n_rows\n",
      " |  \n",
      " |  ----------------------------------------------------------------------\n",
      " |  Data descriptors inherited from ipywidgets.widgets.widget_box.Box:\n",
      " |  \n",
      " |  box_style\n",
      " |  \n",
      " |  children\n",
      " |  \n",
      " |  ----------------------------------------------------------------------\n",
      " |  Methods inherited from ipywidgets.widgets.domwidget.DOMWidget:\n",
      " |  \n",
      " |  add_class(self, className)\n",
      " |      Adds a class to the top level element of the widget.\n",
      " |      \n",
      " |      Doesn't add the class if it already exists.\n",
      " |  \n",
      " |  remove_class(self, className)\n",
      " |      Removes a class from the top level element of the widget.\n",
      " |      \n",
      " |      Doesn't remove the class if it doesn't exist.\n",
      " |  \n",
      " |  ----------------------------------------------------------------------\n",
      " |  Data descriptors inherited from ipywidgets.widgets.domwidget.DOMWidget:\n",
      " |  \n",
      " |  layout\n",
      " |  \n",
      " |  ----------------------------------------------------------------------\n",
      " |  Methods inherited from ipywidgets.widgets.widget.Widget:\n",
      " |  \n",
      " |  __del__(self)\n",
      " |      Object disposal\n",
      " |  \n",
      " |  __repr__(self)\n",
      " |      Return repr(self).\n",
      " |  \n",
      " |  add_traits(self, **traits)\n",
      " |      Dynamically add trait attributes to the Widget.\n",
      " |  \n",
      " |  close(self)\n",
      " |      Close method.\n",
      " |      \n",
      " |      Closes the underlying comm.\n",
      " |      When the comm is closed, all of the widget views are automatically\n",
      " |      removed from the front-end.\n",
      " |  \n",
      " |  get_state(self, key=None, drop_defaults=False)\n",
      " |      Gets the widget state, or a piece of it.\n",
      " |      \n",
      " |      Parameters\n",
      " |      ----------\n",
      " |      key : unicode or iterable (optional)\n",
      " |          A single property's name or iterable of property names to get.\n",
      " |      \n",
      " |      Returns\n",
      " |      -------\n",
      " |      state : dict of states\n",
      " |      metadata : dict\n",
      " |          metadata for each field: {key: metadata}\n",
      " |  \n",
      " |  get_view_spec(self)\n",
      " |  \n",
      " |  hold_sync(self)\n",
      " |      Hold syncing any state until the outermost context manager exits\n",
      " |  \n",
      " |  notify_change(self, change)\n",
      " |      Called when a property has changed.\n",
      " |  \n",
      " |  on_displayed(self, callback, remove=False)\n",
      " |      (Un)Register a widget displayed callback.\n",
      " |      \n",
      " |      Parameters\n",
      " |      ----------\n",
      " |      callback: method handler\n",
      " |          Must have a signature of::\n",
      " |      \n",
      " |              callback(widget, **kwargs)\n",
      " |      \n",
      " |          kwargs from display are passed through without modification.\n",
      " |      remove: bool\n",
      " |          True if the callback should be unregistered.\n",
      " |  \n",
      " |  on_msg(self, callback, remove=False)\n",
      " |      (Un)Register a custom msg receive callback.\n",
      " |      \n",
      " |      Parameters\n",
      " |      ----------\n",
      " |      callback: callable\n",
      " |          callback will be passed three arguments when a message arrives::\n",
      " |      \n",
      " |              callback(widget, content, buffers)\n",
      " |      \n",
      " |      remove: bool\n",
      " |          True if the callback should be unregistered.\n",
      " |  \n",
      " |  open(self)\n",
      " |      Open a comm to the frontend if one isn't already open.\n",
      " |  \n",
      " |  send(self, content, buffers=None)\n",
      " |      Sends a custom msg to the widget model in the front-end.\n",
      " |      \n",
      " |      Parameters\n",
      " |      ----------\n",
      " |      content : dict\n",
      " |          Content of the message to send.\n",
      " |      buffers : list of binary buffers\n",
      " |          Binary buffers to send with message\n",
      " |  \n",
      " |  send_state(self, key=None)\n",
      " |      Sends the widget state, or a piece of it, to the front-end, if it exists.\n",
      " |      \n",
      " |      Parameters\n",
      " |      ----------\n",
      " |      key : unicode, or iterable (optional)\n",
      " |          A single property's name or iterable of property names to sync with the front-end.\n",
      " |  \n",
      " |  set_state(self, sync_data)\n",
      " |      Called when a state is received from the front-end.\n",
      " |  \n",
      " |  ----------------------------------------------------------------------\n",
      " |  Class methods inherited from ipywidgets.widgets.widget.Widget:\n",
      " |  \n",
      " |  close_all() from traitlets.traitlets.MetaHasTraits\n",
      " |  \n",
      " |  ----------------------------------------------------------------------\n",
      " |  Static methods inherited from ipywidgets.widgets.widget.Widget:\n",
      " |  \n",
      " |  get_manager_state(drop_defaults=False, widgets=None)\n",
      " |      Returns the full state for a widget manager for embedding\n",
      " |      \n",
      " |      :param drop_defaults: when True, it will not include default value\n",
      " |      :param widgets: list with widgets to include in the state (or all widgets when None)\n",
      " |      :return:\n",
      " |  \n",
      " |  handle_comm_opened(comm, msg)\n",
      " |      Static method, called when a widget is constructed.\n",
      " |  \n",
      " |  on_widget_constructed(callback)\n",
      " |      Registers a callback to be called when a widget is constructed.\n",
      " |      \n",
      " |      The callback must have the following signature:\n",
      " |      callback(widget)\n",
      " |  \n",
      " |  ----------------------------------------------------------------------\n",
      " |  Readonly properties inherited from ipywidgets.widgets.widget.Widget:\n",
      " |  \n",
      " |  model_id\n",
      " |      Gets the model id of this widget.\n",
      " |      \n",
      " |      If a Comm doesn't exist yet, a Comm will be created automagically.\n",
      " |  \n",
      " |  ----------------------------------------------------------------------\n",
      " |  Data descriptors inherited from ipywidgets.widgets.widget.Widget:\n",
      " |  \n",
      " |  comm\n",
      " |  \n",
      " |  keys\n",
      " |  \n",
      " |  ----------------------------------------------------------------------\n",
      " |  Data and other attributes inherited from ipywidgets.widgets.widget.Widget:\n",
      " |  \n",
      " |  widget_types = <ipywidgets.widgets.widget.WidgetRegistry object>\n",
      " |  \n",
      " |  widgets = {'000f6814f52c4e6e92b1964faefe58d8': ButtonStyle(), '003b734...\n",
      " |  \n",
      " |  ----------------------------------------------------------------------\n",
      " |  Data descriptors inherited from ipywidgets.widgets.widget.LoggingHasTraits:\n",
      " |  \n",
      " |  log\n",
      " |  \n",
      " |  ----------------------------------------------------------------------\n",
      " |  Data descriptors inherited from LayoutProperties:\n",
      " |  \n",
      " |  align_items\n",
      " |  \n",
      " |  grid_gap\n",
      " |  \n",
      " |  height\n",
      " |  \n",
      " |  justify_content\n",
      " |  \n",
      " |  width\n",
      " |  \n",
      " |  ----------------------------------------------------------------------\n",
      " |  Methods inherited from traitlets.traitlets.HasTraits:\n",
      " |  \n",
      " |  __getstate__(self)\n",
      " |  \n",
      " |  __setstate__(self, state)\n",
      " |  \n",
      " |  has_trait(self, name)\n",
      " |      Returns True if the object has a trait with the specified name.\n",
      " |  \n",
      " |  hold_trait_notifications(self)\n",
      " |      Context manager for bundling trait change notifications and cross\n",
      " |      validation.\n",
      " |      \n",
      " |      Use this when doing multiple trait assignments (init, config), to avoid\n",
      " |      race conditions in trait notifiers requesting other trait values.\n",
      " |      All trait notifications will fire after all values have been assigned.\n",
      " |  \n",
      " |  observe(self, handler, names=traitlets.All, type='change')\n",
      " |      Setup a handler to be called when a trait changes.\n",
      " |      \n",
      " |      This is used to setup dynamic notifications of trait changes.\n",
      " |      \n",
      " |      Parameters\n",
      " |      ----------\n",
      " |      handler : callable\n",
      " |          A callable that is called when a trait changes. Its\n",
      " |          signature should be ``handler(change)``, where ``change`` is a\n",
      " |          dictionary. The change dictionary at least holds a 'type' key.\n",
      " |          * ``type``: the type of notification.\n",
      " |          Other keys may be passed depending on the value of 'type'. In the\n",
      " |          case where type is 'change', we also have the following keys:\n",
      " |          * ``owner`` : the HasTraits instance\n",
      " |          * ``old`` : the old value of the modified trait attribute\n",
      " |          * ``new`` : the new value of the modified trait attribute\n",
      " |          * ``name`` : the name of the modified trait attribute.\n",
      " |      names : list, str, All\n",
      " |          If names is All, the handler will apply to all traits.  If a list\n",
      " |          of str, handler will apply to all names in the list.  If a\n",
      " |          str, the handler will apply just to that name.\n",
      " |      type : str, All (default: 'change')\n",
      " |          The type of notification to filter by. If equal to All, then all\n",
      " |          notifications are passed to the observe handler.\n",
      " |  \n",
      " |  on_trait_change(self, handler=None, name=None, remove=False)\n",
      " |      DEPRECATED: Setup a handler to be called when a trait changes.\n",
      " |      \n",
      " |      This is used to setup dynamic notifications of trait changes.\n",
      " |      \n",
      " |      Static handlers can be created by creating methods on a HasTraits\n",
      " |      subclass with the naming convention '_[traitname]_changed'.  Thus,\n",
      " |      to create static handler for the trait 'a', create the method\n",
      " |      _a_changed(self, name, old, new) (fewer arguments can be used, see\n",
      " |      below).\n",
      " |      \n",
      " |      If `remove` is True and `handler` is not specified, all change\n",
      " |      handlers for the specified name are uninstalled.\n",
      " |      \n",
      " |      Parameters\n",
      " |      ----------\n",
      " |      handler : callable, None\n",
      " |          A callable that is called when a trait changes.  Its\n",
      " |          signature can be handler(), handler(name), handler(name, new),\n",
      " |          handler(name, old, new), or handler(name, old, new, self).\n",
      " |      name : list, str, None\n",
      " |          If None, the handler will apply to all traits.  If a list\n",
      " |          of str, handler will apply to all names in the list.  If a\n",
      " |          str, the handler will apply just to that name.\n",
      " |      remove : bool\n",
      " |          If False (the default), then install the handler.  If True\n",
      " |          then unintall it.\n",
      " |  \n",
      " |  set_trait(self, name, value)\n",
      " |      Forcibly sets trait attribute, including read-only attributes.\n",
      " |  \n",
      " |  setup_instance(*args, **kwargs)\n",
      " |      This is called **before** self.__init__ is called.\n",
      " |  \n",
      " |  trait_defaults(self, *names, **metadata)\n",
      " |      Return a trait's default value or a dictionary of them\n",
      " |      \n",
      " |      Notes\n",
      " |      -----\n",
      " |      Dynamically generated default values may\n",
      " |      depend on the current state of the object.\n",
      " |  \n",
      " |  trait_has_value(self, name)\n",
      " |      Returns True if the specified trait has a value.\n",
      " |      \n",
      " |      This will return false even if ``getattr`` would return a\n",
      " |      dynamically generated default value. These default values\n",
      " |      will be recognized as existing only after they have been\n",
      " |      generated.\n",
      " |      \n",
      " |      Example\n",
      " |      \n",
      " |      .. code-block:: python\n",
      " |      \n",
      " |          class MyClass(HasTraits):\n",
      " |              i = Int()\n",
      " |      \n",
      " |          mc = MyClass()\n",
      " |          assert not mc.trait_has_value(\"i\")\n",
      " |          mc.i # generates a default value\n",
      " |          assert mc.trait_has_value(\"i\")\n",
      " |  \n",
      " |  trait_metadata(self, traitname, key, default=None)\n",
      " |      Get metadata values for trait by key.\n",
      " |  \n",
      " |  trait_names(self, **metadata)\n",
      " |      Get a list of all the names of this class' traits.\n",
      " |  \n",
      " |  trait_values(self, **metadata)\n",
      " |      A ``dict`` of trait names and their values.\n",
      " |      \n",
      " |      The metadata kwargs allow functions to be passed in which\n",
      " |      filter traits based on metadata values.  The functions should\n",
      " |      take a single value as an argument and return a boolean.  If\n",
      " |      any function returns False, then the trait is not included in\n",
      " |      the output.  If a metadata key doesn't exist, None will be passed\n",
      " |      to the function.\n",
      " |      \n",
      " |      Returns\n",
      " |      -------\n",
      " |      A ``dict`` of trait names and their values.\n",
      " |      \n",
      " |      Notes\n",
      " |      -----\n",
      " |      Trait values are retrieved via ``getattr``, any exceptions raised\n",
      " |      by traits or the operations they may trigger will result in the\n",
      " |      absence of a trait value in the result ``dict``.\n",
      " |  \n",
      " |  traits(self, **metadata)\n",
      " |      Get a ``dict`` of all the traits of this class.  The dictionary\n",
      " |      is keyed on the name and the values are the TraitType objects.\n",
      " |      \n",
      " |      The TraitTypes returned don't know anything about the values\n",
      " |      that the various HasTrait's instances are holding.\n",
      " |      \n",
      " |      The metadata kwargs allow functions to be passed in which\n",
      " |      filter traits based on metadata values.  The functions should\n",
      " |      take a single value as an argument and return a boolean.  If\n",
      " |      any function returns False, then the trait is not included in\n",
      " |      the output.  If a metadata key doesn't exist, None will be passed\n",
      " |      to the function.\n",
      " |  \n",
      " |  unobserve(self, handler, names=traitlets.All, type='change')\n",
      " |      Remove a trait change handler.\n",
      " |      \n",
      " |      This is used to unregister handlers to trait change notifications.\n",
      " |      \n",
      " |      Parameters\n",
      " |      ----------\n",
      " |      handler : callable\n",
      " |          The callable called when a trait attribute changes.\n",
      " |      names : list, str, All (default: All)\n",
      " |          The names of the traits for which the specified handler should be\n",
      " |          uninstalled. If names is All, the specified handler is uninstalled\n",
      " |          from the list of notifiers corresponding to all changes.\n",
      " |      type : str or All (default: 'change')\n",
      " |          The type of notification to filter by. If All, the specified handler\n",
      " |          is uninstalled from the list of notifiers corresponding to all types.\n",
      " |  \n",
      " |  unobserve_all(self, name=traitlets.All)\n",
      " |      Remove trait change handlers of any type for the specified name.\n",
      " |      If name is not specified, removes all trait notifiers.\n",
      " |  \n",
      " |  ----------------------------------------------------------------------\n",
      " |  Class methods inherited from traitlets.traitlets.HasTraits:\n",
      " |  \n",
      " |  class_own_trait_events(name) from traitlets.traitlets.MetaHasTraits\n",
      " |      Get a dict of all event handlers defined on this class, not a parent.\n",
      " |      \n",
      " |      Works like ``event_handlers``, except for excluding traits from parents.\n",
      " |  \n",
      " |  class_own_traits(**metadata) from traitlets.traitlets.MetaHasTraits\n",
      " |      Get a dict of all the traitlets defined on this class, not a parent.\n",
      " |      \n",
      " |      Works like `class_traits`, except for excluding traits from parents.\n",
      " |  \n",
      " |  class_trait_names(**metadata) from traitlets.traitlets.MetaHasTraits\n",
      " |      Get a list of all the names of this class' traits.\n",
      " |      \n",
      " |      This method is just like the :meth:`trait_names` method,\n",
      " |      but is unbound.\n",
      " |  \n",
      " |  class_traits(**metadata) from traitlets.traitlets.MetaHasTraits\n",
      " |      Get a ``dict`` of all the traits of this class.  The dictionary\n",
      " |      is keyed on the name and the values are the TraitType objects.\n",
      " |      \n",
      " |      This method is just like the :meth:`traits` method, but is unbound.\n",
      " |      \n",
      " |      The TraitTypes returned don't know anything about the values\n",
      " |      that the various HasTrait's instances are holding.\n",
      " |      \n",
      " |      The metadata kwargs allow functions to be passed in which\n",
      " |      filter traits based on metadata values.  The functions should\n",
      " |      take a single value as an argument and return a boolean.  If\n",
      " |      any function returns False, then the trait is not included in\n",
      " |      the output.  If a metadata key doesn't exist, None will be passed\n",
      " |      to the function.\n",
      " |  \n",
      " |  trait_events(name=None) from traitlets.traitlets.MetaHasTraits\n",
      " |      Get a ``dict`` of all the event handlers of this class.\n",
      " |      \n",
      " |      Parameters\n",
      " |      ----------\n",
      " |      name : str (default: None)\n",
      " |          The name of a trait of this class. If name is ``None`` then all\n",
      " |          the event handlers of this class will be returned instead.\n",
      " |      \n",
      " |      Returns\n",
      " |      -------\n",
      " |      The event handlers associated with a trait name, or all event handlers.\n",
      " |  \n",
      " |  ----------------------------------------------------------------------\n",
      " |  Readonly properties inherited from traitlets.traitlets.HasTraits:\n",
      " |  \n",
      " |  cross_validation_lock\n",
      " |      A contextmanager for running a block with our cross validation lock set\n",
      " |      to True.\n",
      " |      \n",
      " |      At the end of the block, the lock's value is restored to its value\n",
      " |      prior to entering the block.\n",
      " |  \n",
      " |  ----------------------------------------------------------------------\n",
      " |  Static methods inherited from traitlets.traitlets.HasDescriptors:\n",
      " |  \n",
      " |  __new__(*args, **kwargs)\n",
      " |      Create and return a new object.  See help(type) for accurate signature.\n",
      " |  \n",
      " |  ----------------------------------------------------------------------\n",
      " |  Data descriptors inherited from traitlets.traitlets.HasDescriptors:\n",
      " |  \n",
      " |  __dict__\n",
      " |      dictionary for instance variables (if defined)\n",
      " |  \n",
      " |  __weakref__\n",
      " |      list of weak references to the object (if defined)\n",
      "\n"
     ]
    }
   ],
   "source": [
    "\n",
    "help(grid)"
   ]
  },
  {
   "cell_type": "code",
   "execution_count": 62,
   "id": "afef3c91",
   "metadata": {},
   "outputs": [],
   "source": [
    "class bcolors:\n",
    "    HEADER = '\\033[95m'\n",
    "    OKBLUE = '\\033[94m'\n",
    "    OKCYAN = '\\033[96m'\n",
    "    OKGREEN = '\\033[92m'\n",
    "    WARNING = '\\033[93m'\n",
    "    FAIL = '\\033[91m'\n",
    "    ENDC = '\\033[0m'\n",
    "    BOLD = '\\033[1m'\n",
    "    UNDERLINE = '\\033[4m'\n",
    "\n",
    "    def green(text): return bcolors.OKGREEN + text + bcolors.ENDC\n",
    "    def red(text):   return bcolors.FAIL    + text + bcolors.ENDC\n"
   ]
  },
  {
   "cell_type": "code",
   "execution_count": 65,
   "id": "986455d6",
   "metadata": {},
   "outputs": [
    {
     "name": "stdout",
     "output_type": "stream",
     "text": [
      "\u001b[92mqmldj\u001b[0m\n"
     ]
    }
   ],
   "source": [
    "print(bcolors.green('qmldj'))"
   ]
  },
  {
   "cell_type": "code",
   "execution_count": 59,
   "id": "984d3bf9",
   "metadata": {},
   "outputs": [
    {
     "name": "stdout",
     "output_type": "stream",
     "text": [
      "̶m̶q̶s̶d\n"
     ]
    }
   ],
   "source": [
    "def strike(text):\n",
    "    return ''.join([u'\\u0336{}'.format(c) for c in text])\n",
    "print(strike('mqsd'))"
   ]
  },
  {
   "cell_type": "code",
   "execution_count": 9,
   "id": "d0b6be5d",
   "metadata": {},
   "outputs": [
    {
     "ename": "AttributeError",
     "evalue": "module 'ipywidgets' has no attribute 'Stacked'",
     "output_type": "error",
     "traceback": [
      "\u001b[1;31m---------------------------------------------------------------------------\u001b[0m",
      "\u001b[1;31mAttributeError\u001b[0m                            Traceback (most recent call last)",
      "\u001b[1;32m~\\AppData\\Local\\Temp/ipykernel_10064/3506875831.py\u001b[0m in \u001b[0;36m<module>\u001b[1;34m\u001b[0m\n\u001b[0;32m      1\u001b[0m \u001b[0mbutton\u001b[0m \u001b[1;33m=\u001b[0m \u001b[0mwidgets\u001b[0m\u001b[1;33m.\u001b[0m\u001b[0mButton\u001b[0m\u001b[1;33m(\u001b[0m\u001b[0mdescription\u001b[0m\u001b[1;33m=\u001b[0m\u001b[1;34m'Click here'\u001b[0m\u001b[1;33m)\u001b[0m\u001b[1;33m\u001b[0m\u001b[1;33m\u001b[0m\u001b[0m\n\u001b[0;32m      2\u001b[0m \u001b[0mslider\u001b[0m \u001b[1;33m=\u001b[0m \u001b[0mwidgets\u001b[0m\u001b[1;33m.\u001b[0m\u001b[0mIntSlider\u001b[0m\u001b[1;33m(\u001b[0m\u001b[1;33m)\u001b[0m\u001b[1;33m\u001b[0m\u001b[1;33m\u001b[0m\u001b[0m\n\u001b[1;32m----> 3\u001b[1;33m \u001b[0mstacked\u001b[0m \u001b[1;33m=\u001b[0m \u001b[0mwidgets\u001b[0m\u001b[1;33m.\u001b[0m\u001b[0mStacked\u001b[0m\u001b[1;33m(\u001b[0m\u001b[1;33m[\u001b[0m\u001b[0mbutton\u001b[0m\u001b[1;33m,\u001b[0m \u001b[0mslider\u001b[0m\u001b[1;33m]\u001b[0m\u001b[1;33m)\u001b[0m\u001b[1;33m\u001b[0m\u001b[1;33m\u001b[0m\u001b[0m\n\u001b[0m\u001b[0;32m      4\u001b[0m \u001b[0mstacked\u001b[0m  \u001b[1;31m# will show only the button\u001b[0m\u001b[1;33m\u001b[0m\u001b[1;33m\u001b[0m\u001b[0m\n",
      "\u001b[1;31mAttributeError\u001b[0m: module 'ipywidgets' has no attribute 'Stacked'"
     ]
    }
   ],
   "source": [
    "button = widgets.Button(description='Click here')\n",
    "slider = widgets.IntSlider()\n",
    "stacked = widgets.Stacked([button, slider])\n",
    "stacked  # will show only the button"
   ]
  },
  {
   "cell_type": "code",
   "execution_count": null,
   "id": "afe247d5",
   "metadata": {},
   "outputs": [],
   "source": [
    "widgets."
   ]
  },
  {
   "cell_type": "code",
   "execution_count": 1,
   "id": "bc4f75fa",
   "metadata": {},
   "outputs": [
    {
     "name": "stdout",
     "output_type": "stream",
     "text": [
      "Examples: 66p/100n\n",
      "Current example: parent(ada,sylvia).\n",
      "Bottom_i: parent(A,B):-mother(A,B),mother(B,C),mother(B,D),mother(B,E),mother(B,F).\n",
      "State: [  0,  1, 22, 48, 21,-27] parent(A,B).\n",
      "State: [  1,  0, 10,  0,  9,  9] parent(A,B):-mother(A,B).\n",
      "Clause: parent(A,B):-mother(A,B).\n",
      "\n",
      "Examples: 56p/100n\n",
      "Current example: parent(george,oscar).\n",
      "Bottom_i: parent(A,B):-father(A,B),father(B,C),father(B,D),father(B,E),father(B,F),father(B,G).\n",
      "State: [  0,  1, 12, 48, 11,-37] parent(A,B).\n",
      "State: [  1,  0, 12,  0, 11, 11] parent(A,B):-father(A,B).\n",
      "Clause: parent(A,B):-father(A,B).\n",
      "\n",
      "Examples: 44p/100n\n",
      "Current example: grandfather(george,bernard).\n",
      "Bottom_i: grandfather(A,B):-father(A,C),parent(A,C),father(C,D),father(C,E),father(C,F),father(C,B),father(C,G),parent(C,D),parent(C,E),parent(C,F),parent(C,B),parent(C,G).\n",
      "State: [  0,  2, 18, 30, 16,-14] grandfather(A,B).\n",
      "State: [  1,  1, 18, 12, 16,  4] grandfather(A,B):-father(A,C).\n",
      "State: [  2,  0, 18,  0, 16, 16] grandfather(A,B):-father(A,C),parent(C,B).\n",
      "Clause: grandfather(A,B):-father(A,C),parent(C,B).\n",
      "\n",
      "Examples: 26p/100n\n",
      "Current example: grandparent(ada,andrew).\n",
      "Bottom_i: grandparent(A,B):-mother(A,C),parent(A,C),mother(C,B),mother(C,D),mother(C,E),mother(C,F),parent(C,B),parent(C,D),parent(C,E),parent(C,F).\n",
      "State: [  0,  2, 26, 22, 24,  2] grandparent(A,B).\n",
      "State: [  1,  0, 26, 20, 25,  5] grandparent(A,B):-mother(C,B).\n",
      "State: [  2,  0, 26, 20, 24,  4] grandparent(A,B):-mother(C,B),parent(C,E).\n",
      "State: [  2,  0, 26, 20, 24,  4] grandparent(A,B):-mother(C,B),parent(C,B).\n",
      "State: [  2,  0, 26, 20, 24,  4] grandparent(A,B):-mother(C,B),mother(C,E).\n",
      "State: [  2,  0, 26, 20, 24,  4] grandparent(A,B):-mother(C,B),mother(C,D).\n",
      "State: [  2,  0, 26, 20, 24,  4] grandparent(A,B):-mother(C,B),parent(C,F).\n",
      "State: [  2,  0, 26, 20, 24,  4] grandparent(A,B):-mother(C,B),parent(C,D).\n",
      "State: [  2,  0, 26, 20, 24,  4] grandparent(A,B):-mother(C,B),mother(C,F).\n",
      "State: [  1,  0, 26, 22, 25,  3] grandparent(A,B):-parent(C,B).\n",
      "State: [  2,  0, 26, 22, 24,  2] grandparent(A,B):-parent(C,B),parent(C,D).\n",
      "State: [  1,  1, 26, 22, 24,  2] grandparent(A,B):-parent(C,E).\n",
      "State: [  1,  1, 26, 22, 24,  2] grandparent(A,B):-parent(A,C).\n",
      "State: [  2,  0, 26,  0, 24, 24] grandparent(A,B):-parent(A,C),parent(C,B).\n",
      "Clause: grandparent(A,B):-parent(A,C),parent(C,B).\n",
      "\n"
     ]
    },
    {
     "data": {
      "text/plain": [
       "1.376328945159912"
      ]
     },
     "execution_count": 1,
     "metadata": {},
     "output_type": "execute_result"
    }
   ],
   "source": [
    "from aloe.program import AloeProgram\n",
    "from aloe.options import SystemParameters\n",
    "import time\n",
    "ap2 = AloeProgram.build_from_file(\"aloe/Examples/family.pl\")\n",
    "ap2.set('verbose',1)\n",
    "t0 = time.time()\n",
    "SystemParameters.generic_name_for_variable = True\n",
    "out = ap2.induce()\n",
    "t1 = time.time()\n",
    "t1-t0"
   ]
  },
  {
   "cell_type": "code",
   "execution_count": 1,
   "id": "96cd02a1",
   "metadata": {},
   "outputs": [
    {
     "data": {
      "application/vnd.jupyter.widget-view+json": {
       "model_id": "8e3c6b6734564fff80af504019f205a4",
       "version_major": 2,
       "version_minor": 0
      },
      "text/plain": [
       "interactive(children=(Dropdown(description='Example:', options=(parent(ada,sylvia)., parent(george,oscar)., gr…"
      ]
     },
     "metadata": {},
     "output_type": "display_data"
    }
   ],
   "source": [
    "from aloe.program import AloeProgram\n",
    "from collections import OrderedDict\n",
    "\n",
    "ap = AloeProgram.build_from_file(\"aloe/Examples/family.pl\")\n",
    "ap.induce(update_B=False, keep_logs=True, verbose=0)\n",
    "ap.display_logs()"
   ]
  },
  {
   "cell_type": "code",
   "execution_count": 5,
   "id": "bd6a47d5",
   "metadata": {
    "scrolled": false
   },
   "outputs": [],
   "source": [
    "import ipywidgets\n",
    "h = ipywidgets.HTML(value = f\"<b><font color='red'>{1}</b>\")"
   ]
  },
  {
   "cell_type": "code",
   "execution_count": 6,
   "id": "956d263d",
   "metadata": {},
   "outputs": [
    {
     "data": {
      "application/vnd.jupyter.widget-view+json": {
       "model_id": "3b8de74f28264e04bbfeb17a1a37011b",
       "version_major": 2,
       "version_minor": 0
      },
      "text/plain": [
       "Button(button_style='success', style=ButtonStyle())"
      ]
     },
     "metadata": {},
     "output_type": "display_data"
    }
   ],
   "source": [
    "m = ipywidgets.Button(button_style = 'warning')\n",
    "m.button_style = 'success'\n",
    "display(m)"
   ]
  },
  {
   "cell_type": "code",
   "execution_count": 3,
   "id": "559a90e8",
   "metadata": {},
   "outputs": [],
   "source": [
    "with open(\"aloe/Examples/family.pl\", 'r') as file:\n",
    "    text = file.read()\n",
    "    \n",
    "with open(\"aloe/Examples/family.pl\", 'w') as file:\n",
    "    file.write(text.replace('_of',''))"
   ]
  },
  {
   "cell_type": "code",
   "execution_count": 2,
   "id": "ba44fc32",
   "metadata": {},
   "outputs": [
    {
     "data": {
      "text/plain": [
       "' dkmq'"
      ]
     },
     "execution_count": 2,
     "metadata": {},
     "output_type": "execute_result"
    }
   ],
   "source": [
    "t = '_of dkmq'\n",
    "t.replace('_of','')"
   ]
  },
  {
   "cell_type": "code",
   "execution_count": 17,
   "id": "34936718",
   "metadata": {},
   "outputs": [],
   "source": [
    "m.style.button_color = None"
   ]
  },
  {
   "cell_type": "code",
   "execution_count": 5,
   "id": "590a3798",
   "metadata": {},
   "outputs": [
    {
     "data": {
      "text/plain": [
       "'🔴 mkdq'"
      ]
     },
     "execution_count": 5,
     "metadata": {},
     "output_type": "execute_result"
    }
   ],
   "source": [
    "c_base = int(\"1F534\",base=16)\n",
    "c_base\n",
    "'{} {}'.format(chr(c_base), 'mkdq')"
   ]
  },
  {
   "cell_type": "code",
   "execution_count": 24,
   "id": "72a29723",
   "metadata": {},
   "outputs": [
    {
     "data": {
      "application/vnd.jupyter.widget-view+json": {
       "model_id": "96cdfbe281f0484dbe900c43aba9ef59",
       "version_major": 2,
       "version_minor": 0
      },
      "text/plain": [
       "Select(options=('\\\\033[32m Bright Green', '\\\\033[37m Bright Red  \\\\n'), value='\\\\033[32m Bright Green')"
      ]
     },
     "metadata": {},
     "output_type": "display_data"
    }
   ],
   "source": [
    "d = ipywidgets.Select(options = [\"\\033[32m Bright Green\", \"\\033[37m Bright Red\"])\n",
    "display(d)"
   ]
  },
  {
   "cell_type": "code",
   "execution_count": 6,
   "id": "490cc360",
   "metadata": {},
   "outputs": [
    {
     "name": "stdout",
     "output_type": "stream",
     "text": [
      "Help on class Dropdown in module ipywidgets.widgets.widget_selection:\n",
      "\n",
      "class Dropdown(_Selection)\n",
      " |  Dropdown(*args, **kwargs)\n",
      " |  \n",
      " |  Allows you to select a single item from a dropdown.\n",
      " |  \n",
      " |  Parameters\n",
      " |  ----------\n",
      " |  options: list\n",
      " |      The options for the dropdown. This can either be a list of values, e.g.\n",
      " |      ``['Galileo', 'Brahe', 'Hubble']`` or ``[0, 1, 2]``, or a list of\n",
      " |      (label, value) pairs, e.g.\n",
      " |      ``[('Galileo', 0), ('Brahe', 1), ('Hubble', 2)]``.\n",
      " |  \n",
      " |  index: int\n",
      " |      The index of the current selection.\n",
      " |  \n",
      " |  value: any\n",
      " |      The value of the current selection. When programmatically setting the\n",
      " |      value, a reverse lookup is performed among the options to check that\n",
      " |      the value is valid. The reverse lookup uses the equality operator by\n",
      " |      default, but another predicate may be provided via the ``equals``\n",
      " |      keyword argument. For example, when dealing with numpy arrays, one may\n",
      " |      set ``equals=np.array_equal``.\n",
      " |  \n",
      " |  label: str\n",
      " |      The label corresponding to the selected value.\n",
      " |  \n",
      " |  disabled: bool\n",
      " |      Whether to disable user changes.\n",
      " |  \n",
      " |  description: str\n",
      " |      Label for this input group. This should be a string\n",
      " |      describing the widget.\n",
      " |  \n",
      " |  Method resolution order:\n",
      " |      Dropdown\n",
      " |      _Selection\n",
      " |      ipywidgets.widgets.widget_description.DescriptionWidget\n",
      " |      ipywidgets.widgets.domwidget.DOMWidget\n",
      " |      ipywidgets.widgets.valuewidget.ValueWidget\n",
      " |      ipywidgets.widgets.widget_core.CoreWidget\n",
      " |      ipywidgets.widgets.widget.Widget\n",
      " |      ipywidgets.widgets.widget.LoggingHasTraits\n",
      " |      traitlets.traitlets.HasTraits\n",
      " |      traitlets.traitlets.HasDescriptors\n",
      " |      builtins.object\n",
      " |  \n",
      " |  Methods inherited from _Selection:\n",
      " |  \n",
      " |  __init__(self, *args, **kwargs)\n",
      " |      Public constructor\n",
      " |  \n",
      " |  ----------------------------------------------------------------------\n",
      " |  Data descriptors inherited from _Selection:\n",
      " |  \n",
      " |  disabled\n",
      " |  \n",
      " |  index\n",
      " |  \n",
      " |  label\n",
      " |  \n",
      " |  options\n",
      " |  \n",
      " |  value\n",
      " |  \n",
      " |  ----------------------------------------------------------------------\n",
      " |  Data descriptors inherited from ipywidgets.widgets.widget_description.DescriptionWidget:\n",
      " |  \n",
      " |  description\n",
      " |  \n",
      " |  description_tooltip\n",
      " |  \n",
      " |  style\n",
      " |  \n",
      " |  ----------------------------------------------------------------------\n",
      " |  Methods inherited from ipywidgets.widgets.domwidget.DOMWidget:\n",
      " |  \n",
      " |  add_class(self, className)\n",
      " |      Adds a class to the top level element of the widget.\n",
      " |      \n",
      " |      Doesn't add the class if it already exists.\n",
      " |  \n",
      " |  remove_class(self, className)\n",
      " |      Removes a class from the top level element of the widget.\n",
      " |      \n",
      " |      Doesn't remove the class if it doesn't exist.\n",
      " |  \n",
      " |  ----------------------------------------------------------------------\n",
      " |  Data descriptors inherited from ipywidgets.widgets.domwidget.DOMWidget:\n",
      " |  \n",
      " |  layout\n",
      " |  \n",
      " |  ----------------------------------------------------------------------\n",
      " |  Methods inherited from ipywidgets.widgets.valuewidget.ValueWidget:\n",
      " |  \n",
      " |  get_interact_value(self)\n",
      " |      Return the value for this widget which should be passed to\n",
      " |      interactive functions. Custom widgets can change this method\n",
      " |      to process the raw value ``self.value``.\n",
      " |  \n",
      " |  ----------------------------------------------------------------------\n",
      " |  Methods inherited from ipywidgets.widgets.widget.Widget:\n",
      " |  \n",
      " |  __del__(self)\n",
      " |      Object disposal\n",
      " |  \n",
      " |  __repr__(self)\n",
      " |      Return repr(self).\n",
      " |  \n",
      " |  add_traits(self, **traits)\n",
      " |      Dynamically add trait attributes to the Widget.\n",
      " |  \n",
      " |  close(self)\n",
      " |      Close method.\n",
      " |      \n",
      " |      Closes the underlying comm.\n",
      " |      When the comm is closed, all of the widget views are automatically\n",
      " |      removed from the front-end.\n",
      " |  \n",
      " |  get_state(self, key=None, drop_defaults=False)\n",
      " |      Gets the widget state, or a piece of it.\n",
      " |      \n",
      " |      Parameters\n",
      " |      ----------\n",
      " |      key : unicode or iterable (optional)\n",
      " |          A single property's name or iterable of property names to get.\n",
      " |      \n",
      " |      Returns\n",
      " |      -------\n",
      " |      state : dict of states\n",
      " |      metadata : dict\n",
      " |          metadata for each field: {key: metadata}\n",
      " |  \n",
      " |  get_view_spec(self)\n",
      " |  \n",
      " |  hold_sync(self)\n",
      " |      Hold syncing any state until the outermost context manager exits\n",
      " |  \n",
      " |  notify_change(self, change)\n",
      " |      Called when a property has changed.\n",
      " |  \n",
      " |  on_displayed(self, callback, remove=False)\n",
      " |      (Un)Register a widget displayed callback.\n",
      " |      \n",
      " |      Parameters\n",
      " |      ----------\n",
      " |      callback: method handler\n",
      " |          Must have a signature of::\n",
      " |      \n",
      " |              callback(widget, **kwargs)\n",
      " |      \n",
      " |          kwargs from display are passed through without modification.\n",
      " |      remove: bool\n",
      " |          True if the callback should be unregistered.\n",
      " |  \n",
      " |  on_msg(self, callback, remove=False)\n",
      " |      (Un)Register a custom msg receive callback.\n",
      " |      \n",
      " |      Parameters\n",
      " |      ----------\n",
      " |      callback: callable\n",
      " |          callback will be passed three arguments when a message arrives::\n",
      " |      \n",
      " |              callback(widget, content, buffers)\n",
      " |      \n",
      " |      remove: bool\n",
      " |          True if the callback should be unregistered.\n",
      " |  \n",
      " |  open(self)\n",
      " |      Open a comm to the frontend if one isn't already open.\n",
      " |  \n",
      " |  send(self, content, buffers=None)\n",
      " |      Sends a custom msg to the widget model in the front-end.\n",
      " |      \n",
      " |      Parameters\n",
      " |      ----------\n",
      " |      content : dict\n",
      " |          Content of the message to send.\n",
      " |      buffers : list of binary buffers\n",
      " |          Binary buffers to send with message\n",
      " |  \n",
      " |  send_state(self, key=None)\n",
      " |      Sends the widget state, or a piece of it, to the front-end, if it exists.\n",
      " |      \n",
      " |      Parameters\n",
      " |      ----------\n",
      " |      key : unicode, or iterable (optional)\n",
      " |          A single property's name or iterable of property names to sync with the front-end.\n",
      " |  \n",
      " |  set_state(self, sync_data)\n",
      " |      Called when a state is received from the front-end.\n",
      " |  \n",
      " |  ----------------------------------------------------------------------\n",
      " |  Class methods inherited from ipywidgets.widgets.widget.Widget:\n",
      " |  \n",
      " |  close_all() from traitlets.traitlets.MetaHasTraits\n",
      " |  \n",
      " |  ----------------------------------------------------------------------\n",
      " |  Static methods inherited from ipywidgets.widgets.widget.Widget:\n",
      " |  \n",
      " |  get_manager_state(drop_defaults=False, widgets=None)\n",
      " |      Returns the full state for a widget manager for embedding\n",
      " |      \n",
      " |      :param drop_defaults: when True, it will not include default value\n",
      " |      :param widgets: list with widgets to include in the state (or all widgets when None)\n",
      " |      :return:\n",
      " |  \n",
      " |  handle_comm_opened(comm, msg)\n",
      " |      Static method, called when a widget is constructed.\n",
      " |  \n",
      " |  on_widget_constructed(callback)\n",
      " |      Registers a callback to be called when a widget is constructed.\n",
      " |      \n",
      " |      The callback must have the following signature:\n",
      " |      callback(widget)\n",
      " |  \n",
      " |  ----------------------------------------------------------------------\n",
      " |  Readonly properties inherited from ipywidgets.widgets.widget.Widget:\n",
      " |  \n",
      " |  model_id\n",
      " |      Gets the model id of this widget.\n",
      " |      \n",
      " |      If a Comm doesn't exist yet, a Comm will be created automagically.\n",
      " |  \n",
      " |  ----------------------------------------------------------------------\n",
      " |  Data descriptors inherited from ipywidgets.widgets.widget.Widget:\n",
      " |  \n",
      " |  comm\n",
      " |  \n",
      " |  keys\n",
      " |  \n",
      " |  ----------------------------------------------------------------------\n",
      " |  Data and other attributes inherited from ipywidgets.widgets.widget.Widget:\n",
      " |  \n",
      " |  widget_types = <ipywidgets.widgets.widget.WidgetRegistry object>\n",
      " |  \n",
      " |  widgets = {'012d5b588e614f05bae6de0632ba1cfb': Button(button_style='wa...\n",
      " |  \n",
      " |  ----------------------------------------------------------------------\n",
      " |  Data descriptors inherited from ipywidgets.widgets.widget.LoggingHasTraits:\n",
      " |  \n",
      " |  log\n",
      " |  \n",
      " |  ----------------------------------------------------------------------\n",
      " |  Methods inherited from traitlets.traitlets.HasTraits:\n",
      " |  \n",
      " |  __getstate__(self)\n",
      " |  \n",
      " |  __setstate__(self, state)\n",
      " |  \n",
      " |  has_trait(self, name)\n",
      " |      Returns True if the object has a trait with the specified name.\n",
      " |  \n",
      " |  hold_trait_notifications(self)\n",
      " |      Context manager for bundling trait change notifications and cross\n",
      " |      validation.\n",
      " |      \n",
      " |      Use this when doing multiple trait assignments (init, config), to avoid\n",
      " |      race conditions in trait notifiers requesting other trait values.\n",
      " |      All trait notifications will fire after all values have been assigned.\n",
      " |  \n",
      " |  observe(self, handler, names=traitlets.All, type='change')\n",
      " |      Setup a handler to be called when a trait changes.\n",
      " |      \n",
      " |      This is used to setup dynamic notifications of trait changes.\n",
      " |      \n",
      " |      Parameters\n",
      " |      ----------\n",
      " |      handler : callable\n",
      " |          A callable that is called when a trait changes. Its\n",
      " |          signature should be ``handler(change)``, where ``change`` is a\n",
      " |          dictionary. The change dictionary at least holds a 'type' key.\n",
      " |          * ``type``: the type of notification.\n",
      " |          Other keys may be passed depending on the value of 'type'. In the\n",
      " |          case where type is 'change', we also have the following keys:\n",
      " |          * ``owner`` : the HasTraits instance\n",
      " |          * ``old`` : the old value of the modified trait attribute\n",
      " |          * ``new`` : the new value of the modified trait attribute\n",
      " |          * ``name`` : the name of the modified trait attribute.\n",
      " |      names : list, str, All\n",
      " |          If names is All, the handler will apply to all traits.  If a list\n",
      " |          of str, handler will apply to all names in the list.  If a\n",
      " |          str, the handler will apply just to that name.\n",
      " |      type : str, All (default: 'change')\n",
      " |          The type of notification to filter by. If equal to All, then all\n",
      " |          notifications are passed to the observe handler.\n",
      " |  \n",
      " |  on_trait_change(self, handler=None, name=None, remove=False)\n",
      " |      DEPRECATED: Setup a handler to be called when a trait changes.\n",
      " |      \n",
      " |      This is used to setup dynamic notifications of trait changes.\n",
      " |      \n",
      " |      Static handlers can be created by creating methods on a HasTraits\n",
      " |      subclass with the naming convention '_[traitname]_changed'.  Thus,\n",
      " |      to create static handler for the trait 'a', create the method\n",
      " |      _a_changed(self, name, old, new) (fewer arguments can be used, see\n",
      " |      below).\n",
      " |      \n",
      " |      If `remove` is True and `handler` is not specified, all change\n",
      " |      handlers for the specified name are uninstalled.\n",
      " |      \n",
      " |      Parameters\n",
      " |      ----------\n",
      " |      handler : callable, None\n",
      " |          A callable that is called when a trait changes.  Its\n",
      " |          signature can be handler(), handler(name), handler(name, new),\n",
      " |          handler(name, old, new), or handler(name, old, new, self).\n",
      " |      name : list, str, None\n",
      " |          If None, the handler will apply to all traits.  If a list\n",
      " |          of str, handler will apply to all names in the list.  If a\n",
      " |          str, the handler will apply just to that name.\n",
      " |      remove : bool\n",
      " |          If False (the default), then install the handler.  If True\n",
      " |          then unintall it.\n",
      " |  \n",
      " |  set_trait(self, name, value)\n",
      " |      Forcibly sets trait attribute, including read-only attributes.\n",
      " |  \n",
      " |  setup_instance(*args, **kwargs)\n",
      " |      This is called **before** self.__init__ is called.\n",
      " |  \n",
      " |  trait_defaults(self, *names, **metadata)\n",
      " |      Return a trait's default value or a dictionary of them\n",
      " |      \n",
      " |      Notes\n",
      " |      -----\n",
      " |      Dynamically generated default values may\n",
      " |      depend on the current state of the object.\n",
      " |  \n",
      " |  trait_has_value(self, name)\n",
      " |      Returns True if the specified trait has a value.\n",
      " |      \n",
      " |      This will return false even if ``getattr`` would return a\n",
      " |      dynamically generated default value. These default values\n",
      " |      will be recognized as existing only after they have been\n",
      " |      generated.\n",
      " |      \n",
      " |      Example\n",
      " |      \n",
      " |      .. code-block:: python\n",
      " |      \n",
      " |          class MyClass(HasTraits):\n",
      " |              i = Int()\n",
      " |      \n",
      " |          mc = MyClass()\n",
      " |          assert not mc.trait_has_value(\"i\")\n",
      " |          mc.i # generates a default value\n",
      " |          assert mc.trait_has_value(\"i\")\n",
      " |  \n",
      " |  trait_metadata(self, traitname, key, default=None)\n",
      " |      Get metadata values for trait by key.\n",
      " |  \n",
      " |  trait_names(self, **metadata)\n",
      " |      Get a list of all the names of this class' traits.\n",
      " |  \n",
      " |  trait_values(self, **metadata)\n",
      " |      A ``dict`` of trait names and their values.\n",
      " |      \n",
      " |      The metadata kwargs allow functions to be passed in which\n",
      " |      filter traits based on metadata values.  The functions should\n",
      " |      take a single value as an argument and return a boolean.  If\n",
      " |      any function returns False, then the trait is not included in\n",
      " |      the output.  If a metadata key doesn't exist, None will be passed\n",
      " |      to the function.\n",
      " |      \n",
      " |      Returns\n",
      " |      -------\n",
      " |      A ``dict`` of trait names and their values.\n",
      " |      \n",
      " |      Notes\n",
      " |      -----\n",
      " |      Trait values are retrieved via ``getattr``, any exceptions raised\n",
      " |      by traits or the operations they may trigger will result in the\n",
      " |      absence of a trait value in the result ``dict``.\n",
      " |  \n",
      " |  traits(self, **metadata)\n",
      " |      Get a ``dict`` of all the traits of this class.  The dictionary\n",
      " |      is keyed on the name and the values are the TraitType objects.\n",
      " |      \n",
      " |      The TraitTypes returned don't know anything about the values\n",
      " |      that the various HasTrait's instances are holding.\n",
      " |      \n",
      " |      The metadata kwargs allow functions to be passed in which\n",
      " |      filter traits based on metadata values.  The functions should\n",
      " |      take a single value as an argument and return a boolean.  If\n",
      " |      any function returns False, then the trait is not included in\n",
      " |      the output.  If a metadata key doesn't exist, None will be passed\n",
      " |      to the function.\n",
      " |  \n",
      " |  unobserve(self, handler, names=traitlets.All, type='change')\n",
      " |      Remove a trait change handler.\n",
      " |      \n",
      " |      This is used to unregister handlers to trait change notifications.\n",
      " |      \n",
      " |      Parameters\n",
      " |      ----------\n",
      " |      handler : callable\n",
      " |          The callable called when a trait attribute changes.\n",
      " |      names : list, str, All (default: All)\n",
      " |          The names of the traits for which the specified handler should be\n",
      " |          uninstalled. If names is All, the specified handler is uninstalled\n",
      " |          from the list of notifiers corresponding to all changes.\n",
      " |      type : str or All (default: 'change')\n",
      " |          The type of notification to filter by. If All, the specified handler\n",
      " |          is uninstalled from the list of notifiers corresponding to all types.\n",
      " |  \n",
      " |  unobserve_all(self, name=traitlets.All)\n",
      " |      Remove trait change handlers of any type for the specified name.\n",
      " |      If name is not specified, removes all trait notifiers.\n",
      " |  \n",
      " |  ----------------------------------------------------------------------\n",
      " |  Class methods inherited from traitlets.traitlets.HasTraits:\n",
      " |  \n",
      " |  class_own_trait_events(name) from traitlets.traitlets.MetaHasTraits\n",
      " |      Get a dict of all event handlers defined on this class, not a parent.\n",
      " |      \n",
      " |      Works like ``event_handlers``, except for excluding traits from parents.\n",
      " |  \n",
      " |  class_own_traits(**metadata) from traitlets.traitlets.MetaHasTraits\n",
      " |      Get a dict of all the traitlets defined on this class, not a parent.\n",
      " |      \n",
      " |      Works like `class_traits`, except for excluding traits from parents.\n",
      " |  \n",
      " |  class_trait_names(**metadata) from traitlets.traitlets.MetaHasTraits\n",
      " |      Get a list of all the names of this class' traits.\n",
      " |      \n",
      " |      This method is just like the :meth:`trait_names` method,\n",
      " |      but is unbound.\n",
      " |  \n",
      " |  class_traits(**metadata) from traitlets.traitlets.MetaHasTraits\n",
      " |      Get a ``dict`` of all the traits of this class.  The dictionary\n",
      " |      is keyed on the name and the values are the TraitType objects.\n",
      " |      \n",
      " |      This method is just like the :meth:`traits` method, but is unbound.\n",
      " |      \n",
      " |      The TraitTypes returned don't know anything about the values\n",
      " |      that the various HasTrait's instances are holding.\n",
      " |      \n",
      " |      The metadata kwargs allow functions to be passed in which\n",
      " |      filter traits based on metadata values.  The functions should\n",
      " |      take a single value as an argument and return a boolean.  If\n",
      " |      any function returns False, then the trait is not included in\n",
      " |      the output.  If a metadata key doesn't exist, None will be passed\n",
      " |      to the function.\n",
      " |  \n",
      " |  trait_events(name=None) from traitlets.traitlets.MetaHasTraits\n",
      " |      Get a ``dict`` of all the event handlers of this class.\n",
      " |      \n",
      " |      Parameters\n",
      " |      ----------\n",
      " |      name : str (default: None)\n",
      " |          The name of a trait of this class. If name is ``None`` then all\n",
      " |          the event handlers of this class will be returned instead.\n",
      " |      \n",
      " |      Returns\n",
      " |      -------\n",
      " |      The event handlers associated with a trait name, or all event handlers.\n",
      " |  \n",
      " |  ----------------------------------------------------------------------\n",
      " |  Readonly properties inherited from traitlets.traitlets.HasTraits:\n",
      " |  \n",
      " |  cross_validation_lock\n",
      " |      A contextmanager for running a block with our cross validation lock set\n",
      " |      to True.\n",
      " |      \n",
      " |      At the end of the block, the lock's value is restored to its value\n",
      " |      prior to entering the block.\n",
      " |  \n",
      " |  ----------------------------------------------------------------------\n",
      " |  Static methods inherited from traitlets.traitlets.HasDescriptors:\n",
      " |  \n",
      " |  __new__(*args, **kwargs)\n",
      " |      Create and return a new object.  See help(type) for accurate signature.\n",
      " |  \n",
      " |  ----------------------------------------------------------------------\n",
      " |  Data descriptors inherited from traitlets.traitlets.HasDescriptors:\n",
      " |  \n",
      " |  __dict__\n",
      " |      dictionary for instance variables (if defined)\n",
      " |  \n",
      " |  __weakref__\n",
      " |      list of weak references to the object (if defined)\n",
      "\n"
     ]
    }
   ],
   "source": [
    "help(ipywidgets.Dropdown)"
   ]
  },
  {
   "cell_type": "code",
   "execution_count": 3,
   "id": "879aca30",
   "metadata": {},
   "outputs": [
    {
     "name": "stdout",
     "output_type": "stream",
     "text": [
      "not(grandfather_of(A,B),not(grandparent_of(A,B)))\n"
     ]
    },
    {
     "data": {
      "text/plain": [
       "(True, [{}])"
      ]
     },
     "execution_count": 3,
     "metadata": {},
     "output_type": "execute_result"
    }
   ],
   "source": [
    "ap2.verify('grandparent_of(A,B):-grandfather_of(A,B).')"
   ]
  },
  {
   "cell_type": "code",
   "execution_count": 4,
   "id": "bec279fd",
   "metadata": {},
   "outputs": [
    {
     "name": "stdout",
     "output_type": "stream",
     "text": [
      "not(grandparent_of(A,B),not(grandfather_of(A,B)))\n"
     ]
    },
    {
     "data": {
      "text/plain": [
       "(False, [])"
      ]
     },
     "execution_count": 4,
     "metadata": {},
     "output_type": "execute_result"
    }
   ],
   "source": [
    "ap2.verify('grandfather_of(A,B):-grandparent_of(A,B).')"
   ]
  },
  {
   "cell_type": "code",
   "execution_count": 7,
   "id": "de66aa42",
   "metadata": {},
   "outputs": [
    {
     "name": "stdout",
     "output_type": "stream",
     "text": [
      "\n",
      "h 0\n",
      "Atom female(mary)\n",
      "Candidates {female(mary).}\n",
      "Match {female(mary).}\n",
      "Clause female(mary).\n",
      "Substitution {}\n",
      "Atoms []\n",
      "[{}]\n"
     ]
    }
   ],
   "source": [
    "from aloe.knowledge import MultipleKnowledge, LogicProgram\n",
    "ap = AloeProgram.build_from_text(text)\n",
    "ap.knowledge = MultipleKnowledge(LogicProgram(options=ap.options), ap.knowledge, options=ap.options)\n",
    "print(ap.query('female(mary).'))\n"
   ]
  },
  {
   "cell_type": "code",
   "execution_count": 2,
   "id": "074433ee",
   "metadata": {},
   "outputs": [
    {
     "ename": "TypeError",
     "evalue": "object of type 'NoneType' has no len()",
     "output_type": "error",
     "traceback": [
      "\u001b[1;31m---------------------------------------------------------------------------\u001b[0m",
      "\u001b[1;31mTypeError\u001b[0m                                 Traceback (most recent call last)",
      "\u001b[1;32m~\\AppData\\Local\\Temp/ipykernel_5452/597994717.py\u001b[0m in \u001b[0;36m<module>\u001b[1;34m\u001b[0m\n\u001b[1;32m----> 1\u001b[1;33m \u001b[0mlen\u001b[0m\u001b[1;33m(\u001b[0m\u001b[1;32mNone\u001b[0m\u001b[1;33m)\u001b[0m\u001b[1;33m\u001b[0m\u001b[1;33m\u001b[0m\u001b[0m\n\u001b[0m",
      "\u001b[1;31mTypeError\u001b[0m: object of type 'NoneType' has no len()"
     ]
    }
   ],
   "source": [
    "female(X), not(parent(X,Y)), female(Y)"
   ]
  },
  {
   "cell_type": "code",
   "execution_count": 1,
   "id": "6a33b1cb",
   "metadata": {},
   "outputs": [
    {
     "name": "stdout",
     "output_type": "stream",
     "text": [
      "<class 'aloe.clause.Predicate'> female(mary)\n",
      "<class 'aloe.clause.Constant'> mary\n"
     ]
    }
   ],
   "source": [
    "from aloe.clause import Clause, Predicate, Function, Constant, Variable, Operator\n",
    "def print_class_in_depth(element):\n",
    "    print(element.__class__, element)\n",
    "    if isinstance(element, Operator):\n",
    "        for t in element:\n",
    "            print_class_in_depth(t)\n",
    "\n",
    "atom = Predicate('female', [Constant('mary')])\n",
    "print_class_in_depth(atom)            "
   ]
  },
  {
   "cell_type": "code",
   "execution_count": 10,
   "id": "dc69ab83",
   "metadata": {},
   "outputs": [
    {
     "name": "stdout",
     "output_type": "stream",
     "text": [
      "h t\n"
     ]
    }
   ],
   "source": [
    "def fun(a, b, **options):\n",
    "    print(*options)\n",
    "    \n",
    "l = [1,2]\n",
    "fun(*l, h=30, t=50)\n"
   ]
  },
  {
   "cell_type": "code",
   "execution_count": 3,
   "id": "c18e2724",
   "metadata": {},
   "outputs": [
    {
     "data": {
      "text/plain": [
       "(True, [{X: lion}])"
      ]
     },
     "execution_count": 3,
     "metadata": {},
     "output_type": "execute_result"
    }
   ],
   "source": [
    "import aloe.program\n",
    "\n",
    "t = \"\"\"\n",
    "mortel(X):-man(X).\n",
    "mortel(X):-animal(X).\n",
    "\n",
    "man(socrates).\n",
    "animal(lion).\n",
    "\"\"\"\n",
    "\n",
    "ap = aloe.program.AloeProgram.build_from_background(t)\n",
    "\n",
    "q = \"mortel(X),not(man(X)).\"\n",
    "ap.query(q)\n"
   ]
  },
  {
   "cell_type": "code",
   "execution_count": 5,
   "id": "017e27cb",
   "metadata": {},
   "outputs": [
    {
     "data": {
      "text/plain": [
       "{1, 2}"
      ]
     },
     "execution_count": 5,
     "metadata": {},
     "output_type": "execute_result"
    }
   ],
   "source": [
    "a = {1,2,3}\n",
    "b = {4,5}\n",
    "c = {3,4}\n",
    "a-c"
   ]
  },
  {
   "cell_type": "markdown",
   "id": "5ca6d01e",
   "metadata": {},
   "source": [
    "\n",
    "<div class=\"dropdown\">\n",
    "  <button class=\"dropbtn\">Dropdown</button>\n",
    "  <div class=\"dropdown-content\">\n",
    "    <a href=\"#\">Link 1</a>\n",
    "    <a href=\"#\">Link 2</a>\n",
    "    <a href=\"#\">Link 3</a>\n",
    "  </div>\n",
    "</div>"
   ]
  },
  {
   "cell_type": "code",
   "execution_count": 6,
   "id": "ef0a2a14",
   "metadata": {},
   "outputs": [
    {
     "data": {
      "text/plain": [
       "' 3 qdsjfmqjq'"
      ]
     },
     "execution_count": 6,
     "metadata": {},
     "output_type": "execute_result"
    }
   ],
   "source": [
    "\"\"\" %d qdsjfmqjq\"\"\" % 3"
   ]
  },
  {
   "cell_type": "code",
   "execution_count": 4,
   "id": "e57f73b8",
   "metadata": {},
   "outputs": [
    {
     "data": {
      "text/plain": [
       "{1, 2, 3}"
      ]
     },
     "execution_count": 4,
     "metadata": {},
     "output_type": "execute_result"
    }
   ],
   "source": [
    "set.union({1,2},{3})"
   ]
  },
  {
   "cell_type": "code",
   "execution_count": 1,
   "id": "87201d2b",
   "metadata": {},
   "outputs": [
    {
     "name": "stdout",
     "output_type": "stream",
     "text": [
      "__main__\n"
     ]
    }
   ],
   "source": [
    "def fun():\n",
    "    print(__name__)\n",
    "    \n",
    "fun()"
   ]
  },
  {
   "cell_type": "code",
   "execution_count": 1,
   "id": "0079e74d",
   "metadata": {},
   "outputs": [],
   "source": [
    "from aloe.options import Options\n",
    "class A:\n",
    "    def __init__(self, options=None):\n",
    "        self._options = options if options else Options()\n",
    "        self._temp_options = dict()\n",
    "        \n",
    "    def __getattr__(self, attr):\n",
    "        if attr=='options':\n",
    "            if attr in self._temp_options:\n",
    "                return self._temp_options[attr]\n",
    "            else:\n",
    "                return self._options, attr)\n",
    "        else: return super().__getattr__(self)\n"
   ]
  },
  {
   "cell_type": "code",
   "execution_count": 3,
   "id": "6fbf01d8",
   "metadata": {},
   "outputs": [
    {
     "ename": "AttributeError",
     "evalue": "'Options' object has no attribute 'options'",
     "output_type": "error",
     "traceback": [
      "\u001b[1;31m---------------------------------------------------------------------------\u001b[0m",
      "\u001b[1;31mAttributeError\u001b[0m                            Traceback (most recent call last)",
      "\u001b[1;32m~\\AppData\\Local\\Temp/ipykernel_2872/378656007.py\u001b[0m in \u001b[0;36m<module>\u001b[1;34m\u001b[0m\n\u001b[0;32m      1\u001b[0m \u001b[0ma\u001b[0m \u001b[1;33m=\u001b[0m \u001b[0mA\u001b[0m\u001b[1;33m(\u001b[0m\u001b[1;33m)\u001b[0m\u001b[1;33m\u001b[0m\u001b[1;33m\u001b[0m\u001b[0m\n\u001b[1;32m----> 2\u001b[1;33m \u001b[0ma\u001b[0m\u001b[1;33m.\u001b[0m\u001b[0moptions\u001b[0m\u001b[1;33m.\u001b[0m\u001b[0ma\u001b[0m\u001b[1;33m\u001b[0m\u001b[1;33m\u001b[0m\u001b[0m\n\u001b[0m",
      "\u001b[1;32m~\\AppData\\Local\\Temp/ipykernel_2872/719484659.py\u001b[0m in \u001b[0;36m__getattr__\u001b[1;34m(self, attr)\u001b[0m\n\u001b[0;32m     10\u001b[0m                 \u001b[1;32mreturn\u001b[0m \u001b[0mself\u001b[0m\u001b[1;33m.\u001b[0m\u001b[0m_temp_options\u001b[0m\u001b[1;33m[\u001b[0m\u001b[0mattr\u001b[0m\u001b[1;33m]\u001b[0m\u001b[1;33m\u001b[0m\u001b[1;33m\u001b[0m\u001b[0m\n\u001b[0;32m     11\u001b[0m             \u001b[1;32melse\u001b[0m\u001b[1;33m:\u001b[0m\u001b[1;33m\u001b[0m\u001b[1;33m\u001b[0m\u001b[0m\n\u001b[1;32m---> 12\u001b[1;33m                 \u001b[1;32mreturn\u001b[0m \u001b[0mgetattr\u001b[0m\u001b[1;33m(\u001b[0m\u001b[0mself\u001b[0m\u001b[1;33m.\u001b[0m\u001b[0m_options\u001b[0m\u001b[1;33m,\u001b[0m \u001b[0mattr\u001b[0m\u001b[1;33m)\u001b[0m\u001b[1;33m\u001b[0m\u001b[1;33m\u001b[0m\u001b[0m\n\u001b[0m\u001b[0;32m     13\u001b[0m         \u001b[1;32melse\u001b[0m\u001b[1;33m:\u001b[0m \u001b[1;32mreturn\u001b[0m \u001b[0msuper\u001b[0m\u001b[1;33m(\u001b[0m\u001b[1;33m)\u001b[0m\u001b[1;33m.\u001b[0m\u001b[0m__getattr__\u001b[0m\u001b[1;33m(\u001b[0m\u001b[0mself\u001b[0m\u001b[1;33m)\u001b[0m\u001b[1;33m\u001b[0m\u001b[1;33m\u001b[0m\u001b[0m\n",
      "\u001b[1;31mAttributeError\u001b[0m: 'Options' object has no attribute 'options'"
     ]
    }
   ],
   "source": [
    "a = A()\n",
    "a.options.a"
   ]
  },
  {
   "cell_type": "code",
   "execution_count": 6,
   "id": "4c96aef9",
   "metadata": {},
   "outputs": [
    {
     "data": {
      "text/plain": [
       "['_options',\n",
       " '_temp_options',\n",
       " '__module__',\n",
       " '__init__',\n",
       " '__getattr__',\n",
       " '__dict__',\n",
       " '__weakref__',\n",
       " '__doc__',\n",
       " '__repr__',\n",
       " '__hash__',\n",
       " '__str__',\n",
       " '__getattribute__',\n",
       " '__setattr__',\n",
       " '__delattr__',\n",
       " '__lt__',\n",
       " '__le__',\n",
       " '__eq__',\n",
       " '__ne__',\n",
       " '__gt__',\n",
       " '__ge__',\n",
       " '__new__',\n",
       " '__reduce_ex__',\n",
       " '__reduce__',\n",
       " '__subclasshook__',\n",
       " '__init_subclass__',\n",
       " '__format__',\n",
       " '__sizeof__',\n",
       " '__dir__',\n",
       " '__class__']"
      ]
     },
     "execution_count": 6,
     "metadata": {},
     "output_type": "execute_result"
    }
   ],
   "source": [
    "a.__dir__()"
   ]
  },
  {
   "cell_type": "code",
   "execution_count": 2,
   "id": "d01e2bb4",
   "metadata": {},
   "outputs": [],
   "source": [
    "class A:\n",
    "    def __init__(self, s: str):\n",
    "        self.s = s\n",
    "a = A(1)"
   ]
  },
  {
   "cell_type": "code",
   "execution_count": 4,
   "id": "694e6c9d",
   "metadata": {},
   "outputs": [
    {
     "data": {
      "text/plain": [
       "False"
      ]
     },
     "execution_count": 4,
     "metadata": {},
     "output_type": "execute_result"
    }
   ],
   "source": [
    "a = {1}\n",
    "isinstance(a , list)\n",
    "\n"
   ]
  },
  {
   "cell_type": "code",
   "execution_count": 8,
   "id": "3ddd8ffb",
   "metadata": {},
   "outputs": [
    {
     "name": "stdout",
     "output_type": "stream",
     "text": [
      "Help on class tuple in module builtins:\n",
      "\n",
      "class tuple(object)\n",
      " |  tuple(iterable=(), /)\n",
      " |  \n",
      " |  Built-in immutable sequence.\n",
      " |  \n",
      " |  If no argument is given, the constructor returns an empty tuple.\n",
      " |  If iterable is specified the tuple is initialized from iterable's items.\n",
      " |  \n",
      " |  If the argument is a tuple, the return value is the same object.\n",
      " |  \n",
      " |  Built-in subclasses:\n",
      " |      asyncgen_hooks\n",
      " |      UnraisableHookArgs\n",
      " |  \n",
      " |  Methods defined here:\n",
      " |  \n",
      " |  __add__(self, value, /)\n",
      " |      Return self+value.\n",
      " |  \n",
      " |  __contains__(self, key, /)\n",
      " |      Return key in self.\n",
      " |  \n",
      " |  __eq__(self, value, /)\n",
      " |      Return self==value.\n",
      " |  \n",
      " |  __ge__(self, value, /)\n",
      " |      Return self>=value.\n",
      " |  \n",
      " |  __getattribute__(self, name, /)\n",
      " |      Return getattr(self, name).\n",
      " |  \n",
      " |  __getitem__(self, key, /)\n",
      " |      Return self[key].\n",
      " |  \n",
      " |  __getnewargs__(self, /)\n",
      " |  \n",
      " |  __gt__(self, value, /)\n",
      " |      Return self>value.\n",
      " |  \n",
      " |  __hash__(self, /)\n",
      " |      Return hash(self).\n",
      " |  \n",
      " |  __iter__(self, /)\n",
      " |      Implement iter(self).\n",
      " |  \n",
      " |  __le__(self, value, /)\n",
      " |      Return self<=value.\n",
      " |  \n",
      " |  __len__(self, /)\n",
      " |      Return len(self).\n",
      " |  \n",
      " |  __lt__(self, value, /)\n",
      " |      Return self<value.\n",
      " |  \n",
      " |  __mul__(self, value, /)\n",
      " |      Return self*value.\n",
      " |  \n",
      " |  __ne__(self, value, /)\n",
      " |      Return self!=value.\n",
      " |  \n",
      " |  __repr__(self, /)\n",
      " |      Return repr(self).\n",
      " |  \n",
      " |  __rmul__(self, value, /)\n",
      " |      Return value*self.\n",
      " |  \n",
      " |  count(self, value, /)\n",
      " |      Return number of occurrences of value.\n",
      " |  \n",
      " |  index(self, value, start=0, stop=9223372036854775807, /)\n",
      " |      Return first index of value.\n",
      " |      \n",
      " |      Raises ValueError if the value is not present.\n",
      " |  \n",
      " |  ----------------------------------------------------------------------\n",
      " |  Class methods defined here:\n",
      " |  \n",
      " |  __class_getitem__(...) from builtins.type\n",
      " |      See PEP 585\n",
      " |  \n",
      " |  ----------------------------------------------------------------------\n",
      " |  Static methods defined here:\n",
      " |  \n",
      " |  __new__(*args, **kwargs) from builtins.type\n",
      " |      Create and return a new object.  See help(type) for accurate signature.\n",
      "\n"
     ]
    }
   ],
   "source": [
    "help(iterable)"
   ]
  },
  {
   "cell_type": "code",
   "execution_count": 12,
   "id": "7ad604bb",
   "metadata": {},
   "outputs": [
    {
     "ename": "NotImplementedError",
     "evalue": "",
     "output_type": "error",
     "traceback": [
      "\u001b[1;31m---------------------------------------------------------------------------\u001b[0m",
      "\u001b[1;31mNotImplementedError\u001b[0m                       Traceback (most recent call last)",
      "\u001b[1;32m~\\AppData\\Local\\Temp/ipykernel_17388/2493561898.py\u001b[0m in \u001b[0;36m<module>\u001b[1;34m\u001b[0m\n\u001b[1;32m----> 1\u001b[1;33m \u001b[1;32mraise\u001b[0m \u001b[0mNotImplementedError\u001b[0m\u001b[1;33m(\u001b[0m\u001b[1;33m)\u001b[0m\u001b[1;33m\u001b[0m\u001b[1;33m\u001b[0m\u001b[0m\n\u001b[0m",
      "\u001b[1;31mNotImplementedError\u001b[0m: "
     ]
    }
   ],
   "source": [
    "raise NotImplementedError()"
   ]
  },
  {
   "cell_type": "code",
   "execution_count": 2,
   "id": "bd95406e",
   "metadata": {},
   "outputs": [
    {
     "data": {
      "text/plain": [
       "['a', 'b', 'c']"
      ]
     },
     "execution_count": 2,
     "metadata": {},
     "output_type": "execute_result"
    }
   ],
   "source": [
    "'a b \\n c'.split()"
   ]
  },
  {
   "cell_type": "code",
   "execution_count": 3,
   "id": "86e07499",
   "metadata": {},
   "outputs": [
    {
     "ename": "SyntaxError",
     "evalue": "invalid syntax (Temp/ipykernel_2252/2001087664.py, line 1)",
     "output_type": "error",
     "traceback": [
      "\u001b[1;36m  File \u001b[1;32m\"C:\\Users\\simon\\AppData\\Local\\Temp/ipykernel_2252/2001087664.py\"\u001b[1;36m, line \u001b[1;32m1\u001b[0m\n\u001b[1;33m    a = #qmdfk\u001b[0m\n\u001b[1;37m        ^\u001b[0m\n\u001b[1;31mSyntaxError\u001b[0m\u001b[1;31m:\u001b[0m invalid syntax\n"
     ]
    }
   ],
   "source": [
    "a = #qmdfk\n",
    "a"
   ]
  },
  {
   "cell_type": "code",
   "execution_count": 2,
   "id": "ae3b3589",
   "metadata": {},
   "outputs": [
    {
     "data": {
      "text/plain": [
       "True"
      ]
     },
     "execution_count": 2,
     "metadata": {},
     "output_type": "execute_result"
    }
   ],
   "source": [
    "any(True for _ in range(3))"
   ]
  },
  {
   "cell_type": "code",
   "execution_count": 3,
   "id": "5e9541aa",
   "metadata": {},
   "outputs": [
    {
     "data": {
      "text/plain": [
       "False"
      ]
     },
     "execution_count": 3,
     "metadata": {},
     "output_type": "execute_result"
    }
   ],
   "source": [
    "isinstance((3,1),(int,int))"
   ]
  },
  {
   "cell_type": "code",
   "execution_count": 8,
   "id": "0c42ef5a",
   "metadata": {},
   "outputs": [
    {
     "ename": "SubstitutionError",
     "evalue": "Substitution {3/4} is not valid",
     "output_type": "error",
     "traceback": [
      "\u001b[1;31m---------------------------------------------------------------------------\u001b[0m",
      "\u001b[1;31mSubstitutionError\u001b[0m                         Traceback (most recent call last)",
      "\u001b[1;32m~\\AppData\\Local\\Temp/ipykernel_1528/1551209509.py\u001b[0m in \u001b[0;36m<module>\u001b[1;34m\u001b[0m\n\u001b[0;32m      4\u001b[0m         \u001b[0msuper\u001b[0m\u001b[1;33m(\u001b[0m\u001b[1;33m)\u001b[0m\u001b[1;33m.\u001b[0m\u001b[0m__init__\u001b[0m\u001b[1;33m(\u001b[0m\u001b[0mmessage\u001b[0m\u001b[1;33m)\u001b[0m\u001b[1;33m\u001b[0m\u001b[1;33m\u001b[0m\u001b[0m\n\u001b[0;32m      5\u001b[0m \u001b[1;33m\u001b[0m\u001b[0m\n\u001b[1;32m----> 6\u001b[1;33m \u001b[1;32mraise\u001b[0m \u001b[0mSubstitutionError\u001b[0m\u001b[1;33m(\u001b[0m\u001b[1;36m3\u001b[0m\u001b[1;33m,\u001b[0m\u001b[1;36m4\u001b[0m\u001b[1;33m)\u001b[0m\u001b[1;33m\u001b[0m\u001b[1;33m\u001b[0m\u001b[0m\n\u001b[0m",
      "\u001b[1;31mSubstitutionError\u001b[0m: Substitution {3/4} is not valid"
     ]
    }
   ],
   "source": [
    "class SubstitutionError(Exception):\n",
    "    def __init__(self, key, item):\n",
    "        message = 'Substitution {%s/%s} is not valid' % (str(key), str(item))\n",
    "        super().__init__(message)\n",
    "        \n",
    "raise SubstitutionError(3,4)"
   ]
  },
  {
   "cell_type": "code",
   "execution_count": 14,
   "id": "b0a97f6c",
   "metadata": {},
   "outputs": [
    {
     "data": {
      "text/plain": [
       "'\\ndirectory = \"aloe\"\\n# iterate over files in\\n# that directory\\nfor filename in os.listdir(directory):\\n    fname = os.path.join(directory, filename)\\n    if os.path.isfile(fname) and fname[-3:]==\".py\":\\n        switch_Function_CompoundTerm(fname)\\n\\n'"
      ]
     },
     "execution_count": 14,
     "metadata": {},
     "output_type": "execute_result"
    }
   ],
   "source": [
    "import os\n",
    "\n",
    "def switch_Function_CompoundTerm(fname):\n",
    "    f = open(fname, 'r')\n",
    "    t = f.read()\n",
    "    f.close()\n",
    "\n",
    "    t = t.replace(\"Function\", \"FFFFF\")\n",
    "    t = t.replace(\"CompoundTerm\", \"Function\")\n",
    "    t = t.replace(\"FFFFF\", \"CompoundTerm\")\n",
    "\n",
    "    f = open(fname, 'w')\n",
    "    f.write(t)\n",
    "    f.close()\n",
    "\n",
    "    \n",
    "    \n",
    "\"\"\"\n",
    "directory = \"aloe\"\n",
    "# iterate over files in\n",
    "# that directory\n",
    "for filename in os.listdir(directory):\n",
    "    fname = os.path.join(directory, filename)\n",
    "    if os.path.isfile(fname) and fname[-3:]==\".py\":\n",
    "        switch_Function_CompoundTerm(fname)\n",
    "\n",
    "\"\"\""
   ]
  },
  {
   "cell_type": "code",
   "execution_count": 3,
   "id": "1667929c",
   "metadata": {},
   "outputs": [],
   "source": [
    "\"\"\"\n",
    "import os\n",
    "directory = \"aloe\"\n",
    "# iterate over files in\n",
    "# that directory\n",
    "for filename in os.listdir(directory):\n",
    "    fname = os.path.join(directory, filename)\n",
    "    if os.path.isfile(fname) and fname[-3:]==\".py\":\n",
    "        f = open(fname, 'r')\n",
    "        t = f.read()\n",
    "        f.close()\n",
    "\n",
    "        t = t.replace(\"ModeHandler\", \"ModeCollection\")\n",
    "\n",
    "        f = open(fname, 'w')\n",
    "        f.write(t)\n",
    "        f.close()        \n",
    "\"\"\""
   ]
  },
  {
   "cell_type": "code",
   "execution_count": 2,
   "id": "68153666",
   "metadata": {},
   "outputs": [],
   "source": [
    "from itertools import chain"
   ]
  },
  {
   "cell_type": "code",
   "execution_count": 3,
   "id": "97e1fc3e",
   "metadata": {},
   "outputs": [
    {
     "name": "stdout",
     "output_type": "stream",
     "text": [
      "Help on class chain in module itertools:\n",
      "\n",
      "class chain(builtins.object)\n",
      " |  chain(*iterables) --> chain object\n",
      " |  \n",
      " |  Return a chain object whose .__next__() method returns elements from the\n",
      " |  first iterable until it is exhausted, then elements from the next\n",
      " |  iterable, until all of the iterables are exhausted.\n",
      " |  \n",
      " |  Methods defined here:\n",
      " |  \n",
      " |  __getattribute__(self, name, /)\n",
      " |      Return getattr(self, name).\n",
      " |  \n",
      " |  __iter__(self, /)\n",
      " |      Implement iter(self).\n",
      " |  \n",
      " |  __next__(self, /)\n",
      " |      Implement next(self).\n",
      " |  \n",
      " |  __reduce__(...)\n",
      " |      Return state information for pickling.\n",
      " |  \n",
      " |  __setstate__(...)\n",
      " |      Set state information for unpickling.\n",
      " |  \n",
      " |  ----------------------------------------------------------------------\n",
      " |  Class methods defined here:\n",
      " |  \n",
      " |  __class_getitem__(...) from builtins.type\n",
      " |      See PEP 585\n",
      " |  \n",
      " |  from_iterable(iterable, /) from builtins.type\n",
      " |      Alternative chain() constructor taking a single iterable argument that evaluates lazily.\n",
      " |  \n",
      " |  ----------------------------------------------------------------------\n",
      " |  Static methods defined here:\n",
      " |  \n",
      " |  __new__(*args, **kwargs) from builtins.type\n",
      " |      Create and return a new object.  See help(type) for accurate signature.\n",
      "\n"
     ]
    }
   ],
   "source": [
    "'a'.capitalize"
   ]
  },
  {
   "cell_type": "code",
   "execution_count": 5,
   "id": "380d58f1",
   "metadata": {},
   "outputs": [
    {
     "data": {
      "text/plain": [
       "[1, 2, 3]"
      ]
     },
     "execution_count": 5,
     "metadata": {},
     "output_type": "execute_result"
    }
   ],
   "source": [
    "class A:\n",
    "    def __init__(self):\n",
    "        self.l = [1,2,3]\n",
    "        \n",
    "    def __iter__(self):\n",
    "        return iter(self.l)\n",
    "    \n",
    "a = A()\n",
    "list(a)"
   ]
  },
  {
   "cell_type": "code",
   "execution_count": 19,
   "id": "de7db07c",
   "metadata": {},
   "outputs": [
    {
     "data": {
      "text/plain": [
       "'Mqkdm'"
      ]
     },
     "execution_count": 19,
     "metadata": {},
     "output_type": "execute_result"
    }
   ],
   "source": [
    "s = 'mqkdm'\n",
    "s.capitalize()"
   ]
  },
  {
   "cell_type": "code",
   "execution_count": 11,
   "id": "c348f1de",
   "metadata": {},
   "outputs": [
    {
     "ename": "SyntaxError",
     "evalue": "unexpected EOF while parsing (Temp/ipykernel_10752/2609936294.py, line 7)",
     "output_type": "error",
     "traceback": [
      "\u001b[1;36m  File \u001b[1;32m\"C:\\Users\\simon\\AppData\\Local\\Temp/ipykernel_10752/2609936294.py\"\u001b[1;36m, line \u001b[1;32m7\u001b[0m\n\u001b[1;33m    next(g)\u001b[0m\n\u001b[1;37m           ^\u001b[0m\n\u001b[1;31mSyntaxError\u001b[0m\u001b[1;31m:\u001b[0m unexpected EOF while parsing\n"
     ]
    }
   ],
   "source": [
    "def fun(x):\n",
    "    if x:\n",
    "        yield x\n",
    "        \n",
    "g = fun(0)\n"
   ]
  },
  {
   "cell_type": "code",
   "execution_count": 16,
   "id": "9cff5312",
   "metadata": {},
   "outputs": [
    {
     "data": {
      "text/plain": [
       "65"
      ]
     },
     "execution_count": 16,
     "metadata": {},
     "output_type": "execute_result"
    }
   ],
   "source": [
    "ord('A')"
   ]
  },
  {
   "cell_type": "code",
   "execution_count": 17,
   "id": "fa8b84e2",
   "metadata": {},
   "outputs": [
    {
     "ename": "TypeError",
     "evalue": "'str' object cannot be interpreted as an integer",
     "output_type": "error",
     "traceback": [
      "\u001b[1;31m---------------------------------------------------------------------------\u001b[0m",
      "\u001b[1;31mTypeError\u001b[0m                                 Traceback (most recent call last)",
      "\u001b[1;32m~\\AppData\\Local\\Temp/ipykernel_14656/3592611689.py\u001b[0m in \u001b[0;36m<module>\u001b[1;34m\u001b[0m\n\u001b[1;32m----> 1\u001b[1;33m \u001b[1;32mfor\u001b[0m \u001b[0ma\u001b[0m \u001b[1;32min\u001b[0m \u001b[0mrange\u001b[0m\u001b[1;33m(\u001b[0m\u001b[1;34m'A'\u001b[0m\u001b[1;33m,\u001b[0m\u001b[1;34m'Z'\u001b[0m\u001b[1;33m)\u001b[0m\u001b[1;33m:\u001b[0m\u001b[1;33m\u001b[0m\u001b[1;33m\u001b[0m\u001b[0m\n\u001b[0m\u001b[0;32m      2\u001b[0m     \u001b[0mprint\u001b[0m\u001b[1;33m(\u001b[0m\u001b[0ma\u001b[0m\u001b[1;33m)\u001b[0m\u001b[1;33m\u001b[0m\u001b[1;33m\u001b[0m\u001b[0m\n",
      "\u001b[1;31mTypeError\u001b[0m: 'str' object cannot be interpreted as an integer"
     ]
    }
   ],
   "source": [
    "for a in range('A','Z'):\n",
    "    print(a)"
   ]
  },
  {
   "cell_type": "code",
   "execution_count": 2,
   "id": "e66834eb",
   "metadata": {},
   "outputs": [
    {
     "data": {
      "text/plain": [
       "6"
      ]
     },
     "execution_count": 2,
     "metadata": {},
     "output_type": "execute_result"
    }
   ],
   "source": [
    "class A:\n",
    "    a = 5\n",
    "    \n",
    "A.a = 6\n",
    "a = A()\n",
    "a.a"
   ]
  },
  {
   "cell_type": "code",
   "execution_count": 6,
   "id": "d9104266",
   "metadata": {},
   "outputs": [
    {
     "name": "stdout",
     "output_type": "stream",
     "text": [
      "\n",
      "parent_of(ada,andrew).\n",
      "parent_of(ada,john).\n",
      "parent_of(ada,robert).\n",
      "parent_of(ada,stephen).\n",
      "parent_of(edith,andrew).\n",
      "parent_of(edith,john).\n",
      "parent_of(edith,robert).\n",
      "parent_of(edith,stephen).\n",
      "parent_of(george,bernard).\n",
      "parent_of(george,cathleen).\n",
      "parent_of(george,daphne).\n",
      "parent_of(george,fred).\n",
      "parent_of(george,louis).\n",
      "parent_of(oscar,andrew).\n",
      "parent_of(oscar,john).\n",
      "parent_of(oscar,robert).\n",
      "parent_of(oscar,stephen).\n",
      "parent_of(paul,bernard).\n",
      "parent_of(paul,cathleen).\n",
      "parent_of(paul,daphne).\n",
      "parent_of(paul,fred).\n",
      "parent_of(paul,louis).\n",
      "parent_of(william,andrew).\n",
      "parent_of(william,john).\n",
      "parent_of(william,robert).\n",
      "parent_of(william,stephen).\n",
      "\n",
      "parent_of(sylvia,ada).\n",
      "parent_of(bernard,edith).\n",
      "parent_of(cathleen,edith).\n",
      "parent_of(daphne,edith).\n",
      "parent_of(fred,edith).\n",
      "parent_of(louis,edith).\n",
      "parent_of(oscar,george).\n",
      "parent_of(andrew,louis).\n",
      "parent_of(john,louis).\n",
      "parent_of(robert,louis).\n",
      "parent_of(stephen,louis).\n",
      "parent_of(bernard,oscar).\n",
      "parent_of(cathleen,oscar).\n",
      "parent_of(daphne,oscar).\n",
      "parent_of(fred,oscar).\n",
      "parent_of(louis,oscar).\n",
      "parent_of(edith,paul).\n",
      "parent_of(andrew,sylvia).\n",
      "parent_of(john,sylvia).\n",
      "parent_of(robert,sylvia).\n",
      "parent_of(stephen,sylvia).\n",
      "parent_of(sylvia,william).\n",
      "grandparent_of(ada,sylvia).\n",
      "\n",
      "grandparent_of(edith,bernard).\n",
      "grandparent_of(edith,cathleen).\n",
      "grandparent_of(edith,daphne).\n",
      "grandparent_of(edith,fred).\n",
      "grandparent_of(edith,louis).\n",
      "grandparent_of(george,oscar).\n",
      "grandparent_of(louis,andrew).\n",
      "grandparent_of(louis,john).\n",
      "grandparent_of(louis,robert).\n",
      "grandparent_of(louis,stephen).\n",
      "grandparent_of(oscar,bernard).\n",
      "grandparent_of(oscar,cathleen).\n",
      "grandparent_of(oscar,daphne).\n",
      "grandparent_of(oscar,fred).\n",
      "grandparent_of(oscar,louis).\n",
      "grandparent_of(paul,edith).\n",
      "grandparent_of(sylvia,andrew).\n",
      "grandparent_of(sylvia,john).\n",
      "grandparent_of(sylvia,robert).\n",
      "grandparent_of(sylvia,stephen).\n",
      "grandparent_of(william,sylvia).\n",
      "\n",
      "grandfather_of(ada,sylvia).\n",
      "grandfather_of(edith,bernard).\n",
      "grandfather_of(edith,cathleen).\n",
      "grandfather_of(edith,daphne).\n",
      "grandfather_of(edith,fred).\n",
      "grandfather_of(edith,louis).\n",
      "grandfather_of(george,oscar).\n",
      "grandfather_of(louis,andrew).\n",
      "grandfather_of(louis,john).\n",
      "grandfather_of(louis,robert).\n",
      "grandfather_of(louis,stephen).\n",
      "grandfather_of(oscar,bernard).\n",
      "grandfather_of(oscar,cathleen).\n",
      "grandfather_of(oscar,daphne).\n",
      "grandfather_of(oscar,fred).\n",
      "grandfather_of(oscar,louis).\n",
      "grandfather_of(paul,edith).\n",
      "grandfather_of(sylvia,andrew).\n",
      "grandfather_of(sylvia,john).\n",
      "grandfather_of(sylvia,robert).\n",
      "grandfather_of(sylvia,stephen).\n",
      "grandfather_of(william,sylvia).\n",
      "\n",
      "grandfather_of(ada,andrew).\n",
      "grandfather_of(ada,john).\n",
      "grandfather_of(ada,robert).\n",
      "grandfather_of(ada,stephen).\n",
      "grandfather_of(edith,andrew).\n",
      "grandfather_of(edith,john).\n",
      "grandfather_of(edith,robert).\n",
      "grandfather_of(edith,stephen).\n",
      "\n",
      "\n"
     ]
    }
   ],
   "source": [
    "s = \"\"\"\n",
    "ada parent_of andrew.\n",
    "ada parent_of john.\n",
    "ada parent_of robert.\n",
    "ada parent_of stephen.\n",
    "edith parent_of andrew.\n",
    "edith parent_of john.\n",
    "edith parent_of robert.\n",
    "edith parent_of stephen.\n",
    "george parent_of bernard.\n",
    "george parent_of cathleen.\n",
    "george parent_of daphne.\n",
    "george parent_of fred.\n",
    "george parent_of louis.\n",
    "oscar parent_of andrew.\n",
    "oscar parent_of john.\n",
    "oscar parent_of robert.\n",
    "oscar parent_of stephen.\n",
    "paul parent_of bernard.\n",
    "paul parent_of cathleen.\n",
    "paul parent_of daphne.\n",
    "paul parent_of fred.\n",
    "paul parent_of louis.\n",
    "william parent_of andrew.\n",
    "william parent_of john.\n",
    "william parent_of robert.\n",
    "william parent_of stephen.\n",
    "\n",
    "sylvia parent_of ada.\n",
    "bernard parent_of edith.\n",
    "cathleen parent_of edith.\n",
    "daphne parent_of edith.\n",
    "fred parent_of edith.\n",
    "louis parent_of edith.\n",
    "oscar parent_of george.\n",
    "andrew parent_of louis.\n",
    "john parent_of louis.\n",
    "robert parent_of louis.\n",
    "stephen parent_of louis.\n",
    "bernard parent_of oscar.\n",
    "cathleen parent_of oscar.\n",
    "daphne parent_of oscar.\n",
    "fred parent_of oscar.\n",
    "louis parent_of oscar.\n",
    "edith parent_of paul.\n",
    "andrew parent_of sylvia.\n",
    "john parent_of sylvia.\n",
    "robert parent_of sylvia.\n",
    "stephen parent_of sylvia.\n",
    "sylvia parent_of william.\n",
    "ada grandparent_of sylvia.\n",
    "\n",
    "edith grandparent_of bernard.\n",
    "edith grandparent_of cathleen.\n",
    "edith grandparent_of daphne.\n",
    "edith grandparent_of fred.\n",
    "edith grandparent_of louis.\n",
    "george grandparent_of oscar.\n",
    "louis grandparent_of andrew.\n",
    "louis grandparent_of john.\n",
    "louis grandparent_of robert.\n",
    "louis grandparent_of stephen.\n",
    "oscar grandparent_of bernard.\n",
    "oscar grandparent_of cathleen.\n",
    "oscar grandparent_of daphne.\n",
    "oscar grandparent_of fred.\n",
    "oscar grandparent_of louis.\n",
    "paul grandparent_of edith.\n",
    "sylvia grandparent_of andrew.\n",
    "sylvia grandparent_of john.\n",
    "sylvia grandparent_of robert.\n",
    "sylvia grandparent_of stephen.\n",
    "william grandparent_of sylvia.\n",
    "\n",
    "ada grandfather_of sylvia.\n",
    "edith grandfather_of bernard.\n",
    "edith grandfather_of cathleen.\n",
    "edith grandfather_of daphne.\n",
    "edith grandfather_of fred.\n",
    "edith grandfather_of louis.\n",
    "george grandfather_of oscar.\n",
    "louis grandfather_of andrew.\n",
    "louis grandfather_of john.\n",
    "louis grandfather_of robert.\n",
    "louis grandfather_of stephen.\n",
    "oscar grandfather_of bernard.\n",
    "oscar grandfather_of cathleen.\n",
    "oscar grandfather_of daphne.\n",
    "oscar grandfather_of fred.\n",
    "oscar grandfather_of louis.\n",
    "paul grandfather_of edith.\n",
    "sylvia grandfather_of andrew.\n",
    "sylvia grandfather_of john.\n",
    "sylvia grandfather_of robert.\n",
    "sylvia grandfather_of stephen.\n",
    "william grandfather_of sylvia.\n",
    "\n",
    "ada grandfather_of andrew.\n",
    "ada grandfather_of john.\n",
    "ada grandfather_of robert.\n",
    "ada grandfather_of stephen.\n",
    "edith grandfather_of andrew.\n",
    "edith grandfather_of john.\n",
    "edith grandfather_of robert.\n",
    "edith grandfather_of stephen.\n",
    "\"\"\"\n",
    "s = s.replace(\".\",\"\")\n",
    "out = ''\n",
    "for line in s.split(\"\\n\"):\n",
    "    if line: \n",
    "        a, p, b, *garbage = line.split(' ')\n",
    "        out += '%s(%s,%s).' % (p, a, b)\n",
    "    out += '\\n'\n",
    "\n",
    "print(out)"
   ]
  },
  {
   "cell_type": "code",
   "execution_count": 3,
   "id": "2463c66d",
   "metadata": {},
   "outputs": [
    {
     "name": "stdout",
     "output_type": "stream",
     "text": [
      "Help on class tuple in module builtins:\n",
      "\n",
      "class tuple(object)\n",
      " |  tuple(iterable=(), /)\n",
      " |  \n",
      " |  Built-in immutable sequence.\n",
      " |  \n",
      " |  If no argument is given, the constructor returns an empty tuple.\n",
      " |  If iterable is specified the tuple is initialized from iterable's items.\n",
      " |  \n",
      " |  If the argument is a tuple, the return value is the same object.\n",
      " |  \n",
      " |  Built-in subclasses:\n",
      " |      asyncgen_hooks\n",
      " |      UnraisableHookArgs\n",
      " |  \n",
      " |  Methods defined here:\n",
      " |  \n",
      " |  __add__(self, value, /)\n",
      " |      Return self+value.\n",
      " |  \n",
      " |  __contains__(self, key, /)\n",
      " |      Return key in self.\n",
      " |  \n",
      " |  __eq__(self, value, /)\n",
      " |      Return self==value.\n",
      " |  \n",
      " |  __ge__(self, value, /)\n",
      " |      Return self>=value.\n",
      " |  \n",
      " |  __getattribute__(self, name, /)\n",
      " |      Return getattr(self, name).\n",
      " |  \n",
      " |  __getitem__(self, key, /)\n",
      " |      Return self[key].\n",
      " |  \n",
      " |  __getnewargs__(self, /)\n",
      " |  \n",
      " |  __gt__(self, value, /)\n",
      " |      Return self>value.\n",
      " |  \n",
      " |  __hash__(self, /)\n",
      " |      Return hash(self).\n",
      " |  \n",
      " |  __iter__(self, /)\n",
      " |      Implement iter(self).\n",
      " |  \n",
      " |  __le__(self, value, /)\n",
      " |      Return self<=value.\n",
      " |  \n",
      " |  __len__(self, /)\n",
      " |      Return len(self).\n",
      " |  \n",
      " |  __lt__(self, value, /)\n",
      " |      Return self<value.\n",
      " |  \n",
      " |  __mul__(self, value, /)\n",
      " |      Return self*value.\n",
      " |  \n",
      " |  __ne__(self, value, /)\n",
      " |      Return self!=value.\n",
      " |  \n",
      " |  __repr__(self, /)\n",
      " |      Return repr(self).\n",
      " |  \n",
      " |  __rmul__(self, value, /)\n",
      " |      Return value*self.\n",
      " |  \n",
      " |  count(self, value, /)\n",
      " |      Return number of occurrences of value.\n",
      " |  \n",
      " |  index(self, value, start=0, stop=9223372036854775807, /)\n",
      " |      Return first index of value.\n",
      " |      \n",
      " |      Raises ValueError if the value is not present.\n",
      " |  \n",
      " |  ----------------------------------------------------------------------\n",
      " |  Class methods defined here:\n",
      " |  \n",
      " |  __class_getitem__(...) from builtins.type\n",
      " |      See PEP 585\n",
      " |  \n",
      " |  ----------------------------------------------------------------------\n",
      " |  Static methods defined here:\n",
      " |  \n",
      " |  __new__(*args, **kwargs) from builtins.type\n",
      " |      Create and return a new object.  See help(type) for accurate signature.\n",
      "\n"
     ]
    }
   ],
   "source": [
    "help(tuple)"
   ]
  },
  {
   "cell_type": "code",
   "execution_count": 5,
   "id": "7603f4a5",
   "metadata": {},
   "outputs": [
    {
     "data": {
      "text/plain": [
       "0.0"
      ]
     },
     "execution_count": 5,
     "metadata": {},
     "output_type": "execute_result"
    }
   ],
   "source": [
    "from aloe.utils import generate_variable_names\n",
    "t0 = time.time()\n",
    "generate_variable_names()\n",
    "time.time()-t0"
   ]
  },
  {
   "cell_type": "code",
   "execution_count": 4,
   "id": "aa482aaf",
   "metadata": {},
   "outputs": [
    {
     "name": "stdout",
     "output_type": "stream",
     "text": [
      "Help on class list in module builtins:\n",
      "\n",
      "class list(object)\n",
      " |  list(iterable=(), /)\n",
      " |  \n",
      " |  Built-in mutable sequence.\n",
      " |  \n",
      " |  If no argument is given, the constructor creates a new empty list.\n",
      " |  The argument must be an iterable if specified.\n",
      " |  \n",
      " |  Methods defined here:\n",
      " |  \n",
      " |  __add__(self, value, /)\n",
      " |      Return self+value.\n",
      " |  \n",
      " |  __contains__(self, key, /)\n",
      " |      Return key in self.\n",
      " |  \n",
      " |  __delitem__(self, key, /)\n",
      " |      Delete self[key].\n",
      " |  \n",
      " |  __eq__(self, value, /)\n",
      " |      Return self==value.\n",
      " |  \n",
      " |  __ge__(self, value, /)\n",
      " |      Return self>=value.\n",
      " |  \n",
      " |  __getattribute__(self, name, /)\n",
      " |      Return getattr(self, name).\n",
      " |  \n",
      " |  __getitem__(...)\n",
      " |      x.__getitem__(y) <==> x[y]\n",
      " |  \n",
      " |  __gt__(self, value, /)\n",
      " |      Return self>value.\n",
      " |  \n",
      " |  __iadd__(self, value, /)\n",
      " |      Implement self+=value.\n",
      " |  \n",
      " |  __imul__(self, value, /)\n",
      " |      Implement self*=value.\n",
      " |  \n",
      " |  __init__(self, /, *args, **kwargs)\n",
      " |      Initialize self.  See help(type(self)) for accurate signature.\n",
      " |  \n",
      " |  __iter__(self, /)\n",
      " |      Implement iter(self).\n",
      " |  \n",
      " |  __le__(self, value, /)\n",
      " |      Return self<=value.\n",
      " |  \n",
      " |  __len__(self, /)\n",
      " |      Return len(self).\n",
      " |  \n",
      " |  __lt__(self, value, /)\n",
      " |      Return self<value.\n",
      " |  \n",
      " |  __mul__(self, value, /)\n",
      " |      Return self*value.\n",
      " |  \n",
      " |  __ne__(self, value, /)\n",
      " |      Return self!=value.\n",
      " |  \n",
      " |  __repr__(self, /)\n",
      " |      Return repr(self).\n",
      " |  \n",
      " |  __reversed__(self, /)\n",
      " |      Return a reverse iterator over the list.\n",
      " |  \n",
      " |  __rmul__(self, value, /)\n",
      " |      Return value*self.\n",
      " |  \n",
      " |  __setitem__(self, key, value, /)\n",
      " |      Set self[key] to value.\n",
      " |  \n",
      " |  __sizeof__(self, /)\n",
      " |      Return the size of the list in memory, in bytes.\n",
      " |  \n",
      " |  append(self, object, /)\n",
      " |      Append object to the end of the list.\n",
      " |  \n",
      " |  clear(self, /)\n",
      " |      Remove all items from list.\n",
      " |  \n",
      " |  copy(self, /)\n",
      " |      Return a shallow copy of the list.\n",
      " |  \n",
      " |  count(self, value, /)\n",
      " |      Return number of occurrences of value.\n",
      " |  \n",
      " |  extend(self, iterable, /)\n",
      " |      Extend list by appending elements from the iterable.\n",
      " |  \n",
      " |  index(self, value, start=0, stop=9223372036854775807, /)\n",
      " |      Return first index of value.\n",
      " |      \n",
      " |      Raises ValueError if the value is not present.\n",
      " |  \n",
      " |  insert(self, index, object, /)\n",
      " |      Insert object before index.\n",
      " |  \n",
      " |  pop(self, index=-1, /)\n",
      " |      Remove and return item at index (default last).\n",
      " |      \n",
      " |      Raises IndexError if list is empty or index is out of range.\n",
      " |  \n",
      " |  remove(self, value, /)\n",
      " |      Remove first occurrence of value.\n",
      " |      \n",
      " |      Raises ValueError if the value is not present.\n",
      " |  \n",
      " |  reverse(self, /)\n",
      " |      Reverse *IN PLACE*.\n",
      " |  \n",
      " |  sort(self, /, *, key=None, reverse=False)\n",
      " |      Sort the list in ascending order and return None.\n",
      " |      \n",
      " |      The sort is in-place (i.e. the list itself is modified) and stable (i.e. the\n",
      " |      order of two equal elements is maintained).\n",
      " |      \n",
      " |      If a key function is given, apply it once to each list item and sort them,\n",
      " |      ascending or descending, according to their function values.\n",
      " |      \n",
      " |      The reverse flag can be set to sort in descending order.\n",
      " |  \n",
      " |  ----------------------------------------------------------------------\n",
      " |  Class methods defined here:\n",
      " |  \n",
      " |  __class_getitem__(...) from builtins.type\n",
      " |      See PEP 585\n",
      " |  \n",
      " |  ----------------------------------------------------------------------\n",
      " |  Static methods defined here:\n",
      " |  \n",
      " |  __new__(*args, **kwargs) from builtins.type\n",
      " |      Create and return a new object.  See help(type) for accurate signature.\n",
      " |  \n",
      " |  ----------------------------------------------------------------------\n",
      " |  Data and other attributes defined here:\n",
      " |  \n",
      " |  __hash__ = None\n",
      "\n"
     ]
    }
   ],
   "source": [
    "help(list)"
   ]
  },
  {
   "cell_type": "code",
   "execution_count": 1,
   "id": "5e66e79d",
   "metadata": {},
   "outputs": [
    {
     "name": "stdout",
     "output_type": "stream",
     "text": [
      "5\n",
      "6\n"
     ]
    }
   ],
   "source": [
    "class A:\n",
    "    def __init__(self):\n",
    "        self.a = 3\n",
    "        self.b = 4\n",
    "    def fun(self,c):\n",
    "        self.c = c\n",
    "        \n",
    "a = A()\n",
    "t = a.fun\n",
    "t(5)\n",
    "print(a.c)\n",
    "t(6)\n",
    "print(a.c)"
   ]
  },
  {
   "cell_type": "code",
   "execution_count": 13,
   "id": "0e076a30",
   "metadata": {},
   "outputs": [],
   "source": [
    "def fun():\n",
    "    a = {2:3}\n",
    "    print(dir())\n",
    "    print(locals())"
   ]
  },
  {
   "cell_type": "code",
   "execution_count": 14,
   "id": "d14e714f",
   "metadata": {},
   "outputs": [
    {
     "name": "stdout",
     "output_type": "stream",
     "text": [
      "['a']\n",
      "{'a': {2: 3}}\n"
     ]
    }
   ],
   "source": [
    "b = 5\n",
    "fun()"
   ]
  },
  {
   "cell_type": "code",
   "execution_count": 3,
   "id": "12744257",
   "metadata": {},
   "outputs": [
    {
     "data": {
      "text/plain": [
       "1"
      ]
     },
     "execution_count": 3,
     "metadata": {},
     "output_type": "execute_result"
    }
   ],
   "source": [
    "class Inf(int):\n",
    "    def __init__(self)\n",
    "\n",
    "a = A(1)\n",
    "a"
   ]
  },
  {
   "cell_type": "code",
   "execution_count": 10,
   "id": "3b91f6c6",
   "metadata": {},
   "outputs": [
    {
     "data": {
      "text/plain": [
       "list"
      ]
     },
     "execution_count": 10,
     "metadata": {},
     "output_type": "execute_result"
    }
   ],
   "source": [
    "class A(list):\n",
    "    pass\n",
    "\n",
    "b = A((1,))\n",
    "a = A((1,)) + A((3,4)) \n",
    "a.__class__"
   ]
  },
  {
   "cell_type": "code",
   "execution_count": 2,
   "id": "2bb785ef",
   "metadata": {},
   "outputs": [
    {
     "name": "stdout",
     "output_type": "stream",
     "text": [
      "B\n",
      "A\n",
      "C\n"
     ]
    },
    {
     "data": {
      "text/plain": [
       "(3, 5, 6)"
      ]
     },
     "execution_count": 2,
     "metadata": {},
     "output_type": "execute_result"
    }
   ],
   "source": [
    "class A:\n",
    "    def __init__(self):\n",
    "        super(A, self).__init__()\n",
    "        self.a = 3\n",
    "        self.b = 5\n",
    "        print('A')\n",
    "        \n",
    "class B:\n",
    "    def __init__(self):\n",
    "        super(B, self).__init__()\n",
    "        self.b = 4\n",
    "        self.c = 6\n",
    "        print('B')\n",
    "        \n",
    "class C(A,B):\n",
    "    def __init__(self):\n",
    "        super(C, self).__init__()\n",
    "        print('C')\n",
    "c = C()\n",
    "c.a, c.b, c.c"
   ]
  },
  {
   "cell_type": "code",
   "execution_count": 3,
   "id": "a335dc05",
   "metadata": {},
   "outputs": [
    {
     "name": "stdout",
     "output_type": "stream",
     "text": [
      "Help on class super in module builtins:\n",
      "\n",
      "class super(object)\n",
      " |  super() -> same as super(__class__, <first argument>)\n",
      " |  super(type) -> unbound super object\n",
      " |  super(type, obj) -> bound super object; requires isinstance(obj, type)\n",
      " |  super(type, type2) -> bound super object; requires issubclass(type2, type)\n",
      " |  Typical use to call a cooperative superclass method:\n",
      " |  class C(B):\n",
      " |      def meth(self, arg):\n",
      " |          super().meth(arg)\n",
      " |  This works for class methods too:\n",
      " |  class C(B):\n",
      " |      @classmethod\n",
      " |      def cmeth(cls, arg):\n",
      " |          super().cmeth(arg)\n",
      " |  \n",
      " |  Methods defined here:\n",
      " |  \n",
      " |  __get__(self, instance, owner, /)\n",
      " |      Return an attribute of instance, which is of type owner.\n",
      " |  \n",
      " |  __getattribute__(self, name, /)\n",
      " |      Return getattr(self, name).\n",
      " |  \n",
      " |  __init__(self, /, *args, **kwargs)\n",
      " |      Initialize self.  See help(type(self)) for accurate signature.\n",
      " |  \n",
      " |  __repr__(self, /)\n",
      " |      Return repr(self).\n",
      " |  \n",
      " |  ----------------------------------------------------------------------\n",
      " |  Static methods defined here:\n",
      " |  \n",
      " |  __new__(*args, **kwargs) from builtins.type\n",
      " |      Create and return a new object.  See help(type) for accurate signature.\n",
      " |  \n",
      " |  ----------------------------------------------------------------------\n",
      " |  Data descriptors defined here:\n",
      " |  \n",
      " |  __self__\n",
      " |      the instance invoking super(); may be None\n",
      " |  \n",
      " |  __self_class__\n",
      " |      the type of the instance invoking super(); may be None\n",
      " |  \n",
      " |  __thisclass__\n",
      " |      the class invoking super()\n",
      "\n"
     ]
    }
   ],
   "source": [
    "help(super)"
   ]
  },
  {
   "cell_type": "code",
   "execution_count": 6,
   "id": "652c9879",
   "metadata": {},
   "outputs": [
    {
     "name": "stdout",
     "output_type": "stream",
     "text": [
      "1\n",
      "2\n",
      "4\n",
      "Finish\n",
      "None\n"
     ]
    }
   ],
   "source": [
    "def fun():\n",
    "    yield 1\n",
    "    yield 2\n",
    "    print('Finish')\n",
    "\n",
    "g = fun()\n",
    "print(next(g, None))\n",
    "print(next(g, None))\n",
    "print(4)\n",
    "print(next(g, None))\n"
   ]
  },
  {
   "cell_type": "code",
   "execution_count": null,
   "id": "da3c226b",
   "metadata": {},
   "outputs": [],
   "source": []
  }
 ],
 "metadata": {
  "kernelspec": {
   "display_name": "Python 3 (ipykernel)",
   "language": "python",
   "name": "python3"
  },
  "language_info": {
   "codemirror_mode": {
    "name": "ipython",
    "version": 3
   },
   "file_extension": ".py",
   "mimetype": "text/x-python",
   "name": "python",
   "nbconvert_exporter": "python",
   "pygments_lexer": "ipython3",
   "version": "3.9.7"
  }
 },
 "nbformat": 4,
 "nbformat_minor": 5
}
