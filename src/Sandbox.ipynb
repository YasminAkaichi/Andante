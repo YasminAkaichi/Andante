{
 "cells": [
  {
   "cell_type": "code",
   "execution_count": 154,
   "id": "43c71922",
   "metadata": {},
   "outputs": [],
   "source": [
    "from ipywidgets import Button, Dropdown, HBox, VBox, Label, Layout\n",
    "\n",
    "STANDARD_LAYOUT = {'height':'40px', 'width':'150px'}\n",
    "VBOX_LAYOUT = {'width':'160px'}\n",
    "class ExplorableWidget:\n",
    "    def __init__(self, data, parent=None):\n",
    "        self.parent=parent\n",
    "        self.data = data\n",
    "        self.children = []\n",
    "        if   isinstance(self.data, (list, set)):\n",
    "            self.build_widget_list()\n",
    "        elif isinstance(self.data, (dict)):\n",
    "            self.build_widget_dict()\n",
    "        else: # Default_build\n",
    "            self.build_widget_default()\n",
    "        box_layout = Layout(\n",
    "            overflow='scroll hidden',\n",
    "            flex_flow='row',\n",
    "            width='100%',\n",
    "            display='flex')\n",
    "        self.widget = HBox([self.main_widget], layout=box_layout)\n",
    "    \n",
    "    def update_children(self, children=[]):\n",
    "        children = children if children else self.children\n",
    "        self.children = children\n",
    "        if self.parent is None:\n",
    "            self.widget.children = [self.main_widget] + children\n",
    "        else:\n",
    "            self.parent.update_children([self.main_widget] + children)\n",
    "    \n",
    "    def explore(self, x):\n",
    "        ew = ExplorableWidget(x, self)\n",
    "        ew.update_children()\n",
    "    \n",
    "    def build_widget_default(self):\n",
    "        list_widgets = list()\n",
    "        for attr in self.data.__dir__():\n",
    "            if attr[:2]!='__':\n",
    "                widget = Button(\n",
    "                    description = attr,\n",
    "                    tooltip = '[%s] %s' % (getattr(self.data, attr).__class__.__name__, attr),\n",
    "                    layout = STANDARD_LAYOUT,\n",
    "                )\n",
    "                widget.on_click(lambda x: self.explore(getattr(self.data, x.description)))\n",
    "                list_widgets.append(widget)\n",
    "        title = Label(self.data.__class__.__name__, layout=STANDARD_LAYOUT)\n",
    "        self.main_widget = VBox(\n",
    "            [title] + list_widgets,\n",
    "            layout = VBOX_LAYOUT,\n",
    "        )\n",
    "        \n",
    "    def build_widget_list(self):\n",
    "        list_widgets = []\n",
    "        for x in self.data:\n",
    "            list_widgets.append(x)\n",
    "        \n",
    "        dd = Dropdown(options=list_widgets, layout=STANDARD_LAYOUT)\n",
    "        dd.observe(lambda x: self.explore(x['new']) if x['type']=='change' and x['name']=='value' else None)\n",
    "        title = Label('%s [%s]' % (self.data.__class__.__name__, len(self.data)), layout=STANDARD_LAYOUT)\n",
    "        self.main_widget = VBox([title, dd], layout = VBOX_LAYOUT)\n",
    "        if list_widgets: self.explore(list_widgets[0])\n",
    "            \n",
    "    def build_widget_dict(self):\n",
    "        list_widgets = []\n",
    "        for x, y in self.data.items():\n",
    "            list_widgets.append(('%s:%s'%(x,y),(x, y)))\n",
    "\n",
    "        dd = Dropdown(options=list_widgets, layout=STANDARD_LAYOUT)\n",
    "        dd.observe(lambda x: self.explore(x['new'][1]) if x['type']=='change' and x['name']=='value' else None)\n",
    "        title = Label('%s [%s]' % (self.data.__class__.__name__, len(self.data)), layout=STANDARD_LAYOUT)\n",
    "        self.main_widget = VBox([title, dd], layout = VBOX_LAYOUT)\n",
    "        if list_widgets: self.explore(list_widgets[0][1][1])\n",
    "            "
   ]
  },
  {
   "cell_type": "code",
   "execution_count": 155,
   "id": "4972328f",
   "metadata": {},
   "outputs": [],
   "source": [
    "from aloe.program import AloeProgram\n",
    "from collections import OrderedDict\n",
    "\n",
    "ap = AloeProgram.build_from_file(\"aloe/Examples/family.pl\")"
   ]
  },
  {
   "cell_type": "code",
   "execution_count": 156,
   "id": "03bf1f94",
   "metadata": {},
   "outputs": [
    {
     "data": {
      "application/vnd.jupyter.widget-view+json": {
       "model_id": "443d956c0acb43e48da4b111f037ce6c",
       "version_major": 2,
       "version_minor": 0
      },
      "text/plain": [
       "HBox(children=(VBox(children=(Label(value='AloeProgram', layout=Layout(height='40px', width='150px')), Button(…"
      ]
     },
     "metadata": {},
     "output_type": "display_data"
    }
   ],
   "source": [
    "ew  = ExplorableWidget(ap)\n",
    "ew.widget"
   ]
  },
  {
   "cell_type": "code",
   "execution_count": 107,
   "id": "b983fe03",
   "metadata": {},
   "outputs": [
    {
     "data": {
      "text/plain": [
       "7"
      ]
     },
     "execution_count": 107,
     "metadata": {},
     "output_type": "execute_result"
    }
   ],
   "source": [
    "len(ew.widget.children)"
   ]
  },
  {
   "cell_type": "code",
   "execution_count": 15,
   "id": "543a21d4",
   "metadata": {},
   "outputs": [
    {
     "name": "stdout",
     "output_type": "stream",
     "text": [
      "options\n",
      "knowledge\n",
      "solver\n",
      "modes\n",
      "examples\n",
      "learner\n",
      "__module__\n",
      "__init__\n",
      "build_from_file\n",
      "build_from_text\n",
      "build_from_background\n",
      "__repr__\n",
      "query\n",
      "verify\n",
      "set\n",
      "induce\n",
      "display_logs\n",
      "__dict__\n",
      "__weakref__\n",
      "__doc__\n",
      "__hash__\n",
      "__str__\n",
      "__getattribute__\n",
      "__setattr__\n",
      "__delattr__\n",
      "__lt__\n",
      "__le__\n",
      "__eq__\n",
      "__ne__\n",
      "__gt__\n",
      "__ge__\n",
      "__new__\n",
      "__reduce_ex__\n",
      "__reduce__\n",
      "__subclasshook__\n",
      "__init_subclass__\n",
      "__format__\n",
      "__sizeof__\n",
      "__dir__\n",
      "__class__\n"
     ]
    }
   ],
   "source": [
    "for attr in ew.data.__dir__():\n",
    "    print(attr)"
   ]
  },
  {
   "cell_type": "code",
   "execution_count": 3,
   "id": "64b01aa4",
   "metadata": {
    "scrolled": false
   },
   "outputs": [
    {
     "data": {
      "application/vnd.jupyter.widget-view+json": {
       "model_id": "026a65a67fe5437a89d728bd71558f89",
       "version_major": 2,
       "version_minor": 0
      },
      "text/plain": [
       "Tab(children=(VBox(children=(Dropdown(description='Example:', options=(parent(ada,sylvia)., parent(george,osca…"
      ]
     },
     "metadata": {},
     "output_type": "display_data"
    }
   ],
   "source": [
    "ap.display_logs()"
   ]
  },
  {
   "cell_type": "code",
   "execution_count": 1,
   "id": "fdf0ba1d",
   "metadata": {
    "scrolled": false
   },
   "outputs": [
    {
     "data": {
      "application/vnd.jupyter.widget-view+json": {
       "model_id": "94e7b1de4e48442a90bf6699951572bd",
       "version_major": 2,
       "version_minor": 0
      },
      "text/plain": [
       "AppLayout(children=(Output(layout=Layout(border='1px solid black', grid_area='footer', height='100%', width='1…"
      ]
     },
     "metadata": {},
     "output_type": "display_data"
    }
   ],
   "source": [
    "from aloe.queryinterface import QueryInterface\n",
    "qi = QueryInterface()\n",
    "qi.interact()"
   ]
  },
  {
   "cell_type": "code",
   "execution_count": 1,
   "id": "ad69fedb",
   "metadata": {},
   "outputs": [
    {
     "data": {
      "application/vnd.jupyter.widget-view+json": {
       "model_id": "ecce3a21b4594f539f93b09c86e6662e",
       "version_major": 2,
       "version_minor": 0
      },
      "text/plain": [
       "Tab(children=(AppLayout(children=(Output(layout=Layout(border='1px solid black', grid_area='footer', height='1…"
      ]
     },
     "metadata": {},
     "output_type": "display_data"
    }
   ],
   "source": [
    "from aloe.program import AloeProgram\n",
    "from collections import OrderedDict\n",
    "\n",
    "ap = AloeProgram.build_from_file(\"aloe/Examples/family.pl\")\n",
    "from aloe.andante_interface import AndateInterface\n",
    "ai = AndateInterface(ap)\n",
    "ai.widget"
   ]
  },
  {
   "cell_type": "code",
   "execution_count": 13,
   "id": "2fc260f6",
   "metadata": {},
   "outputs": [
    {
     "data": {
      "application/vnd.jupyter.widget-view+json": {
       "model_id": "593e2015c43e43f8a6b91002d3c49a4e",
       "version_major": 2,
       "version_minor": 0
      },
      "text/plain": [
       "DescriptionStyle(description_width='30px')"
      ]
     },
     "metadata": {},
     "output_type": "display_data"
    }
   ],
   "source": [
    "ai.widget.children[1].children[0].children[0].children[0]"
   ]
  },
  {
   "cell_type": "code",
   "execution_count": 1,
   "id": "680b16b5",
   "metadata": {},
   "outputs": [
    {
     "ename": "TraitError",
     "evalue": "The 'children' trait of a HBox instance contains an Instance of a TypedTuple which expected a Widget, not the str 'kmkqd'.",
     "output_type": "error",
     "traceback": [
      "\u001b[1;31m---------------------------------------------------------------------------\u001b[0m",
      "\u001b[1;31mTraitError\u001b[0m                                Traceback (most recent call last)",
      "\u001b[1;32m~\\AppData\\Local\\Temp/ipykernel_6172/1727285499.py\u001b[0m in \u001b[0;36m<module>\u001b[1;34m\u001b[0m\n\u001b[0;32m      1\u001b[0m \u001b[1;32mimport\u001b[0m \u001b[0mipywidgets\u001b[0m \u001b[1;32mas\u001b[0m \u001b[0mwidgets\u001b[0m\u001b[1;33m\u001b[0m\u001b[1;33m\u001b[0m\u001b[0m\n\u001b[1;32m----> 2\u001b[1;33m \u001b[0mwidgets\u001b[0m\u001b[1;33m.\u001b[0m\u001b[0mHBox\u001b[0m\u001b[1;33m(\u001b[0m\u001b[1;33m[\u001b[0m\u001b[1;34m'kmkqd'\u001b[0m\u001b[1;33m]\u001b[0m\u001b[1;33m)\u001b[0m\u001b[1;33m\u001b[0m\u001b[1;33m\u001b[0m\u001b[0m\n\u001b[0m",
      "\u001b[1;32m~\\anaconda3\\lib\\site-packages\\ipywidgets\\widgets\\widget_box.py\u001b[0m in \u001b[0;36m__init__\u001b[1;34m(self, children, **kwargs)\u001b[0m\n\u001b[0;32m     62\u001b[0m     \u001b[1;32mdef\u001b[0m \u001b[0m__init__\u001b[0m\u001b[1;33m(\u001b[0m\u001b[0mself\u001b[0m\u001b[1;33m,\u001b[0m \u001b[0mchildren\u001b[0m\u001b[1;33m=\u001b[0m\u001b[1;33m(\u001b[0m\u001b[1;33m)\u001b[0m\u001b[1;33m,\u001b[0m \u001b[1;33m**\u001b[0m\u001b[0mkwargs\u001b[0m\u001b[1;33m)\u001b[0m\u001b[1;33m:\u001b[0m\u001b[1;33m\u001b[0m\u001b[1;33m\u001b[0m\u001b[0m\n\u001b[0;32m     63\u001b[0m         \u001b[0mkwargs\u001b[0m\u001b[1;33m[\u001b[0m\u001b[1;34m'children'\u001b[0m\u001b[1;33m]\u001b[0m \u001b[1;33m=\u001b[0m \u001b[0mchildren\u001b[0m\u001b[1;33m\u001b[0m\u001b[1;33m\u001b[0m\u001b[0m\n\u001b[1;32m---> 64\u001b[1;33m         \u001b[0msuper\u001b[0m\u001b[1;33m(\u001b[0m\u001b[0mBox\u001b[0m\u001b[1;33m,\u001b[0m \u001b[0mself\u001b[0m\u001b[1;33m)\u001b[0m\u001b[1;33m.\u001b[0m\u001b[0m__init__\u001b[0m\u001b[1;33m(\u001b[0m\u001b[1;33m**\u001b[0m\u001b[0mkwargs\u001b[0m\u001b[1;33m)\u001b[0m\u001b[1;33m\u001b[0m\u001b[1;33m\u001b[0m\u001b[0m\n\u001b[0m\u001b[0;32m     65\u001b[0m         \u001b[0mself\u001b[0m\u001b[1;33m.\u001b[0m\u001b[0mon_displayed\u001b[0m\u001b[1;33m(\u001b[0m\u001b[0mBox\u001b[0m\u001b[1;33m.\u001b[0m\u001b[0m_fire_children_displayed\u001b[0m\u001b[1;33m)\u001b[0m\u001b[1;33m\u001b[0m\u001b[1;33m\u001b[0m\u001b[0m\n\u001b[0;32m     66\u001b[0m \u001b[1;33m\u001b[0m\u001b[0m\n",
      "\u001b[1;32m~\\anaconda3\\lib\\site-packages\\ipywidgets\\widgets\\widget.py\u001b[0m in \u001b[0;36m__init__\u001b[1;34m(self, **kwargs)\u001b[0m\n\u001b[0;32m    410\u001b[0m         \u001b[1;34m\"\"\"Public constructor\"\"\"\u001b[0m\u001b[1;33m\u001b[0m\u001b[1;33m\u001b[0m\u001b[0m\n\u001b[0;32m    411\u001b[0m         \u001b[0mself\u001b[0m\u001b[1;33m.\u001b[0m\u001b[0m_model_id\u001b[0m \u001b[1;33m=\u001b[0m \u001b[0mkwargs\u001b[0m\u001b[1;33m.\u001b[0m\u001b[0mpop\u001b[0m\u001b[1;33m(\u001b[0m\u001b[1;34m'model_id'\u001b[0m\u001b[1;33m,\u001b[0m \u001b[1;32mNone\u001b[0m\u001b[1;33m)\u001b[0m\u001b[1;33m\u001b[0m\u001b[1;33m\u001b[0m\u001b[0m\n\u001b[1;32m--> 412\u001b[1;33m         \u001b[0msuper\u001b[0m\u001b[1;33m(\u001b[0m\u001b[0mWidget\u001b[0m\u001b[1;33m,\u001b[0m \u001b[0mself\u001b[0m\u001b[1;33m)\u001b[0m\u001b[1;33m.\u001b[0m\u001b[0m__init__\u001b[0m\u001b[1;33m(\u001b[0m\u001b[1;33m**\u001b[0m\u001b[0mkwargs\u001b[0m\u001b[1;33m)\u001b[0m\u001b[1;33m\u001b[0m\u001b[1;33m\u001b[0m\u001b[0m\n\u001b[0m\u001b[0;32m    413\u001b[0m \u001b[1;33m\u001b[0m\u001b[0m\n\u001b[0;32m    414\u001b[0m         \u001b[0mWidget\u001b[0m\u001b[1;33m.\u001b[0m\u001b[0m_call_widget_constructed\u001b[0m\u001b[1;33m(\u001b[0m\u001b[0mself\u001b[0m\u001b[1;33m)\u001b[0m\u001b[1;33m\u001b[0m\u001b[1;33m\u001b[0m\u001b[0m\n",
      "\u001b[1;32m~\\anaconda3\\lib\\site-packages\\traitlets\\traitlets.py\u001b[0m in \u001b[0;36m__init__\u001b[1;34m(self, *args, **kwargs)\u001b[0m\n\u001b[0;32m   1077\u001b[0m             \u001b[1;32mfor\u001b[0m \u001b[0mkey\u001b[0m\u001b[1;33m,\u001b[0m \u001b[0mvalue\u001b[0m \u001b[1;32min\u001b[0m \u001b[0mkwargs\u001b[0m\u001b[1;33m.\u001b[0m\u001b[0mitems\u001b[0m\u001b[1;33m(\u001b[0m\u001b[1;33m)\u001b[0m\u001b[1;33m:\u001b[0m\u001b[1;33m\u001b[0m\u001b[1;33m\u001b[0m\u001b[0m\n\u001b[0;32m   1078\u001b[0m                 \u001b[1;32mif\u001b[0m \u001b[0mself\u001b[0m\u001b[1;33m.\u001b[0m\u001b[0mhas_trait\u001b[0m\u001b[1;33m(\u001b[0m\u001b[0mkey\u001b[0m\u001b[1;33m)\u001b[0m\u001b[1;33m:\u001b[0m\u001b[1;33m\u001b[0m\u001b[1;33m\u001b[0m\u001b[0m\n\u001b[1;32m-> 1079\u001b[1;33m                     \u001b[0msetattr\u001b[0m\u001b[1;33m(\u001b[0m\u001b[0mself\u001b[0m\u001b[1;33m,\u001b[0m \u001b[0mkey\u001b[0m\u001b[1;33m,\u001b[0m \u001b[0mvalue\u001b[0m\u001b[1;33m)\u001b[0m\u001b[1;33m\u001b[0m\u001b[1;33m\u001b[0m\u001b[0m\n\u001b[0m\u001b[0;32m   1080\u001b[0m                 \u001b[1;32melse\u001b[0m\u001b[1;33m:\u001b[0m\u001b[1;33m\u001b[0m\u001b[1;33m\u001b[0m\u001b[0m\n\u001b[0;32m   1081\u001b[0m                     \u001b[1;31m# passthrough args that don't set traits to super\u001b[0m\u001b[1;33m\u001b[0m\u001b[1;33m\u001b[0m\u001b[0m\n",
      "\u001b[1;32m~\\anaconda3\\lib\\site-packages\\traitlets\\traitlets.py\u001b[0m in \u001b[0;36m__set__\u001b[1;34m(self, obj, value)\u001b[0m\n\u001b[0;32m    604\u001b[0m             \u001b[1;32mraise\u001b[0m \u001b[0mTraitError\u001b[0m\u001b[1;33m(\u001b[0m\u001b[1;34m'The \"%s\" trait is read-only.'\u001b[0m \u001b[1;33m%\u001b[0m \u001b[0mself\u001b[0m\u001b[1;33m.\u001b[0m\u001b[0mname\u001b[0m\u001b[1;33m)\u001b[0m\u001b[1;33m\u001b[0m\u001b[1;33m\u001b[0m\u001b[0m\n\u001b[0;32m    605\u001b[0m         \u001b[1;32melse\u001b[0m\u001b[1;33m:\u001b[0m\u001b[1;33m\u001b[0m\u001b[1;33m\u001b[0m\u001b[0m\n\u001b[1;32m--> 606\u001b[1;33m             \u001b[0mself\u001b[0m\u001b[1;33m.\u001b[0m\u001b[0mset\u001b[0m\u001b[1;33m(\u001b[0m\u001b[0mobj\u001b[0m\u001b[1;33m,\u001b[0m \u001b[0mvalue\u001b[0m\u001b[1;33m)\u001b[0m\u001b[1;33m\u001b[0m\u001b[1;33m\u001b[0m\u001b[0m\n\u001b[0m\u001b[0;32m    607\u001b[0m \u001b[1;33m\u001b[0m\u001b[0m\n\u001b[0;32m    608\u001b[0m     \u001b[1;32mdef\u001b[0m \u001b[0m_validate\u001b[0m\u001b[1;33m(\u001b[0m\u001b[0mself\u001b[0m\u001b[1;33m,\u001b[0m \u001b[0mobj\u001b[0m\u001b[1;33m,\u001b[0m \u001b[0mvalue\u001b[0m\u001b[1;33m)\u001b[0m\u001b[1;33m:\u001b[0m\u001b[1;33m\u001b[0m\u001b[1;33m\u001b[0m\u001b[0m\n",
      "\u001b[1;32m~\\anaconda3\\lib\\site-packages\\traitlets\\traitlets.py\u001b[0m in \u001b[0;36mset\u001b[1;34m(self, obj, value)\u001b[0m\n\u001b[0;32m    578\u001b[0m \u001b[1;33m\u001b[0m\u001b[0m\n\u001b[0;32m    579\u001b[0m     \u001b[1;32mdef\u001b[0m \u001b[0mset\u001b[0m\u001b[1;33m(\u001b[0m\u001b[0mself\u001b[0m\u001b[1;33m,\u001b[0m \u001b[0mobj\u001b[0m\u001b[1;33m,\u001b[0m \u001b[0mvalue\u001b[0m\u001b[1;33m)\u001b[0m\u001b[1;33m:\u001b[0m\u001b[1;33m\u001b[0m\u001b[1;33m\u001b[0m\u001b[0m\n\u001b[1;32m--> 580\u001b[1;33m         \u001b[0mnew_value\u001b[0m \u001b[1;33m=\u001b[0m \u001b[0mself\u001b[0m\u001b[1;33m.\u001b[0m\u001b[0m_validate\u001b[0m\u001b[1;33m(\u001b[0m\u001b[0mobj\u001b[0m\u001b[1;33m,\u001b[0m \u001b[0mvalue\u001b[0m\u001b[1;33m)\u001b[0m\u001b[1;33m\u001b[0m\u001b[1;33m\u001b[0m\u001b[0m\n\u001b[0m\u001b[0;32m    581\u001b[0m         \u001b[1;32mtry\u001b[0m\u001b[1;33m:\u001b[0m\u001b[1;33m\u001b[0m\u001b[1;33m\u001b[0m\u001b[0m\n\u001b[0;32m    582\u001b[0m             \u001b[0mold_value\u001b[0m \u001b[1;33m=\u001b[0m \u001b[0mobj\u001b[0m\u001b[1;33m.\u001b[0m\u001b[0m_trait_values\u001b[0m\u001b[1;33m[\u001b[0m\u001b[0mself\u001b[0m\u001b[1;33m.\u001b[0m\u001b[0mname\u001b[0m\u001b[1;33m]\u001b[0m\u001b[1;33m\u001b[0m\u001b[1;33m\u001b[0m\u001b[0m\n",
      "\u001b[1;32m~\\anaconda3\\lib\\site-packages\\traitlets\\traitlets.py\u001b[0m in \u001b[0;36m_validate\u001b[1;34m(self, obj, value)\u001b[0m\n\u001b[0;32m    610\u001b[0m             \u001b[1;32mreturn\u001b[0m \u001b[0mvalue\u001b[0m\u001b[1;33m\u001b[0m\u001b[1;33m\u001b[0m\u001b[0m\n\u001b[0;32m    611\u001b[0m         \u001b[1;32mif\u001b[0m \u001b[0mhasattr\u001b[0m\u001b[1;33m(\u001b[0m\u001b[0mself\u001b[0m\u001b[1;33m,\u001b[0m \u001b[1;34m'validate'\u001b[0m\u001b[1;33m)\u001b[0m\u001b[1;33m:\u001b[0m\u001b[1;33m\u001b[0m\u001b[1;33m\u001b[0m\u001b[0m\n\u001b[1;32m--> 612\u001b[1;33m             \u001b[0mvalue\u001b[0m \u001b[1;33m=\u001b[0m \u001b[0mself\u001b[0m\u001b[1;33m.\u001b[0m\u001b[0mvalidate\u001b[0m\u001b[1;33m(\u001b[0m\u001b[0mobj\u001b[0m\u001b[1;33m,\u001b[0m \u001b[0mvalue\u001b[0m\u001b[1;33m)\u001b[0m\u001b[1;33m\u001b[0m\u001b[1;33m\u001b[0m\u001b[0m\n\u001b[0m\u001b[0;32m    613\u001b[0m         \u001b[1;32mif\u001b[0m \u001b[0mobj\u001b[0m\u001b[1;33m.\u001b[0m\u001b[0m_cross_validation_lock\u001b[0m \u001b[1;32mis\u001b[0m \u001b[1;32mFalse\u001b[0m\u001b[1;33m:\u001b[0m\u001b[1;33m\u001b[0m\u001b[1;33m\u001b[0m\u001b[0m\n\u001b[0;32m    614\u001b[0m             \u001b[0mvalue\u001b[0m \u001b[1;33m=\u001b[0m \u001b[0mself\u001b[0m\u001b[1;33m.\u001b[0m\u001b[0m_cross_validate\u001b[0m\u001b[1;33m(\u001b[0m\u001b[0mobj\u001b[0m\u001b[1;33m,\u001b[0m \u001b[0mvalue\u001b[0m\u001b[1;33m)\u001b[0m\u001b[1;33m\u001b[0m\u001b[1;33m\u001b[0m\u001b[0m\n",
      "\u001b[1;32m~\\anaconda3\\lib\\site-packages\\traitlets\\traitlets.py\u001b[0m in \u001b[0;36mvalidate\u001b[1;34m(self, obj, value)\u001b[0m\n\u001b[0;32m   2504\u001b[0m             \u001b[1;32mreturn\u001b[0m \u001b[0mvalue\u001b[0m\u001b[1;33m\u001b[0m\u001b[1;33m\u001b[0m\u001b[0m\n\u001b[0;32m   2505\u001b[0m \u001b[1;33m\u001b[0m\u001b[0m\n\u001b[1;32m-> 2506\u001b[1;33m         \u001b[0mvalue\u001b[0m \u001b[1;33m=\u001b[0m \u001b[0mself\u001b[0m\u001b[1;33m.\u001b[0m\u001b[0mvalidate_elements\u001b[0m\u001b[1;33m(\u001b[0m\u001b[0mobj\u001b[0m\u001b[1;33m,\u001b[0m \u001b[0mvalue\u001b[0m\u001b[1;33m)\u001b[0m\u001b[1;33m\u001b[0m\u001b[1;33m\u001b[0m\u001b[0m\n\u001b[0m\u001b[0;32m   2507\u001b[0m \u001b[1;33m\u001b[0m\u001b[0m\n\u001b[0;32m   2508\u001b[0m         \u001b[1;32mreturn\u001b[0m \u001b[0mvalue\u001b[0m\u001b[1;33m\u001b[0m\u001b[1;33m\u001b[0m\u001b[0m\n",
      "\u001b[1;32m~\\anaconda3\\lib\\site-packages\\traitlets\\traitlets.py\u001b[0m in \u001b[0;36mvalidate_elements\u001b[1;34m(self, obj, value)\u001b[0m\n\u001b[0;32m   2516\u001b[0m                 \u001b[0mv\u001b[0m \u001b[1;33m=\u001b[0m \u001b[0mself\u001b[0m\u001b[1;33m.\u001b[0m\u001b[0m_trait\u001b[0m\u001b[1;33m.\u001b[0m\u001b[0m_validate\u001b[0m\u001b[1;33m(\u001b[0m\u001b[0mobj\u001b[0m\u001b[1;33m,\u001b[0m \u001b[0mv\u001b[0m\u001b[1;33m)\u001b[0m\u001b[1;33m\u001b[0m\u001b[1;33m\u001b[0m\u001b[0m\n\u001b[0;32m   2517\u001b[0m             \u001b[1;32mexcept\u001b[0m \u001b[0mTraitError\u001b[0m \u001b[1;32mas\u001b[0m \u001b[0merror\u001b[0m\u001b[1;33m:\u001b[0m\u001b[1;33m\u001b[0m\u001b[1;33m\u001b[0m\u001b[0m\n\u001b[1;32m-> 2518\u001b[1;33m                 \u001b[0mself\u001b[0m\u001b[1;33m.\u001b[0m\u001b[0merror\u001b[0m\u001b[1;33m(\u001b[0m\u001b[0mobj\u001b[0m\u001b[1;33m,\u001b[0m \u001b[0mv\u001b[0m\u001b[1;33m,\u001b[0m \u001b[0merror\u001b[0m\u001b[1;33m)\u001b[0m\u001b[1;33m\u001b[0m\u001b[1;33m\u001b[0m\u001b[0m\n\u001b[0m\u001b[0;32m   2519\u001b[0m             \u001b[1;32melse\u001b[0m\u001b[1;33m:\u001b[0m\u001b[1;33m\u001b[0m\u001b[1;33m\u001b[0m\u001b[0m\n\u001b[0;32m   2520\u001b[0m                 \u001b[0mvalidated\u001b[0m\u001b[1;33m.\u001b[0m\u001b[0mappend\u001b[0m\u001b[1;33m(\u001b[0m\u001b[0mv\u001b[0m\u001b[1;33m)\u001b[0m\u001b[1;33m\u001b[0m\u001b[1;33m\u001b[0m\u001b[0m\n",
      "\u001b[1;32m~\\anaconda3\\lib\\site-packages\\traitlets\\traitlets.py\u001b[0m in \u001b[0;36merror\u001b[1;34m(self, obj, value, error, info)\u001b[0m\n\u001b[0;32m    676\u001b[0m                         \"expected %s, not %s.\" % (self.name, chain,\n\u001b[0;32m    677\u001b[0m                         error.args[1], describe(\"the\", error.args[0])),)\n\u001b[1;32m--> 678\u001b[1;33m             \u001b[1;32mraise\u001b[0m \u001b[0merror\u001b[0m\u001b[1;33m\u001b[0m\u001b[1;33m\u001b[0m\u001b[0m\n\u001b[0m\u001b[0;32m    679\u001b[0m         \u001b[1;32melse\u001b[0m\u001b[1;33m:\u001b[0m\u001b[1;33m\u001b[0m\u001b[1;33m\u001b[0m\u001b[0m\n\u001b[0;32m    680\u001b[0m             \u001b[1;31m# this trait caused an error\u001b[0m\u001b[1;33m\u001b[0m\u001b[1;33m\u001b[0m\u001b[0m\n",
      "\u001b[1;32m~\\anaconda3\\lib\\site-packages\\traitlets\\traitlets.py\u001b[0m in \u001b[0;36mvalidate_elements\u001b[1;34m(self, obj, value)\u001b[0m\n\u001b[0;32m   2514\u001b[0m         \u001b[1;32mfor\u001b[0m \u001b[0mv\u001b[0m \u001b[1;32min\u001b[0m \u001b[0mvalue\u001b[0m\u001b[1;33m:\u001b[0m\u001b[1;33m\u001b[0m\u001b[1;33m\u001b[0m\u001b[0m\n\u001b[0;32m   2515\u001b[0m             \u001b[1;32mtry\u001b[0m\u001b[1;33m:\u001b[0m\u001b[1;33m\u001b[0m\u001b[1;33m\u001b[0m\u001b[0m\n\u001b[1;32m-> 2516\u001b[1;33m                 \u001b[0mv\u001b[0m \u001b[1;33m=\u001b[0m \u001b[0mself\u001b[0m\u001b[1;33m.\u001b[0m\u001b[0m_trait\u001b[0m\u001b[1;33m.\u001b[0m\u001b[0m_validate\u001b[0m\u001b[1;33m(\u001b[0m\u001b[0mobj\u001b[0m\u001b[1;33m,\u001b[0m \u001b[0mv\u001b[0m\u001b[1;33m)\u001b[0m\u001b[1;33m\u001b[0m\u001b[1;33m\u001b[0m\u001b[0m\n\u001b[0m\u001b[0;32m   2517\u001b[0m             \u001b[1;32mexcept\u001b[0m \u001b[0mTraitError\u001b[0m \u001b[1;32mas\u001b[0m \u001b[0merror\u001b[0m\u001b[1;33m:\u001b[0m\u001b[1;33m\u001b[0m\u001b[1;33m\u001b[0m\u001b[0m\n\u001b[0;32m   2518\u001b[0m                 \u001b[0mself\u001b[0m\u001b[1;33m.\u001b[0m\u001b[0merror\u001b[0m\u001b[1;33m(\u001b[0m\u001b[0mobj\u001b[0m\u001b[1;33m,\u001b[0m \u001b[0mv\u001b[0m\u001b[1;33m,\u001b[0m \u001b[0merror\u001b[0m\u001b[1;33m)\u001b[0m\u001b[1;33m\u001b[0m\u001b[1;33m\u001b[0m\u001b[0m\n",
      "\u001b[1;32m~\\anaconda3\\lib\\site-packages\\traitlets\\traitlets.py\u001b[0m in \u001b[0;36m_validate\u001b[1;34m(self, obj, value)\u001b[0m\n\u001b[0;32m    610\u001b[0m             \u001b[1;32mreturn\u001b[0m \u001b[0mvalue\u001b[0m\u001b[1;33m\u001b[0m\u001b[1;33m\u001b[0m\u001b[0m\n\u001b[0;32m    611\u001b[0m         \u001b[1;32mif\u001b[0m \u001b[0mhasattr\u001b[0m\u001b[1;33m(\u001b[0m\u001b[0mself\u001b[0m\u001b[1;33m,\u001b[0m \u001b[1;34m'validate'\u001b[0m\u001b[1;33m)\u001b[0m\u001b[1;33m:\u001b[0m\u001b[1;33m\u001b[0m\u001b[1;33m\u001b[0m\u001b[0m\n\u001b[1;32m--> 612\u001b[1;33m             \u001b[0mvalue\u001b[0m \u001b[1;33m=\u001b[0m \u001b[0mself\u001b[0m\u001b[1;33m.\u001b[0m\u001b[0mvalidate\u001b[0m\u001b[1;33m(\u001b[0m\u001b[0mobj\u001b[0m\u001b[1;33m,\u001b[0m \u001b[0mvalue\u001b[0m\u001b[1;33m)\u001b[0m\u001b[1;33m\u001b[0m\u001b[1;33m\u001b[0m\u001b[0m\n\u001b[0m\u001b[0;32m    613\u001b[0m         \u001b[1;32mif\u001b[0m \u001b[0mobj\u001b[0m\u001b[1;33m.\u001b[0m\u001b[0m_cross_validation_lock\u001b[0m \u001b[1;32mis\u001b[0m \u001b[1;32mFalse\u001b[0m\u001b[1;33m:\u001b[0m\u001b[1;33m\u001b[0m\u001b[1;33m\u001b[0m\u001b[0m\n\u001b[0;32m    614\u001b[0m             \u001b[0mvalue\u001b[0m \u001b[1;33m=\u001b[0m \u001b[0mself\u001b[0m\u001b[1;33m.\u001b[0m\u001b[0m_cross_validate\u001b[0m\u001b[1;33m(\u001b[0m\u001b[0mobj\u001b[0m\u001b[1;33m,\u001b[0m \u001b[0mvalue\u001b[0m\u001b[1;33m)\u001b[0m\u001b[1;33m\u001b[0m\u001b[1;33m\u001b[0m\u001b[0m\n",
      "\u001b[1;32m~\\anaconda3\\lib\\site-packages\\traitlets\\traitlets.py\u001b[0m in \u001b[0;36mvalidate\u001b[1;34m(self, obj, value)\u001b[0m\n\u001b[0;32m   1849\u001b[0m             \u001b[1;32mreturn\u001b[0m \u001b[0mvalue\u001b[0m\u001b[1;33m\u001b[0m\u001b[1;33m\u001b[0m\u001b[0m\n\u001b[0;32m   1850\u001b[0m         \u001b[1;32melse\u001b[0m\u001b[1;33m:\u001b[0m\u001b[1;33m\u001b[0m\u001b[1;33m\u001b[0m\u001b[0m\n\u001b[1;32m-> 1851\u001b[1;33m             \u001b[0mself\u001b[0m\u001b[1;33m.\u001b[0m\u001b[0merror\u001b[0m\u001b[1;33m(\u001b[0m\u001b[0mobj\u001b[0m\u001b[1;33m,\u001b[0m \u001b[0mvalue\u001b[0m\u001b[1;33m)\u001b[0m\u001b[1;33m\u001b[0m\u001b[1;33m\u001b[0m\u001b[0m\n\u001b[0m\u001b[0;32m   1852\u001b[0m \u001b[1;33m\u001b[0m\u001b[0m\n\u001b[0;32m   1853\u001b[0m     \u001b[1;32mdef\u001b[0m \u001b[0minfo\u001b[0m\u001b[1;33m(\u001b[0m\u001b[0mself\u001b[0m\u001b[1;33m)\u001b[0m\u001b[1;33m:\u001b[0m\u001b[1;33m\u001b[0m\u001b[1;33m\u001b[0m\u001b[0m\n",
      "\u001b[1;32m~\\anaconda3\\lib\\site-packages\\traitlets\\traitlets.py\u001b[0m in \u001b[0;36merror\u001b[1;34m(self, obj, value, error, info)\u001b[0m\n\u001b[0;32m    681\u001b[0m             \u001b[1;32mif\u001b[0m \u001b[0mself\u001b[0m\u001b[1;33m.\u001b[0m\u001b[0mname\u001b[0m \u001b[1;32mis\u001b[0m \u001b[1;32mNone\u001b[0m\u001b[1;33m:\u001b[0m\u001b[1;33m\u001b[0m\u001b[1;33m\u001b[0m\u001b[0m\n\u001b[0;32m    682\u001b[0m                 \u001b[1;31m# this is not the root trait\u001b[0m\u001b[1;33m\u001b[0m\u001b[1;33m\u001b[0m\u001b[0m\n\u001b[1;32m--> 683\u001b[1;33m                 \u001b[1;32mraise\u001b[0m \u001b[0mTraitError\u001b[0m\u001b[1;33m(\u001b[0m\u001b[0mvalue\u001b[0m\u001b[1;33m,\u001b[0m \u001b[0minfo\u001b[0m \u001b[1;32mor\u001b[0m \u001b[0mself\u001b[0m\u001b[1;33m.\u001b[0m\u001b[0minfo\u001b[0m\u001b[1;33m(\u001b[0m\u001b[1;33m)\u001b[0m\u001b[1;33m,\u001b[0m \u001b[0mself\u001b[0m\u001b[1;33m)\u001b[0m\u001b[1;33m\u001b[0m\u001b[1;33m\u001b[0m\u001b[0m\n\u001b[0m\u001b[0;32m    684\u001b[0m             \u001b[1;32melse\u001b[0m\u001b[1;33m:\u001b[0m\u001b[1;33m\u001b[0m\u001b[1;33m\u001b[0m\u001b[0m\n\u001b[0;32m    685\u001b[0m                 \u001b[1;31m# this is the root trait\u001b[0m\u001b[1;33m\u001b[0m\u001b[1;33m\u001b[0m\u001b[0m\n",
      "\u001b[1;31mTraitError\u001b[0m: The 'children' trait of a HBox instance contains an Instance of a TypedTuple which expected a Widget, not the str 'kmkqd'."
     ]
    }
   ],
   "source": [
    "import ipywidgets as widgets\n",
    "widgets.HBox(['kmkqd'])"
   ]
  },
  {
   "cell_type": "code",
   "execution_count": 13,
   "id": "f30968ce",
   "metadata": {},
   "outputs": [
    {
     "data": {
      "application/vnd.jupyter.widget-view+json": {
       "model_id": "d03c2b111da24680b41f313e0b531266",
       "version_major": 2,
       "version_minor": 0
      },
      "text/plain": [
       "HBox(children=(ToggleButtons(options=('amdk', 'kdmlqjf'), value='amdk'), ToggleButtons(options=('fff', 'dqm'),…"
      ]
     },
     "metadata": {},
     "output_type": "display_data"
    }
   ],
   "source": [
    "import ipywidgets as widgets\n",
    "\n",
    "a = widgets.ToggleButtons(options=['amdk', 'kdmlqjf'])\n",
    "b = widgets.ToggleButtons(options=['fff', 'dqm'])\n",
    "\n",
    "h = widgets.HBox(\n",
    "    [a, b],\n",
    "    layout={'width':'auto'},\n",
    ")\n",
    "h.layout.justify_content='space-between'\n",
    "h"
   ]
  },
  {
   "cell_type": "code",
   "execution_count": 15,
   "id": "21dcc02f",
   "metadata": {},
   "outputs": [
    {
     "data": {
      "application/vnd.jupyter.widget-view+json": {
       "model_id": "efc7c68952654652b1baec9cd69345e9",
       "version_major": 2,
       "version_minor": 0
      },
      "text/plain": [
       "ToggleButtons(layout=Layout(justify_content='flex-end'), options=('fff', 'dqm'), value='fff')"
      ]
     },
     "metadata": {},
     "output_type": "display_data"
    }
   ],
   "source": [
    "b.layout.justify_content='flex-end'\n",
    "b"
   ]
  },
  {
   "cell_type": "code",
   "execution_count": 18,
   "id": "1666f102",
   "metadata": {},
   "outputs": [
    {
     "data": {
      "application/vnd.jupyter.widget-view+json": {
       "model_id": "58e682a3c992444db7a70941d39bfc6a",
       "version_major": 2,
       "version_minor": 0
      },
      "text/plain": [
       "HBox(children=(ToggleButtons(index=1, layout=Layout(justify_content='flex-end'), options=('fff', 'dqm'), value…"
      ]
     },
     "metadata": {},
     "output_type": "display_data"
    }
   ],
   "source": [
    "t = widgets.HBox(\n",
    "    [b]\n",
    ")\n",
    "t.layout.justify_content='flex-end'\n",
    "t"
   ]
  },
  {
   "cell_type": "code",
   "execution_count": 1,
   "id": "3b009b43",
   "metadata": {},
   "outputs": [
    {
     "name": "stdout",
     "output_type": "stream",
     "text": [
      "{a:1 b:2}\n",
      "{a:1 b:2}\n"
     ]
    },
    {
     "data": {
      "text/plain": [
       "{a:1 b:2}"
      ]
     },
     "execution_count": 1,
     "metadata": {},
     "output_type": "execute_result"
    }
   ],
   "source": [
    "class A:\n",
    "    def __init__(self, a, b):\n",
    "        self.a = a\n",
    "        self.b = b\n",
    "    \n",
    "    def __repr__(self): return 'a:%s b:%s' % (str(self.a), str(self.b))\n",
    "    def __hash__(self): return hash(self.a)\n",
    "    def __eq__(self, other): return self.a==other.a\n",
    "    \n",
    "s = set()\n",
    "a1 = A(1,2)\n",
    "a2 = A(1,3)\n",
    "s.add(a1)\n",
    "print(s)\n",
    "s.add(a2)\n",
    "print(s)\n",
    "\n",
    "s.update([a2])\n",
    "print(s)"
   ]
  },
  {
   "cell_type": "code",
   "execution_count": 4,
   "id": "e6d3dd2a",
   "metadata": {},
   "outputs": [
    {
     "data": {
      "text/plain": [
       "True"
      ]
     },
     "execution_count": 4,
     "metadata": {},
     "output_type": "execute_result"
    }
   ],
   "source": [
    "import parser\n",
    "\n",
    "formula = \"X < 10\"\n",
    "code = parser.expr(formula).compile()\n",
    "eval(code, {'X':9})\n"
   ]
  },
  {
   "cell_type": "code",
   "execution_count": 1,
   "id": "56212ee1",
   "metadata": {},
   "outputs": [
    {
     "name": "stderr",
     "output_type": "stream",
     "text": [
      "C:\\Users\\sijacque\\AppData\\Local\\Temp/ipykernel_14796/3153511134.py:12: DeprecationWarning: The parser module is deprecated and will be removed in future versions of Python\n",
      "  import parser\n"
     ]
    }
   ],
   "source": [
    "import re\n",
    "import bisect \n",
    "from parsimonious.grammar import Grammar\n",
    "from parsimonious.nodes import NodeVisitor\n",
    "from parsimonious.exceptions import ParseError, VisitationError\n",
    "from aloe.clause    import Clause, Predicate, CompoundTerm, Variable, Constant, Negation, Goal, Type, MathematicalExpression\n",
    "from aloe.mode      import ModeCollection, Mode, Modeh, Modeb\n",
    "from aloe.options   import Options, SystemParameters\n",
    "from aloe.program   import AloeProgram\n",
    "from aloe.knowledge import LogicProgram\n",
    "from aloe.utils     import red\n",
    "import parser\n"
   ]
  },
  {
   "cell_type": "code",
   "execution_count": 2,
   "id": "d625d69a",
   "metadata": {},
   "outputs": [],
   "source": [
    "grammar = Grammar(\n",
    "    r\"\"\"    \n",
    "    aloefile         = wss header? wss background wss pos_ex? wss neg_ex? wss\n",
    "    header           =                       (hclause wss)+\n",
    "    background       = \":-\" ss \"begin_bg\"     ss \".\" wss (bclause wss)+ wss \":-\" ss \"end_bg\" ss \".\"\n",
    "    pos_ex           = \":-\" ss \"begin_in_pos\" ss \".\" wss (pclause wss)+ wss \":-\" ss \"end_in_pos\" ss \".\"\n",
    "    neg_ex           = \":-\" ss \"begin_in_neg\" ss \".\" wss (nclause wss)+ wss \":-\" ss \"end_in_neg\" ss \".\"\n",
    "    hclause          = mode / determination / set\n",
    "    bclause          = hornclause\n",
    "    pclause          = hornclause\n",
    "    nclause          = hornclause\n",
    "    wss = ~\"\\s*\"\n",
    "    ss  = ~\" *\"\n",
    "\n",
    "    determination = \"determination\" ss \"(\" ss predname ss \"/\" ss number ss (\",\" ss predname ss \"/\" ss number ss)+ \")\" ss \".\"    \n",
    "    set           = \"set\" ss \"(\" ss word ss \",\" ss value ss \")\" ss \".\"\n",
    "    \n",
    "    hornclause       = headlessclause / definiteclause\n",
    "    headlessclause   =          \":-\" ss body   ss \".\"\n",
    "    definiteclause   = head ss (\":-\" ss body)? ss \".\"\n",
    "    head             = atom\n",
    "    body             = atom ss (\",\" ss atom ss)*\n",
    "    atom             = \"true\" / \"false\" / predicate / equation\n",
    "    predicate        = predname ss \"(\" ss term ss (\",\" ss term ss)* \")\"\n",
    "    term             = compoundterm / variable / constant \n",
    "    compoundterm     = funcname ss \"(\" ss term ss (\",\" ss term ss)* \")\"\n",
    "    predname         = word\n",
    "    funcname         = word\n",
    "    constant         = value / value\n",
    "    value            = number / word\n",
    "    word             = ~\"[a-z]\\w*\"\n",
    "    variable         = ~\"[A-Z]\\w*\"\n",
    "    number           = ~\"\\d+\"\n",
    "\n",
    "    mode      = modeh / modeb\n",
    "    modeh     = \"modeh\" ss \"(\" ss recall ss \",\" ss matom ss \")\" ss \".\"\n",
    "    modeb     = \"modeb\" ss \"(\" ss recall ss \",\" ss matom ss \")\" ss \".\"\n",
    "    recall    = \"*\" / number\n",
    "    matom     = predname ss \"(\" ss mterm ss (\",\" ss mterm ss)* \")\" \n",
    "    mcompterm = funcname ss \"(\" ss mterm ss (\",\" ss mterm ss)* \")\"\n",
    "    mterm     = type / mcompterm / constant\n",
    "    type      = sign word\n",
    "    sign      = ~\"[+\\-#]\"\n",
    "    \n",
    "    query     = goal wss \".\"\n",
    "    goal      = goal_unit ss (\",\" wss goal_unit ss)*\n",
    "    goal_unit = negation / atom\n",
    "    negation  = \"not\" ss \"(\" ss goal ss \")\"\n",
    "    \n",
    "    equation = ~\".*?(?=\\.)\"\n",
    "    \"\"\" \n",
    ")"
   ]
  },
  {
   "cell_type": "code",
   "execution_count": 3,
   "id": "d1b85e25",
   "metadata": {},
   "outputs": [],
   "source": [
    "class AloeVisitor(NodeVisitor):\n",
    "    \"\"\" \n",
    "    Class implementing the tree visitor for the aloe grammar.\n",
    "    -----------------------------------------------------------\n",
    "        \n",
    "    `tree = grammar.parse(text)´ parses the string 'text' in the form of a tree.\n",
    "       -> This class allows to navigate the tree obtained. \n",
    "\n",
    "    `AloeVisitor().visit(tree)´ \n",
    "       -- navigates through the parsed tree\n",
    "       -- transforms it into a Clause object\n",
    "    \n",
    "    def visit_x(self, node, visited_children):\n",
    "       -- with x, a non-terminal symbol\n",
    "       -- corresponds to a production rule: x -> ...\n",
    "       Inputs:\n",
    "          -- visited_children is the list of returned values from each child\n",
    "              Ex: headlessclause = \":-\" body \".\"\n",
    "                 visited_children = [[], val_body, []]\n",
    "                    -- children of \":-\" and \".\" are []\n",
    "                    -- val_body is the value returned by body\n",
    "              Special children:\n",
    "                 -- `x?´ -> [] or [child_x]\n",
    "                 -- `x*´ -> [child_x1, ..., child_xn]\n",
    "                 -- `(x y)´ -> [child_x, child_y]\n",
    "                 -- x / y -> [child_x] or [child_y]\n",
    "          -- node: the current node from the parsed tree\n",
    "       Output:\n",
    "           -- The transformation for symbol x, given the inputs\n",
    "           \n",
    "    \"\"\"\n",
    "    # 0. In general\n",
    "    def generic_visit(self, node, visited_children):\n",
    "        \"\"\" The default visit method. \"\"\"\n",
    "        return visited_children\n",
    "    \n",
    "    # 1. For clauses\n",
    "    def visit_hornclause(self, node, visited_children):\n",
    "        return visited_children[0]\n",
    "    \n",
    "    def visit_headlessclause(self, node, visited_children):\n",
    "        _, _, body, _, _ = visited_children\n",
    "        if len(body)==1:\n",
    "            return Clause(None, body[0])\n",
    "        else:\n",
    "            return Clause(None, body)\n",
    "    \n",
    "    def visit_definiteclause(self, node, visited_children):\n",
    "        head, _, optional_body, _, _ = visited_children\n",
    "        if optional_body:\n",
    "            _, _, body = optional_body[0]\n",
    "            return Clause(head, body)\n",
    "        else:\n",
    "            return Clause(head, [])\n",
    "    \n",
    "    def visit_body(self, node, visited_children):\n",
    "        atom1, _, opt_atoms = visited_children\n",
    "        atoms = [atom1] + [atom for _, _, atom, _ in opt_atoms]\n",
    "        return atoms\n",
    "    \n",
    "    def visit_atom(self, node, visited_children):\n",
    "        return visited_children[0]\n",
    "    \n",
    "    def visit_predicate(self, node, visited_children):\n",
    "        predname, _, _, _, term1, _, opt_terms, _ = visited_children\n",
    "        terms = [term1] + [term for _, _, term, _ in opt_terms]\n",
    "        return Predicate(predname, terms)\n",
    "    \n",
    "    def visit_compoundterm(self, node, visited_children):\n",
    "        funcname, _, _, _, term1, _, opt_terms, _ = visited_children\n",
    "        terms = [term1] + [term for _, _, term, _ in opt_terms]\n",
    "        return CompoundTerm(funcname, terms)\n",
    "    \n",
    "    def visit_term(self, node, visited_children):\n",
    "        return visited_children[0]\n",
    "        \n",
    "    def visit_constant(self, node, visited_children):\n",
    "        return Constant(visited_children[0])\n",
    "    \n",
    "    def visit_variable(self, node, visited_children):\n",
    "        return Variable(node.text)\n",
    "    \n",
    "    def visit_value(self, node, visited_children):\n",
    "        return visited_children[0]\n",
    "    \n",
    "    def visit_word(self, node, visited_children):\n",
    "        return node.text\n",
    "\n",
    "    def visit_number(self, node, visited_children):\n",
    "        return int(node.text)\n",
    "    \n",
    "    def visit_wss(self, node, visited_children):\n",
    "        return node.text    \n",
    "    def visit_ss(self, node, visited_children):\n",
    "        return node.text\n",
    "        \n",
    "    # 2. For modes    \n",
    "    def visit_mode(self, node, visited_children):\n",
    "        return visited_children[0]\n",
    "\n",
    "    def visit_modeh(self, node, visited_children):\n",
    "        _, _, _, _, recall, _, _, _, atom, _, _, _, _ = visited_children\n",
    "        return Modeh(recall, atom)\n",
    "\n",
    "    def visit_modeb(self, node, visited_children):\n",
    "        _, _, _, _, recall, _, _, _, atom, _, _, _, _ = visited_children\n",
    "        return Modeb(recall, atom)\n",
    "    \n",
    "    def visit_recall(self, node, visited_children):\n",
    "        if node.text == '*':\n",
    "            return SystemParameters.max_recall\n",
    "        else:\n",
    "            return int(node.text)\n",
    "    \n",
    "    def visit_matom(self, node, visited_children):\n",
    "        return self.visit_predicate(node, visited_children)\n",
    "    \n",
    "    def visit_mcompterm(self, node, visited_children):\n",
    "        return self.visit_compoundterm(node, visited_children)\n",
    "    \n",
    "    def visit_mterm(self, node, visited_children):\n",
    "        return visited_children[0]\n",
    "    \n",
    "    def visit_type(self, node, visited_children):\n",
    "        sign, name = visited_children\n",
    "        return Type(sign, name)\n",
    "    \n",
    "    def visit_sign(self, node, visited_children):\n",
    "        return node.text\n",
    "    \n",
    "    \n",
    "    # 3. For aloe file as a whole\n",
    "    def visit_aloefile(self, node, visited_children):\n",
    "        _, opt_header, _, background, _, opt_pos_ex, _, opt_neg_ex, _ = visited_children\n",
    "        if opt_header:\n",
    "            header = opt_header[0]\n",
    "            modehandler, options = header['modehandler'], header['options']\n",
    "        else:\n",
    "            header, modehandler, options = None, None, None\n",
    "            \n",
    "        pos_ex = opt_pos_ex[0] if opt_pos_ex else []\n",
    "        neg_ex = opt_neg_ex[0] if opt_neg_ex else []\n",
    "        \n",
    "        program = AloeProgram(options=options, \n",
    "                              knowledge=background, \n",
    "                              modes=modehandler, \n",
    "                              examples={'pos':pos_ex,'neg':neg_ex})\n",
    "        return program\n",
    "    \n",
    "    def visit_header(self, node, visited_children):\n",
    "        header = {'mode':list(), 'determination':list(), 'set':list()}\n",
    "        for node_child, (visited_child, _) in zip(node, visited_children):\n",
    "            header[node_child.children[0].children[0].expr_name].append(visited_child)\n",
    "            \n",
    "        mhandler = ModeCollection(header['mode'], header['determination'])\n",
    "        options  = Options(header['set'])\n",
    "        return {'modehandler':mhandler, 'options':options}\n",
    "        \n",
    "    def visit_hclause(self, node, visited_children):\n",
    "        return visited_children[0]\n",
    "\n",
    "    def visit_background(self, node, visited_children):\n",
    "        bclauses = [c for c, _ in visited_children[6]]\n",
    "        return LogicProgram(bclauses)\n",
    "    \n",
    "    def visit_pos_ex(self, node, visited_children):\n",
    "        pclauses = [c for c, _ in visited_children[6]]\n",
    "        return pclauses\n",
    "    \n",
    "    def visit_neg_ex(self, node, visited_children):\n",
    "        nclauses = [c for c, _ in visited_children[6]]\n",
    "        return nclauses\n",
    "    \n",
    "    def visit_determination(self, node, visited_children):\n",
    "        #     determination = \"determination(\" predname \"/\" number (\",\" predname \"/\" number)+ \").\"    \n",
    "        _, _, _, _, modeh_name, _, _, _, modeh_nargs, _, l_modeb, _, _, _ = visited_children\n",
    "        deterh = '%s/%d'%(modeh_name, modeh_nargs)\n",
    "        l_deterb = ['%s/%d'%(modeb_name, modeb_nargs) for _, _, modeb_name, _, _, _, modeb_nargs, _ in l_modeb]\n",
    "        return (deterh, l_deterb)\n",
    "        \n",
    "    def visit_set(self, node, visited_children):\n",
    "        _, _, _, _, attr, _, _, _, value, _, _, _, _ = visited_children\n",
    "        return (attr, value)\n",
    "    \n",
    "    def visit_query(self, node, visited_children):\n",
    "        return visited_children[0]\n",
    "\n",
    "    def visit_goal(self, node, visited_children):\n",
    "        el0, _, l_e = visited_children\n",
    "        g = Goal((el0,))\n",
    "        g.extend(e for _, _, e, _ in l_e)\n",
    "        return g\n",
    "    \n",
    "    def visit_goal_unit(self, node, visited_children):\n",
    "        return visited_children[0]\n",
    "    \n",
    "    def visit_negation(self, node, visited_children):\n",
    "        _, _, _, _, goal, _, _ = visited_children\n",
    "        return Negation(goal)\n",
    "    \n",
    "    def visit_equation(self, node, visited_children):\n",
    "        formula = node.text\n",
    "        code = parser.expr(formula).compile()\n",
    "        return MathematicalExpression(formula, code)\n",
    "    \n",
    "visitor = AloeVisitor()\n"
   ]
  },
  {
   "cell_type": "code",
   "execution_count": 4,
   "id": "206a04a0",
   "metadata": {},
   "outputs": [],
   "source": [
    "def aloe_parse(text, rule='hornclause'):\n",
    "        text = re.sub(r'%.*\\n', '\\n', text)\n",
    "        grammar.default_rule = grammar[rule]        \n",
    "        tree   = grammar.parse(text)\n",
    "        output = visitor.visit(tree)\n",
    "        return output"
   ]
  },
  {
   "cell_type": "code",
   "execution_count": 5,
   "id": "a087410c",
   "metadata": {},
   "outputs": [
    {
     "data": {
      "text/plain": [
       "p(a,b):-a(t),x<a."
      ]
     },
     "execution_count": 5,
     "metadata": {},
     "output_type": "execute_result"
    }
   ],
   "source": [
    "text = 'p (a, b) :- a(t), x<a.'\n",
    "aloe_parse(text, 'hornclause')"
   ]
  },
  {
   "cell_type": "code",
   "execution_count": 6,
   "id": "5ceb9419",
   "metadata": {},
   "outputs": [],
   "source": [
    "ap = aloe_parse(open(\"aloe/Examples/family.pl\", 'r').read(), 'aloefile')"
   ]
  },
  {
   "cell_type": "code",
   "execution_count": 7,
   "id": "f30b2ed1",
   "metadata": {},
   "outputs": [
    {
     "data": {
      "text/plain": [
       "Background:\n",
       "LogicProgram object\n",
       "   person(andrew).\n",
       "   person(bernard).\n",
       "   person(cathleen).\n",
       "   person(daphne).\n",
       "   person(edith).\n",
       "   person(fred).\n",
       "   person(george).\n",
       "   person(john).\n",
       "   person(louis).\n",
       "   person(oscar).\n",
       "   person(paul).\n",
       "   person(robert).\n",
       "   person(stephen).\n",
       "   person(sylvia).\n",
       "   person(william).\n",
       "   person(ada).\n",
       "   father(william,sylvia).\n",
       "   father(oscar,louis).\n",
       "   father(oscar,daphne).\n",
       "   father(oscar,cathleen).\n",
       "   father(oscar,fred).\n",
       "   father(oscar,bernard).\n",
       "   father(louis,stephen).\n",
       "   father(louis,andrew).\n",
       "   father(louis,robert).\n",
       "   father(louis,john).\n",
       "   father(george,oscar).\n",
       "   father(paul,edith).\n",
       "   mother(sylvia,stephen).\n",
       "   mother(sylvia,andrew).\n",
       "   mother(sylvia,robert).\n",
       "   mother(sylvia,john).\n",
       "   mother(edith,louis).\n",
       "   mother(edith,daphne).\n",
       "   mother(edith,cathleen).\n",
       "   mother(edith,fred).\n",
       "   mother(edith,bernard).\n",
       "   mother(ada,sylvia).\n",
       "\n",
       "Examples:\n",
       "Positive:\n",
       "parent(ada,sylvia).\n",
       "parent(edith,bernard).\n",
       "parent(edith,cathleen).\n",
       "parent(edith,daphne).\n",
       "parent(edith,fred).\n",
       "parent(edith,louis).\n",
       "parent(george,oscar).\n",
       "parent(louis,andrew).\n",
       "parent(louis,john).\n",
       "parent(louis,robert).\n",
       "parent(louis,stephen).\n",
       "parent(oscar,bernard).\n",
       "parent(oscar,cathleen).\n",
       "parent(oscar,daphne).\n",
       "parent(oscar,fred).\n",
       "parent(oscar,louis).\n",
       "parent(paul,edith).\n",
       "parent(sylvia,andrew).\n",
       "parent(sylvia,john).\n",
       "parent(sylvia,robert).\n",
       "parent(sylvia,stephen).\n",
       "parent(william,sylvia).\n",
       "grandfather(george,bernard).\n",
       "grandfather(george,cathleen).\n",
       "grandfather(george,daphne).\n",
       "grandfather(george,fred).\n",
       "grandfather(george,louis).\n",
       "grandfather(oscar,andrew).\n",
       "grandfather(oscar,john).\n",
       "grandfather(oscar,robert).\n",
       "grandfather(oscar,stephen).\n",
       "grandfather(paul,bernard).\n",
       "grandfather(paul,cathleen).\n",
       "grandfather(paul,daphne).\n",
       "grandfather(paul,fred).\n",
       "grandfather(paul,louis).\n",
       "grandfather(william,andrew).\n",
       "grandfather(william,john).\n",
       "grandfather(william,robert).\n",
       "grandfather(william,stephen).\n",
       "grandparent(ada,andrew).\n",
       "grandparent(ada,john).\n",
       "grandparent(ada,robert).\n",
       "grandparent(ada,stephen).\n",
       "grandparent(edith,andrew).\n",
       "grandparent(edith,john).\n",
       "grandparent(edith,robert).\n",
       "grandparent(edith,stephen).\n",
       "grandparent(george,bernard).\n",
       "grandparent(george,cathleen).\n",
       "grandparent(george,daphne).\n",
       "grandparent(george,fred).\n",
       "grandparent(george,louis).\n",
       "grandparent(oscar,andrew).\n",
       "grandparent(oscar,john).\n",
       "grandparent(oscar,robert).\n",
       "grandparent(oscar,stephen).\n",
       "grandparent(paul,bernard).\n",
       "grandparent(paul,cathleen).\n",
       "grandparent(paul,daphne).\n",
       "grandparent(paul,fred).\n",
       "grandparent(paul,louis).\n",
       "grandparent(william,andrew).\n",
       "grandparent(william,john).\n",
       "grandparent(william,robert).\n",
       "grandparent(william,stephen).\n",
       "Negative:\n",
       "parent(ada,andrew).\n",
       "parent(ada,john).\n",
       "parent(ada,robert).\n",
       "parent(ada,stephen).\n",
       "parent(edith,andrew).\n",
       "parent(edith,john).\n",
       "parent(edith,robert).\n",
       "parent(edith,stephen).\n",
       "parent(george,bernard).\n",
       "parent(george,cathleen).\n",
       "parent(george,daphne).\n",
       "parent(george,fred).\n",
       "parent(george,louis).\n",
       "parent(oscar,andrew).\n",
       "parent(oscar,john).\n",
       "parent(oscar,robert).\n",
       "parent(oscar,stephen).\n",
       "parent(paul,bernard).\n",
       "parent(paul,cathleen).\n",
       "parent(paul,daphne).\n",
       "parent(paul,fred).\n",
       "parent(paul,louis).\n",
       "parent(william,andrew).\n",
       "parent(william,john).\n",
       "parent(william,robert).\n",
       "parent(william,stephen).\n",
       "parent(sylvia,ada).\n",
       "parent(bernard,edith).\n",
       "parent(cathleen,edith).\n",
       "parent(daphne,edith).\n",
       "parent(fred,edith).\n",
       "parent(louis,edith).\n",
       "parent(oscar,george).\n",
       "parent(andrew,louis).\n",
       "parent(john,louis).\n",
       "parent(robert,louis).\n",
       "parent(stephen,louis).\n",
       "parent(bernard,oscar).\n",
       "parent(cathleen,oscar).\n",
       "parent(daphne,oscar).\n",
       "parent(fred,oscar).\n",
       "parent(louis,oscar).\n",
       "parent(edith,paul).\n",
       "parent(andrew,sylvia).\n",
       "parent(john,sylvia).\n",
       "parent(robert,sylvia).\n",
       "parent(stephen,sylvia).\n",
       "parent(sylvia,william).\n",
       "grandparent(ada,sylvia).\n",
       "grandparent(edith,bernard).\n",
       "grandparent(edith,cathleen).\n",
       "grandparent(edith,daphne).\n",
       "grandparent(edith,fred).\n",
       "grandparent(edith,louis).\n",
       "grandparent(george,oscar).\n",
       "grandparent(louis,andrew).\n",
       "grandparent(louis,john).\n",
       "grandparent(louis,robert).\n",
       "grandparent(louis,stephen).\n",
       "grandparent(oscar,bernard).\n",
       "grandparent(oscar,cathleen).\n",
       "grandparent(oscar,daphne).\n",
       "grandparent(oscar,fred).\n",
       "grandparent(oscar,louis).\n",
       "grandparent(paul,edith).\n",
       "grandparent(sylvia,andrew).\n",
       "grandparent(sylvia,john).\n",
       "grandparent(sylvia,robert).\n",
       "grandparent(sylvia,stephen).\n",
       "grandparent(william,sylvia).\n",
       "grandfather(ada,sylvia).\n",
       "grandfather(edith,bernard).\n",
       "grandfather(edith,cathleen).\n",
       "grandfather(edith,daphne).\n",
       "grandfather(edith,fred).\n",
       "grandfather(edith,louis).\n",
       "grandfather(george,oscar).\n",
       "grandfather(louis,andrew).\n",
       "grandfather(louis,john).\n",
       "grandfather(louis,robert).\n",
       "grandfather(louis,stephen).\n",
       "grandfather(oscar,bernard).\n",
       "grandfather(oscar,cathleen).\n",
       "grandfather(oscar,daphne).\n",
       "grandfather(oscar,fred).\n",
       "grandfather(oscar,louis).\n",
       "grandfather(paul,edith).\n",
       "grandfather(sylvia,andrew).\n",
       "grandfather(sylvia,john).\n",
       "grandfather(sylvia,robert).\n",
       "grandfather(sylvia,stephen).\n",
       "grandfather(william,sylvia).\n",
       "grandfather(ada,andrew).\n",
       "grandfather(ada,john).\n",
       "grandfather(ada,robert).\n",
       "grandfather(ada,stephen).\n",
       "grandfather(edith,andrew).\n",
       "grandfather(edith,john).\n",
       "grandfather(edith,robert).\n",
       "grandfather(edith,stephen).\n",
       "\n",
       "Modes:\n",
       "modeh: {'parent/2': modeh(1,parent(+person,-person))., 'grandfather/2': modeh(1,grandfather(+person,-person))., 'grandparent/2': modeh(1,grandparent(+person,-person)).}\n",
       "modeb: {'father/2': modeb(100,father(+person,-person))., 'mother/2': modeb(100,mother(+person,-person))., 'parent/2': modeb(100,parent(+person,-person)).}\n",
       "determinations: {'grandfather/2': {'mother/2', 'parent/2', 'father/2'}, 'grandparent/2': {'mother/2', 'parent/2', 'father/2'}, 'parent/2': {'mother/2', 'father/2'}}\n",
       "\n",
       "options:\n",
       "verbose: 0\n",
       "i: 2\n",
       "c: 2\n",
       "h: 1000\n",
       "solver: AloeSolver\n",
       "learner: ProgolLearner\n",
       "hmetric: FnMetric\n",
       "update_knowledge: True\n",
       "logging: False"
      ]
     },
     "execution_count": 7,
     "metadata": {},
     "output_type": "execute_result"
    }
   ],
   "source": [
    "ap"
   ]
  },
  {
   "cell_type": "code",
   "execution_count": 12,
   "id": "6694378e",
   "metadata": {},
   "outputs": [
    {
     "data": {
      "text/plain": [
       "<re.Match object; span=(0, 4), match='aqdf'>"
      ]
     },
     "execution_count": 12,
     "metadata": {},
     "output_type": "execute_result"
    }
   ],
   "source": [
    "reg = r\".*?(?=\\.)\"\n",
    "re.search(reg, 'aqdf.bqdf.')"
   ]
  },
  {
   "cell_type": "code",
   "execution_count": null,
   "id": "791f0f37",
   "metadata": {},
   "outputs": [],
   "source": []
  }
 ],
 "metadata": {
  "kernelspec": {
   "display_name": "Python 3 (ipykernel)",
   "language": "python",
   "name": "python3"
  },
  "language_info": {
   "codemirror_mode": {
    "name": "ipython",
    "version": 3
   },
   "file_extension": ".py",
   "mimetype": "text/x-python",
   "name": "python",
   "nbconvert_exporter": "python",
   "pygments_lexer": "ipython3",
   "version": "3.9.7"
  }
 },
 "nbformat": 4,
 "nbformat_minor": 5
}
