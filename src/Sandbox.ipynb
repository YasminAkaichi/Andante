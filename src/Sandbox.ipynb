{
 "cells": [
  {
   "cell_type": "code",
   "execution_count": 1,
   "id": "d1d39bcf",
   "metadata": {},
   "outputs": [
    {
     "name": "stdout",
     "output_type": "stream",
     "text": [
      "{B: 0, A: 1, C: 1, E: 2, D: 2}\n"
     ]
    },
    {
     "data": {
      "text/plain": [
       "LogicProgram object\n",
       "daughter(A,B):-female(A)."
      ]
     },
     "execution_count": 1,
     "metadata": {},
     "output_type": "execute_result"
    }
   ],
   "source": [
    "from aloe.program import AloeProgram\n",
    "text = \"\"\"\n",
    "modeh(*,daughter(+person,-person)).\n",
    "modeb(*,parent(+person,-person)).\n",
    "modeb(*,parent(-person,+person)).\n",
    "modeb(*,female(+person)).\n",
    "modeb(*,female(-person)).\n",
    "%\n",
    "determination(daughter/2,parent/2).\n",
    "determination(daughter/2,female/1).\n",
    "%    \n",
    "set(verbose,0).\n",
    "\n",
    ":- begin_bg.\n",
    "person(ann).\n",
    "person(mary).\n",
    "person(tom).\n",
    "person(eve).\n",
    "person(lucy).\n",
    "\n",
    "parent(ann,mary).\n",
    "parent(ann,tom).\n",
    "parent(tom,eve).\n",
    "parent(tom,lucy).\n",
    "\n",
    "female(ann).\n",
    "female(mary).\n",
    "female(eve).\n",
    "female(lucy).\n",
    ":- end_bg.\n",
    "    \n",
    "\n",
    ":- begin_in_pos.\n",
    "daughter(lucy,tom).\n",
    "daughter(mary,ann).\n",
    "daughter(eve,tom).\n",
    ":- end_in_pos.\n",
    "\n",
    ":- begin_in_neg.\n",
    "daughter(tom,ann).\n",
    "daughter(tom,eve).\n",
    ":- end_in_neg.\n",
    "\"\"\"\n",
    "ap = AloeProgram.build_from_text(text)\n",
    "ap.induce()\n",
    "#ap.query('female(X),parent(ann,X),person(Y).')\n"
   ]
  },
  {
   "cell_type": "code",
   "execution_count": 2,
   "id": "49cb05ca",
   "metadata": {},
   "outputs": [
    {
     "data": {
      "text/plain": [
       "(True, [{}])"
      ]
     },
     "execution_count": 2,
     "metadata": {},
     "output_type": "execute_result"
    }
   ],
   "source": [
    "ap.query('not(parent(X,ann)).')"
   ]
  },
  {
   "cell_type": "code",
   "execution_count": 3,
   "id": "882b6ced",
   "metadata": {},
   "outputs": [
    {
     "data": {
      "text/plain": [
       "not(parent(X,tom))"
      ]
     },
     "execution_count": 3,
     "metadata": {},
     "output_type": "execute_result"
    }
   ],
   "source": [
    "from aloe.parser import AloeParser\n",
    "parser = AloeParser()\n",
    "parser.parse_query('not(parent(X,tom)).')"
   ]
  },
  {
   "cell_type": "code",
   "execution_count": 1,
   "id": "bc4f75fa",
   "metadata": {},
   "outputs": [
    {
     "data": {
      "text/plain": [
       "1.2144737243652344"
      ]
     },
     "execution_count": 1,
     "metadata": {},
     "output_type": "execute_result"
    }
   ],
   "source": [
    "from aloe.program import AloeProgram\n",
    "from aloe.options import SystemParameters\n",
    "import time\n",
    "ap2 = AloeProgram.build_from_file(\"aloe/Examples/family.pl\")\n",
    "ap2.set('verbose',0)\n",
    "t0 = time.time()\n",
    "SystemParameters.generic_name_for_variable = True\n",
    "out = ap2.induce()\n",
    "t1 = time.time()\n",
    "t1-t0"
   ]
  },
  {
   "cell_type": "code",
   "execution_count": 2,
   "id": "96cd02a1",
   "metadata": {},
   "outputs": [
    {
     "data": {
      "text/plain": [
       "LogicProgram object\n",
       "   person(andrew).\n",
       "   person(bernard).\n",
       "   person(cathleen).\n",
       "   person(daphne).\n",
       "   person(edith).\n",
       "   person(fred).\n",
       "   person(george).\n",
       "   person(john).\n",
       "   person(louis).\n",
       "   person(oscar).\n",
       "   person(paul).\n",
       "   person(robert).\n",
       "   person(stephen).\n",
       "   person(sylvia).\n",
       "   person(william).\n",
       "   person(ada).\n",
       "   father_of(william,sylvia).\n",
       "   father_of(oscar,louis).\n",
       "   father_of(oscar,daphne).\n",
       "   father_of(oscar,cathleen).\n",
       "   father_of(oscar,fred).\n",
       "   father_of(oscar,bernard).\n",
       "   father_of(louis,stephen).\n",
       "   father_of(louis,andrew).\n",
       "   father_of(louis,robert).\n",
       "   father_of(louis,john).\n",
       "   father_of(george,oscar).\n",
       "   father_of(paul,edith).\n",
       "   mother_of(sylvia,stephen).\n",
       "   mother_of(sylvia,andrew).\n",
       "   mother_of(sylvia,robert).\n",
       "   mother_of(sylvia,john).\n",
       "   mother_of(edith,louis).\n",
       "   mother_of(edith,daphne).\n",
       "   mother_of(edith,cathleen).\n",
       "   mother_of(edith,fred).\n",
       "   mother_of(edith,bernard).\n",
       "   mother_of(ada,sylvia).\n",
       "   parent_of(A,B):-mother_of(A,B).\n",
       "   parent_of(A,B):-father_of(A,B).\n",
       "   grandfather_of(A,B):-father_of(A,C),parent_of(C,B).\n",
       "   grandparent_of(A,B):-parent_of(A,C),parent_of(C,B)."
      ]
     },
     "execution_count": 2,
     "metadata": {},
     "output_type": "execute_result"
    }
   ],
   "source": [
    "ap2.knowledge"
   ]
  },
  {
   "cell_type": "code",
   "execution_count": 3,
   "id": "879aca30",
   "metadata": {},
   "outputs": [
    {
     "name": "stdout",
     "output_type": "stream",
     "text": [
      "not(grandfather_of(A,B),not(grandparent_of(A,B)))\n"
     ]
    },
    {
     "data": {
      "text/plain": [
       "(True, [{}])"
      ]
     },
     "execution_count": 3,
     "metadata": {},
     "output_type": "execute_result"
    }
   ],
   "source": [
    "ap2.verify('grandparent_of(A,B):-grandfather_of(A,B).')"
   ]
  },
  {
   "cell_type": "code",
   "execution_count": 4,
   "id": "bec279fd",
   "metadata": {},
   "outputs": [
    {
     "name": "stdout",
     "output_type": "stream",
     "text": [
      "not(grandparent_of(A,B),not(grandfather_of(A,B)))\n"
     ]
    },
    {
     "data": {
      "text/plain": [
       "(False, [])"
      ]
     },
     "execution_count": 4,
     "metadata": {},
     "output_type": "execute_result"
    }
   ],
   "source": [
    "ap2.verify('grandfather_of(A,B):-grandparent_of(A,B).')"
   ]
  },
  {
   "cell_type": "code",
   "execution_count": 7,
   "id": "de66aa42",
   "metadata": {},
   "outputs": [
    {
     "name": "stdout",
     "output_type": "stream",
     "text": [
      "\n",
      "h 0\n",
      "Atom female(mary)\n",
      "Candidates {female(mary).}\n",
      "Match {female(mary).}\n",
      "Clause female(mary).\n",
      "Substitution {}\n",
      "Atoms []\n",
      "[{}]\n"
     ]
    }
   ],
   "source": [
    "from aloe.knowledge import MultipleKnowledge, LogicProgram\n",
    "ap = AloeProgram.build_from_text(text)\n",
    "ap.knowledge = MultipleKnowledge(LogicProgram(options=ap.options), ap.knowledge, options=ap.options)\n",
    "print(ap.query('female(mary).'))\n"
   ]
  },
  {
   "cell_type": "code",
   "execution_count": 2,
   "id": "074433ee",
   "metadata": {},
   "outputs": [
    {
     "ename": "TypeError",
     "evalue": "object of type 'NoneType' has no len()",
     "output_type": "error",
     "traceback": [
      "\u001b[1;31m---------------------------------------------------------------------------\u001b[0m",
      "\u001b[1;31mTypeError\u001b[0m                                 Traceback (most recent call last)",
      "\u001b[1;32m~\\AppData\\Local\\Temp/ipykernel_5452/597994717.py\u001b[0m in \u001b[0;36m<module>\u001b[1;34m\u001b[0m\n\u001b[1;32m----> 1\u001b[1;33m \u001b[0mlen\u001b[0m\u001b[1;33m(\u001b[0m\u001b[1;32mNone\u001b[0m\u001b[1;33m)\u001b[0m\u001b[1;33m\u001b[0m\u001b[1;33m\u001b[0m\u001b[0m\n\u001b[0m",
      "\u001b[1;31mTypeError\u001b[0m: object of type 'NoneType' has no len()"
     ]
    }
   ],
   "source": [
    "female(X), not(parent(X,Y)), female(Y)"
   ]
  },
  {
   "cell_type": "code",
   "execution_count": 1,
   "id": "6a33b1cb",
   "metadata": {},
   "outputs": [
    {
     "name": "stdout",
     "output_type": "stream",
     "text": [
      "<class 'aloe.clause.Predicate'> female(mary)\n",
      "<class 'aloe.clause.Constant'> mary\n"
     ]
    }
   ],
   "source": [
    "from aloe.clause import Clause, Predicate, Function, Constant, Variable, Operator\n",
    "def print_class_in_depth(element):\n",
    "    print(element.__class__, element)\n",
    "    if isinstance(element, Operator):\n",
    "        for t in element:\n",
    "            print_class_in_depth(t)\n",
    "\n",
    "atom = Predicate('female', [Constant('mary')])\n",
    "print_class_in_depth(atom)            "
   ]
  },
  {
   "cell_type": "code",
   "execution_count": 10,
   "id": "dc69ab83",
   "metadata": {},
   "outputs": [
    {
     "name": "stdout",
     "output_type": "stream",
     "text": [
      "h t\n"
     ]
    }
   ],
   "source": [
    "def fun(a, b, **options):\n",
    "    print(*options)\n",
    "    \n",
    "l = [1,2]\n",
    "fun(*l, h=30, t=50)\n"
   ]
  },
  {
   "cell_type": "code",
   "execution_count": 3,
   "id": "c18e2724",
   "metadata": {},
   "outputs": [
    {
     "data": {
      "text/plain": [
       "(True, [{X: lion}])"
      ]
     },
     "execution_count": 3,
     "metadata": {},
     "output_type": "execute_result"
    }
   ],
   "source": [
    "import aloe.program\n",
    "\n",
    "t = \"\"\"\n",
    "mortel(X):-man(X).\n",
    "mortel(X):-animal(X).\n",
    "\n",
    "man(socrates).\n",
    "animal(lion).\n",
    "\"\"\"\n",
    "\n",
    "ap = aloe.program.AloeProgram.build_from_background(t)\n",
    "\n",
    "q = \"mortel(X),not(man(X)).\"\n",
    "ap.query(q)\n"
   ]
  },
  {
   "cell_type": "code",
   "execution_count": 5,
   "id": "017e27cb",
   "metadata": {},
   "outputs": [
    {
     "data": {
      "text/plain": [
       "{1, 2}"
      ]
     },
     "execution_count": 5,
     "metadata": {},
     "output_type": "execute_result"
    }
   ],
   "source": [
    "a = {1,2,3}\n",
    "b = {4,5}\n",
    "c = {3,4}\n",
    "a-c"
   ]
  },
  {
   "cell_type": "code",
   "execution_count": 4,
   "id": "e57f73b8",
   "metadata": {},
   "outputs": [
    {
     "data": {
      "text/plain": [
       "{1, 2, 3}"
      ]
     },
     "execution_count": 4,
     "metadata": {},
     "output_type": "execute_result"
    }
   ],
   "source": [
    "set.union({1,2},{3})"
   ]
  },
  {
   "cell_type": "code",
   "execution_count": 1,
   "id": "87201d2b",
   "metadata": {},
   "outputs": [
    {
     "name": "stdout",
     "output_type": "stream",
     "text": [
      "__main__\n"
     ]
    }
   ],
   "source": [
    "def fun():\n",
    "    print(__name__)\n",
    "    \n",
    "fun()"
   ]
  },
  {
   "cell_type": "code",
   "execution_count": 1,
   "id": "0079e74d",
   "metadata": {},
   "outputs": [],
   "source": [
    "from aloe.options import Options\n",
    "class A:\n",
    "    def __init__(self, options=None):\n",
    "        self._options = options if options else Options()\n",
    "        self._temp_options = dict()\n",
    "        \n",
    "    def __getattr__(self, attr):\n",
    "        if attr=='options':\n",
    "            if attr in self._temp_options:\n",
    "                return self._temp_options[attr]\n",
    "            else:\n",
    "                return self._options, attr)\n",
    "        else: return super().__getattr__(self)\n"
   ]
  },
  {
   "cell_type": "code",
   "execution_count": 3,
   "id": "6fbf01d8",
   "metadata": {},
   "outputs": [
    {
     "ename": "AttributeError",
     "evalue": "'Options' object has no attribute 'options'",
     "output_type": "error",
     "traceback": [
      "\u001b[1;31m---------------------------------------------------------------------------\u001b[0m",
      "\u001b[1;31mAttributeError\u001b[0m                            Traceback (most recent call last)",
      "\u001b[1;32m~\\AppData\\Local\\Temp/ipykernel_2872/378656007.py\u001b[0m in \u001b[0;36m<module>\u001b[1;34m\u001b[0m\n\u001b[0;32m      1\u001b[0m \u001b[0ma\u001b[0m \u001b[1;33m=\u001b[0m \u001b[0mA\u001b[0m\u001b[1;33m(\u001b[0m\u001b[1;33m)\u001b[0m\u001b[1;33m\u001b[0m\u001b[1;33m\u001b[0m\u001b[0m\n\u001b[1;32m----> 2\u001b[1;33m \u001b[0ma\u001b[0m\u001b[1;33m.\u001b[0m\u001b[0moptions\u001b[0m\u001b[1;33m.\u001b[0m\u001b[0ma\u001b[0m\u001b[1;33m\u001b[0m\u001b[1;33m\u001b[0m\u001b[0m\n\u001b[0m",
      "\u001b[1;32m~\\AppData\\Local\\Temp/ipykernel_2872/719484659.py\u001b[0m in \u001b[0;36m__getattr__\u001b[1;34m(self, attr)\u001b[0m\n\u001b[0;32m     10\u001b[0m                 \u001b[1;32mreturn\u001b[0m \u001b[0mself\u001b[0m\u001b[1;33m.\u001b[0m\u001b[0m_temp_options\u001b[0m\u001b[1;33m[\u001b[0m\u001b[0mattr\u001b[0m\u001b[1;33m]\u001b[0m\u001b[1;33m\u001b[0m\u001b[1;33m\u001b[0m\u001b[0m\n\u001b[0;32m     11\u001b[0m             \u001b[1;32melse\u001b[0m\u001b[1;33m:\u001b[0m\u001b[1;33m\u001b[0m\u001b[1;33m\u001b[0m\u001b[0m\n\u001b[1;32m---> 12\u001b[1;33m                 \u001b[1;32mreturn\u001b[0m \u001b[0mgetattr\u001b[0m\u001b[1;33m(\u001b[0m\u001b[0mself\u001b[0m\u001b[1;33m.\u001b[0m\u001b[0m_options\u001b[0m\u001b[1;33m,\u001b[0m \u001b[0mattr\u001b[0m\u001b[1;33m)\u001b[0m\u001b[1;33m\u001b[0m\u001b[1;33m\u001b[0m\u001b[0m\n\u001b[0m\u001b[0;32m     13\u001b[0m         \u001b[1;32melse\u001b[0m\u001b[1;33m:\u001b[0m \u001b[1;32mreturn\u001b[0m \u001b[0msuper\u001b[0m\u001b[1;33m(\u001b[0m\u001b[1;33m)\u001b[0m\u001b[1;33m.\u001b[0m\u001b[0m__getattr__\u001b[0m\u001b[1;33m(\u001b[0m\u001b[0mself\u001b[0m\u001b[1;33m)\u001b[0m\u001b[1;33m\u001b[0m\u001b[1;33m\u001b[0m\u001b[0m\n",
      "\u001b[1;31mAttributeError\u001b[0m: 'Options' object has no attribute 'options'"
     ]
    }
   ],
   "source": [
    "a = A()\n",
    "a.options.a"
   ]
  },
  {
   "cell_type": "code",
   "execution_count": 6,
   "id": "4c96aef9",
   "metadata": {},
   "outputs": [
    {
     "data": {
      "text/plain": [
       "['_options',\n",
       " '_temp_options',\n",
       " '__module__',\n",
       " '__init__',\n",
       " '__getattr__',\n",
       " '__dict__',\n",
       " '__weakref__',\n",
       " '__doc__',\n",
       " '__repr__',\n",
       " '__hash__',\n",
       " '__str__',\n",
       " '__getattribute__',\n",
       " '__setattr__',\n",
       " '__delattr__',\n",
       " '__lt__',\n",
       " '__le__',\n",
       " '__eq__',\n",
       " '__ne__',\n",
       " '__gt__',\n",
       " '__ge__',\n",
       " '__new__',\n",
       " '__reduce_ex__',\n",
       " '__reduce__',\n",
       " '__subclasshook__',\n",
       " '__init_subclass__',\n",
       " '__format__',\n",
       " '__sizeof__',\n",
       " '__dir__',\n",
       " '__class__']"
      ]
     },
     "execution_count": 6,
     "metadata": {},
     "output_type": "execute_result"
    }
   ],
   "source": [
    "a.__dir__()"
   ]
  },
  {
   "cell_type": "code",
   "execution_count": 2,
   "id": "d01e2bb4",
   "metadata": {},
   "outputs": [],
   "source": [
    "class A:\n",
    "    def __init__(self, s: str):\n",
    "        self.s = s\n",
    "a = A(1)"
   ]
  },
  {
   "cell_type": "code",
   "execution_count": 4,
   "id": "694e6c9d",
   "metadata": {},
   "outputs": [
    {
     "data": {
      "text/plain": [
       "False"
      ]
     },
     "execution_count": 4,
     "metadata": {},
     "output_type": "execute_result"
    }
   ],
   "source": [
    "a = {1}\n",
    "isinstance(a , list)\n",
    "\n"
   ]
  },
  {
   "cell_type": "code",
   "execution_count": 8,
   "id": "3ddd8ffb",
   "metadata": {},
   "outputs": [
    {
     "name": "stdout",
     "output_type": "stream",
     "text": [
      "Help on class tuple in module builtins:\n",
      "\n",
      "class tuple(object)\n",
      " |  tuple(iterable=(), /)\n",
      " |  \n",
      " |  Built-in immutable sequence.\n",
      " |  \n",
      " |  If no argument is given, the constructor returns an empty tuple.\n",
      " |  If iterable is specified the tuple is initialized from iterable's items.\n",
      " |  \n",
      " |  If the argument is a tuple, the return value is the same object.\n",
      " |  \n",
      " |  Built-in subclasses:\n",
      " |      asyncgen_hooks\n",
      " |      UnraisableHookArgs\n",
      " |  \n",
      " |  Methods defined here:\n",
      " |  \n",
      " |  __add__(self, value, /)\n",
      " |      Return self+value.\n",
      " |  \n",
      " |  __contains__(self, key, /)\n",
      " |      Return key in self.\n",
      " |  \n",
      " |  __eq__(self, value, /)\n",
      " |      Return self==value.\n",
      " |  \n",
      " |  __ge__(self, value, /)\n",
      " |      Return self>=value.\n",
      " |  \n",
      " |  __getattribute__(self, name, /)\n",
      " |      Return getattr(self, name).\n",
      " |  \n",
      " |  __getitem__(self, key, /)\n",
      " |      Return self[key].\n",
      " |  \n",
      " |  __getnewargs__(self, /)\n",
      " |  \n",
      " |  __gt__(self, value, /)\n",
      " |      Return self>value.\n",
      " |  \n",
      " |  __hash__(self, /)\n",
      " |      Return hash(self).\n",
      " |  \n",
      " |  __iter__(self, /)\n",
      " |      Implement iter(self).\n",
      " |  \n",
      " |  __le__(self, value, /)\n",
      " |      Return self<=value.\n",
      " |  \n",
      " |  __len__(self, /)\n",
      " |      Return len(self).\n",
      " |  \n",
      " |  __lt__(self, value, /)\n",
      " |      Return self<value.\n",
      " |  \n",
      " |  __mul__(self, value, /)\n",
      " |      Return self*value.\n",
      " |  \n",
      " |  __ne__(self, value, /)\n",
      " |      Return self!=value.\n",
      " |  \n",
      " |  __repr__(self, /)\n",
      " |      Return repr(self).\n",
      " |  \n",
      " |  __rmul__(self, value, /)\n",
      " |      Return value*self.\n",
      " |  \n",
      " |  count(self, value, /)\n",
      " |      Return number of occurrences of value.\n",
      " |  \n",
      " |  index(self, value, start=0, stop=9223372036854775807, /)\n",
      " |      Return first index of value.\n",
      " |      \n",
      " |      Raises ValueError if the value is not present.\n",
      " |  \n",
      " |  ----------------------------------------------------------------------\n",
      " |  Class methods defined here:\n",
      " |  \n",
      " |  __class_getitem__(...) from builtins.type\n",
      " |      See PEP 585\n",
      " |  \n",
      " |  ----------------------------------------------------------------------\n",
      " |  Static methods defined here:\n",
      " |  \n",
      " |  __new__(*args, **kwargs) from builtins.type\n",
      " |      Create and return a new object.  See help(type) for accurate signature.\n",
      "\n"
     ]
    }
   ],
   "source": [
    "help(iterable)"
   ]
  },
  {
   "cell_type": "code",
   "execution_count": 12,
   "id": "7ad604bb",
   "metadata": {},
   "outputs": [
    {
     "ename": "NotImplementedError",
     "evalue": "",
     "output_type": "error",
     "traceback": [
      "\u001b[1;31m---------------------------------------------------------------------------\u001b[0m",
      "\u001b[1;31mNotImplementedError\u001b[0m                       Traceback (most recent call last)",
      "\u001b[1;32m~\\AppData\\Local\\Temp/ipykernel_17388/2493561898.py\u001b[0m in \u001b[0;36m<module>\u001b[1;34m\u001b[0m\n\u001b[1;32m----> 1\u001b[1;33m \u001b[1;32mraise\u001b[0m \u001b[0mNotImplementedError\u001b[0m\u001b[1;33m(\u001b[0m\u001b[1;33m)\u001b[0m\u001b[1;33m\u001b[0m\u001b[1;33m\u001b[0m\u001b[0m\n\u001b[0m",
      "\u001b[1;31mNotImplementedError\u001b[0m: "
     ]
    }
   ],
   "source": [
    "raise NotImplementedError()"
   ]
  },
  {
   "cell_type": "code",
   "execution_count": 2,
   "id": "bd95406e",
   "metadata": {},
   "outputs": [
    {
     "data": {
      "text/plain": [
       "['a', 'b', 'c']"
      ]
     },
     "execution_count": 2,
     "metadata": {},
     "output_type": "execute_result"
    }
   ],
   "source": [
    "'a b \\n c'.split()"
   ]
  },
  {
   "cell_type": "code",
   "execution_count": 3,
   "id": "86e07499",
   "metadata": {},
   "outputs": [
    {
     "ename": "SyntaxError",
     "evalue": "invalid syntax (Temp/ipykernel_2252/2001087664.py, line 1)",
     "output_type": "error",
     "traceback": [
      "\u001b[1;36m  File \u001b[1;32m\"C:\\Users\\simon\\AppData\\Local\\Temp/ipykernel_2252/2001087664.py\"\u001b[1;36m, line \u001b[1;32m1\u001b[0m\n\u001b[1;33m    a = #qmdfk\u001b[0m\n\u001b[1;37m        ^\u001b[0m\n\u001b[1;31mSyntaxError\u001b[0m\u001b[1;31m:\u001b[0m invalid syntax\n"
     ]
    }
   ],
   "source": [
    "a = #qmdfk\n",
    "a"
   ]
  },
  {
   "cell_type": "code",
   "execution_count": 2,
   "id": "ae3b3589",
   "metadata": {},
   "outputs": [
    {
     "data": {
      "text/plain": [
       "True"
      ]
     },
     "execution_count": 2,
     "metadata": {},
     "output_type": "execute_result"
    }
   ],
   "source": [
    "any(True for _ in range(3))"
   ]
  },
  {
   "cell_type": "code",
   "execution_count": 3,
   "id": "5e9541aa",
   "metadata": {},
   "outputs": [
    {
     "data": {
      "text/plain": [
       "False"
      ]
     },
     "execution_count": 3,
     "metadata": {},
     "output_type": "execute_result"
    }
   ],
   "source": [
    "isinstance((3,1),(int,int))"
   ]
  },
  {
   "cell_type": "code",
   "execution_count": 8,
   "id": "0c42ef5a",
   "metadata": {},
   "outputs": [
    {
     "ename": "SubstitutionError",
     "evalue": "Substitution {3/4} is not valid",
     "output_type": "error",
     "traceback": [
      "\u001b[1;31m---------------------------------------------------------------------------\u001b[0m",
      "\u001b[1;31mSubstitutionError\u001b[0m                         Traceback (most recent call last)",
      "\u001b[1;32m~\\AppData\\Local\\Temp/ipykernel_1528/1551209509.py\u001b[0m in \u001b[0;36m<module>\u001b[1;34m\u001b[0m\n\u001b[0;32m      4\u001b[0m         \u001b[0msuper\u001b[0m\u001b[1;33m(\u001b[0m\u001b[1;33m)\u001b[0m\u001b[1;33m.\u001b[0m\u001b[0m__init__\u001b[0m\u001b[1;33m(\u001b[0m\u001b[0mmessage\u001b[0m\u001b[1;33m)\u001b[0m\u001b[1;33m\u001b[0m\u001b[1;33m\u001b[0m\u001b[0m\n\u001b[0;32m      5\u001b[0m \u001b[1;33m\u001b[0m\u001b[0m\n\u001b[1;32m----> 6\u001b[1;33m \u001b[1;32mraise\u001b[0m \u001b[0mSubstitutionError\u001b[0m\u001b[1;33m(\u001b[0m\u001b[1;36m3\u001b[0m\u001b[1;33m,\u001b[0m\u001b[1;36m4\u001b[0m\u001b[1;33m)\u001b[0m\u001b[1;33m\u001b[0m\u001b[1;33m\u001b[0m\u001b[0m\n\u001b[0m",
      "\u001b[1;31mSubstitutionError\u001b[0m: Substitution {3/4} is not valid"
     ]
    }
   ],
   "source": [
    "class SubstitutionError(Exception):\n",
    "    def __init__(self, key, item):\n",
    "        message = 'Substitution {%s/%s} is not valid' % (str(key), str(item))\n",
    "        super().__init__(message)\n",
    "        \n",
    "raise SubstitutionError(3,4)"
   ]
  },
  {
   "cell_type": "code",
   "execution_count": 14,
   "id": "b0a97f6c",
   "metadata": {},
   "outputs": [
    {
     "data": {
      "text/plain": [
       "'\\ndirectory = \"aloe\"\\n# iterate over files in\\n# that directory\\nfor filename in os.listdir(directory):\\n    fname = os.path.join(directory, filename)\\n    if os.path.isfile(fname) and fname[-3:]==\".py\":\\n        switch_Function_CompoundTerm(fname)\\n\\n'"
      ]
     },
     "execution_count": 14,
     "metadata": {},
     "output_type": "execute_result"
    }
   ],
   "source": [
    "import os\n",
    "\n",
    "def switch_Function_CompoundTerm(fname):\n",
    "    f = open(fname, 'r')\n",
    "    t = f.read()\n",
    "    f.close()\n",
    "\n",
    "    t = t.replace(\"Function\", \"FFFFF\")\n",
    "    t = t.replace(\"CompoundTerm\", \"Function\")\n",
    "    t = t.replace(\"FFFFF\", \"CompoundTerm\")\n",
    "\n",
    "    f = open(fname, 'w')\n",
    "    f.write(t)\n",
    "    f.close()\n",
    "\n",
    "    \n",
    "    \n",
    "\"\"\"\n",
    "directory = \"aloe\"\n",
    "# iterate over files in\n",
    "# that directory\n",
    "for filename in os.listdir(directory):\n",
    "    fname = os.path.join(directory, filename)\n",
    "    if os.path.isfile(fname) and fname[-3:]==\".py\":\n",
    "        switch_Function_CompoundTerm(fname)\n",
    "\n",
    "\"\"\""
   ]
  },
  {
   "cell_type": "code",
   "execution_count": 3,
   "id": "1667929c",
   "metadata": {},
   "outputs": [],
   "source": [
    "\"\"\"\n",
    "import os\n",
    "directory = \"aloe\"\n",
    "# iterate over files in\n",
    "# that directory\n",
    "for filename in os.listdir(directory):\n",
    "    fname = os.path.join(directory, filename)\n",
    "    if os.path.isfile(fname) and fname[-3:]==\".py\":\n",
    "        f = open(fname, 'r')\n",
    "        t = f.read()\n",
    "        f.close()\n",
    "\n",
    "        t = t.replace(\"ModeHandler\", \"ModeCollection\")\n",
    "\n",
    "        f = open(fname, 'w')\n",
    "        f.write(t)\n",
    "        f.close()        \n",
    "\"\"\""
   ]
  },
  {
   "cell_type": "code",
   "execution_count": 2,
   "id": "68153666",
   "metadata": {},
   "outputs": [],
   "source": [
    "from itertools import chain"
   ]
  },
  {
   "cell_type": "code",
   "execution_count": 3,
   "id": "97e1fc3e",
   "metadata": {},
   "outputs": [
    {
     "name": "stdout",
     "output_type": "stream",
     "text": [
      "Help on class chain in module itertools:\n",
      "\n",
      "class chain(builtins.object)\n",
      " |  chain(*iterables) --> chain object\n",
      " |  \n",
      " |  Return a chain object whose .__next__() method returns elements from the\n",
      " |  first iterable until it is exhausted, then elements from the next\n",
      " |  iterable, until all of the iterables are exhausted.\n",
      " |  \n",
      " |  Methods defined here:\n",
      " |  \n",
      " |  __getattribute__(self, name, /)\n",
      " |      Return getattr(self, name).\n",
      " |  \n",
      " |  __iter__(self, /)\n",
      " |      Implement iter(self).\n",
      " |  \n",
      " |  __next__(self, /)\n",
      " |      Implement next(self).\n",
      " |  \n",
      " |  __reduce__(...)\n",
      " |      Return state information for pickling.\n",
      " |  \n",
      " |  __setstate__(...)\n",
      " |      Set state information for unpickling.\n",
      " |  \n",
      " |  ----------------------------------------------------------------------\n",
      " |  Class methods defined here:\n",
      " |  \n",
      " |  __class_getitem__(...) from builtins.type\n",
      " |      See PEP 585\n",
      " |  \n",
      " |  from_iterable(iterable, /) from builtins.type\n",
      " |      Alternative chain() constructor taking a single iterable argument that evaluates lazily.\n",
      " |  \n",
      " |  ----------------------------------------------------------------------\n",
      " |  Static methods defined here:\n",
      " |  \n",
      " |  __new__(*args, **kwargs) from builtins.type\n",
      " |      Create and return a new object.  See help(type) for accurate signature.\n",
      "\n"
     ]
    }
   ],
   "source": [
    "'a'.capitalize"
   ]
  },
  {
   "cell_type": "code",
   "execution_count": 5,
   "id": "380d58f1",
   "metadata": {},
   "outputs": [
    {
     "data": {
      "text/plain": [
       "[1, 2, 3]"
      ]
     },
     "execution_count": 5,
     "metadata": {},
     "output_type": "execute_result"
    }
   ],
   "source": [
    "class A:\n",
    "    def __init__(self):\n",
    "        self.l = [1,2,3]\n",
    "        \n",
    "    def __iter__(self):\n",
    "        return iter(self.l)\n",
    "    \n",
    "a = A()\n",
    "list(a)"
   ]
  },
  {
   "cell_type": "code",
   "execution_count": 19,
   "id": "de7db07c",
   "metadata": {},
   "outputs": [
    {
     "data": {
      "text/plain": [
       "'Mqkdm'"
      ]
     },
     "execution_count": 19,
     "metadata": {},
     "output_type": "execute_result"
    }
   ],
   "source": [
    "s = 'mqkdm'\n",
    "s.capitalize()"
   ]
  },
  {
   "cell_type": "code",
   "execution_count": 11,
   "id": "c348f1de",
   "metadata": {},
   "outputs": [
    {
     "ename": "SyntaxError",
     "evalue": "unexpected EOF while parsing (Temp/ipykernel_10752/2609936294.py, line 7)",
     "output_type": "error",
     "traceback": [
      "\u001b[1;36m  File \u001b[1;32m\"C:\\Users\\simon\\AppData\\Local\\Temp/ipykernel_10752/2609936294.py\"\u001b[1;36m, line \u001b[1;32m7\u001b[0m\n\u001b[1;33m    next(g)\u001b[0m\n\u001b[1;37m           ^\u001b[0m\n\u001b[1;31mSyntaxError\u001b[0m\u001b[1;31m:\u001b[0m unexpected EOF while parsing\n"
     ]
    }
   ],
   "source": [
    "def fun(x):\n",
    "    if x:\n",
    "        yield x\n",
    "        \n",
    "g = fun(0)\n"
   ]
  },
  {
   "cell_type": "code",
   "execution_count": 16,
   "id": "9cff5312",
   "metadata": {},
   "outputs": [
    {
     "data": {
      "text/plain": [
       "65"
      ]
     },
     "execution_count": 16,
     "metadata": {},
     "output_type": "execute_result"
    }
   ],
   "source": [
    "ord('A')"
   ]
  },
  {
   "cell_type": "code",
   "execution_count": 17,
   "id": "fa8b84e2",
   "metadata": {},
   "outputs": [
    {
     "ename": "TypeError",
     "evalue": "'str' object cannot be interpreted as an integer",
     "output_type": "error",
     "traceback": [
      "\u001b[1;31m---------------------------------------------------------------------------\u001b[0m",
      "\u001b[1;31mTypeError\u001b[0m                                 Traceback (most recent call last)",
      "\u001b[1;32m~\\AppData\\Local\\Temp/ipykernel_14656/3592611689.py\u001b[0m in \u001b[0;36m<module>\u001b[1;34m\u001b[0m\n\u001b[1;32m----> 1\u001b[1;33m \u001b[1;32mfor\u001b[0m \u001b[0ma\u001b[0m \u001b[1;32min\u001b[0m \u001b[0mrange\u001b[0m\u001b[1;33m(\u001b[0m\u001b[1;34m'A'\u001b[0m\u001b[1;33m,\u001b[0m\u001b[1;34m'Z'\u001b[0m\u001b[1;33m)\u001b[0m\u001b[1;33m:\u001b[0m\u001b[1;33m\u001b[0m\u001b[1;33m\u001b[0m\u001b[0m\n\u001b[0m\u001b[0;32m      2\u001b[0m     \u001b[0mprint\u001b[0m\u001b[1;33m(\u001b[0m\u001b[0ma\u001b[0m\u001b[1;33m)\u001b[0m\u001b[1;33m\u001b[0m\u001b[1;33m\u001b[0m\u001b[0m\n",
      "\u001b[1;31mTypeError\u001b[0m: 'str' object cannot be interpreted as an integer"
     ]
    }
   ],
   "source": [
    "for a in range('A','Z'):\n",
    "    print(a)"
   ]
  },
  {
   "cell_type": "code",
   "execution_count": 2,
   "id": "e66834eb",
   "metadata": {},
   "outputs": [
    {
     "data": {
      "text/plain": [
       "6"
      ]
     },
     "execution_count": 2,
     "metadata": {},
     "output_type": "execute_result"
    }
   ],
   "source": [
    "class A:\n",
    "    a = 5\n",
    "    \n",
    "A.a = 6\n",
    "a = A()\n",
    "a.a"
   ]
  },
  {
   "cell_type": "code",
   "execution_count": 6,
   "id": "d9104266",
   "metadata": {},
   "outputs": [
    {
     "name": "stdout",
     "output_type": "stream",
     "text": [
      "\n",
      "parent_of(ada,andrew).\n",
      "parent_of(ada,john).\n",
      "parent_of(ada,robert).\n",
      "parent_of(ada,stephen).\n",
      "parent_of(edith,andrew).\n",
      "parent_of(edith,john).\n",
      "parent_of(edith,robert).\n",
      "parent_of(edith,stephen).\n",
      "parent_of(george,bernard).\n",
      "parent_of(george,cathleen).\n",
      "parent_of(george,daphne).\n",
      "parent_of(george,fred).\n",
      "parent_of(george,louis).\n",
      "parent_of(oscar,andrew).\n",
      "parent_of(oscar,john).\n",
      "parent_of(oscar,robert).\n",
      "parent_of(oscar,stephen).\n",
      "parent_of(paul,bernard).\n",
      "parent_of(paul,cathleen).\n",
      "parent_of(paul,daphne).\n",
      "parent_of(paul,fred).\n",
      "parent_of(paul,louis).\n",
      "parent_of(william,andrew).\n",
      "parent_of(william,john).\n",
      "parent_of(william,robert).\n",
      "parent_of(william,stephen).\n",
      "\n",
      "parent_of(sylvia,ada).\n",
      "parent_of(bernard,edith).\n",
      "parent_of(cathleen,edith).\n",
      "parent_of(daphne,edith).\n",
      "parent_of(fred,edith).\n",
      "parent_of(louis,edith).\n",
      "parent_of(oscar,george).\n",
      "parent_of(andrew,louis).\n",
      "parent_of(john,louis).\n",
      "parent_of(robert,louis).\n",
      "parent_of(stephen,louis).\n",
      "parent_of(bernard,oscar).\n",
      "parent_of(cathleen,oscar).\n",
      "parent_of(daphne,oscar).\n",
      "parent_of(fred,oscar).\n",
      "parent_of(louis,oscar).\n",
      "parent_of(edith,paul).\n",
      "parent_of(andrew,sylvia).\n",
      "parent_of(john,sylvia).\n",
      "parent_of(robert,sylvia).\n",
      "parent_of(stephen,sylvia).\n",
      "parent_of(sylvia,william).\n",
      "grandparent_of(ada,sylvia).\n",
      "\n",
      "grandparent_of(edith,bernard).\n",
      "grandparent_of(edith,cathleen).\n",
      "grandparent_of(edith,daphne).\n",
      "grandparent_of(edith,fred).\n",
      "grandparent_of(edith,louis).\n",
      "grandparent_of(george,oscar).\n",
      "grandparent_of(louis,andrew).\n",
      "grandparent_of(louis,john).\n",
      "grandparent_of(louis,robert).\n",
      "grandparent_of(louis,stephen).\n",
      "grandparent_of(oscar,bernard).\n",
      "grandparent_of(oscar,cathleen).\n",
      "grandparent_of(oscar,daphne).\n",
      "grandparent_of(oscar,fred).\n",
      "grandparent_of(oscar,louis).\n",
      "grandparent_of(paul,edith).\n",
      "grandparent_of(sylvia,andrew).\n",
      "grandparent_of(sylvia,john).\n",
      "grandparent_of(sylvia,robert).\n",
      "grandparent_of(sylvia,stephen).\n",
      "grandparent_of(william,sylvia).\n",
      "\n",
      "grandfather_of(ada,sylvia).\n",
      "grandfather_of(edith,bernard).\n",
      "grandfather_of(edith,cathleen).\n",
      "grandfather_of(edith,daphne).\n",
      "grandfather_of(edith,fred).\n",
      "grandfather_of(edith,louis).\n",
      "grandfather_of(george,oscar).\n",
      "grandfather_of(louis,andrew).\n",
      "grandfather_of(louis,john).\n",
      "grandfather_of(louis,robert).\n",
      "grandfather_of(louis,stephen).\n",
      "grandfather_of(oscar,bernard).\n",
      "grandfather_of(oscar,cathleen).\n",
      "grandfather_of(oscar,daphne).\n",
      "grandfather_of(oscar,fred).\n",
      "grandfather_of(oscar,louis).\n",
      "grandfather_of(paul,edith).\n",
      "grandfather_of(sylvia,andrew).\n",
      "grandfather_of(sylvia,john).\n",
      "grandfather_of(sylvia,robert).\n",
      "grandfather_of(sylvia,stephen).\n",
      "grandfather_of(william,sylvia).\n",
      "\n",
      "grandfather_of(ada,andrew).\n",
      "grandfather_of(ada,john).\n",
      "grandfather_of(ada,robert).\n",
      "grandfather_of(ada,stephen).\n",
      "grandfather_of(edith,andrew).\n",
      "grandfather_of(edith,john).\n",
      "grandfather_of(edith,robert).\n",
      "grandfather_of(edith,stephen).\n",
      "\n",
      "\n"
     ]
    }
   ],
   "source": [
    "s = \"\"\"\n",
    "ada parent_of andrew.\n",
    "ada parent_of john.\n",
    "ada parent_of robert.\n",
    "ada parent_of stephen.\n",
    "edith parent_of andrew.\n",
    "edith parent_of john.\n",
    "edith parent_of robert.\n",
    "edith parent_of stephen.\n",
    "george parent_of bernard.\n",
    "george parent_of cathleen.\n",
    "george parent_of daphne.\n",
    "george parent_of fred.\n",
    "george parent_of louis.\n",
    "oscar parent_of andrew.\n",
    "oscar parent_of john.\n",
    "oscar parent_of robert.\n",
    "oscar parent_of stephen.\n",
    "paul parent_of bernard.\n",
    "paul parent_of cathleen.\n",
    "paul parent_of daphne.\n",
    "paul parent_of fred.\n",
    "paul parent_of louis.\n",
    "william parent_of andrew.\n",
    "william parent_of john.\n",
    "william parent_of robert.\n",
    "william parent_of stephen.\n",
    "\n",
    "sylvia parent_of ada.\n",
    "bernard parent_of edith.\n",
    "cathleen parent_of edith.\n",
    "daphne parent_of edith.\n",
    "fred parent_of edith.\n",
    "louis parent_of edith.\n",
    "oscar parent_of george.\n",
    "andrew parent_of louis.\n",
    "john parent_of louis.\n",
    "robert parent_of louis.\n",
    "stephen parent_of louis.\n",
    "bernard parent_of oscar.\n",
    "cathleen parent_of oscar.\n",
    "daphne parent_of oscar.\n",
    "fred parent_of oscar.\n",
    "louis parent_of oscar.\n",
    "edith parent_of paul.\n",
    "andrew parent_of sylvia.\n",
    "john parent_of sylvia.\n",
    "robert parent_of sylvia.\n",
    "stephen parent_of sylvia.\n",
    "sylvia parent_of william.\n",
    "ada grandparent_of sylvia.\n",
    "\n",
    "edith grandparent_of bernard.\n",
    "edith grandparent_of cathleen.\n",
    "edith grandparent_of daphne.\n",
    "edith grandparent_of fred.\n",
    "edith grandparent_of louis.\n",
    "george grandparent_of oscar.\n",
    "louis grandparent_of andrew.\n",
    "louis grandparent_of john.\n",
    "louis grandparent_of robert.\n",
    "louis grandparent_of stephen.\n",
    "oscar grandparent_of bernard.\n",
    "oscar grandparent_of cathleen.\n",
    "oscar grandparent_of daphne.\n",
    "oscar grandparent_of fred.\n",
    "oscar grandparent_of louis.\n",
    "paul grandparent_of edith.\n",
    "sylvia grandparent_of andrew.\n",
    "sylvia grandparent_of john.\n",
    "sylvia grandparent_of robert.\n",
    "sylvia grandparent_of stephen.\n",
    "william grandparent_of sylvia.\n",
    "\n",
    "ada grandfather_of sylvia.\n",
    "edith grandfather_of bernard.\n",
    "edith grandfather_of cathleen.\n",
    "edith grandfather_of daphne.\n",
    "edith grandfather_of fred.\n",
    "edith grandfather_of louis.\n",
    "george grandfather_of oscar.\n",
    "louis grandfather_of andrew.\n",
    "louis grandfather_of john.\n",
    "louis grandfather_of robert.\n",
    "louis grandfather_of stephen.\n",
    "oscar grandfather_of bernard.\n",
    "oscar grandfather_of cathleen.\n",
    "oscar grandfather_of daphne.\n",
    "oscar grandfather_of fred.\n",
    "oscar grandfather_of louis.\n",
    "paul grandfather_of edith.\n",
    "sylvia grandfather_of andrew.\n",
    "sylvia grandfather_of john.\n",
    "sylvia grandfather_of robert.\n",
    "sylvia grandfather_of stephen.\n",
    "william grandfather_of sylvia.\n",
    "\n",
    "ada grandfather_of andrew.\n",
    "ada grandfather_of john.\n",
    "ada grandfather_of robert.\n",
    "ada grandfather_of stephen.\n",
    "edith grandfather_of andrew.\n",
    "edith grandfather_of john.\n",
    "edith grandfather_of robert.\n",
    "edith grandfather_of stephen.\n",
    "\"\"\"\n",
    "s = s.replace(\".\",\"\")\n",
    "out = ''\n",
    "for line in s.split(\"\\n\"):\n",
    "    if line: \n",
    "        a, p, b, *garbage = line.split(' ')\n",
    "        out += '%s(%s,%s).' % (p, a, b)\n",
    "    out += '\\n'\n",
    "\n",
    "print(out)"
   ]
  },
  {
   "cell_type": "code",
   "execution_count": 3,
   "id": "2463c66d",
   "metadata": {},
   "outputs": [
    {
     "name": "stdout",
     "output_type": "stream",
     "text": [
      "Help on class tuple in module builtins:\n",
      "\n",
      "class tuple(object)\n",
      " |  tuple(iterable=(), /)\n",
      " |  \n",
      " |  Built-in immutable sequence.\n",
      " |  \n",
      " |  If no argument is given, the constructor returns an empty tuple.\n",
      " |  If iterable is specified the tuple is initialized from iterable's items.\n",
      " |  \n",
      " |  If the argument is a tuple, the return value is the same object.\n",
      " |  \n",
      " |  Built-in subclasses:\n",
      " |      asyncgen_hooks\n",
      " |      UnraisableHookArgs\n",
      " |  \n",
      " |  Methods defined here:\n",
      " |  \n",
      " |  __add__(self, value, /)\n",
      " |      Return self+value.\n",
      " |  \n",
      " |  __contains__(self, key, /)\n",
      " |      Return key in self.\n",
      " |  \n",
      " |  __eq__(self, value, /)\n",
      " |      Return self==value.\n",
      " |  \n",
      " |  __ge__(self, value, /)\n",
      " |      Return self>=value.\n",
      " |  \n",
      " |  __getattribute__(self, name, /)\n",
      " |      Return getattr(self, name).\n",
      " |  \n",
      " |  __getitem__(self, key, /)\n",
      " |      Return self[key].\n",
      " |  \n",
      " |  __getnewargs__(self, /)\n",
      " |  \n",
      " |  __gt__(self, value, /)\n",
      " |      Return self>value.\n",
      " |  \n",
      " |  __hash__(self, /)\n",
      " |      Return hash(self).\n",
      " |  \n",
      " |  __iter__(self, /)\n",
      " |      Implement iter(self).\n",
      " |  \n",
      " |  __le__(self, value, /)\n",
      " |      Return self<=value.\n",
      " |  \n",
      " |  __len__(self, /)\n",
      " |      Return len(self).\n",
      " |  \n",
      " |  __lt__(self, value, /)\n",
      " |      Return self<value.\n",
      " |  \n",
      " |  __mul__(self, value, /)\n",
      " |      Return self*value.\n",
      " |  \n",
      " |  __ne__(self, value, /)\n",
      " |      Return self!=value.\n",
      " |  \n",
      " |  __repr__(self, /)\n",
      " |      Return repr(self).\n",
      " |  \n",
      " |  __rmul__(self, value, /)\n",
      " |      Return value*self.\n",
      " |  \n",
      " |  count(self, value, /)\n",
      " |      Return number of occurrences of value.\n",
      " |  \n",
      " |  index(self, value, start=0, stop=9223372036854775807, /)\n",
      " |      Return first index of value.\n",
      " |      \n",
      " |      Raises ValueError if the value is not present.\n",
      " |  \n",
      " |  ----------------------------------------------------------------------\n",
      " |  Class methods defined here:\n",
      " |  \n",
      " |  __class_getitem__(...) from builtins.type\n",
      " |      See PEP 585\n",
      " |  \n",
      " |  ----------------------------------------------------------------------\n",
      " |  Static methods defined here:\n",
      " |  \n",
      " |  __new__(*args, **kwargs) from builtins.type\n",
      " |      Create and return a new object.  See help(type) for accurate signature.\n",
      "\n"
     ]
    }
   ],
   "source": [
    "help(tuple)"
   ]
  },
  {
   "cell_type": "code",
   "execution_count": 5,
   "id": "7603f4a5",
   "metadata": {},
   "outputs": [
    {
     "data": {
      "text/plain": [
       "0.0"
      ]
     },
     "execution_count": 5,
     "metadata": {},
     "output_type": "execute_result"
    }
   ],
   "source": [
    "from aloe.utils import generate_variable_names\n",
    "t0 = time.time()\n",
    "generate_variable_names()\n",
    "time.time()-t0"
   ]
  },
  {
   "cell_type": "code",
   "execution_count": 4,
   "id": "aa482aaf",
   "metadata": {},
   "outputs": [
    {
     "name": "stdout",
     "output_type": "stream",
     "text": [
      "Help on class list in module builtins:\n",
      "\n",
      "class list(object)\n",
      " |  list(iterable=(), /)\n",
      " |  \n",
      " |  Built-in mutable sequence.\n",
      " |  \n",
      " |  If no argument is given, the constructor creates a new empty list.\n",
      " |  The argument must be an iterable if specified.\n",
      " |  \n",
      " |  Methods defined here:\n",
      " |  \n",
      " |  __add__(self, value, /)\n",
      " |      Return self+value.\n",
      " |  \n",
      " |  __contains__(self, key, /)\n",
      " |      Return key in self.\n",
      " |  \n",
      " |  __delitem__(self, key, /)\n",
      " |      Delete self[key].\n",
      " |  \n",
      " |  __eq__(self, value, /)\n",
      " |      Return self==value.\n",
      " |  \n",
      " |  __ge__(self, value, /)\n",
      " |      Return self>=value.\n",
      " |  \n",
      " |  __getattribute__(self, name, /)\n",
      " |      Return getattr(self, name).\n",
      " |  \n",
      " |  __getitem__(...)\n",
      " |      x.__getitem__(y) <==> x[y]\n",
      " |  \n",
      " |  __gt__(self, value, /)\n",
      " |      Return self>value.\n",
      " |  \n",
      " |  __iadd__(self, value, /)\n",
      " |      Implement self+=value.\n",
      " |  \n",
      " |  __imul__(self, value, /)\n",
      " |      Implement self*=value.\n",
      " |  \n",
      " |  __init__(self, /, *args, **kwargs)\n",
      " |      Initialize self.  See help(type(self)) for accurate signature.\n",
      " |  \n",
      " |  __iter__(self, /)\n",
      " |      Implement iter(self).\n",
      " |  \n",
      " |  __le__(self, value, /)\n",
      " |      Return self<=value.\n",
      " |  \n",
      " |  __len__(self, /)\n",
      " |      Return len(self).\n",
      " |  \n",
      " |  __lt__(self, value, /)\n",
      " |      Return self<value.\n",
      " |  \n",
      " |  __mul__(self, value, /)\n",
      " |      Return self*value.\n",
      " |  \n",
      " |  __ne__(self, value, /)\n",
      " |      Return self!=value.\n",
      " |  \n",
      " |  __repr__(self, /)\n",
      " |      Return repr(self).\n",
      " |  \n",
      " |  __reversed__(self, /)\n",
      " |      Return a reverse iterator over the list.\n",
      " |  \n",
      " |  __rmul__(self, value, /)\n",
      " |      Return value*self.\n",
      " |  \n",
      " |  __setitem__(self, key, value, /)\n",
      " |      Set self[key] to value.\n",
      " |  \n",
      " |  __sizeof__(self, /)\n",
      " |      Return the size of the list in memory, in bytes.\n",
      " |  \n",
      " |  append(self, object, /)\n",
      " |      Append object to the end of the list.\n",
      " |  \n",
      " |  clear(self, /)\n",
      " |      Remove all items from list.\n",
      " |  \n",
      " |  copy(self, /)\n",
      " |      Return a shallow copy of the list.\n",
      " |  \n",
      " |  count(self, value, /)\n",
      " |      Return number of occurrences of value.\n",
      " |  \n",
      " |  extend(self, iterable, /)\n",
      " |      Extend list by appending elements from the iterable.\n",
      " |  \n",
      " |  index(self, value, start=0, stop=9223372036854775807, /)\n",
      " |      Return first index of value.\n",
      " |      \n",
      " |      Raises ValueError if the value is not present.\n",
      " |  \n",
      " |  insert(self, index, object, /)\n",
      " |      Insert object before index.\n",
      " |  \n",
      " |  pop(self, index=-1, /)\n",
      " |      Remove and return item at index (default last).\n",
      " |      \n",
      " |      Raises IndexError if list is empty or index is out of range.\n",
      " |  \n",
      " |  remove(self, value, /)\n",
      " |      Remove first occurrence of value.\n",
      " |      \n",
      " |      Raises ValueError if the value is not present.\n",
      " |  \n",
      " |  reverse(self, /)\n",
      " |      Reverse *IN PLACE*.\n",
      " |  \n",
      " |  sort(self, /, *, key=None, reverse=False)\n",
      " |      Sort the list in ascending order and return None.\n",
      " |      \n",
      " |      The sort is in-place (i.e. the list itself is modified) and stable (i.e. the\n",
      " |      order of two equal elements is maintained).\n",
      " |      \n",
      " |      If a key function is given, apply it once to each list item and sort them,\n",
      " |      ascending or descending, according to their function values.\n",
      " |      \n",
      " |      The reverse flag can be set to sort in descending order.\n",
      " |  \n",
      " |  ----------------------------------------------------------------------\n",
      " |  Class methods defined here:\n",
      " |  \n",
      " |  __class_getitem__(...) from builtins.type\n",
      " |      See PEP 585\n",
      " |  \n",
      " |  ----------------------------------------------------------------------\n",
      " |  Static methods defined here:\n",
      " |  \n",
      " |  __new__(*args, **kwargs) from builtins.type\n",
      " |      Create and return a new object.  See help(type) for accurate signature.\n",
      " |  \n",
      " |  ----------------------------------------------------------------------\n",
      " |  Data and other attributes defined here:\n",
      " |  \n",
      " |  __hash__ = None\n",
      "\n"
     ]
    }
   ],
   "source": [
    "help(list)"
   ]
  },
  {
   "cell_type": "code",
   "execution_count": 1,
   "id": "5e66e79d",
   "metadata": {},
   "outputs": [
    {
     "name": "stdout",
     "output_type": "stream",
     "text": [
      "5\n",
      "6\n"
     ]
    }
   ],
   "source": [
    "class A:\n",
    "    def __init__(self):\n",
    "        self.a = 3\n",
    "        self.b = 4\n",
    "    def fun(self,c):\n",
    "        self.c = c\n",
    "        \n",
    "a = A()\n",
    "t = a.fun\n",
    "t(5)\n",
    "print(a.c)\n",
    "t(6)\n",
    "print(a.c)"
   ]
  },
  {
   "cell_type": "code",
   "execution_count": 3,
   "id": "12744257",
   "metadata": {},
   "outputs": [
    {
     "data": {
      "text/plain": [
       "1"
      ]
     },
     "execution_count": 3,
     "metadata": {},
     "output_type": "execute_result"
    }
   ],
   "source": [
    "class Inf(int):\n",
    "    def __init__(self)\n",
    "\n",
    "a = A(1)\n",
    "a"
   ]
  },
  {
   "cell_type": "code",
   "execution_count": 10,
   "id": "3b91f6c6",
   "metadata": {},
   "outputs": [
    {
     "data": {
      "text/plain": [
       "list"
      ]
     },
     "execution_count": 10,
     "metadata": {},
     "output_type": "execute_result"
    }
   ],
   "source": [
    "class A(list):\n",
    "    pass\n",
    "\n",
    "b = A((1,))\n",
    "a = A((1,)) + A((3,4)) \n",
    "a.__class__"
   ]
  },
  {
   "cell_type": "code",
   "execution_count": null,
   "id": "2bb785ef",
   "metadata": {},
   "outputs": [],
   "source": []
  }
 ],
 "metadata": {
  "kernelspec": {
   "display_name": "Python 3 (ipykernel)",
   "language": "python",
   "name": "python3"
  },
  "language_info": {
   "codemirror_mode": {
    "name": "ipython",
    "version": 3
   },
   "file_extension": ".py",
   "mimetype": "text/x-python",
   "name": "python",
   "nbconvert_exporter": "python",
   "pygments_lexer": "ipython3",
   "version": "3.9.7"
  }
 },
 "nbformat": 4,
 "nbformat_minor": 5
}
