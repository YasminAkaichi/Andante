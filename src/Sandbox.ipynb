{
 "cells": [
  {
   "cell_type": "code",
   "execution_count": 1,
   "id": "7bae3d54",
   "metadata": {},
   "outputs": [
    {
     "name": "stderr",
     "output_type": "stream",
     "text": [
      "WARNING: jsonrpcserver 4.2.0 does not provide the extra 'requests'\n"
     ]
    },
    {
     "name": "stdout",
     "output_type": "stream",
     "text": [
      "Collecting jupyter_ascending\n",
      "  Using cached jupyter_ascending-0.1.23-py3-none-any.whl (53 kB)\n",
      "Collecting jsonrpcclient[requests]<4.0.0,>=3.3.5\n",
      "  Using cached jsonrpcclient-3.3.6-py3-none-any.whl\n",
      "Collecting jupytext<2.0.0,>=1.3.4\n",
      "  Using cached jupytext-1.14.0-py3-none-any.whl (297 kB)\n",
      "Collecting loguru>=0.4.1\n",
      "  Using cached loguru-0.6.0-py3-none-any.whl (58 kB)\n",
      "Collecting jsonrpcserver[requests]<5.0.0,>=4.1.2\n",
      "  Using cached jsonrpcserver-4.2.0-py3-none-any.whl\n",
      "Collecting edlib<2.0.0,>=1.3.8\n",
      "  Using cached edlib-1.3.9.tar.gz (91 kB)\n",
      "  Preparing metadata (setup.py): started\n",
      "  Preparing metadata (setup.py): finished with status 'done'\n",
      "Requirement already satisfied: attrs>=19.0.0 in c:\\users\\sijacque\\anaconda3\\lib\\site-packages (from jupyter_ascending) (21.2.0)\n",
      "Requirement already satisfied: ipywidgets<8.0.0,>=7.5.1 in c:\\users\\sijacque\\anaconda3\\lib\\site-packages (from jupyter_ascending) (7.6.5)\n",
      "Requirement already satisfied: toml>=0.10.0 in c:\\users\\sijacque\\anaconda3\\lib\\site-packages (from jupyter_ascending) (0.10.2)\n",
      "Requirement already satisfied: ipykernel>=4.5.1 in c:\\users\\sijacque\\anaconda3\\lib\\site-packages (from ipywidgets<8.0.0,>=7.5.1->jupyter_ascending) (6.4.1)\n",
      "Requirement already satisfied: traitlets>=4.3.1 in c:\\users\\sijacque\\anaconda3\\lib\\site-packages (from ipywidgets<8.0.0,>=7.5.1->jupyter_ascending) (5.3.0)\n",
      "Requirement already satisfied: widgetsnbextension~=3.5.0 in c:\\users\\sijacque\\anaconda3\\lib\\site-packages (from ipywidgets<8.0.0,>=7.5.1->jupyter_ascending) (3.5.1)\n",
      "Requirement already satisfied: ipython-genutils~=0.2.0 in c:\\users\\sijacque\\anaconda3\\lib\\site-packages (from ipywidgets<8.0.0,>=7.5.1->jupyter_ascending) (0.2.0)\n",
      "Requirement already satisfied: ipython>=4.0.0 in c:\\users\\sijacque\\anaconda3\\lib\\site-packages (from ipywidgets<8.0.0,>=7.5.1->jupyter_ascending) (7.29.0)\n",
      "Requirement already satisfied: jupyterlab-widgets>=1.0.0 in c:\\users\\sijacque\\anaconda3\\lib\\site-packages (from ipywidgets<8.0.0,>=7.5.1->jupyter_ascending) (1.0.0)\n",
      "Requirement already satisfied: nbformat>=4.2.0 in c:\\users\\sijacque\\anaconda3\\lib\\site-packages (from ipywidgets<8.0.0,>=7.5.1->jupyter_ascending) (5.1.3)\n",
      "Requirement already satisfied: jsonschema<4 in c:\\users\\sijacque\\anaconda3\\lib\\site-packages (from jsonrpcclient[requests]<4.0.0,>=3.3.5->jupyter_ascending) (3.2.0)\n",
      "Collecting click<8\n",
      "  Using cached click-7.1.2-py2.py3-none-any.whl (82 kB)\n",
      "Collecting apply-defaults<1\n",
      "  Using cached apply_defaults-0.1.6-py3-none-any.whl\n",
      "Requirement already satisfied: requests in c:\\users\\sijacque\\anaconda3\\lib\\site-packages (from jsonrpcclient[requests]<4.0.0,>=3.3.5->jupyter_ascending) (2.26.0)\n",
      "Requirement already satisfied: pyyaml in c:\\users\\sijacque\\anaconda3\\lib\\site-packages (from jupytext<2.0.0,>=1.3.4->jupyter_ascending) (6.0)\n",
      "Collecting markdown-it-py<3.0.0,>=1.0.0\n",
      "  Using cached markdown_it_py-2.1.0-py3-none-any.whl (84 kB)\n",
      "Collecting mdit-py-plugins\n",
      "  Using cached mdit_py_plugins-0.3.0-py3-none-any.whl (43 kB)\n",
      "Collecting win32-setctime>=1.0.0\n",
      "  Using cached win32_setctime-1.1.0-py3-none-any.whl (3.6 kB)\n",
      "Requirement already satisfied: colorama>=0.3.4 in c:\\users\\sijacque\\anaconda3\\lib\\site-packages (from loguru>=0.4.1->jupyter_ascending) (0.4.4)\n",
      "Requirement already satisfied: tornado<7.0,>=4.2 in c:\\users\\sijacque\\anaconda3\\lib\\site-packages (from ipykernel>=4.5.1->ipywidgets<8.0.0,>=7.5.1->jupyter_ascending) (6.1)\n",
      "Requirement already satisfied: jupyter-client<8.0 in c:\\users\\sijacque\\anaconda3\\lib\\site-packages (from ipykernel>=4.5.1->ipywidgets<8.0.0,>=7.5.1->jupyter_ascending) (6.1.12)\n",
      "Requirement already satisfied: matplotlib-inline<0.2.0,>=0.1.0 in c:\\users\\sijacque\\anaconda3\\lib\\site-packages (from ipykernel>=4.5.1->ipywidgets<8.0.0,>=7.5.1->jupyter_ascending) (0.1.2)\n",
      "Requirement already satisfied: debugpy<2.0,>=1.0.0 in c:\\users\\sijacque\\anaconda3\\lib\\site-packages (from ipykernel>=4.5.1->ipywidgets<8.0.0,>=7.5.1->jupyter_ascending) (1.4.1)\n",
      "Requirement already satisfied: setuptools>=18.5 in c:\\users\\sijacque\\anaconda3\\lib\\site-packages (from ipython>=4.0.0->ipywidgets<8.0.0,>=7.5.1->jupyter_ascending) (58.0.4)\n",
      "Requirement already satisfied: pygments in c:\\users\\sijacque\\anaconda3\\lib\\site-packages (from ipython>=4.0.0->ipywidgets<8.0.0,>=7.5.1->jupyter_ascending) (2.10.0)\n",
      "Requirement already satisfied: decorator in c:\\users\\sijacque\\anaconda3\\lib\\site-packages (from ipython>=4.0.0->ipywidgets<8.0.0,>=7.5.1->jupyter_ascending) (5.1.0)\n",
      "Requirement already satisfied: jedi>=0.16 in c:\\users\\sijacque\\anaconda3\\lib\\site-packages (from ipython>=4.0.0->ipywidgets<8.0.0,>=7.5.1->jupyter_ascending) (0.18.0)\n",
      "Requirement already satisfied: prompt-toolkit!=3.0.0,!=3.0.1,<3.1.0,>=2.0.0 in c:\\users\\sijacque\\anaconda3\\lib\\site-packages (from ipython>=4.0.0->ipywidgets<8.0.0,>=7.5.1->jupyter_ascending) (3.0.20)\n",
      "Requirement already satisfied: pickleshare in c:\\users\\sijacque\\anaconda3\\lib\\site-packages (from ipython>=4.0.0->ipywidgets<8.0.0,>=7.5.1->jupyter_ascending) (0.7.5)\n",
      "Requirement already satisfied: backcall in c:\\users\\sijacque\\anaconda3\\lib\\site-packages (from ipython>=4.0.0->ipywidgets<8.0.0,>=7.5.1->jupyter_ascending) (0.2.0)\n",
      "Requirement already satisfied: pyrsistent>=0.14.0 in c:\\users\\sijacque\\anaconda3\\lib\\site-packages (from jsonschema<4->jsonrpcclient[requests]<4.0.0,>=3.3.5->jupyter_ascending) (0.18.0)\n",
      "Requirement already satisfied: six>=1.11.0 in c:\\users\\sijacque\\anaconda3\\lib\\site-packages (from jsonschema<4->jsonrpcclient[requests]<4.0.0,>=3.3.5->jupyter_ascending) (1.16.0)\n",
      "Collecting mdurl~=0.1\n",
      "  Using cached mdurl-0.1.1-py3-none-any.whl (10 kB)\n",
      "Requirement already satisfied: jupyter-core in c:\\users\\sijacque\\anaconda3\\lib\\site-packages (from nbformat>=4.2.0->ipywidgets<8.0.0,>=7.5.1->jupyter_ascending) (4.8.1)\n",
      "Requirement already satisfied: notebook>=4.4.1 in c:\\users\\sijacque\\anaconda3\\lib\\site-packages (from widgetsnbextension~=3.5.0->ipywidgets<8.0.0,>=7.5.1->jupyter_ascending) (6.4.5)\n",
      "Requirement already satisfied: charset-normalizer~=2.0.0 in c:\\users\\sijacque\\anaconda3\\lib\\site-packages (from requests->jsonrpcclient[requests]<4.0.0,>=3.3.5->jupyter_ascending) (2.0.4)\n",
      "Requirement already satisfied: urllib3<1.27,>=1.21.1 in c:\\users\\sijacque\\anaconda3\\lib\\site-packages (from requests->jsonrpcclient[requests]<4.0.0,>=3.3.5->jupyter_ascending) (1.26.7)\n",
      "Requirement already satisfied: certifi>=2017.4.17 in c:\\users\\sijacque\\anaconda3\\lib\\site-packages (from requests->jsonrpcclient[requests]<4.0.0,>=3.3.5->jupyter_ascending) (2021.10.8)\n",
      "Requirement already satisfied: idna<4,>=2.5 in c:\\users\\sijacque\\anaconda3\\lib\\site-packages (from requests->jsonrpcclient[requests]<4.0.0,>=3.3.5->jupyter_ascending) (3.2)\n",
      "Requirement already satisfied: parso<0.9.0,>=0.8.0 in c:\\users\\sijacque\\anaconda3\\lib\\site-packages (from jedi>=0.16->ipython>=4.0.0->ipywidgets<8.0.0,>=7.5.1->jupyter_ascending) (0.8.2)\n",
      "Requirement already satisfied: python-dateutil>=2.1 in c:\\users\\sijacque\\anaconda3\\lib\\site-packages (from jupyter-client<8.0->ipykernel>=4.5.1->ipywidgets<8.0.0,>=7.5.1->jupyter_ascending) (2.8.2)\n",
      "Requirement already satisfied: pyzmq>=13 in c:\\users\\sijacque\\anaconda3\\lib\\site-packages (from jupyter-client<8.0->ipykernel>=4.5.1->ipywidgets<8.0.0,>=7.5.1->jupyter_ascending) (22.2.1)\n",
      "Requirement already satisfied: pywin32>=1.0 in c:\\users\\sijacque\\anaconda3\\lib\\site-packages (from jupyter-core->nbformat>=4.2.0->ipywidgets<8.0.0,>=7.5.1->jupyter_ascending) (228)\n",
      "Requirement already satisfied: terminado>=0.8.3 in c:\\users\\sijacque\\anaconda3\\lib\\site-packages (from notebook>=4.4.1->widgetsnbextension~=3.5.0->ipywidgets<8.0.0,>=7.5.1->jupyter_ascending) (0.9.4)\n",
      "Requirement already satisfied: prometheus-client in c:\\users\\sijacque\\anaconda3\\lib\\site-packages (from notebook>=4.4.1->widgetsnbextension~=3.5.0->ipywidgets<8.0.0,>=7.5.1->jupyter_ascending) (0.11.0)\n",
      "Requirement already satisfied: nbconvert in c:\\users\\sijacque\\anaconda3\\lib\\site-packages (from notebook>=4.4.1->widgetsnbextension~=3.5.0->ipywidgets<8.0.0,>=7.5.1->jupyter_ascending) (6.1.0)\n",
      "Requirement already satisfied: jinja2 in c:\\users\\sijacque\\anaconda3\\lib\\site-packages (from notebook>=4.4.1->widgetsnbextension~=3.5.0->ipywidgets<8.0.0,>=7.5.1->jupyter_ascending) (2.11.3)\n",
      "Requirement already satisfied: Send2Trash>=1.5.0 in c:\\users\\sijacque\\anaconda3\\lib\\site-packages (from notebook>=4.4.1->widgetsnbextension~=3.5.0->ipywidgets<8.0.0,>=7.5.1->jupyter_ascending) (1.8.0)\n",
      "Requirement already satisfied: argon2-cffi in c:\\users\\sijacque\\anaconda3\\lib\\site-packages (from notebook>=4.4.1->widgetsnbextension~=3.5.0->ipywidgets<8.0.0,>=7.5.1->jupyter_ascending) (20.1.0)\n",
      "Requirement already satisfied: wcwidth in c:\\users\\sijacque\\anaconda3\\lib\\site-packages (from prompt-toolkit!=3.0.0,!=3.0.1,<3.1.0,>=2.0.0->ipython>=4.0.0->ipywidgets<8.0.0,>=7.5.1->jupyter_ascending) (0.2.5)\n",
      "Requirement already satisfied: pywinpty>=0.5 in c:\\users\\sijacque\\anaconda3\\lib\\site-packages (from terminado>=0.8.3->notebook>=4.4.1->widgetsnbextension~=3.5.0->ipywidgets<8.0.0,>=7.5.1->jupyter_ascending) (0.5.7)\n",
      "Requirement already satisfied: cffi>=1.0.0 in c:\\users\\sijacque\\anaconda3\\lib\\site-packages (from argon2-cffi->notebook>=4.4.1->widgetsnbextension~=3.5.0->ipywidgets<8.0.0,>=7.5.1->jupyter_ascending) (1.14.6)\n",
      "Requirement already satisfied: MarkupSafe>=0.23 in c:\\users\\sijacque\\anaconda3\\lib\\site-packages (from jinja2->notebook>=4.4.1->widgetsnbextension~=3.5.0->ipywidgets<8.0.0,>=7.5.1->jupyter_ascending) (1.1.1)\n",
      "Requirement already satisfied: pandocfilters>=1.4.1 in c:\\users\\sijacque\\anaconda3\\lib\\site-packages (from nbconvert->notebook>=4.4.1->widgetsnbextension~=3.5.0->ipywidgets<8.0.0,>=7.5.1->jupyter_ascending) (1.4.3)\n",
      "Requirement already satisfied: jupyterlab-pygments in c:\\users\\sijacque\\anaconda3\\lib\\site-packages (from nbconvert->notebook>=4.4.1->widgetsnbextension~=3.5.0->ipywidgets<8.0.0,>=7.5.1->jupyter_ascending) (0.1.2)\n",
      "Requirement already satisfied: bleach in c:\\users\\sijacque\\anaconda3\\lib\\site-packages (from nbconvert->notebook>=4.4.1->widgetsnbextension~=3.5.0->ipywidgets<8.0.0,>=7.5.1->jupyter_ascending) (4.0.0)\n",
      "Requirement already satisfied: mistune<2,>=0.8.1 in c:\\users\\sijacque\\anaconda3\\lib\\site-packages (from nbconvert->notebook>=4.4.1->widgetsnbextension~=3.5.0->ipywidgets<8.0.0,>=7.5.1->jupyter_ascending) (0.8.4)\n",
      "Requirement already satisfied: entrypoints>=0.2.2 in c:\\users\\sijacque\\anaconda3\\lib\\site-packages (from nbconvert->notebook>=4.4.1->widgetsnbextension~=3.5.0->ipywidgets<8.0.0,>=7.5.1->jupyter_ascending) (0.3)\n",
      "Requirement already satisfied: defusedxml in c:\\users\\sijacque\\anaconda3\\lib\\site-packages (from nbconvert->notebook>=4.4.1->widgetsnbextension~=3.5.0->ipywidgets<8.0.0,>=7.5.1->jupyter_ascending) (0.7.1)\n",
      "Requirement already satisfied: nbclient<0.6.0,>=0.5.0 in c:\\users\\sijacque\\anaconda3\\lib\\site-packages (from nbconvert->notebook>=4.4.1->widgetsnbextension~=3.5.0->ipywidgets<8.0.0,>=7.5.1->jupyter_ascending) (0.5.3)\n",
      "Requirement already satisfied: testpath in c:\\users\\sijacque\\anaconda3\\lib\\site-packages (from nbconvert->notebook>=4.4.1->widgetsnbextension~=3.5.0->ipywidgets<8.0.0,>=7.5.1->jupyter_ascending) (0.5.0)\n",
      "Requirement already satisfied: pycparser in c:\\users\\sijacque\\anaconda3\\lib\\site-packages (from cffi>=1.0.0->argon2-cffi->notebook>=4.4.1->widgetsnbextension~=3.5.0->ipywidgets<8.0.0,>=7.5.1->jupyter_ascending) (2.20)\n",
      "Requirement already satisfied: nest-asyncio in c:\\users\\sijacque\\anaconda3\\lib\\site-packages (from nbclient<0.6.0,>=0.5.0->nbconvert->notebook>=4.4.1->widgetsnbextension~=3.5.0->ipywidgets<8.0.0,>=7.5.1->jupyter_ascending) (1.5.1)\n",
      "Requirement already satisfied: async-generator in c:\\users\\sijacque\\anaconda3\\lib\\site-packages (from nbclient<0.6.0,>=0.5.0->nbconvert->notebook>=4.4.1->widgetsnbextension~=3.5.0->ipywidgets<8.0.0,>=7.5.1->jupyter_ascending) (1.10)\n",
      "Requirement already satisfied: packaging in c:\\users\\sijacque\\anaconda3\\lib\\site-packages (from bleach->nbconvert->notebook>=4.4.1->widgetsnbextension~=3.5.0->ipywidgets<8.0.0,>=7.5.1->jupyter_ascending) (21.0)\n",
      "Requirement already satisfied: webencodings in c:\\users\\sijacque\\anaconda3\\lib\\site-packages (from bleach->nbconvert->notebook>=4.4.1->widgetsnbextension~=3.5.0->ipywidgets<8.0.0,>=7.5.1->jupyter_ascending) (0.5.1)\n",
      "Requirement already satisfied: pyparsing>=2.0.2 in c:\\users\\sijacque\\anaconda3\\lib\\site-packages (from packaging->bleach->nbconvert->notebook>=4.4.1->widgetsnbextension~=3.5.0->ipywidgets<8.0.0,>=7.5.1->jupyter_ascending) (3.0.4)\n",
      "Building wheels for collected packages: edlib\n",
      "  Building wheel for edlib (setup.py): started\n",
      "  Building wheel for edlib (setup.py): finished with status 'error'\n",
      "  Running setup.py clean for edlib\n",
      "Failed to build edlib\n",
      "Installing collected packages: edlib, apply-defaults, win32-setctime, mdurl, click, markdown-it-py, loguru, jsonrpcserver, jsonrpcclient, mdit-py-plugins, jupytext, jupyter_ascending\n",
      "  Running setup.py install for edlib: started\n",
      "  Running setup.py install for edlib: finished with status 'error'\n"
     ]
    },
    {
     "name": "stderr",
     "output_type": "stream",
     "text": [
      "  error: subprocess-exited-with-error\n",
      "  \n",
      "  python setup.py bdist_wheel did not run successfully.\n",
      "  exit code: 1\n",
      "  \n",
      "  [5 lines of output]\n",
      "  running bdist_wheel\n",
      "  running build\n",
      "  running build_ext\n",
      "  building 'edlib' extension\n",
      "  error: Microsoft Visual C++ 14.0 or greater is required. Get it with \"Microsoft C++ Build Tools\": https://visualstudio.microsoft.com/visual-cpp-build-tools/\n",
      "  [end of output]\n",
      "  \n",
      "  note: This error originates from a subprocess, and is likely not a problem with pip.\n",
      "  ERROR: Failed building wheel for edlib\n",
      "  error: subprocess-exited-with-error\n",
      "  \n",
      "  Running setup.py install for edlib did not run successfully.\n",
      "  exit code: 1\n",
      "  \n",
      "  [5 lines of output]\n",
      "  running install\n",
      "  running build\n",
      "  running build_ext\n",
      "  building 'edlib' extension\n",
      "  error: Microsoft Visual C++ 14.0 or greater is required. Get it with \"Microsoft C++ Build Tools\": https://visualstudio.microsoft.com/visual-cpp-build-tools/\n",
      "  [end of output]\n",
      "  \n",
      "  note: This error originates from a subprocess, and is likely not a problem with pip.\n",
      "error: legacy-install-failure\n",
      "\n",
      "Encountered error while trying to install package.\n",
      "\n",
      "edlib\n",
      "\n",
      "note: This is an issue with the package mentioned above, not pip.\n",
      "hint: See above for output from the failure.\n"
     ]
    }
   ],
   "source": [
    "!pip3 install jupyter_ascending"
   ]
  },
  {
   "cell_type": "code",
   "execution_count": 5,
   "id": "495a076e",
   "metadata": {},
   "outputs": [],
   "source": [
    "class A:\n",
    "    def __init__(self, value):\n",
    "        self.value = value\n",
    "    def __hash__(self):\n",
    "        return hash(str(self))\n",
    "    def __str__(self):\n",
    "        return str(self.value)\n",
    "    def __eq__(self, other):\n",
    "        return str(self) == str(other)"
   ]
  },
  {
   "cell_type": "code",
   "execution_count": 8,
   "id": "1cdc718d",
   "metadata": {},
   "outputs": [
    {
     "ename": "TypeError",
     "evalue": "'set' object is not subscriptable",
     "output_type": "error",
     "traceback": [
      "\u001b[1;31m---------------------------------------------------------------------------\u001b[0m",
      "\u001b[1;31mTypeError\u001b[0m                                 Traceback (most recent call last)",
      "\u001b[1;32m~\\AppData\\Local\\Temp/ipykernel_20368/1866990608.py\u001b[0m in \u001b[0;36m<module>\u001b[1;34m\u001b[0m\n\u001b[0;32m      4\u001b[0m \u001b[0ms\u001b[0m \u001b[1;33m=\u001b[0m \u001b[1;33m{\u001b[0m\u001b[0ma\u001b[0m\u001b[1;33m}\u001b[0m\u001b[1;33m\u001b[0m\u001b[1;33m\u001b[0m\u001b[0m\n\u001b[0;32m      5\u001b[0m \u001b[1;33m\u001b[0m\u001b[0m\n\u001b[1;32m----> 6\u001b[1;33m \u001b[0ms\u001b[0m\u001b[1;33m[\u001b[0m\u001b[0mb\u001b[0m\u001b[1;33m]\u001b[0m\u001b[1;33m\u001b[0m\u001b[1;33m\u001b[0m\u001b[0m\n\u001b[0m",
      "\u001b[1;31mTypeError\u001b[0m: 'set' object is not subscriptable"
     ]
    }
   ],
   "source": [
    "a = A('g')\n",
    "b = 'g'\n",
    "\n",
    "s = {a}\n",
    "\n"
   ]
  },
  {
   "cell_type": "code",
   "execution_count": 10,
   "id": "11486dcd",
   "metadata": {},
   "outputs": [
    {
     "ename": "TypeError",
     "evalue": "'type' object is not iterable",
     "output_type": "error",
     "traceback": [
      "\u001b[1;31m---------------------------------------------------------------------------\u001b[0m",
      "\u001b[1;31mTypeError\u001b[0m                                 Traceback (most recent call last)",
      "\u001b[1;32m~\\AppData\\Local\\Temp/ipykernel_20368/1496145328.py\u001b[0m in \u001b[0;36m<module>\u001b[1;34m\u001b[0m\n\u001b[0;32m      2\u001b[0m     \u001b[1;32mpass\u001b[0m\u001b[1;33m\u001b[0m\u001b[1;33m\u001b[0m\u001b[0m\n\u001b[0;32m      3\u001b[0m \u001b[1;33m\u001b[0m\u001b[0m\n\u001b[1;32m----> 4\u001b[1;33m \u001b[0ms\u001b[0m \u001b[1;33m=\u001b[0m \u001b[0mset\u001b[0m\u001b[1;33m(\u001b[0m\u001b[0mA\u001b[0m\u001b[1;33m)\u001b[0m\u001b[1;33m\u001b[0m\u001b[1;33m\u001b[0m\u001b[0m\n\u001b[0m\u001b[0;32m      5\u001b[0m \u001b[0mB\u001b[0m \u001b[1;32min\u001b[0m \u001b[0ms\u001b[0m\u001b[1;33m\u001b[0m\u001b[1;33m\u001b[0m\u001b[0m\n",
      "\u001b[1;31mTypeError\u001b[0m: 'type' object is not iterable"
     ]
    }
   ],
   "source": [
    "class B(A):\n",
    "    pass\n",
    "\n",
    "s = set(A)\n",
    "B in s\n"
   ]
  },
  {
   "cell_type": "code",
   "execution_count": 1,
   "id": "8f70f2c3",
   "metadata": {},
   "outputs": [],
   "source": [
    "from aloe.parser import Parser\n",
    "ap = Parser()\n",
    "def unification(t1, t2):\n",
    "    x1 = ap.parse(t1, rule = 'list')\n",
    "    x2 = ap.parse(t2, rule = 'list')\n",
    "    subst = {}\n",
    "    x1.unify(x2, subst)\n",
    "    return subst"
   ]
  },
  {
   "cell_type": "code",
   "execution_count": 1,
   "id": "31e5f23f",
   "metadata": {},
   "outputs": [
    {
     "data": {
      "text/plain": [
       "[1, 2, 3, 4]"
      ]
     },
     "execution_count": 1,
     "metadata": {},
     "output_type": "execute_result"
    }
   ],
   "source": [
    "from aloe.collections import OrderedSet\n",
    "\n",
    "l = OrderedSet([1,2,3,4])\n",
    "[e for e in l]"
   ]
  },
  {
   "cell_type": "code",
   "execution_count": 2,
   "id": "b1c9fb6a",
   "metadata": {},
   "outputs": [
    {
     "data": {
      "text/plain": [
       "function"
      ]
     },
     "execution_count": 2,
     "metadata": {},
     "output_type": "execute_result"
    }
   ],
   "source": [
    "type(unification)"
   ]
  },
  {
   "cell_type": "code",
   "execution_count": 2,
   "id": "d5be235b",
   "metadata": {},
   "outputs": [
    {
     "name": "stdout",
     "output_type": "stream",
     "text": [
      "['[', '', '', '', ']']\n"
     ]
    },
    {
     "data": {
      "text/plain": [
       "[]"
      ]
     },
     "execution_count": 2,
     "metadata": {},
     "output_type": "execute_result"
    }
   ],
   "source": [
    "ap.parse('[]', rule='list')"
   ]
  },
  {
   "cell_type": "code",
   "execution_count": 3,
   "id": "752bdae2",
   "metadata": {},
   "outputs": [
    {
     "name": "stdout",
     "output_type": "stream",
     "text": [
      "['[', '', [[1, '', [[',', ' ', 2, ''], [',', ' ', 3, '']], '']], '', ']']\n",
      "['[', '', [[1, ' ', '', [['|', ' ', [B]]]]], '', ']']\n"
     ]
    },
    {
     "data": {
      "text/plain": [
       "{B: [2, 3]}"
      ]
     },
     "execution_count": 3,
     "metadata": {},
     "output_type": "execute_result"
    }
   ],
   "source": [
    "unification('[1, 2, 3]', '[1 | B]')"
   ]
  },
  {
   "cell_type": "code",
   "execution_count": 2,
   "id": "27d860b9",
   "metadata": {},
   "outputs": [
    {
     "name": "stdout",
     "output_type": "stream",
     "text": [
      "['[', '', [[1, '', [[',', ' ', 3, '']], '']], '', ']']\n",
      "['[', '', [[2, '', [[',', ' ', C, '']], '']], '', ']']\n"
     ]
    },
    {
     "ename": "UnificationError",
     "evalue": "Cannot unify terms <1> and <2>",
     "output_type": "error",
     "traceback": [
      "\u001b[1;31m---------------------------------------------------------------------------\u001b[0m",
      "\u001b[1;31mUnificationError\u001b[0m                      Traceback (most recent call last)",
      "\u001b[1;32m~\\AppData\\Local\\Temp/ipykernel_17860/2284549595.py\u001b[0m in \u001b[0;36m<module>\u001b[1;34m\u001b[0m\n\u001b[1;32m----> 1\u001b[1;33m \u001b[0munification\u001b[0m\u001b[1;33m(\u001b[0m\u001b[1;34m'[1, 3]'\u001b[0m\u001b[1;33m,\u001b[0m \u001b[1;34m'[2, C]'\u001b[0m\u001b[1;33m)\u001b[0m\u001b[1;33m\u001b[0m\u001b[1;33m\u001b[0m\u001b[0m\n\u001b[0m",
      "\u001b[1;32m~\\AppData\\Local\\Temp/ipykernel_17860/4112316226.py\u001b[0m in \u001b[0;36munification\u001b[1;34m(t1, t2)\u001b[0m\n\u001b[0;32m      5\u001b[0m     \u001b[0mx2\u001b[0m \u001b[1;33m=\u001b[0m \u001b[0map\u001b[0m\u001b[1;33m.\u001b[0m\u001b[0mparse\u001b[0m\u001b[1;33m(\u001b[0m\u001b[0mt2\u001b[0m\u001b[1;33m,\u001b[0m \u001b[0mrule\u001b[0m \u001b[1;33m=\u001b[0m \u001b[1;34m'list'\u001b[0m\u001b[1;33m)\u001b[0m\u001b[1;33m\u001b[0m\u001b[1;33m\u001b[0m\u001b[0m\n\u001b[0;32m      6\u001b[0m     \u001b[0msubst\u001b[0m \u001b[1;33m=\u001b[0m \u001b[1;33m{\u001b[0m\u001b[1;33m}\u001b[0m\u001b[1;33m\u001b[0m\u001b[1;33m\u001b[0m\u001b[0m\n\u001b[1;32m----> 7\u001b[1;33m     \u001b[0mx1\u001b[0m\u001b[1;33m.\u001b[0m\u001b[0munify\u001b[0m\u001b[1;33m(\u001b[0m\u001b[0mx2\u001b[0m\u001b[1;33m,\u001b[0m \u001b[0msubst\u001b[0m\u001b[1;33m)\u001b[0m\u001b[1;33m\u001b[0m\u001b[1;33m\u001b[0m\u001b[0m\n\u001b[0m\u001b[0;32m      8\u001b[0m     \u001b[1;32mreturn\u001b[0m \u001b[0msubst\u001b[0m\u001b[1;33m\u001b[0m\u001b[1;33m\u001b[0m\u001b[0m\n",
      "\u001b[1;32m~\\Documents\\Aloe\\aloe\\src\\aloe\\clause.py\u001b[0m in \u001b[0;36munify\u001b[1;34m(self, other, subst)\u001b[0m\n\u001b[0;32m    430\u001b[0m                 \u001b[1;32mreturn\u001b[0m\u001b[1;33m\u001b[0m\u001b[1;33m\u001b[0m\u001b[0m\n\u001b[0;32m    431\u001b[0m             \u001b[1;32mfor\u001b[0m \u001b[0mi\u001b[0m \u001b[1;32min\u001b[0m \u001b[0mrange\u001b[0m\u001b[1;33m(\u001b[0m\u001b[0mlen\u001b[0m\u001b[1;33m(\u001b[0m\u001b[0mself\u001b[0m\u001b[1;33m.\u001b[0m\u001b[0melements1\u001b[0m\u001b[1;33m)\u001b[0m\u001b[1;33m)\u001b[0m\u001b[1;33m:\u001b[0m\u001b[1;33m\u001b[0m\u001b[1;33m\u001b[0m\u001b[0m\n\u001b[1;32m--> 432\u001b[1;33m                 \u001b[0mself\u001b[0m\u001b[1;33m.\u001b[0m\u001b[0melements1\u001b[0m\u001b[1;33m[\u001b[0m\u001b[0mi\u001b[0m\u001b[1;33m]\u001b[0m\u001b[1;33m.\u001b[0m\u001b[0munify\u001b[0m\u001b[1;33m(\u001b[0m\u001b[0mother\u001b[0m\u001b[1;33m.\u001b[0m\u001b[0melements1\u001b[0m\u001b[1;33m[\u001b[0m\u001b[0mi\u001b[0m\u001b[1;33m]\u001b[0m\u001b[1;33m,\u001b[0m \u001b[0msubst\u001b[0m\u001b[1;33m)\u001b[0m\u001b[1;33m\u001b[0m\u001b[1;33m\u001b[0m\u001b[0m\n\u001b[0m\u001b[0;32m    433\u001b[0m \u001b[1;33m\u001b[0m\u001b[0m\n\u001b[0;32m    434\u001b[0m             \u001b[1;32mif\u001b[0m \u001b[0mlen\u001b[0m\u001b[1;33m(\u001b[0m\u001b[0mself\u001b[0m\u001b[1;33m.\u001b[0m\u001b[0melements1\u001b[0m\u001b[1;33m)\u001b[0m \u001b[1;33m<\u001b[0m \u001b[0mlen\u001b[0m\u001b[1;33m(\u001b[0m\u001b[0mother\u001b[0m\u001b[1;33m.\u001b[0m\u001b[0melements1\u001b[0m\u001b[1;33m)\u001b[0m\u001b[1;33m:\u001b[0m\u001b[1;33m\u001b[0m\u001b[1;33m\u001b[0m\u001b[0m\n",
      "\u001b[1;32m~\\Documents\\Aloe\\aloe\\src\\aloe\\clause.py\u001b[0m in \u001b[0;36munify\u001b[1;34m(self, other, subst)\u001b[0m\n\u001b[0;32m    151\u001b[0m         ):\n\u001b[0;32m    152\u001b[0m             \u001b[1;32mreturn\u001b[0m\u001b[1;33m\u001b[0m\u001b[1;33m\u001b[0m\u001b[0m\n\u001b[1;32m--> 153\u001b[1;33m         \u001b[1;32melse\u001b[0m\u001b[1;33m:\u001b[0m \u001b[1;32mraise\u001b[0m \u001b[0mUnificationError\u001b[0m\u001b[1;33m(\u001b[0m\u001b[0mself\u001b[0m\u001b[1;33m,\u001b[0m \u001b[0mother\u001b[0m\u001b[1;33m)\u001b[0m\u001b[1;33m\u001b[0m\u001b[1;33m\u001b[0m\u001b[0m\n\u001b[0m\u001b[0;32m    154\u001b[0m \u001b[1;33m\u001b[0m\u001b[0m\n\u001b[0;32m    155\u001b[0m \u001b[1;32mclass\u001b[0m \u001b[0mVariable\u001b[0m\u001b[1;33m(\u001b[0m\u001b[0mTerm\u001b[0m\u001b[1;33m)\u001b[0m\u001b[1;33m:\u001b[0m\u001b[1;33m\u001b[0m\u001b[1;33m\u001b[0m\u001b[0m\n",
      "\u001b[1;31mUnificationError\u001b[0m: Cannot unify terms <1> and <2>"
     ]
    }
   ],
   "source": [
    "unification('[1, 3]', '[2, C]')"
   ]
  },
  {
   "cell_type": "code",
   "execution_count": 1,
   "id": "3619e013",
   "metadata": {},
   "outputs": [
    {
     "ename": "UnificationError",
     "evalue": "Cannot unify terms <3> and <4>",
     "output_type": "error",
     "traceback": [
      "\u001b[1;31m---------------------------------------------------------------------------\u001b[0m",
      "\u001b[1;31mUnificationError\u001b[0m                      Traceback (most recent call last)",
      "\u001b[1;32m~\\AppData\\Local\\Temp/ipykernel_23196/872619243.py\u001b[0m in \u001b[0;36m<module>\u001b[1;34m\u001b[0m\n\u001b[0;32m      2\u001b[0m \u001b[0mc1\u001b[0m \u001b[1;33m=\u001b[0m \u001b[0mConstant\u001b[0m\u001b[1;33m(\u001b[0m\u001b[1;36m3\u001b[0m\u001b[1;33m)\u001b[0m\u001b[1;33m\u001b[0m\u001b[1;33m\u001b[0m\u001b[0m\n\u001b[0;32m      3\u001b[0m \u001b[0mc2\u001b[0m \u001b[1;33m=\u001b[0m \u001b[0mConstant\u001b[0m\u001b[1;33m(\u001b[0m\u001b[1;36m4\u001b[0m\u001b[1;33m)\u001b[0m\u001b[1;33m\u001b[0m\u001b[1;33m\u001b[0m\u001b[0m\n\u001b[1;32m----> 4\u001b[1;33m \u001b[0mc1\u001b[0m\u001b[1;33m.\u001b[0m\u001b[0munify\u001b[0m\u001b[1;33m(\u001b[0m\u001b[0mc2\u001b[0m\u001b[1;33m,\u001b[0m \u001b[0mdict\u001b[0m\u001b[1;33m(\u001b[0m\u001b[1;33m)\u001b[0m\u001b[1;33m)\u001b[0m\u001b[1;33m\u001b[0m\u001b[1;33m\u001b[0m\u001b[0m\n\u001b[0m",
      "\u001b[1;32m~\\Documents\\unamur\\AloeGit\\aloe\\src\\aloe\\clause.py\u001b[0m in \u001b[0;36munify\u001b[1;34m(self, other, subst)\u001b[0m\n\u001b[0;32m    159\u001b[0m         ):\n\u001b[0;32m    160\u001b[0m             \u001b[1;32mreturn\u001b[0m\u001b[1;33m\u001b[0m\u001b[1;33m\u001b[0m\u001b[0m\n\u001b[1;32m--> 161\u001b[1;33m         \u001b[1;32melse\u001b[0m\u001b[1;33m:\u001b[0m \u001b[1;32mraise\u001b[0m \u001b[0mUnificationError\u001b[0m\u001b[1;33m(\u001b[0m\u001b[0mself\u001b[0m\u001b[1;33m,\u001b[0m \u001b[0mother\u001b[0m\u001b[1;33m)\u001b[0m\u001b[1;33m\u001b[0m\u001b[1;33m\u001b[0m\u001b[0m\n\u001b[0m\u001b[0;32m    162\u001b[0m \u001b[1;33m\u001b[0m\u001b[0m\n\u001b[0;32m    163\u001b[0m \u001b[1;32mclass\u001b[0m \u001b[0mVariable\u001b[0m\u001b[1;33m(\u001b[0m\u001b[0mTerm\u001b[0m\u001b[1;33m)\u001b[0m\u001b[1;33m:\u001b[0m\u001b[1;33m\u001b[0m\u001b[1;33m\u001b[0m\u001b[0m\n",
      "\u001b[1;31mUnificationError\u001b[0m: Cannot unify terms <3> and <4>"
     ]
    }
   ],
   "source": [
    "from aloe.clause import Constant\n",
    "c1 = Constant(3)\n",
    "c2 = Constant(4)\n",
    "c1.unify(c2, dict())"
   ]
  },
  {
   "cell_type": "code",
   "execution_count": 1,
   "id": "0938473d",
   "metadata": {},
   "outputs": [
    {
     "name": "stdout",
     "output_type": "stream",
     "text": [
      "7\n"
     ]
    }
   ],
   "source": [
    "a = 5\n",
    "\n",
    "if (\n",
    "    a > 2 \\\n",
    "and a > 3\n",
    "):\n",
    "    print(7)"
   ]
  },
  {
   "cell_type": "code",
   "execution_count": 9,
   "id": "9ec56652",
   "metadata": {},
   "outputs": [
    {
     "ename": "IncompleteParseError",
     "evalue": "Rule 'rules' matched in its entirety, but it didn't consume all the text. The non-matching portion of the text begins with '{1}\nb = 'r'\n' (line 2, column 7).",
     "output_type": "error",
     "traceback": [
      "\u001b[1;31m---------------------------------------------------------------------------\u001b[0m",
      "\u001b[1;31mIncompleteParseError\u001b[0m                      Traceback (most recent call last)",
      "\u001b[1;32m~\\AppData\\Local\\Temp/ipykernel_16220/2049521483.py\u001b[0m in \u001b[0;36m<module>\u001b[1;34m\u001b[0m\n\u001b[0;32m      1\u001b[0m \u001b[1;32mfrom\u001b[0m \u001b[0mparsimonious\u001b[0m \u001b[1;32mimport\u001b[0m \u001b[0mGrammar\u001b[0m\u001b[1;33m,\u001b[0m \u001b[0mNodeVisitor\u001b[0m\u001b[1;33m\u001b[0m\u001b[1;33m\u001b[0m\u001b[0m\n\u001b[0;32m      2\u001b[0m \u001b[1;33m\u001b[0m\u001b[0m\n\u001b[1;32m----> 3\u001b[1;33m mygrammar = Grammar(\"\"\"\n\u001b[0m\u001b[0;32m      4\u001b[0m \u001b[0ma\u001b[0m \u001b[1;33m=\u001b[0m \u001b[0mb\u001b[0m \u001b[1;33m{\u001b[0m\u001b[1;36m1\u001b[0m\u001b[1;33m}\u001b[0m\u001b[1;33m\u001b[0m\u001b[1;33m\u001b[0m\u001b[0m\n\u001b[0;32m      5\u001b[0m \u001b[0mb\u001b[0m \u001b[1;33m=\u001b[0m \u001b[1;34m'r'\u001b[0m\u001b[1;33m\u001b[0m\u001b[1;33m\u001b[0m\u001b[0m\n",
      "\u001b[1;32m~\\Anaconda3\\lib\\site-packages\\parsimonious\\grammar.py\u001b[0m in \u001b[0;36m__init__\u001b[1;34m(self, rules, **more_rules)\u001b[0m\n\u001b[0;32m     67\u001b[0m             for k, v in iteritems(more_rules)}\n\u001b[0;32m     68\u001b[0m \u001b[1;33m\u001b[0m\u001b[0m\n\u001b[1;32m---> 69\u001b[1;33m         \u001b[0mexprs\u001b[0m\u001b[1;33m,\u001b[0m \u001b[0mfirst\u001b[0m \u001b[1;33m=\u001b[0m \u001b[0mself\u001b[0m\u001b[1;33m.\u001b[0m\u001b[0m_expressions_from_rules\u001b[0m\u001b[1;33m(\u001b[0m\u001b[0mrules\u001b[0m\u001b[1;33m,\u001b[0m \u001b[0mdecorated_custom_rules\u001b[0m\u001b[1;33m)\u001b[0m\u001b[1;33m\u001b[0m\u001b[1;33m\u001b[0m\u001b[0m\n\u001b[0m\u001b[0;32m     70\u001b[0m         \u001b[0msuper\u001b[0m\u001b[1;33m(\u001b[0m\u001b[0mGrammar\u001b[0m\u001b[1;33m,\u001b[0m \u001b[0mself\u001b[0m\u001b[1;33m)\u001b[0m\u001b[1;33m.\u001b[0m\u001b[0m__init__\u001b[0m\u001b[1;33m(\u001b[0m\u001b[0mexprs\u001b[0m\u001b[1;33m.\u001b[0m\u001b[0mitems\u001b[0m\u001b[1;33m(\u001b[0m\u001b[1;33m)\u001b[0m\u001b[1;33m)\u001b[0m\u001b[1;33m\u001b[0m\u001b[1;33m\u001b[0m\u001b[0m\n\u001b[0;32m     71\u001b[0m         \u001b[0mself\u001b[0m\u001b[1;33m.\u001b[0m\u001b[0mdefault_rule\u001b[0m \u001b[1;33m=\u001b[0m \u001b[0mfirst\u001b[0m  \u001b[1;31m# may be None\u001b[0m\u001b[1;33m\u001b[0m\u001b[1;33m\u001b[0m\u001b[0m\n",
      "\u001b[1;32m~\\Anaconda3\\lib\\site-packages\\parsimonious\\grammar.py\u001b[0m in \u001b[0;36m_expressions_from_rules\u001b[1;34m(self, rules, custom_rules)\u001b[0m\n\u001b[0;32m    103\u001b[0m \u001b[1;33m\u001b[0m\u001b[0m\n\u001b[0;32m    104\u001b[0m         \"\"\"\n\u001b[1;32m--> 105\u001b[1;33m         \u001b[0mtree\u001b[0m \u001b[1;33m=\u001b[0m \u001b[0mrule_grammar\u001b[0m\u001b[1;33m.\u001b[0m\u001b[0mparse\u001b[0m\u001b[1;33m(\u001b[0m\u001b[0mrules\u001b[0m\u001b[1;33m)\u001b[0m\u001b[1;33m\u001b[0m\u001b[1;33m\u001b[0m\u001b[0m\n\u001b[0m\u001b[0;32m    106\u001b[0m         \u001b[1;32mreturn\u001b[0m \u001b[0mRuleVisitor\u001b[0m\u001b[1;33m(\u001b[0m\u001b[0mcustom_rules\u001b[0m\u001b[1;33m)\u001b[0m\u001b[1;33m.\u001b[0m\u001b[0mvisit\u001b[0m\u001b[1;33m(\u001b[0m\u001b[0mtree\u001b[0m\u001b[1;33m)\u001b[0m\u001b[1;33m\u001b[0m\u001b[1;33m\u001b[0m\u001b[0m\n\u001b[0;32m    107\u001b[0m \u001b[1;33m\u001b[0m\u001b[0m\n",
      "\u001b[1;32m~\\Anaconda3\\lib\\site-packages\\parsimonious\\grammar.py\u001b[0m in \u001b[0;36mparse\u001b[1;34m(self, text, pos)\u001b[0m\n\u001b[0;32m    113\u001b[0m         \"\"\"\n\u001b[0;32m    114\u001b[0m         \u001b[0mself\u001b[0m\u001b[1;33m.\u001b[0m\u001b[0m_check_default_rule\u001b[0m\u001b[1;33m(\u001b[0m\u001b[1;33m)\u001b[0m\u001b[1;33m\u001b[0m\u001b[1;33m\u001b[0m\u001b[0m\n\u001b[1;32m--> 115\u001b[1;33m         \u001b[1;32mreturn\u001b[0m \u001b[0mself\u001b[0m\u001b[1;33m.\u001b[0m\u001b[0mdefault_rule\u001b[0m\u001b[1;33m.\u001b[0m\u001b[0mparse\u001b[0m\u001b[1;33m(\u001b[0m\u001b[0mtext\u001b[0m\u001b[1;33m,\u001b[0m \u001b[0mpos\u001b[0m\u001b[1;33m=\u001b[0m\u001b[0mpos\u001b[0m\u001b[1;33m)\u001b[0m\u001b[1;33m\u001b[0m\u001b[1;33m\u001b[0m\u001b[0m\n\u001b[0m\u001b[0;32m    116\u001b[0m \u001b[1;33m\u001b[0m\u001b[0m\n\u001b[0;32m    117\u001b[0m     \u001b[1;32mdef\u001b[0m \u001b[0mmatch\u001b[0m\u001b[1;33m(\u001b[0m\u001b[0mself\u001b[0m\u001b[1;33m,\u001b[0m \u001b[0mtext\u001b[0m\u001b[1;33m,\u001b[0m \u001b[0mpos\u001b[0m\u001b[1;33m=\u001b[0m\u001b[1;36m0\u001b[0m\u001b[1;33m)\u001b[0m\u001b[1;33m:\u001b[0m\u001b[1;33m\u001b[0m\u001b[1;33m\u001b[0m\u001b[0m\n",
      "\u001b[1;32m~\\Anaconda3\\lib\\site-packages\\parsimonious\\expressions.py\u001b[0m in \u001b[0;36mparse\u001b[1;34m(self, text, pos)\u001b[0m\n\u001b[0;32m    120\u001b[0m         \u001b[0mnode\u001b[0m \u001b[1;33m=\u001b[0m \u001b[0mself\u001b[0m\u001b[1;33m.\u001b[0m\u001b[0mmatch\u001b[0m\u001b[1;33m(\u001b[0m\u001b[0mtext\u001b[0m\u001b[1;33m,\u001b[0m \u001b[0mpos\u001b[0m\u001b[1;33m=\u001b[0m\u001b[0mpos\u001b[0m\u001b[1;33m)\u001b[0m\u001b[1;33m\u001b[0m\u001b[1;33m\u001b[0m\u001b[0m\n\u001b[0;32m    121\u001b[0m         \u001b[1;32mif\u001b[0m \u001b[0mnode\u001b[0m\u001b[1;33m.\u001b[0m\u001b[0mend\u001b[0m \u001b[1;33m<\u001b[0m \u001b[0mlen\u001b[0m\u001b[1;33m(\u001b[0m\u001b[0mtext\u001b[0m\u001b[1;33m)\u001b[0m\u001b[1;33m:\u001b[0m\u001b[1;33m\u001b[0m\u001b[1;33m\u001b[0m\u001b[0m\n\u001b[1;32m--> 122\u001b[1;33m             \u001b[1;32mraise\u001b[0m \u001b[0mIncompleteParseError\u001b[0m\u001b[1;33m(\u001b[0m\u001b[0mtext\u001b[0m\u001b[1;33m,\u001b[0m \u001b[0mnode\u001b[0m\u001b[1;33m.\u001b[0m\u001b[0mend\u001b[0m\u001b[1;33m,\u001b[0m \u001b[0mself\u001b[0m\u001b[1;33m)\u001b[0m\u001b[1;33m\u001b[0m\u001b[1;33m\u001b[0m\u001b[0m\n\u001b[0m\u001b[0;32m    123\u001b[0m         \u001b[1;32mreturn\u001b[0m \u001b[0mnode\u001b[0m\u001b[1;33m\u001b[0m\u001b[1;33m\u001b[0m\u001b[0m\n\u001b[0;32m    124\u001b[0m \u001b[1;33m\u001b[0m\u001b[0m\n",
      "\u001b[1;31mIncompleteParseError\u001b[0m: Rule 'rules' matched in its entirety, but it didn't consume all the text. The non-matching portion of the text begins with '{1}\nb = 'r'\n' (line 2, column 7)."
     ]
    }
   ],
   "source": [
    "from parsimonious import Grammar, NodeVisitor\n",
    "\n",
    "mygrammar = Grammar(\"\"\"\n",
    "a = b{1}\n",
    "b = 'r'\n",
    "\"\"\")\n",
    "\n",
    "class MyVisitor(NodeVisitor):\n",
    "    # 0. In general\n",
    "    def generic_visit(self, node, visited_children):\n",
    "        \"\"\" The default visit method. \"\"\"\n",
    "        return visited_children\n",
    "    \n",
    "    def visit_a(self, node, visited_children):\n",
    "        return 'A'\n",
    "    \n",
    "    def visit_b(self, node, visited_children):\n",
    "        return 'B'\n",
    "myvisitor = MyVisitor()\n",
    "\n",
    "def myparse(text, rule='a'):\n",
    "    tree   = mygrammar[rule].parse(text)\n",
    "    output = myvisitor.visit(tree)\n",
    "    return output"
   ]
  },
  {
   "cell_type": "code",
   "execution_count": 18,
   "id": "8cd474c7",
   "metadata": {},
   "outputs": [
    {
     "data": {
      "text/plain": [
       "'A'"
      ]
     },
     "execution_count": 18,
     "metadata": {},
     "output_type": "execute_result"
    }
   ],
   "source": [
    "myparse('r')"
   ]
  },
  {
   "cell_type": "code",
   "execution_count": 7,
   "id": "2c31195c",
   "metadata": {},
   "outputs": [
    {
     "ename": "AttributeError",
     "evalue": "'OneOf' object has no attribute 'expr_name'",
     "output_type": "error",
     "traceback": [
      "\u001b[1;31m---------------------------------------------------------------------------\u001b[0m",
      "\u001b[1;31mAttributeError\u001b[0m                            Traceback (most recent call last)",
      "\u001b[1;32m~\\AppData\\Local\\Temp/ipykernel_16220/3386750638.py\u001b[0m in \u001b[0;36m<module>\u001b[1;34m\u001b[0m\n\u001b[1;32m----> 1\u001b[1;33m \u001b[0mmygrammar\u001b[0m\u001b[1;33m[\u001b[0m\u001b[1;34m'a'\u001b[0m\u001b[1;33m]\u001b[0m\u001b[1;33m.\u001b[0m\u001b[0mexpr_name\u001b[0m\u001b[1;33m\u001b[0m\u001b[1;33m\u001b[0m\u001b[0m\n\u001b[0m",
      "\u001b[1;31mAttributeError\u001b[0m: 'OneOf' object has no attribute 'expr_name'"
     ]
    }
   ],
   "source": [
    "mygrammar['a'].expr_name"
   ]
  },
  {
   "cell_type": "code",
   "execution_count": 7,
   "id": "4ff02d21",
   "metadata": {},
   "outputs": [
    {
     "data": {
      "text/plain": [
       "5"
      ]
     },
     "execution_count": 7,
     "metadata": {},
     "output_type": "execute_result"
    }
   ],
   "source": [
    "class A:\n",
    "    a = 5\n",
    "    b = a\n",
    "    \n",
    "A.b"
   ]
  },
  {
   "cell_type": "code",
   "execution_count": 5,
   "id": "dc60c8c3",
   "metadata": {},
   "outputs": [
    {
     "data": {
      "text/plain": [
       "True"
      ]
     },
     "execution_count": 5,
     "metadata": {},
     "output_type": "execute_result"
    }
   ],
   "source": [
    "from aloe.clause import Variable\n",
    "v = Variable('A')\n",
    "v == 'A'"
   ]
  },
  {
   "cell_type": "code",
   "execution_count": 2,
   "id": "246ca4bb",
   "metadata": {},
   "outputs": [
    {
     "data": {
      "text/plain": [
       "'A'"
      ]
     },
     "execution_count": 2,
     "metadata": {},
     "output_type": "execute_result"
    }
   ],
   "source": [
    "str('A')"
   ]
  },
  {
   "cell_type": "code",
   "execution_count": 3,
   "id": "20c7ec9e",
   "metadata": {},
   "outputs": [
    {
     "data": {
      "text/plain": [
       "(1, 3)"
      ]
     },
     "execution_count": 3,
     "metadata": {},
     "output_type": "execute_result"
    }
   ],
   "source": [
    "len(repr(v)), len(repr('A'))"
   ]
  },
  {
   "cell_type": "code",
   "execution_count": 1,
   "id": "d9fe3c22",
   "metadata": {},
   "outputs": [],
   "source": [
    "from aloe.parser import Parser\n",
    "parser = Parser()\n"
   ]
  },
  {
   "cell_type": "code",
   "execution_count": 2,
   "id": "6547ff0c",
   "metadata": {},
   "outputs": [
    {
     "data": {
      "text/plain": [
       "2.0"
      ]
     },
     "execution_count": 2,
     "metadata": {},
     "output_type": "execute_result"
    }
   ],
   "source": [
    "expr = parser.parse('5 / (A + 0.5)', rule='arithmetic_expression')\n",
    "expr.evaluate({'A':2})"
   ]
  },
  {
   "cell_type": "code",
   "execution_count": null,
   "id": "1a843aa0",
   "metadata": {},
   "outputs": [],
   "source": []
  },
  {
   "cell_type": "code",
   "execution_count": 4,
   "id": "c0809fe4",
   "metadata": {},
   "outputs": [
    {
     "data": {
      "text/plain": [
       "wayolder(A,B) :- age(A,C), age(B,D), C > D**2."
      ]
     },
     "execution_count": 4,
     "metadata": {},
     "output_type": "execute_result"
    }
   ],
   "source": [
    "parser.parse('wayolder(A, B) :- age(A, C), age(B, D), C > D**2.', 'hornclause')"
   ]
  },
  {
   "cell_type": "code",
   "execution_count": 9,
   "id": "d3f38c62",
   "metadata": {},
   "outputs": [
    {
     "data": {
      "text/plain": [
       "(1, 3)"
      ]
     },
     "execution_count": 9,
     "metadata": {},
     "output_type": "execute_result"
    }
   ],
   "source": [
    "a, b = 3, 1\n",
    "a, b = b, a\n",
    "a, b"
   ]
  },
  {
   "cell_type": "code",
   "execution_count": 9,
   "id": "01e3395d",
   "metadata": {},
   "outputs": [],
   "source": [
    "from aloe.clause import ArithmeticComparison, UnificationComparison, BasicArithmeticExpression, TrigoExpression, Is, Constant, Variable"
   ]
  },
  {
   "cell_type": "code",
   "execution_count": null,
   "id": "f8eb6e2c",
   "metadata": {},
   "outputs": [],
   "source": []
  },
  {
   "cell_type": "code",
   "execution_count": 11,
   "id": "7cab47a5",
   "metadata": {},
   "outputs": [
    {
     "data": {
      "text/plain": [
       "64"
      ]
     },
     "execution_count": 11,
     "metadata": {},
     "output_type": "execute_result"
    }
   ],
   "source": [
    "b = BasicArithmeticExpression(Constant(4), Constant(3), '**')\n",
    "b.evaluate({})"
   ]
  },
  {
   "cell_type": "code",
   "execution_count": 1,
   "id": "f0b0a68f",
   "metadata": {},
   "outputs": [],
   "source": [
    "def f(p, n, h, c): return p - n - h - c"
   ]
  },
  {
   "cell_type": "code",
   "execution_count": 6,
   "id": "545e7501",
   "metadata": {},
   "outputs": [
    {
     "data": {
      "text/plain": [
       "-1"
      ]
     },
     "execution_count": 6,
     "metadata": {},
     "output_type": "execute_result"
    }
   ],
   "source": [
    "p, n, h, c = (2, 1, 0, 2)\n",
    "f(p, n, h, c)"
   ]
  },
  {
   "cell_type": "code",
   "execution_count": 8,
   "id": "58729155",
   "metadata": {},
   "outputs": [
    {
     "ename": "IncompleteParseError",
     "evalue": "Rule 'statement' matched in its entirety, but it didn't consume all the text. The non-matching portion of the text begins with '=10' (line 1, column 3).",
     "output_type": "error",
     "traceback": [
      "\u001b[1;31m---------------------------------------------------------------------------\u001b[0m",
      "\u001b[1;31mIncompleteParseError\u001b[0m                      Traceback (most recent call last)",
      "\u001b[1;32m~\\AppData\\Local\\Temp/ipykernel_1608/1341599620.py\u001b[0m in \u001b[0;36m<module>\u001b[1;34m\u001b[0m\n\u001b[1;32m----> 1\u001b[1;33m \u001b[0map\u001b[0m\u001b[1;33m.\u001b[0m\u001b[0mparser\u001b[0m\u001b[1;33m.\u001b[0m\u001b[0mgrammar\u001b[0m\u001b[1;33m[\u001b[0m\u001b[1;34m'statement'\u001b[0m\u001b[1;33m]\u001b[0m\u001b[1;33m.\u001b[0m\u001b[0mparse\u001b[0m\u001b[1;33m(\u001b[0m\u001b[1;34m'B>=10'\u001b[0m\u001b[1;33m)\u001b[0m\u001b[1;33m\u001b[0m\u001b[1;33m\u001b[0m\u001b[0m\n\u001b[0m",
      "\u001b[1;32m~\\anaconda3\\lib\\site-packages\\parsimonious\\expressions.py\u001b[0m in \u001b[0;36mparse\u001b[1;34m(self, text, pos)\u001b[0m\n\u001b[0;32m    120\u001b[0m         \u001b[0mnode\u001b[0m \u001b[1;33m=\u001b[0m \u001b[0mself\u001b[0m\u001b[1;33m.\u001b[0m\u001b[0mmatch\u001b[0m\u001b[1;33m(\u001b[0m\u001b[0mtext\u001b[0m\u001b[1;33m,\u001b[0m \u001b[0mpos\u001b[0m\u001b[1;33m=\u001b[0m\u001b[0mpos\u001b[0m\u001b[1;33m)\u001b[0m\u001b[1;33m\u001b[0m\u001b[1;33m\u001b[0m\u001b[0m\n\u001b[0;32m    121\u001b[0m         \u001b[1;32mif\u001b[0m \u001b[0mnode\u001b[0m\u001b[1;33m.\u001b[0m\u001b[0mend\u001b[0m \u001b[1;33m<\u001b[0m \u001b[0mlen\u001b[0m\u001b[1;33m(\u001b[0m\u001b[0mtext\u001b[0m\u001b[1;33m)\u001b[0m\u001b[1;33m:\u001b[0m\u001b[1;33m\u001b[0m\u001b[1;33m\u001b[0m\u001b[0m\n\u001b[1;32m--> 122\u001b[1;33m             \u001b[1;32mraise\u001b[0m \u001b[0mIncompleteParseError\u001b[0m\u001b[1;33m(\u001b[0m\u001b[0mtext\u001b[0m\u001b[1;33m,\u001b[0m \u001b[0mnode\u001b[0m\u001b[1;33m.\u001b[0m\u001b[0mend\u001b[0m\u001b[1;33m,\u001b[0m \u001b[0mself\u001b[0m\u001b[1;33m)\u001b[0m\u001b[1;33m\u001b[0m\u001b[1;33m\u001b[0m\u001b[0m\n\u001b[0m\u001b[0;32m    123\u001b[0m         \u001b[1;32mreturn\u001b[0m \u001b[0mnode\u001b[0m\u001b[1;33m\u001b[0m\u001b[1;33m\u001b[0m\u001b[0m\n\u001b[0;32m    124\u001b[0m \u001b[1;33m\u001b[0m\u001b[0m\n",
      "\u001b[1;31mIncompleteParseError\u001b[0m: Rule 'statement' matched in its entirety, but it didn't consume all the text. The non-matching portion of the text begins with '=10' (line 1, column 3)."
     ]
    }
   ],
   "source": [
    "ap.parser.grammar['statement'].parse('B>=10')"
   ]
  },
  {
   "cell_type": "code",
   "execution_count": 2,
   "id": "015e9e09",
   "metadata": {},
   "outputs": [
    {
     "data": {
      "text/plain": [
       "Background:\n",
       "TreeShapedKnowledge object\n",
       "   person(george).\n",
       "   person(diego).\n",
       "   person(pierre).\n",
       "   person(gilles).\n",
       "   person(tanguy).\n",
       "   points(george,15).\n",
       "   points(diego,9).\n",
       "   points(pierre,12).\n",
       "   points(gilles,7).\n",
       "   points(tanguy,6).\n",
       "\n",
       "Examples:\n",
       "Positive:\n",
       "\n",
       "Negative:\n",
       "echec(tanguy).\n",
       "echec(pierre).\n",
       "echec(gilles).\n",
       "echec(diego).\n",
       "echec(george).\n",
       "\n",
       "Modes:\n",
       "modeh: {'echec/1': modeh(1,echec(+person)).}\n",
       "modeb: {}\n",
       "determinations: {}\n",
       "\n",
       "options:\n",
       "i: 2\n",
       "c: 2\n",
       "h: 10000\n",
       "verbose: 0\n",
       "solver: AloeSolver\n",
       "learner: ProgolLearner\n",
       "hmetric: FnMetric\n",
       "update_knowledge: True\n",
       "logging: False"
      ]
     },
     "execution_count": 2,
     "metadata": {},
     "output_type": "execute_result"
    }
   ],
   "source": [
    "from aloe.program import AloeProgram\n",
    "t = \"\"\"\n",
    "person(george). person(diego). person(pierre). person(gilles). person(tanguy).\n",
    "points(george, 15). \n",
    "points(diego, 9). \n",
    "points(pierre, 12).\n",
    "points(gilles, 7).\n",
    "points(tanguy, 6).\n",
    "\"\"\"\n",
    "ap = AloeProgram.build_from_background(t)\n",
    "t2 =\"\"\"\n",
    "modeh(1, echec(+person)).\n",
    "echec(A) :- person(A), points(A, B), C is B, C > 10.\n",
    "\"\"\"\n",
    "ap.generate_examples(t2)\n",
    "ap"
   ]
  },
  {
   "cell_type": "code",
   "execution_count": 1,
   "id": "ecc4d4c5",
   "metadata": {},
   "outputs": [
    {
     "data": {
      "text/plain": [
       "Background:\n",
       "TreeShapedKnowledge object\n",
       "   person(george).\n",
       "   person(diego).\n",
       "   person(pierre).\n",
       "   person(gilles).\n",
       "   person(tanguy).\n",
       "   points(george,15).\n",
       "   points(diego,9).\n",
       "   points(pierre,12).\n",
       "   points(gilles,7).\n",
       "   points(tanguy,6).\n",
       "\n",
       "Examples:\n",
       "Positive:\n",
       "echec(tanguy).\n",
       "echec(gilles).\n",
       "echec(diego).\n",
       "Negative:\n",
       "echec(pierre).\n",
       "echec(george).\n",
       "\n",
       "Modes:\n",
       "modeh: {'echec/1': modeh(1,echec(+person)).}\n",
       "modeb: {}\n",
       "determinations: {}\n",
       "\n",
       "options:\n",
       "i: 2\n",
       "c: 2\n",
       "h: 10000\n",
       "verbose: 0\n",
       "solver: AloeSolver\n",
       "learner: ProgolLearner\n",
       "hmetric: FnMetric\n",
       "update_knowledge: True\n",
       "logging: False"
      ]
     },
     "execution_count": 1,
     "metadata": {},
     "output_type": "execute_result"
    }
   ],
   "source": [
    "from aloe.program import AloeProgram\n",
    "t = \"\"\"\n",
    "person(george). person(diego). person(pierre). person(gilles). person(tanguy).\n",
    "points(george, 15). \n",
    "points(diego, 9). \n",
    "points(pierre, 12).\n",
    "points(gilles, 7).\n",
    "points(tanguy, 6).\n",
    "\"\"\"\n",
    "ap = AloeProgram.build_from_background(t)\n",
    "t2 =\"\"\"\n",
    "modeh(1, echec(+person)).\n",
    "echec(A) :- person(A), points(A, B), B**1<10.\n",
    "\"\"\"\n",
    "ap.generate_examples(t2)\n",
    "ap"
   ]
  },
  {
   "cell_type": "code",
   "execution_count": 14,
   "id": "a5d1b217",
   "metadata": {},
   "outputs": [
    {
     "data": {
      "text/plain": [
       "<re.Match object; span=(0, 3), match='3.2'>"
      ]
     },
     "execution_count": 14,
     "metadata": {},
     "output_type": "execute_result"
    }
   ],
   "source": [
    "import re\n",
    "regex = r'[+-]?(\\d*\\.\\d+)'\n",
    "t = '3.2'\n",
    "var_names = re.search(regex, t)\n",
    "var_names"
   ]
  },
  {
   "cell_type": "code",
   "execution_count": null,
   "id": "c2c3d051",
   "metadata": {},
   "outputs": [],
   "source": [
    "re."
   ]
  },
  {
   "cell_type": "code",
   "execution_count": 154,
   "id": "43c71922",
   "metadata": {},
   "outputs": [],
   "source": [
    "from ipywidgets import Button, Dropdown, HBox, VBox, Label, Layout\n",
    "\n",
    "STANDARD_LAYOUT = {'height':'40px', 'width':'150px'}\n",
    "VBOX_LAYOUT = {'width':'160px'}\n",
    "class ExplorableWidget:\n",
    "    def __init__(self, data, parent=None):\n",
    "        self.parent=parent\n",
    "        self.data = data\n",
    "        self.children = []\n",
    "        if   isinstance(self.data, (list, set)):\n",
    "            self.build_widget_list()\n",
    "        elif isinstance(self.data, (dict)):\n",
    "            self.build_widget_dict()\n",
    "        else: # Default_build\n",
    "            self.build_widget_default()\n",
    "        box_layout = Layout(\n",
    "            overflow='scroll hidden',\n",
    "            flex_flow='row',\n",
    "            width='100%',\n",
    "            display='flex')\n",
    "        self.widget = HBox([self.main_widget], layout=box_layout)\n",
    "    \n",
    "    def update_children(self, children=[]):\n",
    "        children = children if children else self.children\n",
    "        self.children = children\n",
    "        if self.parent is None:\n",
    "            self.widget.children = [self.main_widget] + children\n",
    "        else:\n",
    "            self.parent.update_children([self.main_widget] + children)\n",
    "    \n",
    "    def explore(self, x):\n",
    "        ew = ExplorableWidget(x, self)\n",
    "        ew.update_children()\n",
    "    \n",
    "    def build_widget_default(self):\n",
    "        list_widgets = list()\n",
    "        for attr in self.data.__dir__():\n",
    "            if attr[:2]!='__':\n",
    "                widget = Button(\n",
    "                    description = attr,\n",
    "                    tooltip = '[%s] %s' % (getattr(self.data, attr).__class__.__name__, attr),\n",
    "                    layout = STANDARD_LAYOUT,\n",
    "                )\n",
    "                widget.on_click(lambda x: self.explore(getattr(self.data, x.description)))\n",
    "                list_widgets.append(widget)\n",
    "        title = Label(self.data.__class__.__name__, layout=STANDARD_LAYOUT)\n",
    "        self.main_widget = VBox(\n",
    "            [title] + list_widgets,\n",
    "            layout = VBOX_LAYOUT,\n",
    "        )\n",
    "        \n",
    "    def build_widget_list(self):\n",
    "        list_widgets = []\n",
    "        for x in self.data:\n",
    "            list_widgets.append(x)\n",
    "        \n",
    "        dd = Dropdown(options=list_widgets, layout=STANDARD_LAYOUT)\n",
    "        dd.observe(lambda x: self.explore(x['new']) if x['type']=='change' and x['name']=='value' else None)\n",
    "        title = Label('%s [%s]' % (self.data.__class__.__name__, len(self.data)), layout=STANDARD_LAYOUT)\n",
    "        self.main_widget = VBox([title, dd], layout = VBOX_LAYOUT)\n",
    "        if list_widgets: self.explore(list_widgets[0])\n",
    "            \n",
    "    def build_widget_dict(self):\n",
    "        list_widgets = []\n",
    "        for x, y in self.data.items():\n",
    "            list_widgets.append(('%s:%s'%(x,y),(x, y)))\n",
    "\n",
    "        dd = Dropdown(options=list_widgets, layout=STANDARD_LAYOUT)\n",
    "        dd.observe(lambda x: self.explore(x['new'][1]) if x['type']=='change' and x['name']=='value' else None)\n",
    "        title = Label('%s [%s]' % (self.data.__class__.__name__, len(self.data)), layout=STANDARD_LAYOUT)\n",
    "        self.main_widget = VBox([title, dd], layout = VBOX_LAYOUT)\n",
    "        if list_widgets: self.explore(list_widgets[0][1][1])\n",
    "            "
   ]
  },
  {
   "cell_type": "code",
   "execution_count": 5,
   "id": "fe125e3c",
   "metadata": {},
   "outputs": [
    {
     "name": "stdout",
     "output_type": "stream",
     "text": [
      "True\n",
      "{A: 12, B: Bjr}\n"
     ]
    }
   ],
   "source": [
    "from aloe.parser import Parser\n",
    "from aloe.clause import Variable, Constant\n",
    "parser = Parser()\n",
    "\n",
    "t = \"\"\"\n",
    "B=\"Bjr\"\n",
    "\"\"\"\n",
    "expr = parser.parse(t, 'statement')\n",
    "s = {Variable('A'):Constant(12)}\n",
    "print(expr.evaluate(s))\n",
    "print(s)\n",
    "\n"
   ]
  },
  {
   "cell_type": "code",
   "execution_count": 5,
   "id": "56f96c7a",
   "metadata": {},
   "outputs": [
    {
     "data": {
      "text/plain": [
       "Background:\n",
       "TreeShapedKnowledge object\n",
       "   person(jacques).\n",
       "   points(jacques,9).\n",
       "   person(ada).\n",
       "   points(ada,15).\n",
       "   echec(A,B):-person(A),points(A,B),<aloe.clause.Comparison object at 0x0000027B31E8E130>.\n",
       "\n",
       "Examples:\n",
       "Positive:\n",
       "\n",
       "Negative:\n",
       "\n",
       "\n",
       "Modes:\n",
       "modeh: {}\n",
       "modeb: {}\n",
       "determinations: {}\n",
       "\n",
       "options:\n",
       "i: 2\n",
       "c: 2\n",
       "h: 1000\n",
       "verbose: 0\n",
       "solver: AloeSolver\n",
       "learner: ProgolLearner\n",
       "hmetric: FnMetric\n",
       "update_knowledge: True\n",
       "logging: False"
      ]
     },
     "execution_count": 5,
     "metadata": {},
     "output_type": "execute_result"
    }
   ],
   "source": [
    "from aloe.program import AloeProgram\n",
    "t = \"\"\"\n",
    "person(jacques).\n",
    "points(jacques, 9).\n",
    "person(ada).\n",
    "points(ada, 15).\n",
    "echec(A,B) :- person(A), points(A,B), B<10.\n",
    "\"\"\"\n",
    "ap = AloeProgram.build_from_background(t)\n",
    "ap"
   ]
  },
  {
   "cell_type": "code",
   "execution_count": 1,
   "id": "4972328f",
   "metadata": {},
   "outputs": [
    {
     "data": {
      "text/plain": [
       "TreeShapedKnowledge object\n",
       "   parent(A,B) :- mother(A,B).\n",
       "   parent(A,B) :- father(A,B).\n",
       "   grandfather(A,B) :- father(A,C), parent(C,B).\n",
       "   grandparent(A,B) :- parent(A,C), parent(C,B)."
      ]
     },
     "execution_count": 1,
     "metadata": {},
     "output_type": "execute_result"
    }
   ],
   "source": [
    "from aloe.program import AloeProgram\n",
    "from collections import OrderedDict\n",
    "\n",
    "ap = AloeProgram.build_from(\"aloe/Examples/family.pl\")\n",
    "ap.induce()"
   ]
  },
  {
   "cell_type": "code",
   "execution_count": 2,
   "id": "03bf1f94",
   "metadata": {},
   "outputs": [
    {
     "ename": "NameError",
     "evalue": "name 'ExplorableWidget' is not defined",
     "output_type": "error",
     "traceback": [
      "\u001b[1;31m---------------------------------------------------------------------------\u001b[0m",
      "\u001b[1;31mNameError\u001b[0m                                 Traceback (most recent call last)",
      "\u001b[1;32m~\\AppData\\Local\\Temp/ipykernel_16220/2899625106.py\u001b[0m in \u001b[0;36m<module>\u001b[1;34m\u001b[0m\n\u001b[1;32m----> 1\u001b[1;33m \u001b[0mew\u001b[0m  \u001b[1;33m=\u001b[0m \u001b[0mExplorableWidget\u001b[0m\u001b[1;33m(\u001b[0m\u001b[0map\u001b[0m\u001b[1;33m)\u001b[0m\u001b[1;33m\u001b[0m\u001b[1;33m\u001b[0m\u001b[0m\n\u001b[0m\u001b[0;32m      2\u001b[0m \u001b[0mew\u001b[0m\u001b[1;33m.\u001b[0m\u001b[0mwidget\u001b[0m\u001b[1;33m\u001b[0m\u001b[1;33m\u001b[0m\u001b[0m\n",
      "\u001b[1;31mNameError\u001b[0m: name 'ExplorableWidget' is not defined"
     ]
    }
   ],
   "source": [
    "ew  = ExplorableWidget(ap)\n",
    "ew.widget"
   ]
  },
  {
   "cell_type": "code",
   "execution_count": 107,
   "id": "b983fe03",
   "metadata": {},
   "outputs": [
    {
     "data": {
      "text/plain": [
       "7"
      ]
     },
     "execution_count": 107,
     "metadata": {},
     "output_type": "execute_result"
    }
   ],
   "source": [
    "len(ew.widget.children)"
   ]
  },
  {
   "cell_type": "code",
   "execution_count": 15,
   "id": "543a21d4",
   "metadata": {},
   "outputs": [
    {
     "name": "stdout",
     "output_type": "stream",
     "text": [
      "options\n",
      "knowledge\n",
      "solver\n",
      "modes\n",
      "examples\n",
      "learner\n",
      "__module__\n",
      "__init__\n",
      "build_from_file\n",
      "build_from_text\n",
      "build_from_background\n",
      "__repr__\n",
      "query\n",
      "verify\n",
      "set\n",
      "induce\n",
      "display_logs\n",
      "__dict__\n",
      "__weakref__\n",
      "__doc__\n",
      "__hash__\n",
      "__str__\n",
      "__getattribute__\n",
      "__setattr__\n",
      "__delattr__\n",
      "__lt__\n",
      "__le__\n",
      "__eq__\n",
      "__ne__\n",
      "__gt__\n",
      "__ge__\n",
      "__new__\n",
      "__reduce_ex__\n",
      "__reduce__\n",
      "__subclasshook__\n",
      "__init_subclass__\n",
      "__format__\n",
      "__sizeof__\n",
      "__dir__\n",
      "__class__\n"
     ]
    }
   ],
   "source": [
    "for attr in ew.data.__dir__():\n",
    "    print(attr)"
   ]
  },
  {
   "cell_type": "code",
   "execution_count": 3,
   "id": "64b01aa4",
   "metadata": {
    "scrolled": false
   },
   "outputs": [
    {
     "data": {
      "application/vnd.jupyter.widget-view+json": {
       "model_id": "026a65a67fe5437a89d728bd71558f89",
       "version_major": 2,
       "version_minor": 0
      },
      "text/plain": [
       "Tab(children=(VBox(children=(Dropdown(description='Example:', options=(parent(ada,sylvia)., parent(george,osca…"
      ]
     },
     "metadata": {},
     "output_type": "display_data"
    }
   ],
   "source": [
    "ap.display_logs()"
   ]
  },
  {
   "cell_type": "code",
   "execution_count": 1,
   "id": "fdf0ba1d",
   "metadata": {
    "scrolled": false
   },
   "outputs": [
    {
     "data": {
      "application/vnd.jupyter.widget-view+json": {
       "model_id": "94e7b1de4e48442a90bf6699951572bd",
       "version_major": 2,
       "version_minor": 0
      },
      "text/plain": [
       "AppLayout(children=(Output(layout=Layout(border='1px solid black', grid_area='footer', height='100%', width='1…"
      ]
     },
     "metadata": {},
     "output_type": "display_data"
    }
   ],
   "source": [
    "from aloe.queryinterface import QueryInterface\n",
    "qi = QueryInterface()\n",
    "qi.interact()"
   ]
  },
  {
   "cell_type": "code",
   "execution_count": 2,
   "id": "ad69fedb",
   "metadata": {},
   "outputs": [
    {
     "data": {
      "application/vnd.jupyter.widget-view+json": {
       "model_id": "b0113e152f7a4d0a8880e664ee8b296e",
       "version_major": 2,
       "version_minor": 0
      },
      "text/plain": [
       "Tab(children=(VBox(children=(HBox(children=(Button(description='Save', layout=Layout(height='auto', width='100…"
      ]
     },
     "metadata": {},
     "output_type": "display_data"
    }
   ],
   "source": [
    "from aloe.program import AloeProgram\n",
    "from collections import OrderedDict\n",
    "\n",
    "ap = AloeProgram.build_from(\"aloe/Examples/family.pl\")\n",
    "from aloe.interface.andante_interface import AndateInterface\n",
    "ai = AndateInterface(ap)\n",
    "ai.widget"
   ]
  },
  {
   "cell_type": "code",
   "execution_count": 2,
   "id": "342c636a",
   "metadata": {},
   "outputs": [
    {
     "ename": "RecursionError",
     "evalue": "maximum recursion depth exceeded while calling a Python object",
     "output_type": "error",
     "traceback": [
      "\u001b[1;31m---------------------------------------------------------------------------\u001b[0m",
      "\u001b[1;31mRecursionError\u001b[0m                            Traceback (most recent call last)",
      "\u001b[1;32m~\\AppData\\Local\\Temp/ipykernel_26316/3126586759.py\u001b[0m in \u001b[0;36m<module>\u001b[1;34m\u001b[0m\n\u001b[0;32m     10\u001b[0m \u001b[1;33m\u001b[0m\u001b[0m\n\u001b[0;32m     11\u001b[0m \u001b[0ma\u001b[0m \u001b[1;33m=\u001b[0m \u001b[0mA\u001b[0m\u001b[1;33m(\u001b[0m\u001b[1;36m3\u001b[0m\u001b[1;33m)\u001b[0m\u001b[1;33m\u001b[0m\u001b[1;33m\u001b[0m\u001b[0m\n\u001b[1;32m---> 12\u001b[1;33m \u001b[0ma\u001b[0m\u001b[1;33m.\u001b[0m\u001b[0mb\u001b[0m\u001b[1;33m\u001b[0m\u001b[1;33m\u001b[0m\u001b[0m\n\u001b[0m",
      "\u001b[1;32m~\\AppData\\Local\\Temp/ipykernel_26316/3126586759.py\u001b[0m in \u001b[0;36mb\u001b[1;34m(self)\u001b[0m\n\u001b[0;32m      5\u001b[0m     \u001b[1;33m@\u001b[0m\u001b[0mproperty\u001b[0m\u001b[1;33m\u001b[0m\u001b[1;33m\u001b[0m\u001b[0m\n\u001b[0;32m      6\u001b[0m     \u001b[1;32mdef\u001b[0m \u001b[0mb\u001b[0m\u001b[1;33m(\u001b[0m\u001b[0mself\u001b[0m\u001b[1;33m)\u001b[0m\u001b[1;33m:\u001b[0m\u001b[1;33m\u001b[0m\u001b[1;33m\u001b[0m\u001b[0m\n\u001b[1;32m----> 7\u001b[1;33m         \u001b[1;32mif\u001b[0m \u001b[1;32mnot\u001b[0m \u001b[0mhasattr\u001b[0m\u001b[1;33m(\u001b[0m\u001b[0mself\u001b[0m\u001b[1;33m,\u001b[0m \u001b[1;34m'b'\u001b[0m\u001b[1;33m)\u001b[0m\u001b[1;33m:\u001b[0m\u001b[1;33m\u001b[0m\u001b[1;33m\u001b[0m\u001b[0m\n\u001b[0m\u001b[0;32m      8\u001b[0m             \u001b[0mself\u001b[0m\u001b[1;33m.\u001b[0m\u001b[0mb\u001b[0m \u001b[1;33m=\u001b[0m \u001b[1;36m1\u001b[0m\u001b[1;33m\u001b[0m\u001b[1;33m\u001b[0m\u001b[0m\n\u001b[0;32m      9\u001b[0m         \u001b[1;32mreturn\u001b[0m \u001b[0mself\u001b[0m\u001b[1;33m.\u001b[0m\u001b[0mb\u001b[0m\u001b[1;33m\u001b[0m\u001b[1;33m\u001b[0m\u001b[0m\n",
      "... last 1 frames repeated, from the frame below ...\n",
      "\u001b[1;32m~\\AppData\\Local\\Temp/ipykernel_26316/3126586759.py\u001b[0m in \u001b[0;36mb\u001b[1;34m(self)\u001b[0m\n\u001b[0;32m      5\u001b[0m     \u001b[1;33m@\u001b[0m\u001b[0mproperty\u001b[0m\u001b[1;33m\u001b[0m\u001b[1;33m\u001b[0m\u001b[0m\n\u001b[0;32m      6\u001b[0m     \u001b[1;32mdef\u001b[0m \u001b[0mb\u001b[0m\u001b[1;33m(\u001b[0m\u001b[0mself\u001b[0m\u001b[1;33m)\u001b[0m\u001b[1;33m:\u001b[0m\u001b[1;33m\u001b[0m\u001b[1;33m\u001b[0m\u001b[0m\n\u001b[1;32m----> 7\u001b[1;33m         \u001b[1;32mif\u001b[0m \u001b[1;32mnot\u001b[0m \u001b[0mhasattr\u001b[0m\u001b[1;33m(\u001b[0m\u001b[0mself\u001b[0m\u001b[1;33m,\u001b[0m \u001b[1;34m'b'\u001b[0m\u001b[1;33m)\u001b[0m\u001b[1;33m:\u001b[0m\u001b[1;33m\u001b[0m\u001b[1;33m\u001b[0m\u001b[0m\n\u001b[0m\u001b[0;32m      8\u001b[0m             \u001b[0mself\u001b[0m\u001b[1;33m.\u001b[0m\u001b[0mb\u001b[0m \u001b[1;33m=\u001b[0m \u001b[1;36m1\u001b[0m\u001b[1;33m\u001b[0m\u001b[1;33m\u001b[0m\u001b[0m\n\u001b[0;32m      9\u001b[0m         \u001b[1;32mreturn\u001b[0m \u001b[0mself\u001b[0m\u001b[1;33m.\u001b[0m\u001b[0mb\u001b[0m\u001b[1;33m\u001b[0m\u001b[1;33m\u001b[0m\u001b[0m\n",
      "\u001b[1;31mRecursionError\u001b[0m: maximum recursion depth exceeded while calling a Python object"
     ]
    }
   ],
   "source": [
    "class A:\n",
    "    def __init__(self, a):\n",
    "        self.a = a\n",
    "        \n",
    "    @property\n",
    "    def b(self):\n",
    "        if not hasattr(self, 'b'):\n",
    "            self.b = 1\n",
    "        return self.b\n",
    "    \n",
    "a = A(3)\n",
    "a.b"
   ]
  },
  {
   "cell_type": "code",
   "execution_count": null,
   "id": "f92778d2",
   "metadata": {},
   "outputs": [],
   "source": [
    "append([],L,L).\n",
    "append([H|T],L,[H|Lrem]) :- append(T,\n",
    "                                   L\n",
    "                                   ,\n",
    "                                   Lrem\n",
    "                                  ),\n",
    "                            not(H=2),\n",
    "    ...."
   ]
  },
  {
   "cell_type": "code",
   "execution_count": 3,
   "id": "8bd7fc28",
   "metadata": {},
   "outputs": [
    {
     "data": {
      "text/plain": [
       "{1: 2, 2: 3, 3: 4}"
      ]
     },
     "execution_count": 3,
     "metadata": {},
     "output_type": "execute_result"
    }
   ],
   "source": [
    "modee echec(person,cours).\n",
    "modeh(2, f(+type, -type)).\n",
    "echec(A,B,C) :- atom.\n",
    "{\n",
    "    'A':'person',\n",
    "    'C':'cours'\n",
    "}\n",
    "person(socrates).\n",
    "person = {socrates, jules, }\n",
    "lion(a,b)"
   ]
  },
  {
   "cell_type": "code",
   "execution_count": 3,
   "id": "61765156",
   "metadata": {},
   "outputs": [
    {
     "data": {
      "application/vnd.jupyter.widget-view+json": {
       "model_id": "edecb748f1cf4ff2bf1627edf3e1d976",
       "version_major": 2,
       "version_minor": 0
      },
      "text/plain": [
       "Tab(children=(VBox(children=(HBox(children=(Button(description='Save', layout=Layout(height='auto', width='100…"
      ]
     },
     "metadata": {},
     "output_type": "display_data"
    }
   ],
   "source": [
    "from aloe.interface.andante_interface import AndateInterface\n",
    "ai = AndateInterface()\n",
    "ai.widget"
   ]
  },
  {
   "cell_type": "code",
   "execution_count": 4,
   "id": "05f424f8",
   "metadata": {},
   "outputs": [
    {
     "name": "stdout",
     "output_type": "stream",
     "text": [
      "0 0\n"
     ]
    },
    {
     "data": {
      "text/plain": [
       "{'pos': [], 'neg': []}"
      ]
     },
     "execution_count": 4,
     "metadata": {},
     "output_type": "execute_result"
    }
   ],
   "source": [
    "\n",
    "ai.ap.generate_examples_from_clause('eat(A,B):-like(A,B).', {'A':'person', 'B':'food'}, update_examples=False)"
   ]
  },
  {
   "cell_type": "code",
   "execution_count": 4,
   "id": "a3f6e2f1",
   "metadata": {},
   "outputs": [
    {
     "data": {
      "text/plain": [
       "Background:\n",
       "TreeShapedKnowledge object\n",
       "   person(arthur).\n",
       "   person(gilles).\n",
       "   food(peanuts).\n",
       "   food(bananas).\n",
       "   like(arthur,X).\n",
       "   like(gilles,peanuts).\n",
       "\n",
       "Examples:\n",
       "Positive:\n",
       "\n",
       "Negative:\n",
       "\n",
       "\n",
       "Modes:\n",
       "modeh: {}\n",
       "modeb: {}\n",
       "determinations: {}\n",
       "\n",
       "options:\n",
       "i: 2\n",
       "c: 2\n",
       "h: 1000\n",
       "verbose: 0\n",
       "solver: AloeSolver\n",
       "learner: ProgolLearner\n",
       "hmetric: FnMetric\n",
       "update_knowledge: True\n",
       "logging: False"
      ]
     },
     "execution_count": 4,
     "metadata": {},
     "output_type": "execute_result"
    }
   ],
   "source": [
    "\n",
    "ai.ap"
   ]
  },
  {
   "cell_type": "code",
   "execution_count": 7,
   "id": "fb3d7fc0",
   "metadata": {},
   "outputs": [
    {
     "ename": "NameError",
     "evalue": "name 'lt' is not defined",
     "output_type": "error",
     "traceback": [
      "\u001b[1;31m---------------------------------------------------------------------------\u001b[0m",
      "\u001b[1;31mNameError\u001b[0m                                 Traceback (most recent call last)",
      "\u001b[1;32m~\\AppData\\Local\\Temp/ipykernel_25096/954985657.py\u001b[0m in \u001b[0;36m<module>\u001b[1;34m\u001b[0m\n\u001b[1;32m----> 1\u001b[1;33m \u001b[0mlt\u001b[0m\u001b[1;33m(\u001b[0m\u001b[1;36m1\u001b[0m\u001b[1;33m,\u001b[0m\u001b[1;36m2\u001b[0m\u001b[1;33m)\u001b[0m\u001b[1;33m\u001b[0m\u001b[1;33m\u001b[0m\u001b[0m\n\u001b[0m",
      "\u001b[1;31mNameError\u001b[0m: name 'lt' is not defined"
     ]
    }
   ],
   "source": [
    "lt(1,2)"
   ]
  },
  {
   "cell_type": "code",
   "execution_count": 1,
   "id": "d62e1a7c",
   "metadata": {},
   "outputs": [
    {
     "ename": "SyntaxError",
     "evalue": "invalid syntax (Temp/ipykernel_11424/1086786659.py, line 1)",
     "output_type": "error",
     "traceback": [
      "\u001b[1;36m  File \u001b[1;32m\"C:\\Users\\sijacque\\AppData\\Local\\Temp/ipykernel_11424/1086786659.py\"\u001b[1;36m, line \u001b[1;32m1\u001b[0m\n\u001b[1;33m    'abc' @< 'tr'\u001b[0m\n\u001b[1;37m           ^\u001b[0m\n\u001b[1;31mSyntaxError\u001b[0m\u001b[1;31m:\u001b[0m invalid syntax\n"
     ]
    }
   ],
   "source": []
  },
  {
   "cell_type": "code",
   "execution_count": 3,
   "id": "2d9e1567",
   "metadata": {},
   "outputs": [],
   "source": [
    "import math\n",
    "math.a"
   ]
  },
  {
   "cell_type": "code",
   "execution_count": 4,
   "id": "665d28e8",
   "metadata": {},
   "outputs": [
    {
     "ename": "SyntaxError",
     "evalue": "invalid syntax (Temp/ipykernel_11424/2884566285.py, line 1)",
     "output_type": "error",
     "traceback": [
      "\u001b[1;36m  File \u001b[1;32m\"C:\\Users\\sijacque\\AppData\\Local\\Temp/ipykernel_11424/2884566285.py\"\u001b[1;36m, line \u001b[1;32m1\u001b[0m\n\u001b[1;33m    a = def f():return 4\u001b[0m\n\u001b[1;37m        ^\u001b[0m\n\u001b[1;31mSyntaxError\u001b[0m\u001b[1;31m:\u001b[0m invalid syntax\n"
     ]
    }
   ],
   "source": [
    "a = def f():return 4"
   ]
  },
  {
   "cell_type": "code",
   "execution_count": 5,
   "id": "9e56d657",
   "metadata": {},
   "outputs": [
    {
     "data": {
      "text/plain": [
       "<function math.atan(x, /)>"
      ]
     },
     "execution_count": 5,
     "metadata": {},
     "output_type": "execute_result"
    }
   ],
   "source": [
    "import math\n",
    "getattr(math, 'atan')"
   ]
  },
  {
   "cell_type": "code",
   "execution_count": 7,
   "id": "fc9037a8",
   "metadata": {},
   "outputs": [
    {
     "data": {
      "text/plain": [
       "2.0"
      ]
     },
     "execution_count": 7,
     "metadata": {},
     "output_type": "execute_result"
    }
   ],
   "source": [
    "4.5//2"
   ]
  },
  {
   "cell_type": "code",
   "execution_count": null,
   "id": "18cc705b",
   "metadata": {},
   "outputs": [],
   "source": []
  },
  {
   "cell_type": "code",
   "execution_count": null,
   "id": "4ee3a62d",
   "metadata": {},
   "outputs": [],
   "source": [
    "from parsimonious.grammar import Grammar\n",
    "from parsimonious.nodes import NodeVisitor\n",
    "from aloe.clause import Constant, Variable\n",
    "\n",
    "from aloe.clause import ArithmeticComparison, UnificationComparison, BasicArithmeticExpression, TrigoExpression, Is\n",
    "\n",
    "grammar = Grammar(\"\"\"\n",
    "    comparison = arithmetic_comparison / unification_comparison\n",
    "    \n",
    "    unification_comparison = term ws unification_comparison_symbol ws term\n",
    "    unification_comparison_symbol = '=' / '\\=' / '==' / '\\==' / '@<' / '@<=' / '@>' / '@>=' \n",
    "    \n",
    "    arithmetic_comparison = arithmetic_expression ws arithmetic_comparison_symbol ws arithmetic_expression\n",
    "    arithmetic_comparison_symbol = '=:=' / '=\\=' / '<' / '<=' / '>' / '>=' \n",
    "    arithmetic_expression = number / basic_arithmetic_expression / other_arithmetic_expression\n",
    "    \n",
    "    basic_arithmetic_expression = number ws basic_arithmetic_symbol ws arithmetic_expression\n",
    "    basic_arithmetic_symbol     = '+' / '-' / '/' / '*' / '**' / 'mod' / '//'\n",
    "    other_arithmetic_expression = trigo_expression\n",
    "    trigo_expression =  trigo_symbol ws '(' ws arithmetic_expression ws ')'\n",
    "    trigo_symbol     = 'sin' / 'sinh' / 'asin' / 'asinh' / 'tan' / 'tanh' / 'atan' / 'atanh' / 'cos' / 'cosh' / 'acos' / 'acosh'\n",
    "    \n",
    "    is_evaluation = (variable / number) ws 'is' ws arithmetic_expression\n",
    "\"\"\")\n",
    "\n",
    "\n",
    "class myVisitor(NodeVisitor):\n",
    "    def visit_choice(self, node, visited_children): \n",
    "        choice, = visited_children\n",
    "        return choice\n",
    "    def visit_symbol(self, node, visited_children): return node.text\n",
    "        \n",
    "    self.visit_comparison = self.choice_visit\n",
    "    \n",
    "    def visit_arithmetic_comparison(self, node, visited_children):\n",
    "        expr1, _, symbol, _, expr2 = visited_children\n",
    "        return ArithmeticComparison(expr1, expr2, symbol)\n",
    "    \n",
    "    def visit_unification_comparison(self, node, visited_children):\n",
    "        expr1, _, symbol, _, expr2 = visited_children\n",
    "        return UnificationComparison(expr1, expr2, symbol)\n",
    "        \n",
    "    self.visit_arithmetic_comparison_symbol  = self.visit_symbol\n",
    "    self.visit_unification_comparison_symbol = self.visit_symbol\n",
    "    \n",
    "    self.visit_arithmetic_symbol = self.visit_choice\n",
    "    self.visit_trigo_symbols = self.visit_choice\n",
    "    \n",
    "    def visit_basic_arithmetic_expression(self, node, visited_children):\n",
    "        expr1, _, symbol, _, expr2 = visited_children\n",
    "        return BasicArithmeticExpression(expr1, expr2, symbol)\n",
    "    \n",
    "    def visit_other_arithmetic_expression(self, node, visited_children):\n",
    "        return visited_children[0]\n",
    "    \n",
    "    def visit_trigo_expression(self, node, visited_children):\n",
    "        symbol, _, _, _, expr, _, _ = visited_children\n",
    "        return TrigoExpression(expr, symbol)\n",
    "    \n",
    "    def visit_is_evaluation(self, node, visited_children):\n",
    "        (arg,), _, _, _, expr = visited_children\n",
    "        return Is(arg, expr)\n"
   ]
  },
  {
   "cell_type": "code",
   "execution_count": 79,
   "id": "3faf389b",
   "metadata": {},
   "outputs": [],
   "source": [
    "from parsimonious.grammar import Grammar\n",
    "from parsimonious.nodes import NodeVisitor\n",
    "from aloe.clause import Constant, Variable\n",
    "\n",
    "grammar = Grammar(\"\"\"\n",
    "    comparison = arithmetic_comparison / unification_comparison\n",
    "    \n",
    "    unification_comparison = term ws unification_comparison_symbol ws term\n",
    "    unification_comparison_symbol = '=' / '\\=' / '==' / '\\==' / '@<' / '@<=' / '@>' / '@>=' \n",
    "    \n",
    "    arithmetic_comparison = expression ws arithmetic_comparison_symbol ws expression\n",
    "    arithmetic_comparison_symbol = '=:=' / '=\\=' / '<' / '<=' / '>' / '>=' \n",
    "    \n",
    "    evaluation = (variable / constant) ws 'is' ws expression\n",
    "\n",
    "    ws = ~\"\\s*\"\n",
    "    word             = ~\"[a-z]\\w*\"\n",
    "    variable         = ~\"[A-Z]\\w*\"\n",
    "    number           = ~\"\\d+\"\n",
    "\"\"\")\n",
    "\n",
    "from abc import ABC, abstractmethod\n",
    "class Statement(ABC):\n",
    "    def __init__(self, args):\n",
    "        self.args = args\n",
    "    \n",
    "    @abstractmethod\n",
    "    def evaluate(self, subst, variable_assignment=True):\n",
    "        pass\n",
    "    \n",
    "class Not(Statement):\n",
    "    def evaluate(self, subst, variable_assignment=True):\n",
    "        arg, = self.args\n",
    "        return not arg.evaluate(subst, variable_assignment=False)\n",
    "        \n",
    "class All(Statement):\n",
    "    def evaluate(self, subst, variable_assignment=True):\n",
    "        return all(arg.evaluate(subst, variable_assignment=variable_assignment) for arg in self.args)\n",
    "        \n",
    "class Any(Statement):\n",
    "    def evaluate(self, subst, variable_assignment=True):\n",
    "        return any(arg.evaluate(subst, variable_assignment=False) for arg in self.args)\n",
    "    \n",
    "class Expression:\n",
    "    def __init__(self, source):\n",
    "        self.source = source\n",
    "        self.code = compile(source, '<string>', 'eval')\n",
    "    \n",
    "    def evaluate(self, subst, variable_assignment=True):\n",
    "        subst = {str(var):(val.value if isinstance(val, Constant) else str(val)) for var, val in subst.items()}\n",
    "        return eval(self.code, subst)\n",
    "    \n",
    "class Comparison(Expression, Statement):\n",
    "    pass\n",
    "    \n",
    "class Assignment(Comparison):\n",
    "    def __init__(self, var, expression):\n",
    "        self.var = var\n",
    "        self.expression = expression\n",
    "        \n",
    "    def evaluate(self, subst, variable_assignment=True):\n",
    "        if var in subst:\n",
    "            return str(subst[var]) == str(self.expression.evaluate(subst, variable_assignment=variable_assignment))\n",
    "        else:\n",
    "            if not variable_assignment:\n",
    "                raise Exception('Cannot assign value to variable %s' % str(var))\n",
    "            else:\n",
    "                subst[var] = Constant(self.expression.evaluate(subst, variable_assignment=variable_assignment))\n",
    "    \n",
    "\n",
    "class myVisitor(NodeVisitor):\n",
    "    # 0. In general\n",
    "    def generic_visit(self, node, visited_children):\n",
    "        \"\"\" The default visit method. \"\"\"\n",
    "        return visited_children\n",
    "    \n",
    "    # 1. For clauses\n",
    "    def visit_statement(self, node, visited_children):\n",
    "        choice, = visited_children\n",
    "        return choice\n",
    "    \n",
    "    def visit_not_statement(self, node, visited_children):\n",
    "        _, _, _, _, eq, _, _ = visited_children\n",
    "        return Not(eq)\n",
    "        \n",
    "    def visit_combi_statement(self, node, visited_children):\n",
    "        _, _, _, _, arg1, _, l_arg, _ = visited_children\n",
    "        args = [arg1] + [arg for _, _, arg, _ in l_arg]\n",
    "        combi = node.children[0].text\n",
    "        if combi=='all':\n",
    "            return All(args)\n",
    "        else: # combi=='any'\n",
    "            return Any(args)\n",
    "    \n",
    "    def visit_comparison(self, node, visited_children):\n",
    "        return Comparison(node.text)\n",
    "    \n",
    "    def visit_assignment(self, node, visited_children):\n",
    "        var, _, _, _, expression = visited_children\n",
    "        return Assignment(var, expression)\n",
    "    \n",
    "    def visit_expression(self, node, visited_children):\n",
    "        return Expression(node.text)\n",
    "\n",
    "    def visit_constant(self, node, visited_children):\n",
    "        return Constant(visited_children[0])\n",
    "    \n",
    "    def visit_variable(self, node, visited_children):\n",
    "        return Variable(node.text)\n",
    "    \n",
    "    def visit_value(self, node, visited_children):\n",
    "        return visited_children[0]\n",
    "    \n",
    "    def visit_word(self, node, visited_children):\n",
    "        return node.text\n",
    "\n",
    "    def visit_number(self, node, visited_children):\n",
    "        return int(node.text)\n",
    "        "
   ]
  },
  {
   "cell_type": "code",
   "execution_count": 81,
   "id": "353de472",
   "metadata": {},
   "outputs": [
    {
     "data": {
      "text/plain": [
       "True"
      ]
     },
     "execution_count": 81,
     "metadata": {},
     "output_type": "execute_result"
    }
   ],
   "source": [
    "def goparse(string, rule='statement'):\n",
    "    visitor = myVisitor()\n",
    "    string = string.strip()\n",
    "    tree   = grammar[rule].parse(string)\n",
    "    output = visitor.visit(tree)\n",
    "    return output\n",
    "t = \"\"\"\n",
    "all(A<3, B<6)\n",
    "\"\"\"\n",
    "f = goparse(t)\n",
    "f.evaluate({Variable('A'):Constant(2), Variable('B'):Constant(5)})"
   ]
  },
  {
   "cell_type": "code",
   "execution_count": null,
   "id": "1642e132",
   "metadata": {},
   "outputs": [],
   "source": []
  },
  {
   "cell_type": "code",
   "execution_count": 8,
   "id": "7ce57ef6",
   "metadata": {},
   "outputs": [
    {
     "ename": "TypeError",
     "evalue": "eval() arg 1 must be a string, bytes or code object",
     "output_type": "error",
     "traceback": [
      "\u001b[1;31m---------------------------------------------------------------------------\u001b[0m",
      "\u001b[1;31mTypeError\u001b[0m                                 Traceback (most recent call last)",
      "\u001b[1;32m~\\AppData\\Local\\Temp/ipykernel_19852/3118502980.py\u001b[0m in \u001b[0;36m<module>\u001b[1;34m\u001b[0m\n\u001b[0;32m      8\u001b[0m \u001b[1;33m\u001b[0m\u001b[0m\n\u001b[0;32m      9\u001b[0m \u001b[0ma\u001b[0m \u001b[1;33m=\u001b[0m \u001b[0mA\u001b[0m\u001b[1;33m(\u001b[0m\u001b[1;36m5\u001b[0m\u001b[1;33m)\u001b[0m\u001b[1;33m\u001b[0m\u001b[1;33m\u001b[0m\u001b[0m\n\u001b[1;32m---> 10\u001b[1;33m \u001b[0meval\u001b[0m\u001b[1;33m(\u001b[0m\u001b[0ma\u001b[0m\u001b[1;33m,\u001b[0m \u001b[0mglobals\u001b[0m\u001b[1;33m(\u001b[0m\u001b[1;33m)\u001b[0m\u001b[1;33m)\u001b[0m\u001b[1;33m\u001b[0m\u001b[1;33m\u001b[0m\u001b[0m\n\u001b[0m",
      "\u001b[1;31mTypeError\u001b[0m: eval() arg 1 must be a string, bytes or code object"
     ]
    }
   ],
   "source": [
    "class A:\n",
    "    def __init__(self, a):\n",
    "        self.a = a\n",
    "        \n",
    "    def __eval__(self, *args): \n",
    "        print(args)\n",
    "        return self.a\n",
    "    \n",
    "a = A(5)\n",
    "eval(a, globals())"
   ]
  },
  {
   "cell_type": "code",
   "execution_count": 64,
   "id": "29a5174b",
   "metadata": {},
   "outputs": [
    {
     "data": {
      "text/plain": [
       "<re.Match object; span=(0, 1), match='A'>"
      ]
     },
     "execution_count": 64,
     "metadata": {},
     "output_type": "execute_result"
    }
   ],
   "source": [
    "import re\n",
    "regex = r\".+?(?=(,|\\.|\\)|$))\"\n",
    "regex2 = r\".+?(?=[,\\.\\)$])\"\n",
    "regex3 = r\"[^<>=!,\\.\\)]+\"\n",
    "re.search(regex3, \"A>=B)\")"
   ]
  },
  {
   "cell_type": "code",
   "execution_count": null,
   "id": "f48c1506",
   "metadata": {},
   "outputs": [],
   "source": [
    "    r\"\"\"    \n",
    "    aloefile         = ws header? ws background ws pos_ex? ws neg_ex? ws\n",
    "    header           =                       (hclause ws)+\n",
    "    background       = \":-\" ws \"begin_bg\"     ws \".\" ws (bclause ws)+ ws \":-\" ws \"end_bg\" ws \".\"\n",
    "    pos_ex           = \":-\" ws \"begin_in_pos\" ws \".\" ws (pclause ws)+ ws \":-\" ws \"end_in_pos\" ws \".\"\n",
    "    neg_ex           = \":-\" ws \"begin_in_neg\" ws \".\" ws (nclause ws)+ ws \":-\" ws \"end_in_neg\" ws \".\"\n",
    "    hclause          = mode / determination / set\n",
    "    bclause          = hornclause\n",
    "    pclause          = hornclause\n",
    "    nclause          = hornclause\n",
    "    ws = ~\"\\s*\"\n",
    "    __ = ~\"\\s*\"\n",
    "\n",
    "    determination = \"determination\" ws \"(\" ws predname ws \"/\" ws integer ws (\",\" ws predname ws \"/\" ws integer ws)+ \")\" ws \".\"    \n",
    "    set           = \"set\" ws \"(\" ws word ws \",\" ws value ws \")\" ws \".\"\n",
    "    \n",
    "    hornclause       = headlessclause / definiteclause\n",
    "    headlessclause   =          \":-\" ws body   ws \".\"\n",
    "    definiteclause   = head ws (\":-\" ws body)? ws \".\"\n",
    "    head             = atom\n",
    "    body             = atom ws (\",\" ws atom ws)*\n",
    "    atom             = \"true\" / \"false\" / predicate / comparison / is_evaluation\n",
    "    predicate        = predname ws \"(\" ws term ws (\",\" ws term ws)* \")\"\n",
    "    term             = compoundterm / variable / constant \n",
    "    compoundterm     = funcname ws \"(\" ws term ws (\",\" ws term ws)* \")\"\n",
    "    predname         = word\n",
    "    funcname         = word\n",
    "    constant         = value  / value\n",
    "    constant_number  = number / number\n",
    "    constant_word    = word   / word\n",
    "    value            = number / word\n",
    "    word             = ~\"[a-z]\\w*\"\n",
    "    variable         = ~\"[A-Z]\\w*\" ~\"\\d*\"\n",
    "    number           = float / integer\n",
    "    integer          = ~\"\\d+\"\n",
    "    float            = ~\"[+-]?(\\d*\\.\\d+)\"\n",
    "\n",
    "    mode      = modeh / modeb\n",
    "    modeh     = \"modeh\" ws \"(\" ws recall ws \",\" ws matom ws \")\" ws \".\"\n",
    "    modeb     = \"modeb\" ws \"(\" ws recall ws \",\" ws matom ws \")\" ws \".\"\n",
    "    recall    = \"*\" / integer\n",
    "    matom     = predname ws \"(\" ws mterm ws (\",\" ws mterm ws)* \")\" \n",
    "    mcompterm = funcname ws \"(\" ws mterm ws (\",\" ws mterm ws)* \")\"\n",
    "    mterm     = type / mcompterm / constant\n",
    "    type      = sign word\n",
    "    sign      = ~\"[+\\-#]\"\n",
    "    \n",
    "    query     = goal ws \".\"\n",
    "    goal      = goal_unit ws (\",\" ws goal_unit ws)*\n",
    "    goal_unit = negation / atom\n",
    "    negation  = \"not\" ws \"(\" ws goal ws \")\"\n",
    "    \n",
    "    generator = ((mode / determination) ws)* (hornclause ws)*\n",
    "    \n",
    "    comparison = arithmetic_comparison / unification_comparison\n",
    "    unification_comparison = term                  ws unification_comparison_symbol ws  term\n",
    "    arithmetic_comparison  = arithmetic_expression ws arithmetic_comparison_symbol  ws  arithmetic_expression\n",
    "    unification_comparison_symbol = '='   / '\\='  / '==' / '\\==' / '@<' / '@<=' / '@>' / '@>=' \n",
    "    arithmetic_comparison_symbol  = '=:=' / '=\\=' / '<'  / '<='  / '>'  / '>=' \n",
    "    \n",
    "    arithmetic_expression = in_parenthesis_arithmetic_expression / basic_arithmetic_expression / trigo_expression / arithmetic_atom\n",
    "    in_parenthesis_arithmetic_expression = '(' ws arithmetic_expression ws ')'\n",
    "    basic_arithmetic_expression          = arithmetic_atom ws basic_arithmetic_symbol ws arithmetic_expression\n",
    "    trigo_expression                     = trigo_symbol ws '(' ws arithmetic_expression ws ')'\n",
    "    arithmetic_atom         = variable / constant_number\n",
    "    basic_arithmetic_symbol = '**'  / '//'   / '+'    / '-'     / '/'   /  '*'   / 'mod'\n",
    "    trigo_symbol            = 'sin' / 'sinh' / 'asin' / 'asinh' / 'tan' / 'tanh' / 'atan' / 'atanh' / 'cos' / 'cosh' / 'acos' / 'acosh'\n",
    "    \n",
    "    is_evaluation = arithmetic_atom ws 'is' ws arithmetic_expression\n",
    "    \"\"\" \n"
   ]
  }
 ],
 "metadata": {
  "kernelspec": {
   "display_name": "Python 3 (ipykernel)",
   "language": "python",
   "name": "python3"
  },
  "language_info": {
   "codemirror_mode": {
    "name": "ipython",
    "version": 3
   },
   "file_extension": ".py",
   "mimetype": "text/x-python",
   "name": "python",
   "nbconvert_exporter": "python",
   "pygments_lexer": "ipython3",
   "version": "3.9.7"
  }
 },
 "nbformat": 4,
 "nbformat_minor": 5
}
