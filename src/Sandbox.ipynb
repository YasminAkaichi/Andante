{
 "cells": [
  {
   "cell_type": "code",
   "execution_count": 4,
   "id": "d1d39bcf",
   "metadata": {},
   "outputs": [
    {
     "name": "stdout",
     "output_type": "stream",
     "text": [
      "female(V2)\n",
      "female(V3)\n",
      "female(V1)\n",
      "female(V0)\n",
      "parent(V1,V0)\n",
      "parent(V4,V3)\n",
      "parent(V4,V2)\n",
      "[ 0, 1, 2, 2, 1,-1] Clause(k=0):daughter(V0,V1).\n",
      "[ 1, 0, 2, 1, 1, 0] Clause(k=5):daughter(V0,V1):-parent(V1,V0).\n",
      "[ 1, 1, 2, 0, 0, 0] Clause(k=4):daughter(V0,V1):-female(V0).\n",
      "[ 2, 0, 2, 1, 0,-1] Clause(k=7):daughter(V0,V1):-parent(V1,V0),parent(V4,V2).\n",
      "[ 2, 0, 2, 1, 0,-1] Clause(k=6):daughter(V0,V1):-parent(V1,V0),parent(V4,V3).\n",
      "[ 1, 1, 2, 2, 0,-2] Clause(k=2):daughter(V0,V1):-female(V3).\n",
      "[ 1, 1, 2, 2, 0,-2] Clause(k=6):daughter(V0,V1):-parent(V4,V3).\n",
      "[ 1, 1, 2, 2, 0,-2] Clause(k=1):daughter(V0,V1):-female(V2).\n",
      "[ 1, 1, 2, 2, 0,-2] Clause(k=7):daughter(V0,V1):-parent(V4,V2).\n",
      "[ 1, 1, 1, 2,-1,-3] Clause(k=3):daughter(V0,V1):-female(V1).\n",
      "Example considered: daughter(mary,ann).\n",
      "Bottom_i daughter(V0,V1):-female(V2),female(V3),female(V1),female(V0),parent(V1,V0),parent(V4,V3),parent(V4,V2).\n",
      "Clause found [ 1, 0, 2, 1, 1, 0] Clause(k=5):daughter(V0,V1):-parent(V1,V0).\n"
     ]
    }
   ],
   "source": [
    "from aloe.program import AloeProgram\n",
    "text = \"\"\"\n",
    "modeh(10,daughter(+person,-person)).\n",
    "modeb(10,parent(+person,-person)).\n",
    "modeb(10,parent(-person,+person)).\n",
    "modeb(10,female(+person)).\n",
    "modeb(10,female(-person)).\n",
    "%\n",
    "determination(daughter/2,parent/2).\n",
    "determination(daughter/2,female/1).\n",
    "%    \n",
    "set(verbose,1).\n",
    "\n",
    ":- begin_bg.\n",
    "person(ann).\n",
    "person(mary).\n",
    "person(tom).\n",
    "person(eve).\n",
    "person(lucy).\n",
    "\n",
    "parent(ann,mary).\n",
    "parent(ann,tom).\n",
    "parent(tom,eve).\n",
    "parent(tom,lucy).\n",
    "\n",
    "female(ann).\n",
    "female(mary).\n",
    "female(eve).\n",
    "female(lucy).\n",
    ":- end_bg.\n",
    "    \n",
    "\n",
    ":- begin_in_pos.\n",
    "daughter(mary,ann).\n",
    "daughter(eve,tom).\n",
    ":- end_in_pos.\n",
    "\n",
    ":- begin_in_neg.\n",
    "daughter(tom,ann).\n",
    "daughter(tom,eve).\n",
    ":- end_in_neg.\n",
    "\"\"\"\n",
    "ap = AloeProgram.build_from_text(text)\n",
    "\n",
    "ap.induce()"
   ]
  },
  {
   "cell_type": "code",
   "execution_count": 2,
   "id": "49cb05ca",
   "metadata": {},
   "outputs": [
    {
     "name": "stdout",
     "output_type": "stream",
     "text": [
      "0\n",
      "Atom parent(X,mary)\n",
      "parent/2\n",
      "Candidates {parent(ann,mary).}\n",
      "Match {parent(ann,mary).}\n",
      "Clause parent(ann,mary).\n",
      "Subst {X: ann}\n",
      "Atoms []\n",
      "1\n"
     ]
    },
    {
     "data": {
      "text/plain": [
       "[(True, [{X: ann}])]"
      ]
     },
     "execution_count": 2,
     "metadata": {},
     "output_type": "execute_result"
    }
   ],
   "source": [
    "ap.query('parent(X,mary).')"
   ]
  },
  {
   "cell_type": "code",
   "execution_count": 3,
   "id": "bc4f75fa",
   "metadata": {},
   "outputs": [
    {
     "data": {
      "text/plain": [
       "<generator object fun at 0x000002463549A190>"
      ]
     },
     "execution_count": 3,
     "metadata": {},
     "output_type": "execute_result"
    }
   ],
   "source": [
    "def fun():\n",
    "    yield 1\n",
    "fun()"
   ]
  },
  {
   "cell_type": "code",
   "execution_count": 4,
   "id": "de66aa42",
   "metadata": {},
   "outputs": [
    {
     "name": "stdout",
     "output_type": "stream",
     "text": [
      "0\n",
      "Atom female(mary)\n",
      "female/1\n",
      "Candidates {female(mary).}\n",
      "Match {female(mary).}\n",
      "Clause female(mary).\n",
      "Subst {}\n",
      "Atoms []\n",
      "1\n",
      "[(True, [{}])]\n"
     ]
    }
   ],
   "source": [
    "from aloe.knowledge import MultipleKnowledge, LogicProgram\n",
    "ap = AloeProgram.build_from_text(text)\n",
    "ap.knowledge = MultipleKnowledge(LogicProgram(options=ap.options), ap.knowledge, options=ap.options)\n",
    "print(ap.query('female(mary).'))\n"
   ]
  },
  {
   "cell_type": "code",
   "execution_count": 2,
   "id": "074433ee",
   "metadata": {},
   "outputs": [
    {
     "ename": "TypeError",
     "evalue": "object of type 'NoneType' has no len()",
     "output_type": "error",
     "traceback": [
      "\u001b[1;31m---------------------------------------------------------------------------\u001b[0m",
      "\u001b[1;31mTypeError\u001b[0m                                 Traceback (most recent call last)",
      "\u001b[1;32m~\\AppData\\Local\\Temp/ipykernel_5452/597994717.py\u001b[0m in \u001b[0;36m<module>\u001b[1;34m\u001b[0m\n\u001b[1;32m----> 1\u001b[1;33m \u001b[0mlen\u001b[0m\u001b[1;33m(\u001b[0m\u001b[1;32mNone\u001b[0m\u001b[1;33m)\u001b[0m\u001b[1;33m\u001b[0m\u001b[1;33m\u001b[0m\u001b[0m\n\u001b[0m",
      "\u001b[1;31mTypeError\u001b[0m: object of type 'NoneType' has no len()"
     ]
    }
   ],
   "source": [
    "len(None)"
   ]
  },
  {
   "cell_type": "code",
   "execution_count": 1,
   "id": "6a33b1cb",
   "metadata": {},
   "outputs": [
    {
     "name": "stdout",
     "output_type": "stream",
     "text": [
      "<class 'aloe.clause.Predicate'> female(mary)\n",
      "<class 'aloe.clause.Constant'> mary\n"
     ]
    }
   ],
   "source": [
    "from aloe.clause import Clause, Predicate, Function, Constant, Variable, Operator\n",
    "def print_class_in_depth(element):\n",
    "    print(element.__class__, element)\n",
    "    if isinstance(element, Operator):\n",
    "        for t in element:\n",
    "            print_class_in_depth(t)\n",
    "\n",
    "atom = Predicate('female', [Constant('mary')])\n",
    "print_class_in_depth(atom)            "
   ]
  },
  {
   "cell_type": "code",
   "execution_count": 10,
   "id": "dc69ab83",
   "metadata": {},
   "outputs": [
    {
     "name": "stdout",
     "output_type": "stream",
     "text": [
      "h t\n"
     ]
    }
   ],
   "source": [
    "def fun(a, b, **options):\n",
    "    print(*options)\n",
    "    \n",
    "l = [1,2]\n",
    "fun(*l, h=30, t=50)\n"
   ]
  },
  {
   "cell_type": "code",
   "execution_count": 20,
   "id": "c18e2724",
   "metadata": {},
   "outputs": [
    {
     "ename": "Exception",
     "evalue": "qfq\u001b[93mblabla\u001b[0mklqmf",
     "output_type": "error",
     "traceback": [
      "\u001b[1;31m---------------------------------------------------------------------------\u001b[0m",
      "\u001b[1;31mException\u001b[0m                                 Traceback (most recent call last)",
      "\u001b[1;32m~\\AppData\\Local\\Temp/ipykernel_2824/3992743367.py\u001b[0m in \u001b[0;36m<module>\u001b[1;34m\u001b[0m\n\u001b[0;32m     15\u001b[0m \u001b[0mmessage\u001b[0m \u001b[1;33m=\u001b[0m \u001b[1;34m'qfq'\u001b[0m \u001b[1;33m+\u001b[0m \u001b[0mred\u001b[0m\u001b[1;33m(\u001b[0m\u001b[1;34m'blabla'\u001b[0m\u001b[1;33m)\u001b[0m\u001b[1;33m+\u001b[0m \u001b[1;34m'klqmf'\u001b[0m\u001b[1;33m\u001b[0m\u001b[1;33m\u001b[0m\u001b[0m\n\u001b[0;32m     16\u001b[0m \u001b[1;31m#print(message)\u001b[0m\u001b[1;33m\u001b[0m\u001b[1;33m\u001b[0m\u001b[0m\n\u001b[1;32m---> 17\u001b[1;33m \u001b[1;32mraise\u001b[0m \u001b[0mException\u001b[0m\u001b[1;33m(\u001b[0m\u001b[0mmessage\u001b[0m\u001b[1;33m)\u001b[0m\u001b[1;33m\u001b[0m\u001b[1;33m\u001b[0m\u001b[0m\n\u001b[0m",
      "\u001b[1;31mException\u001b[0m: qfq\u001b[93mblabla\u001b[0mklqmf"
     ]
    }
   ],
   "source": [
    "class bcolors:\n",
    "    HEADER = '\\033[95m'\n",
    "    OKBLUE = '\\033[94m'\n",
    "    OKCYAN = '\\033[96m'\n",
    "    OKGREEN = '\\033[92m'\n",
    "    WARNING = '\\033[93m'\n",
    "    FAIL = '\\033[91m'\n",
    "    ENDC = '\\033[0m'\n",
    "    BOLD = '\\033[1m'\n",
    "    UNDERLINE = '\\033[4m'\n",
    "\n",
    "def red(text):\n",
    "    return bcolors.WARNING + text + bcolors.ENDC \n",
    "\n",
    "message = 'qfq' + red('blabla')+ 'klqmf'\n",
    "#print(message)\n",
    "raise Exception(message)\n"
   ]
  },
  {
   "cell_type": "code",
   "execution_count": 5,
   "id": "017e27cb",
   "metadata": {},
   "outputs": [
    {
     "data": {
      "text/plain": [
       "{1, 2}"
      ]
     },
     "execution_count": 5,
     "metadata": {},
     "output_type": "execute_result"
    }
   ],
   "source": [
    "a = {1,2,3}\n",
    "b = {4,5}\n",
    "c = {3,4}\n",
    "a-c"
   ]
  },
  {
   "cell_type": "code",
   "execution_count": 4,
   "id": "e57f73b8",
   "metadata": {},
   "outputs": [
    {
     "data": {
      "text/plain": [
       "{1, 2, 3}"
      ]
     },
     "execution_count": 4,
     "metadata": {},
     "output_type": "execute_result"
    }
   ],
   "source": [
    "set.union({1,2},{3})"
   ]
  },
  {
   "cell_type": "code",
   "execution_count": 1,
   "id": "87201d2b",
   "metadata": {},
   "outputs": [
    {
     "name": "stdout",
     "output_type": "stream",
     "text": [
      "__main__\n"
     ]
    }
   ],
   "source": [
    "def fun():\n",
    "    print(__name__)\n",
    "    \n",
    "fun()"
   ]
  },
  {
   "cell_type": "code",
   "execution_count": 1,
   "id": "0079e74d",
   "metadata": {},
   "outputs": [],
   "source": [
    "from aloe.options import Options\n",
    "class A:\n",
    "    def __init__(self, options=None):\n",
    "        self._options = options if options else Options()\n",
    "        self._temp_options = dict()\n",
    "        \n",
    "    def __getattr__(self, attr):\n",
    "        if attr=='options':\n",
    "            if attr in self._temp_options:\n",
    "                return self._temp_options[attr]\n",
    "            else:\n",
    "                return self._options, attr)\n",
    "        else: return super().__getattr__(self)\n"
   ]
  },
  {
   "cell_type": "code",
   "execution_count": 3,
   "id": "6fbf01d8",
   "metadata": {},
   "outputs": [
    {
     "ename": "AttributeError",
     "evalue": "'Options' object has no attribute 'options'",
     "output_type": "error",
     "traceback": [
      "\u001b[1;31m---------------------------------------------------------------------------\u001b[0m",
      "\u001b[1;31mAttributeError\u001b[0m                            Traceback (most recent call last)",
      "\u001b[1;32m~\\AppData\\Local\\Temp/ipykernel_2872/378656007.py\u001b[0m in \u001b[0;36m<module>\u001b[1;34m\u001b[0m\n\u001b[0;32m      1\u001b[0m \u001b[0ma\u001b[0m \u001b[1;33m=\u001b[0m \u001b[0mA\u001b[0m\u001b[1;33m(\u001b[0m\u001b[1;33m)\u001b[0m\u001b[1;33m\u001b[0m\u001b[1;33m\u001b[0m\u001b[0m\n\u001b[1;32m----> 2\u001b[1;33m \u001b[0ma\u001b[0m\u001b[1;33m.\u001b[0m\u001b[0moptions\u001b[0m\u001b[1;33m.\u001b[0m\u001b[0ma\u001b[0m\u001b[1;33m\u001b[0m\u001b[1;33m\u001b[0m\u001b[0m\n\u001b[0m",
      "\u001b[1;32m~\\AppData\\Local\\Temp/ipykernel_2872/719484659.py\u001b[0m in \u001b[0;36m__getattr__\u001b[1;34m(self, attr)\u001b[0m\n\u001b[0;32m     10\u001b[0m                 \u001b[1;32mreturn\u001b[0m \u001b[0mself\u001b[0m\u001b[1;33m.\u001b[0m\u001b[0m_temp_options\u001b[0m\u001b[1;33m[\u001b[0m\u001b[0mattr\u001b[0m\u001b[1;33m]\u001b[0m\u001b[1;33m\u001b[0m\u001b[1;33m\u001b[0m\u001b[0m\n\u001b[0;32m     11\u001b[0m             \u001b[1;32melse\u001b[0m\u001b[1;33m:\u001b[0m\u001b[1;33m\u001b[0m\u001b[1;33m\u001b[0m\u001b[0m\n\u001b[1;32m---> 12\u001b[1;33m                 \u001b[1;32mreturn\u001b[0m \u001b[0mgetattr\u001b[0m\u001b[1;33m(\u001b[0m\u001b[0mself\u001b[0m\u001b[1;33m.\u001b[0m\u001b[0m_options\u001b[0m\u001b[1;33m,\u001b[0m \u001b[0mattr\u001b[0m\u001b[1;33m)\u001b[0m\u001b[1;33m\u001b[0m\u001b[1;33m\u001b[0m\u001b[0m\n\u001b[0m\u001b[0;32m     13\u001b[0m         \u001b[1;32melse\u001b[0m\u001b[1;33m:\u001b[0m \u001b[1;32mreturn\u001b[0m \u001b[0msuper\u001b[0m\u001b[1;33m(\u001b[0m\u001b[1;33m)\u001b[0m\u001b[1;33m.\u001b[0m\u001b[0m__getattr__\u001b[0m\u001b[1;33m(\u001b[0m\u001b[0mself\u001b[0m\u001b[1;33m)\u001b[0m\u001b[1;33m\u001b[0m\u001b[1;33m\u001b[0m\u001b[0m\n",
      "\u001b[1;31mAttributeError\u001b[0m: 'Options' object has no attribute 'options'"
     ]
    }
   ],
   "source": [
    "a = A()\n",
    "a.options.a"
   ]
  },
  {
   "cell_type": "code",
   "execution_count": 6,
   "id": "4c96aef9",
   "metadata": {},
   "outputs": [
    {
     "data": {
      "text/plain": [
       "['_options',\n",
       " '_temp_options',\n",
       " '__module__',\n",
       " '__init__',\n",
       " '__getattr__',\n",
       " '__dict__',\n",
       " '__weakref__',\n",
       " '__doc__',\n",
       " '__repr__',\n",
       " '__hash__',\n",
       " '__str__',\n",
       " '__getattribute__',\n",
       " '__setattr__',\n",
       " '__delattr__',\n",
       " '__lt__',\n",
       " '__le__',\n",
       " '__eq__',\n",
       " '__ne__',\n",
       " '__gt__',\n",
       " '__ge__',\n",
       " '__new__',\n",
       " '__reduce_ex__',\n",
       " '__reduce__',\n",
       " '__subclasshook__',\n",
       " '__init_subclass__',\n",
       " '__format__',\n",
       " '__sizeof__',\n",
       " '__dir__',\n",
       " '__class__']"
      ]
     },
     "execution_count": 6,
     "metadata": {},
     "output_type": "execute_result"
    }
   ],
   "source": [
    "a.__dir__()"
   ]
  },
  {
   "cell_type": "code",
   "execution_count": null,
   "id": "d01e2bb4",
   "metadata": {},
   "outputs": [],
   "source": [
    "self.options.i"
   ]
  }
 ],
 "metadata": {
  "kernelspec": {
   "display_name": "Python 3 (ipykernel)",
   "language": "python",
   "name": "python3"
  },
  "language_info": {
   "codemirror_mode": {
    "name": "ipython",
    "version": 3
   },
   "file_extension": ".py",
   "mimetype": "text/x-python",
   "name": "python",
   "nbconvert_exporter": "python",
   "pygments_lexer": "ipython3",
   "version": "3.9.7"
  }
 },
 "nbformat": 4,
 "nbformat_minor": 5
}
