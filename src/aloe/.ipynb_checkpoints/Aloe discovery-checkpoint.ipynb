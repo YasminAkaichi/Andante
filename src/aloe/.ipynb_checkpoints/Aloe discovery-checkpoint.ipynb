{
 "cells": [
  {
   "cell_type": "markdown",
   "metadata": {},
   "source": [
    "# 1. Parser"
   ]
  },
  {
   "cell_type": "code",
   "execution_count": 2,
   "metadata": {},
   "outputs": [
    {
     "ename": "ModuleNotFoundError",
     "evalue": "No module named 'Aloe'",
     "output_type": "error",
     "traceback": [
      "\u001b[0;31m---------------------------------------------------------------------------\u001b[0m",
      "\u001b[0;31mModuleNotFoundError\u001b[0m                       Traceback (most recent call last)",
      "\u001b[0;32m<ipython-input-2-e753b5e85b3b>\u001b[0m in \u001b[0;36m<module>\u001b[0;34m\u001b[0m\n\u001b[0;32m----> 1\u001b[0;31m \u001b[0;32mimport\u001b[0m \u001b[0mAloe\u001b[0m\u001b[0;34m\u001b[0m\u001b[0;34m\u001b[0m\u001b[0m\n\u001b[0m",
      "\u001b[0;31mModuleNotFoundError\u001b[0m: No module named 'Aloe'"
     ]
    }
   ],
   "source": []
  },
  {
   "cell_type": "code",
   "execution_count": 1,
   "metadata": {},
   "outputs": [
    {
     "ename": "ImportError",
     "evalue": "attempted relative import with no known parent package",
     "output_type": "error",
     "traceback": [
      "\u001b[0;31m---------------------------------------------------------------------------\u001b[0m",
      "\u001b[0;31mImportError\u001b[0m                               Traceback (most recent call last)",
      "\u001b[0;32m<ipython-input-1-18d7162aa452>\u001b[0m in \u001b[0;36m<module>\u001b[0;34m\u001b[0m\n\u001b[0;32m----> 1\u001b[0;31m \u001b[0;32mfrom\u001b[0m \u001b[0;34m.\u001b[0m\u001b[0;34m.\u001b[0m\u001b[0mAloe\u001b[0m\u001b[0;34m.\u001b[0m\u001b[0mprolog_parse\u001b[0m \u001b[0;32mimport\u001b[0m \u001b[0;34m*\u001b[0m\u001b[0;34m\u001b[0m\u001b[0;34m\u001b[0m\u001b[0m\n\u001b[0m",
      "\u001b[0;31mImportError\u001b[0m: attempted relative import with no known parent package"
     ]
    }
   ],
   "source": []
  },
  {
   "cell_type": "code",
   "execution_count": 9,
   "metadata": {},
   "outputs": [],
   "source": [
    "import importlib\n",
    "import prolog_parse\n",
    "from vocabulary import *\n",
    "importlib.reload(prolog_parse)\n",
    "parser = prolog_parse.PrologParser()"
   ]
  },
  {
   "cell_type": "code",
   "execution_count": 10,
   "metadata": {},
   "outputs": [],
   "source": [
    "try:\n",
    "    P = parser.parse_file(\"Examples/toparse.pl\")\n",
    "except Exception as e:\n",
    "    t = e\n",
    "    raise(e)"
   ]
  },
  {
   "cell_type": "code",
   "execution_count": 11,
   "metadata": {},
   "outputs": [
    {
     "name": "stdout",
     "output_type": "stream",
     "text": [
      "Background:\n",
      "personne(anne).\n",
      "personne(marie).\n",
      "personne(jean).\n",
      "personne(jacques).\n",
      "echec_pre(jean).\n",
      "echec_pre(jacques).\n",
      "\n",
      "Examples:\n",
      "{'pos': [echec_cours(jean)., echec_cours(jacques).], 'neg': [echec_cours(anne)., echec_cours(marie).]}\n",
      "\n",
      "Modes:\n",
      "<program.ModeHandler object at 0x7f6d37ca69a0>\n",
      "\n",
      "options:\n",
      "c: 2\n",
      "h: 30\n",
      "verbose: 1\n"
     ]
    }
   ],
   "source": [
    "print(P)"
   ]
  },
  {
   "cell_type": "code",
   "execution_count": null,
   "metadata": {},
   "outputs": [],
   "source": []
  },
  {
   "cell_type": "markdown",
   "metadata": {},
   "source": [
    "# 2. Prolog engine\n",
    "## 2.1 Matching atoms together"
   ]
  },
  {
   "cell_type": "code",
   "execution_count": 12,
   "metadata": {},
   "outputs": [
    {
     "ename": "SyntaxError",
     "evalue": "invalid syntax (<ipython-input-12-d115034e60c3>, line 1)",
     "output_type": "error",
     "traceback": [
      "\u001b[0;36m  File \u001b[0;32m\"<ipython-input-12-d115034e60c3>\"\u001b[0;36m, line \u001b[0;32m1\u001b[0m\n\u001b[0;31m    205-208 handout\u001b[0m\n\u001b[0m            ^\u001b[0m\n\u001b[0;31mSyntaxError\u001b[0m\u001b[0;31m:\u001b[0m invalid syntax\n"
     ]
    }
   ],
   "source": [
    "205-208 handout"
   ]
  },
  {
   "cell_type": "code",
   "execution_count": 13,
   "metadata": {},
   "outputs": [
    {
     "ename": "SyntaxError",
     "evalue": "invalid syntax (<ipython-input-13-f06b4137b405>, line 1)",
     "output_type": "error",
     "traceback": [
      "\u001b[0;36m  File \u001b[0;32m\"<ipython-input-13-f06b4137b405>\"\u001b[0;36m, line \u001b[0;32m1\u001b[0m\n\u001b[0;31m    mortel(X) :- man(X).\u001b[0m\n\u001b[0m                        ^\u001b[0m\n\u001b[0;31mSyntaxError\u001b[0m\u001b[0;31m:\u001b[0m invalid syntax\n"
     ]
    }
   ],
   "source": [
    "mortel(X) :- man(X).\n",
    "man(socrates).\n",
    "\n",
    "mortel(socrates)?\n",
    "mortel(X)?"
   ]
  },
  {
   "cell_type": "code",
   "execution_count": 14,
   "metadata": {},
   "outputs": [],
   "source": [
    "# When initializing background\n",
    "\n",
    "from vocabulary import *\n",
    "class FunctionCollection:\n",
    "    def __init__(self, functions, clauses):\n",
    "        self.clauses = set(clauses)\n",
    "        self.collec = dict()\n",
    "        for func, clause in zip(functions, clauses):\n",
    "            self.add(func, clause)\n",
    "            \n",
    "    def add(self, func, clause):\n",
    "        self.clauses.add(clause)\n",
    "        fname = func.longname\n",
    "        if fname not in self.collec:\n",
    "            self.collec[fname] = [{'Vars':set()} for _ in range(func.arity)]\n",
    "        for term, term_dict in zip(func, self.collec[fname]):\n",
    "            if isinstance(term, Constant):\n",
    "                if not term.name in term_dict:\n",
    "                    term_dict[term.name] = set()\n",
    "                term_dict[term.name].add(clause)    \n",
    "            elif isinstance(term, Variable):\n",
    "                term_dict['Vars'].add(clause)                        \n",
    "            elif isinstance(term, Function):\n",
    "                if 'Funcs' not in term_dict:\n",
    "                    term_dict['Funcs'] = FunctionCollection([],[])                       \n",
    "                term_dict['Funcs'].add(term,clause)\n",
    "            \n",
    "    def match(self, expr):\n",
    "        name = expr.longname\n",
    "        if name not in self.collec:\n",
    "            return set()\n",
    "        sets = []\n",
    "        for term, term_dict in zip(expr, self.collec[name]):\n",
    "            if isinstance(term, Constant):\n",
    "                if term.name in term_dict:\n",
    "                    sets.append(term_dict[term.name] | term_dict['Vars'])\n",
    "                else:\n",
    "                    sets.append(term_dict['Vars'])\n",
    "            elif isinstance(term, Variable):\n",
    "                sets.append(self.clauses)\n",
    "            elif isinstance(term, Function):\n",
    "                sets.append(term_dict['Funcs'].match(term))\n",
    "        return set.intersection(*sets)\n",
    "            \n",
    "    def __repr__(self):\n",
    "        return repr(self.collec)"
   ]
  },
  {
   "cell_type": "code",
   "execution_count": 15,
   "metadata": {},
   "outputs": [
    {
     "data": {
      "text/plain": [
       "{p(t('F')), p(t(a))}"
      ]
     },
     "execution_count": 15,
     "metadata": {},
     "output_type": "execute_result"
    }
   ],
   "source": [
    "atoms = [parser.parse_rule('p(t(%s))'%s,'atom') for s in ['a','b','c','d','F']]\n",
    "col = FunctionCollection(atoms, atoms)\n",
    "query = parser.parse_rule('p(t(a))','atom')\n",
    "col.match(query)"
   ]
  },
  {
   "cell_type": "code",
   "execution_count": 16,
   "metadata": {},
   "outputs": [],
   "source": [
    "class VariableBank:\n",
    "    def __init__(self):\n",
    "        self.variables = set()\n",
    "        self.count = 0\n",
    "                    \n",
    "    def newVariable(self):\n",
    "        var = Variable(self.count)\n",
    "        self.variables.add(var)\n",
    "        self.count += 1\n",
    "        return var\n",
    "    \n",
    "    @staticmethod\n",
    "    def build_from_atom(atom):\n",
    "        def update_variables(func):\n",
    "            for term in func:\n",
    "                if isinstance(term, Variable):\n",
    "                    vb.variables.add(term)\n",
    "                elif isinstance(term, Constant):\n",
    "                    continue\n",
    "                elif isinstance(term, Function):\n",
    "                    update_variables(term)\n",
    "        vb = VariableBank()\n",
    "        update_variables(atom)\n",
    "        return vb\n",
    "\n",
    "    def transform_clause(self, clause, subst=None):\n",
    "        if subst is None: subst = dict()\n",
    "        head = self.transform_atom(clause.head, subst)\n",
    "        body = [self.transform_atom(b, subst) for b in self.body]\n",
    "        return Clause(head, body)\n",
    "    \n",
    "    def transform_atom(self, atom, subst=None):\n",
    "        if subst is None: subst = dict()\n",
    "        p_name = atom.name\n",
    "        p_args = [self.transform_term(t, subst) for t in term]\n",
    "        return Predicate(p_name, p_args)\n",
    "    \n",
    "    def transform_term(self, term, subst=None):\n",
    "        if subst is None: subst = dict()\n",
    "        if isinstance(term, Variable):\n",
    "            if term in subst:\n",
    "                return subst[term]\n",
    "            else:\n",
    "                var = newVariable()\n",
    "                subst[term] = var\n",
    "                return var\n",
    "        elif isinstance(term, Constant):\n",
    "            return Constant\n",
    "        elif isinstance(term, Function):\n",
    "            f_name = term.name\n",
    "            f_args = [self.transform_term(t, subst) for t in term]\n",
    "            return Function(f_name, f_args)\n",
    "    "
   ]
  },
  {
   "cell_type": "code",
   "execution_count": 38,
   "metadata": {},
   "outputs": [],
   "source": [
    "# Matching 2 atoms\n",
    "CST, VAR, FUN = Constant.__name__, Variable.__name__, Function.__name__\n",
    "def match(atom1, atom2):    \n",
    "    \"\"\"\n",
    "    Tries to match two atoms together and returns the corresponding substitution.\n",
    "    If not possible, returns None.\n",
    "    \"\"\"\n",
    "    classes = atom1.__class__, atom2.__class__\n",
    "    if   classes == (CST, CST):\n",
    "        if atom1 == atom2:\n",
    "            return {}\n",
    "        else:\n",
    "            return None\n",
    "    elif classes in [(FUN, CST), (CST, FUN)]:\n",
    "        return None\n",
    "    elif classes == (FUN, FUN):\n",
    "        if atom1.name != atom2.name or atom1.arity != atom2.arity:\n",
    "            return None\n",
    "        else:\n",
    "            subst = dict()\n",
    "            terms1, terms2 = atom1.terms.copy(), atoms2.terms.copy()\n",
    "            for term1, term2 in zip(terms1, terms2):\n",
    "                s = match(term1, term2)\n",
    "                if s is None:\n",
    "                    return None\n",
    "                for var, term in s:\n",
    "                    if var in subst:\n",
    "                        term1.append(term)\n",
    "                        term2.append(subst[var])\n",
    "                    else:\n",
    "                        subst[var] = term\n",
    "            return subst\n",
    "    elif classes in [(VAR, CST), (VAR, FUN)]:\n",
    "        return {atom1:atom2}\n",
    "    elif classes in [(CST, VAR), (VAR, VAR), (FUN, VAR)]:\n",
    "        return {atom2:atom1}\n",
    "\n",
    "def apply_subst(term, subst):\n",
    "    \"\"\" \n",
    "    Applies variable substitution 'subst' to term 'term'.\n",
    "    Variables that are not in 'subst' are returned as they are.\n",
    "    \"\"\"\n",
    "    term_class = term.__class__\n",
    "    if   term_class == CST:\n",
    "        return term\n",
    "    elif term_class == VAR:\n",
    "        if term in subst:\n",
    "            return subst[term]\n",
    "        else:\n",
    "            return term\n",
    "    elif term_class == FUN:\n",
    "        f_name = term.name\n",
    "        f_args = [apply_subst(t, subst) for t in f_args]\n",
    "        return Function(f_name, f_args)\n",
    "        \n",
    "def var_in_term(var, term):\n",
    "    \"\"\" Checks whether variable 'var' can be found in term 'term' \"\"\"\n",
    "    term_class = term.__class__\n",
    "    if   term_class == CST:\n",
    "        return False\n",
    "    elif term_class == VAR:\n",
    "        return term==var\n",
    "    elif term_class == FUN:\n",
    "        return any([var_in_term(var,t) for t in term])\n",
    "    \n",
    "def unify(subst):\n",
    "    \"\"\" \n",
    "    Procedes to the unification of substitution. \n",
    "    In the case that such a substitution is not valid, None is returned. \n",
    "    \"\"\"\n",
    "    new_subst = dict()\n",
    "    for var, term in subst:\n",
    "        n_term = apply_subst(term, new_subst)\n",
    "        if var_in_term(var, n_term): # Fail to unify\n",
    "            return None\n",
    "        new_subst[var] = n_term\n",
    "    return new_subst\n"
   ]
  },
  {
   "cell_type": "code",
   "execution_count": 19,
   "metadata": {},
   "outputs": [
    {
     "data": {
      "text/plain": [
       "'Constant'"
      ]
     },
     "execution_count": 19,
     "metadata": {},
     "output_type": "execute_result"
    }
   ],
   "source": [
    "Constant.__name__"
   ]
  },
  {
   "cell_type": "code",
   "execution_count": 24,
   "metadata": {},
   "outputs": [],
   "source": [
    "t = \"b(cO,c,c(d),b(x)).\"\n",
    "clause = parser.parse_rule(t ,\"hornclause\")\n",
    "atom = clause.head"
   ]
  },
  {
   "cell_type": "code",
   "execution_count": 25,
   "metadata": {},
   "outputs": [
    {
     "data": {
      "text/plain": [
       "vocabulary.Constant"
      ]
     },
     "execution_count": 25,
     "metadata": {},
     "output_type": "execute_result"
    }
   ],
   "source": [
    "t = parser.parse_rule(\"a\",'constant')\n",
    "type(t)"
   ]
  },
  {
   "cell_type": "code",
   "execution_count": 8,
   "metadata": {},
   "outputs": [
    {
     "data": {
      "text/plain": [
       "cO"
      ]
     },
     "execution_count": 8,
     "metadata": {},
     "output_type": "execute_result"
    }
   ],
   "source": [
    "clause.head.terms[0]"
   ]
  },
  {
   "cell_type": "code",
   "execution_count": 9,
   "metadata": {},
   "outputs": [
    {
     "name": "stdout",
     "output_type": "stream",
     "text": [
      "<class 'vocabulary.Constant'>\n",
      "<class 'vocabulary.Constant'>\n",
      "<class 'vocabulary.Function'>\n",
      "<class 'vocabulary.Constant'>\n",
      "<class 'vocabulary.Function'>\n",
      "<class 'vocabulary.Constant'>\n"
     ]
    }
   ],
   "source": [
    "f = FunctionCollection([atom],[clause])"
   ]
  },
  {
   "cell_type": "code",
   "execution_count": 10,
   "metadata": {},
   "outputs": [
    {
     "data": {
      "text/plain": [
       "{'b/4': [{'Vars': set(), 'cO': {b(cO,c,c(d),b(x)).}},\n",
       "  {'Vars': set(), 'c': {b(cO,c,c(d),b(x)).}},\n",
       "  {'Vars': set(), 'Funcs': <__main__.FunctionCollection at 0x7f24984f5160>},\n",
       "  {'Vars': set(), 'Funcs': <__main__.FunctionCollection at 0x7f2498478640>}]}"
      ]
     },
     "execution_count": 10,
     "metadata": {},
     "output_type": "execute_result"
    }
   ],
   "source": [
    "f.collec"
   ]
  },
  {
   "cell_type": "code",
   "execution_count": null,
   "metadata": {},
   "outputs": [],
   "source": [
    "class TreeShapedKnowledge:\n",
    "    def __init__(self, clauses=None):\n",
    "        self.clauses = clauses if clauses else list()\n",
    "        self.unit_pos = dict()\n",
    "        self.unit_neg = dict()"
   ]
  },
  {
   "cell_type": "code",
   "execution_count": null,
   "metadata": {},
   "outputs": [],
   "source": [
    "subst = {num:{Var:val}}"
   ]
  },
  {
   "cell_type": "code",
   "execution_count": null,
   "metadata": {},
   "outputs": [],
   "source": [
    "atom\n",
    "candidates = clauses[pred.name]\n",
    "for \n",
    "\n"
   ]
  },
  {
   "cell_type": "code",
   "execution_count": 3,
   "metadata": {},
   "outputs": [
    {
     "data": {
      "text/plain": [
       "True"
      ]
     },
     "execution_count": 3,
     "metadata": {},
     "output_type": "execute_result"
    }
   ],
   "source": [
    "def add_subst(term1, term2, subst1, subst2):\n",
    "    if isinstance(term2, Variable):\n",
    "        if term2 in subst2:\n",
    "            old_subst = subst[term2]\n",
    "            if old_subst == term1:\n",
    "                return term1\n",
    "            elif \n",
    "            if \n",
    "        subst[term2] = term1\n",
    "        return term1"
   ]
  },
  {
   "cell_type": "code",
   "execution_count": 20,
   "metadata": {},
   "outputs": [
    {
     "data": {
      "text/plain": [
       "False"
      ]
     },
     "execution_count": 20,
     "metadata": {},
     "output_type": "execute_result"
    }
   ],
   "source": [
    "a = (1,2)\n",
    "a == (_,2)"
   ]
  },
  {
   "cell_type": "code",
   "execution_count": 28,
   "metadata": {},
   "outputs": [
    {
     "ename": "SyntaxError",
     "evalue": "invalid syntax (<ipython-input-28-8a8245909101>, line 8)",
     "output_type": "error",
     "traceback": [
      "\u001b[0;36m  File \u001b[0;32m\"<ipython-input-28-8a8245909101>\"\u001b[0;36m, line \u001b[0;32m8\u001b[0m\n\u001b[0;31m    help(in)\u001b[0m\n\u001b[0m         ^\u001b[0m\n\u001b[0;31mSyntaxError\u001b[0m\u001b[0;31m:\u001b[0m invalid syntax\n"
     ]
    }
   ],
   "source": [
    "class A:\n",
    "    def __init__(self):\n",
    "        self.a = [2,3,4]\n",
    "     \n",
    "    def __iter__(self):\n",
    "        return iter(self.a)\n",
    "\n",
    "help(in)"
   ]
  },
  {
   "cell_type": "code",
   "execution_count": 32,
   "metadata": {},
   "outputs": [
    {
     "name": "stdout",
     "output_type": "stream",
     "text": [
      "1 3\n",
      "2 4\n"
     ]
    }
   ],
   "source": [
    "a = {1:3, 2:4}\n",
    "for i,j in a.items():\n",
    "    print(i,j)"
   ]
  },
  {
   "cell_type": "code",
   "execution_count": 37,
   "metadata": {},
   "outputs": [
    {
     "data": {
      "text/plain": [
       "(1, 2)"
      ]
     },
     "execution_count": 37,
     "metadata": {},
     "output_type": "execute_result"
    }
   ],
   "source": [
    "a = 1,2\n",
    "a"
   ]
  },
  {
   "cell_type": "code",
   "execution_count": null,
   "metadata": {},
   "outputs": [],
   "source": []
  }
 ],
 "metadata": {
  "kernelspec": {
   "display_name": "Python 3",
   "language": "python",
   "name": "python3"
  },
  "language_info": {
   "codemirror_mode": {
    "name": "ipython",
    "version": 3
   },
   "file_extension": ".py",
   "mimetype": "text/x-python",
   "name": "python",
   "nbconvert_exporter": "python",
   "pygments_lexer": "ipython3",
   "version": "3.8.10"
  }
 },
 "nbformat": 4,
 "nbformat_minor": 4
}
